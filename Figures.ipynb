{
 "cells": [
  {
   "cell_type": "markdown",
   "id": "varied-strap",
   "metadata": {},
   "source": [
    "### Load Packages"
   ]
  },
  {
   "cell_type": "code",
   "execution_count": 2,
   "id": "smoking-monitor",
   "metadata": {},
   "outputs": [],
   "source": [
    "import pandas as pd\n",
    "import numpy as np\n",
    "import matplotlib\n",
    "import matplotlib.pyplot as plt\n",
    "import datetime as dt\n",
    "import math\n",
    "import seaborn as sns\n",
    "\n",
    "# Import Custom Module\n",
    "import OeconToolbox as ott\n",
    "\n",
    "%load_ext autoreload\n",
    "%autoreload 2\n",
    "%matplotlib inline"
   ]
  },
  {
   "cell_type": "markdown",
   "id": "oriental-theater",
   "metadata": {},
   "source": [
    "### [OPTIONAL] Set Matplotlib Style"
   ]
  },
  {
   "cell_type": "code",
   "execution_count": 3,
   "id": "smoking-problem",
   "metadata": {},
   "outputs": [],
   "source": [
    "matplotlib.style.use('default')\n",
    "\n",
    "matplotlib.rcParams.update({\n",
    "    \"font.family\": \"sans-serif\",\n",
    "    \"font.sans-serif\": [\"Helvetica\"],\n",
    "    \"font.size\": 10})\n",
    "matplotlib.path.should_simplify = True\n",
    "\n",
    "sns.set_style(\"ticks\")\n",
    "\n",
    "cm = 1/2.54\n",
    "textwidth = 13.998 / 2.54"
   ]
  },
  {
   "cell_type": "markdown",
   "id": "vanilla-painting",
   "metadata": {},
   "source": [
    "## Import Cumulative Default Table"
   ]
  },
  {
   "cell_type": "code",
   "execution_count": 4,
   "id": "pressed-celebrity",
   "metadata": {},
   "outputs": [
    {
     "data": {
      "text/html": [
       "<div>\n",
       "<style scoped>\n",
       "    .dataframe tbody tr th:only-of-type {\n",
       "        vertical-align: middle;\n",
       "    }\n",
       "\n",
       "    .dataframe tbody tr th {\n",
       "        vertical-align: top;\n",
       "    }\n",
       "\n",
       "    .dataframe thead th {\n",
       "        text-align: right;\n",
       "    }\n",
       "</style>\n",
       "<table border=\"1\" class=\"dataframe\">\n",
       "  <thead>\n",
       "    <tr style=\"text-align: right;\">\n",
       "      <th></th>\n",
       "      <th>1</th>\n",
       "      <th>2</th>\n",
       "      <th>3</th>\n",
       "      <th>4</th>\n",
       "      <th>5</th>\n",
       "      <th>6</th>\n",
       "      <th>7</th>\n",
       "      <th>8</th>\n",
       "      <th>9</th>\n",
       "      <th>10</th>\n",
       "    </tr>\n",
       "  </thead>\n",
       "  <tbody>\n",
       "    <tr>\n",
       "      <th>AAA</th>\n",
       "      <td>0.00</td>\n",
       "      <td>0.03</td>\n",
       "      <td>0.10</td>\n",
       "      <td>0.19</td>\n",
       "      <td>0.27</td>\n",
       "      <td>0.37</td>\n",
       "      <td>0.41</td>\n",
       "      <td>0.46</td>\n",
       "      <td>0.52</td>\n",
       "      <td>0.58</td>\n",
       "    </tr>\n",
       "    <tr>\n",
       "      <th>AA</th>\n",
       "      <td>0.02</td>\n",
       "      <td>0.06</td>\n",
       "      <td>0.11</td>\n",
       "      <td>0.21</td>\n",
       "      <td>0.30</td>\n",
       "      <td>0.41</td>\n",
       "      <td>0.49</td>\n",
       "      <td>0.56</td>\n",
       "      <td>0.63</td>\n",
       "      <td>0.70</td>\n",
       "    </tr>\n",
       "    <tr>\n",
       "      <th>A</th>\n",
       "      <td>0.05</td>\n",
       "      <td>0.13</td>\n",
       "      <td>0.22</td>\n",
       "      <td>0.33</td>\n",
       "      <td>0.46</td>\n",
       "      <td>0.60</td>\n",
       "      <td>0.76</td>\n",
       "      <td>0.90</td>\n",
       "      <td>1.05</td>\n",
       "      <td>1.20</td>\n",
       "    </tr>\n",
       "    <tr>\n",
       "      <th>BBB</th>\n",
       "      <td>0.16</td>\n",
       "      <td>0.43</td>\n",
       "      <td>0.75</td>\n",
       "      <td>1.14</td>\n",
       "      <td>1.54</td>\n",
       "      <td>1.94</td>\n",
       "      <td>2.27</td>\n",
       "      <td>2.61</td>\n",
       "      <td>2.94</td>\n",
       "      <td>3.24</td>\n",
       "    </tr>\n",
       "    <tr>\n",
       "      <th>BB</th>\n",
       "      <td>0.63</td>\n",
       "      <td>1.93</td>\n",
       "      <td>3.46</td>\n",
       "      <td>4.99</td>\n",
       "      <td>6.43</td>\n",
       "      <td>7.75</td>\n",
       "      <td>8.89</td>\n",
       "      <td>9.90</td>\n",
       "      <td>10.82</td>\n",
       "      <td>11.64</td>\n",
       "    </tr>\n",
       "    <tr>\n",
       "      <th>B</th>\n",
       "      <td>3.34</td>\n",
       "      <td>7.80</td>\n",
       "      <td>11.75</td>\n",
       "      <td>14.89</td>\n",
       "      <td>17.35</td>\n",
       "      <td>19.36</td>\n",
       "      <td>20.99</td>\n",
       "      <td>22.31</td>\n",
       "      <td>23.50</td>\n",
       "      <td>24.62</td>\n",
       "    </tr>\n",
       "  </tbody>\n",
       "</table>\n",
       "</div>"
      ],
      "text/plain": [
       "       1     2      3      4      5      6      7      8      9      10\n",
       "AAA  0.00  0.03   0.10   0.19   0.27   0.37   0.41   0.46   0.52   0.58\n",
       "AA   0.02  0.06   0.11   0.21   0.30   0.41   0.49   0.56   0.63   0.70\n",
       "A    0.05  0.13   0.22   0.33   0.46   0.60   0.76   0.90   1.05   1.20\n",
       "BBB  0.16  0.43   0.75   1.14   1.54   1.94   2.27   2.61   2.94   3.24\n",
       "BB   0.63  1.93   3.46   4.99   6.43   7.75   8.89   9.90  10.82  11.64\n",
       "B    3.34  7.80  11.75  14.89  17.35  19.36  20.99  22.31  23.50  24.62"
      ]
     },
     "execution_count": 4,
     "metadata": {},
     "output_type": "execute_result"
    }
   ],
   "source": [
    "DefTable = pd.read_excel(\"CumulativeDefaultTable.xlsx\",header=[0],index_col=[0],skipfooter=5,usecols=\"A:K\")\n",
    "DefTable.round(2)"
   ]
  },
  {
   "cell_type": "code",
   "execution_count": null,
   "id": "miniature-welcome",
   "metadata": {},
   "outputs": [],
   "source": []
  }
 ],
 "metadata": {
  "kernelspec": {
   "display_name": "Python 3",
   "language": "python",
   "name": "python3"
  },
  "language_info": {
   "codemirror_mode": {
    "name": "ipython",
    "version": 3
   },
   "file_extension": ".py",
   "mimetype": "text/x-python",
   "name": "python",
   "nbconvert_exporter": "python",
   "pygments_lexer": "ipython3",
   "version": "3.8.5"
  }
 },
 "nbformat": 4,
 "nbformat_minor": 5
}
