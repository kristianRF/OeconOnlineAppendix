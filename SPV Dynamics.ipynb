{
 "cells": [
  {
   "cell_type": "markdown",
   "id": "purple-letters",
   "metadata": {},
   "source": [
    "### Load Packages"
   ]
  },
  {
   "cell_type": "code",
   "execution_count": 60,
   "id": "historic-mauritius",
   "metadata": {},
   "outputs": [
    {
     "name": "stdout",
     "output_type": "stream",
     "text": [
      "The autoreload extension is already loaded. To reload it, use:\n",
      "  %reload_ext autoreload\n"
     ]
    }
   ],
   "source": [
    "import pandas as pd\n",
    "import numpy as np\n",
    "import matplotlib\n",
    "import matplotlib.pyplot as plt\n",
    "import datetime as dt\n",
    "import math\n",
    "import seaborn as sns\n",
    "\n",
    "# Import Custom Module\n",
    "import OeconToolbox as ott\n",
    "import LoanPortfolioTool as pft\n",
    "\n",
    "%load_ext autoreload\n",
    "%autoreload 2\n",
    "%matplotlib inline"
   ]
  },
  {
   "cell_type": "markdown",
   "id": "human-sarah",
   "metadata": {},
   "source": [
    "### [OPTIONAL] Set Matplotlib Style"
   ]
  },
  {
   "cell_type": "code",
   "execution_count": 2,
   "id": "affecting-service",
   "metadata": {},
   "outputs": [],
   "source": [
    "matplotlib.style.use('default')\n",
    "\n",
    "matplotlib.rcParams.update({\n",
    "    \"font.family\": \"sans-serif\",\n",
    "    \"font.sans-serif\": [\"Helvetica\"],\n",
    "    \"font.size\": 10})\n",
    "matplotlib.path.should_simplify = True\n",
    "\n",
    "sns.set_style(\"ticks\")\n",
    "\n",
    "cm = 1/2.54\n",
    "textwidth = 13.998 / 2.54"
   ]
  },
  {
   "cell_type": "markdown",
   "id": "completed-management",
   "metadata": {},
   "source": [
    "## Import Cumulative Default Table"
   ]
  },
  {
   "cell_type": "code",
   "execution_count": 3,
   "id": "incorporated-ministry",
   "metadata": {},
   "outputs": [
    {
     "data": {
      "text/html": [
       "<div>\n",
       "<style scoped>\n",
       "    .dataframe tbody tr th:only-of-type {\n",
       "        vertical-align: middle;\n",
       "    }\n",
       "\n",
       "    .dataframe tbody tr th {\n",
       "        vertical-align: top;\n",
       "    }\n",
       "\n",
       "    .dataframe thead th {\n",
       "        text-align: right;\n",
       "    }\n",
       "</style>\n",
       "<table border=\"1\" class=\"dataframe\">\n",
       "  <thead>\n",
       "    <tr style=\"text-align: right;\">\n",
       "      <th></th>\n",
       "      <th>1</th>\n",
       "      <th>2</th>\n",
       "      <th>3</th>\n",
       "      <th>4</th>\n",
       "      <th>5</th>\n",
       "      <th>6</th>\n",
       "      <th>7</th>\n",
       "      <th>8</th>\n",
       "      <th>9</th>\n",
       "      <th>10</th>\n",
       "    </tr>\n",
       "  </thead>\n",
       "  <tbody>\n",
       "    <tr>\n",
       "      <th>AAA</th>\n",
       "      <td>0.00</td>\n",
       "      <td>0.03</td>\n",
       "      <td>0.10</td>\n",
       "      <td>0.19</td>\n",
       "      <td>0.27</td>\n",
       "      <td>0.37</td>\n",
       "      <td>0.41</td>\n",
       "      <td>0.46</td>\n",
       "      <td>0.52</td>\n",
       "      <td>0.58</td>\n",
       "    </tr>\n",
       "    <tr>\n",
       "      <th>AA</th>\n",
       "      <td>0.02</td>\n",
       "      <td>0.06</td>\n",
       "      <td>0.11</td>\n",
       "      <td>0.21</td>\n",
       "      <td>0.30</td>\n",
       "      <td>0.41</td>\n",
       "      <td>0.49</td>\n",
       "      <td>0.56</td>\n",
       "      <td>0.63</td>\n",
       "      <td>0.70</td>\n",
       "    </tr>\n",
       "    <tr>\n",
       "      <th>A</th>\n",
       "      <td>0.05</td>\n",
       "      <td>0.13</td>\n",
       "      <td>0.22</td>\n",
       "      <td>0.33</td>\n",
       "      <td>0.46</td>\n",
       "      <td>0.60</td>\n",
       "      <td>0.76</td>\n",
       "      <td>0.90</td>\n",
       "      <td>1.05</td>\n",
       "      <td>1.20</td>\n",
       "    </tr>\n",
       "    <tr>\n",
       "      <th>BBB</th>\n",
       "      <td>0.16</td>\n",
       "      <td>0.43</td>\n",
       "      <td>0.75</td>\n",
       "      <td>1.14</td>\n",
       "      <td>1.54</td>\n",
       "      <td>1.94</td>\n",
       "      <td>2.27</td>\n",
       "      <td>2.61</td>\n",
       "      <td>2.94</td>\n",
       "      <td>3.24</td>\n",
       "    </tr>\n",
       "    <tr>\n",
       "      <th>BB</th>\n",
       "      <td>0.63</td>\n",
       "      <td>1.93</td>\n",
       "      <td>3.46</td>\n",
       "      <td>4.99</td>\n",
       "      <td>6.43</td>\n",
       "      <td>7.75</td>\n",
       "      <td>8.89</td>\n",
       "      <td>9.90</td>\n",
       "      <td>10.82</td>\n",
       "      <td>11.64</td>\n",
       "    </tr>\n",
       "    <tr>\n",
       "      <th>B</th>\n",
       "      <td>3.34</td>\n",
       "      <td>7.80</td>\n",
       "      <td>11.75</td>\n",
       "      <td>14.89</td>\n",
       "      <td>17.35</td>\n",
       "      <td>19.36</td>\n",
       "      <td>20.99</td>\n",
       "      <td>22.31</td>\n",
       "      <td>23.50</td>\n",
       "      <td>24.62</td>\n",
       "    </tr>\n",
       "  </tbody>\n",
       "</table>\n",
       "</div>"
      ],
      "text/plain": [
       "       1     2      3      4      5      6      7      8      9      10\n",
       "AAA  0.00  0.03   0.10   0.19   0.27   0.37   0.41   0.46   0.52   0.58\n",
       "AA   0.02  0.06   0.11   0.21   0.30   0.41   0.49   0.56   0.63   0.70\n",
       "A    0.05  0.13   0.22   0.33   0.46   0.60   0.76   0.90   1.05   1.20\n",
       "BBB  0.16  0.43   0.75   1.14   1.54   1.94   2.27   2.61   2.94   3.24\n",
       "BB   0.63  1.93   3.46   4.99   6.43   7.75   8.89   9.90  10.82  11.64\n",
       "B    3.34  7.80  11.75  14.89  17.35  19.36  20.99  22.31  23.50  24.62"
      ]
     },
     "execution_count": 3,
     "metadata": {},
     "output_type": "execute_result"
    }
   ],
   "source": [
    "DefTable = pd.read_excel(\"CumulativeDefaultTable.xlsx\",header=[0],index_col=[0],skipfooter=5,usecols=\"A:K\")\n",
    "DefTable.round(2)"
   ]
  },
  {
   "cell_type": "markdown",
   "id": "eight-passion",
   "metadata": {},
   "source": [
    "# Simulating a Portfolio of loans\n",
    "The SPV portfolio consists of $J$ loans from identical corporate issuers with a single class of debt outstanding. The parameters of the issuers is identical to those described in the 'Collateral Dynamics.ipynb' notebook."
   ]
  },
  {
   "cell_type": "markdown",
   "id": "greater-arcade",
   "metadata": {},
   "source": [
    "## Parameters of the Corporate Issuers"
   ]
  },
  {
   "cell_type": "code",
   "execution_count": 534,
   "id": "everyday-tower",
   "metadata": {},
   "outputs": [],
   "source": [
    "V0 = 100      # Initial Asset Value\n",
    "rf = .035     # Risk-Free Rate\n",
    "rm = .105     # Market Return\n",
    "beta = .8     # Firm CAPM Coefficient\n",
    "sigma_i = .25 # Idiosyncratic Risk\n",
    "sigma_m = .14 # Market Risk\n",
    "ttm = 5       # Time to Maturity of Debt\n",
    "penalty = 0   # Penalty on prepayment"
   ]
  },
  {
   "cell_type": "markdown",
   "id": "broad-explanation",
   "metadata": {},
   "source": [
    "Auxiliary Calculations"
   ]
  },
  {
   "cell_type": "code",
   "execution_count": 535,
   "id": "offensive-prison",
   "metadata": {},
   "outputs": [],
   "source": [
    "mu = rf + beta * (rm - rf)\n",
    "sigma = ott.sigma_beta_adj(beta, sigma_m, sigma_i)\n",
    "face_value = ott.facevalue_from_probability(DefTable.loc[\"B\", ttm] / 100, V0, ttm, mu, sigma)\n",
    "market_value = ott.mv_bond(V0, face_value, ttm, rf, sigma)\n",
    "b_loan_yield = ott.zero_yield(market_value,face_value, ttm)\n",
    "# Results from Collateral Dynamics Notebook\n",
    "mv_call = 54.71780723807047\n",
    "b_callable_yield = ott.zero_yield(mv_call,face_value, ttm)"
   ]
  },
  {
   "cell_type": "markdown",
   "id": "aware-resolution",
   "metadata": {},
   "source": [
    "## Parameters of the SPV"
   ]
  },
  {
   "cell_type": "code",
   "execution_count": 536,
   "id": "unexpected-birmingham",
   "metadata": {},
   "outputs": [],
   "source": [
    "J = 125    # number of loans\n",
    "N = 250000 # Number of simulated portfolios"
   ]
  },
  {
   "cell_type": "code",
   "execution_count": 491,
   "id": "minimal-opinion",
   "metadata": {},
   "outputs": [],
   "source": [
    "loan_portfolios = pft.Loan_Portfolios(V = V0,\n",
    "                                      B = face_value, \n",
    "                                      T = ttm,\n",
    "                                      rf = rf,\n",
    "                                      rm = rm,\n",
    "                                      beta = beta,\n",
    "                                      sigmaM = sigma_m,\n",
    "                                      sigmaI = sigma_i,\n",
    "                                      j=J,\n",
    "                                      n=N,\n",
    "                                      seed=1234)"
   ]
  },
  {
   "cell_type": "markdown",
   "id": "allied-exclusive",
   "metadata": {},
   "source": [
    "# Modelling the SPV Dynamics without Prepayment on Collateral Assets"
   ]
  },
  {
   "cell_type": "code",
   "execution_count": 492,
   "id": "nearby-cyprus",
   "metadata": {},
   "outputs": [
    {
     "name": "stdout",
     "output_type": "stream",
     "text": [
      "The absolute maximum payoff: 9421.05 with initial market value: 7046.00\n"
     ]
    }
   ],
   "source": [
    "max_spv_cash_flows = face_value * J\n",
    "initial_market_value = market_value * J\n",
    "print(\"The absolute maximum payoff: {0:0.2f} with initial market value: {1:0.2f}\".format(max_spv_cash_flows,initial_market_value))"
   ]
  },
  {
   "cell_type": "markdown",
   "id": "indoor-danish",
   "metadata": {},
   "source": [
    "Total SPV payoffs (under Q and P-measure respectively)"
   ]
  },
  {
   "cell_type": "code",
   "execution_count": 493,
   "id": "naked-developer",
   "metadata": {},
   "outputs": [],
   "source": [
    "SPV_Q, _ = loan_portfolios.no_prepayments(risk_neutral = True, paths = False)"
   ]
  },
  {
   "cell_type": "code",
   "execution_count": 494,
   "id": "otherwise-bachelor",
   "metadata": {},
   "outputs": [],
   "source": [
    "SPV_P, M = loan_portfolios.no_prepayments(risk_neutral = False, paths = False)"
   ]
  },
  {
   "cell_type": "markdown",
   "id": "adjacent-crossing",
   "metadata": {},
   "source": [
    "## Cash Flows to Each Tranche"
   ]
  },
  {
   "cell_type": "code",
   "execution_count": 495,
   "id": "green-shadow",
   "metadata": {},
   "outputs": [],
   "source": [
    "tranches_no_prepay = ott.tranche_sizes(DefTable,SPV_P,ttm,7)"
   ]
  },
  {
   "cell_type": "code",
   "execution_count": 496,
   "id": "precious-chair",
   "metadata": {},
   "outputs": [
    {
     "data": {
      "text/html": [
       "<div>\n",
       "<style scoped>\n",
       "    .dataframe tbody tr th:only-of-type {\n",
       "        vertical-align: middle;\n",
       "    }\n",
       "\n",
       "    .dataframe tbody tr th {\n",
       "        vertical-align: top;\n",
       "    }\n",
       "\n",
       "    .dataframe thead th {\n",
       "        text-align: right;\n",
       "    }\n",
       "</style>\n",
       "<table border=\"1\" class=\"dataframe\">\n",
       "  <thead>\n",
       "    <tr style=\"text-align: right;\">\n",
       "      <th></th>\n",
       "      <th>Cash Flows</th>\n",
       "      <th>Sum</th>\n",
       "      <th>Percent of Total</th>\n",
       "    </tr>\n",
       "  </thead>\n",
       "  <tbody>\n",
       "    <tr>\n",
       "      <th>AAA</th>\n",
       "      <td>6868.6</td>\n",
       "      <td>6868.6</td>\n",
       "      <td>72.9</td>\n",
       "    </tr>\n",
       "    <tr>\n",
       "      <th>AA</th>\n",
       "      <td>49.5</td>\n",
       "      <td>6918.1</td>\n",
       "      <td>73.4</td>\n",
       "    </tr>\n",
       "    <tr>\n",
       "      <th>A</th>\n",
       "      <td>162.1</td>\n",
       "      <td>7080.2</td>\n",
       "      <td>75.2</td>\n",
       "    </tr>\n",
       "    <tr>\n",
       "      <th>BBB</th>\n",
       "      <td>518.9</td>\n",
       "      <td>7599.1</td>\n",
       "      <td>80.7</td>\n",
       "    </tr>\n",
       "    <tr>\n",
       "      <th>BB</th>\n",
       "      <td>640.9</td>\n",
       "      <td>8240.0</td>\n",
       "      <td>87.5</td>\n",
       "    </tr>\n",
       "    <tr>\n",
       "      <th>B</th>\n",
       "      <td>436.1</td>\n",
       "      <td>8676.1</td>\n",
       "      <td>92.1</td>\n",
       "    </tr>\n",
       "    <tr>\n",
       "      <th>Equity</th>\n",
       "      <td>744.9</td>\n",
       "      <td>9421.0</td>\n",
       "      <td>100.0</td>\n",
       "    </tr>\n",
       "  </tbody>\n",
       "</table>\n",
       "</div>"
      ],
      "text/plain": [
       "        Cash Flows     Sum  Percent of Total\n",
       "AAA         6868.6  6868.6              72.9\n",
       "AA            49.5  6918.1              73.4\n",
       "A            162.1  7080.2              75.2\n",
       "BBB          518.9  7599.1              80.7\n",
       "BB           640.9  8240.0              87.5\n",
       "B            436.1  8676.1              92.1\n",
       "Equity       744.9  9421.0             100.0"
      ]
     },
     "execution_count": 496,
     "metadata": {},
     "output_type": "execute_result"
    }
   ],
   "source": [
    "pd.DataFrame({'Cash Flows':tranches_no_prepay,\n",
    "              'Sum':tranches_no_prepay.cumsum(),\n",
    "              'Percent of Total':np.divide(tranches_no_prepay.cumsum(),tranches_no_prepay.cumsum()[-1])*100\n",
    "             },[\"AAA\",\"AA\",\"A\",\"BBB\",\"BB\",\"B\",\"Equity\"]).round(1)"
   ]
  },
  {
   "cell_type": "code",
   "execution_count": 497,
   "id": "lovely-classroom",
   "metadata": {},
   "outputs": [
    {
     "data": {
      "image/png": "[encoded data removed]",
      "text/plain": [
       "<Figure size 396.794x226.772 with 2 Axes>"
      ]
     },
     "metadata": {
      "needs_background": "light"
     },
     "output_type": "display_data"
    }
   ],
   "source": [
    "plt.figure(figsize=(textwidth, 8*cm))\n",
    "palette = sns.color_palette(\"summer\", n_colors=6, as_cmap=True)\n",
    "\n",
    "simulations = SPV_P\n",
    "\n",
    "min_ = 7000\n",
    "max_ = 9200\n",
    "ax = sns.histplot(data=simulations, bins=25, color=palette(1), stat='probability', alpha=1)\n",
    "plt.ylabel(\"Probability\")\n",
    "maxy = round(ax.get_ylim()[1],2)\n",
    "\n",
    "plt.ylim([0, maxy])\n",
    "plt.yticks(np.linspace(0, maxy, 6),[str(int(round(x,2)*100))+\"%\" for x in np.linspace(0, maxy, 6)])\n",
    "\n",
    "plt.xlim([min_,max_])\n",
    "plt.xlabel(\"Collateral Value\")\n",
    "\n",
    "for rating, def_prob in DefTable[ttm].items(): \n",
    "    value = np.quantile(simulations, def_prob/100)\n",
    "    plt.vlines(value,0,maxy*1.05,color='k',linestyles='--',linewidth=0.75)\n",
    "    if rating == 'AAA':\n",
    "        plt.text(value,maxy*1.05,s=rating,ha='right',va='center',color='k')\n",
    "    elif rating == 'AA' or rating == 'A':\n",
    "        plt.text(value,maxy*1.05,s=rating,ha='left',va='center',color='k')\n",
    "    else:\n",
    "        plt.text(value,maxy*1.05,s=rating,ha='center',va='center',color='k')\n",
    "\n",
    "ax2 = ax.twinx()\n",
    "ax2 = sns.ecdfplot(data=simulations, color='k',linewidth=0.75, ax=ax2, stat='proportion')\n",
    "plt.ylabel(\"Cumulative Probability\")\n",
    "plt.ylim([0,1])\n",
    "plt.yticks(np.linspace(0, 1, 6),[\"0%\",\"20%\",\"40%\",\"60%\",\"80%\",\"100%\"])\n",
    "\n",
    "plt.tight_layout()\n",
    "\n",
    "#plt.savefig(\"pic.pdf\", format='pdf', bbox_inches='tight')\n",
    "\n",
    "plt.show()"
   ]
  },
  {
   "cell_type": "markdown",
   "id": "stable-enhancement",
   "metadata": {},
   "source": [
    "Data For Scatterplots"
   ]
  },
  {
   "cell_type": "code",
   "execution_count": 498,
   "id": "rolled-world",
   "metadata": {},
   "outputs": [],
   "source": [
    "SPV_P_small = np.random.RandomState(1234).choice(SPV_P,size=2500)\n",
    "M_small = np.random.RandomState(1234).choice(M,size=2500)"
   ]
  },
  {
   "cell_type": "code",
   "execution_count": 499,
   "id": "champion-momentum",
   "metadata": {},
   "outputs": [
    {
     "data": {
      "text/html": [
       "<div>\n",
       "<style scoped>\n",
       "    .dataframe tbody tr th:only-of-type {\n",
       "        vertical-align: middle;\n",
       "    }\n",
       "\n",
       "    .dataframe tbody tr th {\n",
       "        vertical-align: top;\n",
       "    }\n",
       "\n",
       "    .dataframe thead th {\n",
       "        text-align: right;\n",
       "    }\n",
       "</style>\n",
       "<table border=\"1\" class=\"dataframe\">\n",
       "  <thead>\n",
       "    <tr style=\"text-align: right;\">\n",
       "      <th></th>\n",
       "      <th>SPV</th>\n",
       "      <th>Market Factor</th>\n",
       "      <th>AAA</th>\n",
       "      <th>AA</th>\n",
       "      <th>A</th>\n",
       "      <th>BBB</th>\n",
       "      <th>BB</th>\n",
       "      <th>B</th>\n",
       "      <th>Equity</th>\n",
       "    </tr>\n",
       "  </thead>\n",
       "  <tbody>\n",
       "    <tr>\n",
       "      <th>0</th>\n",
       "      <td>0.972875</td>\n",
       "      <td>-0.053071</td>\n",
       "      <td>1.0</td>\n",
       "      <td>1.0</td>\n",
       "      <td>1.0</td>\n",
       "      <td>1.0</td>\n",
       "      <td>1.0</td>\n",
       "      <td>1.0</td>\n",
       "      <td>0.656957</td>\n",
       "    </tr>\n",
       "    <tr>\n",
       "      <th>1</th>\n",
       "      <td>0.982102</td>\n",
       "      <td>0.049102</td>\n",
       "      <td>1.0</td>\n",
       "      <td>1.0</td>\n",
       "      <td>1.0</td>\n",
       "      <td>1.0</td>\n",
       "      <td>1.0</td>\n",
       "      <td>1.0</td>\n",
       "      <td>0.773641</td>\n",
       "    </tr>\n",
       "    <tr>\n",
       "      <th>2</th>\n",
       "      <td>0.966915</td>\n",
       "      <td>-0.057047</td>\n",
       "      <td>1.0</td>\n",
       "      <td>1.0</td>\n",
       "      <td>1.0</td>\n",
       "      <td>1.0</td>\n",
       "      <td>1.0</td>\n",
       "      <td>1.0</td>\n",
       "      <td>0.581577</td>\n",
       "    </tr>\n",
       "    <tr>\n",
       "      <th>3</th>\n",
       "      <td>0.951842</td>\n",
       "      <td>0.052371</td>\n",
       "      <td>1.0</td>\n",
       "      <td>1.0</td>\n",
       "      <td>1.0</td>\n",
       "      <td>1.0</td>\n",
       "      <td>1.0</td>\n",
       "      <td>1.0</td>\n",
       "      <td>0.390946</td>\n",
       "    </tr>\n",
       "    <tr>\n",
       "      <th>4</th>\n",
       "      <td>0.979896</td>\n",
       "      <td>0.323306</td>\n",
       "      <td>1.0</td>\n",
       "      <td>1.0</td>\n",
       "      <td>1.0</td>\n",
       "      <td>1.0</td>\n",
       "      <td>1.0</td>\n",
       "      <td>1.0</td>\n",
       "      <td>0.745748</td>\n",
       "    </tr>\n",
       "  </tbody>\n",
       "</table>\n",
       "</div>"
      ],
      "text/plain": [
       "        SPV  Market Factor  AAA   AA    A  BBB   BB    B    Equity\n",
       "0  0.972875      -0.053071  1.0  1.0  1.0  1.0  1.0  1.0  0.656957\n",
       "1  0.982102       0.049102  1.0  1.0  1.0  1.0  1.0  1.0  0.773641\n",
       "2  0.966915      -0.057047  1.0  1.0  1.0  1.0  1.0  1.0  0.581577\n",
       "3  0.951842       0.052371  1.0  1.0  1.0  1.0  1.0  1.0  0.390946\n",
       "4  0.979896       0.323306  1.0  1.0  1.0  1.0  1.0  1.0  0.745748"
      ]
     },
     "execution_count": 499,
     "metadata": {},
     "output_type": "execute_result"
    }
   ],
   "source": [
    "data_no_prepay = pd.DataFrame({'SPV':SPV_P_small/ max_spv_cash_flows,\n",
    "                               'Market Factor':M_small / ttm,\n",
    "                               'AAA':ott.clo_payoffs(SPV_P_small,tranches_no_prepay)[0]/ tranches_no_prepay[0],\n",
    "                               'AA':ott.clo_payoffs(SPV_P_small,tranches_no_prepay)[1]/ tranches_no_prepay[1],\n",
    "                               'A':ott.clo_payoffs(SPV_P_small,tranches_no_prepay)[2] / tranches_no_prepay[2],\n",
    "                               'BBB':ott.clo_payoffs(SPV_P_small,tranches_no_prepay)[3] / tranches_no_prepay[3],\n",
    "                               'BB':ott.clo_payoffs(SPV_P_small,tranches_no_prepay)[4] / tranches_no_prepay[4],\n",
    "                               'B':ott.clo_payoffs(SPV_P_small,tranches_no_prepay)[5] / tranches_no_prepay[5],\n",
    "                               'Equity':ott.clo_payoffs(SPV_P_small,tranches_no_prepay)[6]/ tranches_no_prepay[6]})\n",
    "data_no_prepay.head()"
   ]
  },
  {
   "cell_type": "code",
   "execution_count": 500,
   "id": "considerable-beauty",
   "metadata": {},
   "outputs": [
    {
     "name": "stdout",
     "output_type": "stream",
     "text": [
      "The maximum normalized payoff is: 133.71\n"
     ]
    }
   ],
   "source": [
    "maximum_norm_payoff = max_spv_cash_flows / initial_market_value * 100\n",
    "print('The maximum normalized payoff is: {0:0.2f}'.format(maximum_norm_payoff))"
   ]
  },
  {
   "cell_type": "code",
   "execution_count": 501,
   "id": "connected-helicopter",
   "metadata": {},
   "outputs": [],
   "source": [
    "no_prepay_tab = DefTable[[ttm]].copy()\n",
    "no_prepay_tab.rename(columns={5:'Default Probability'},inplace=True)\n",
    "no_prepay_tab['Face Value'] = (np.quantile(SPV_P, no_prepay_tab['Default Probability']/100) / initial_market_value) * 100"
   ]
  },
  {
   "cell_type": "code",
   "execution_count": 502,
   "id": "smart-bible",
   "metadata": {},
   "outputs": [],
   "source": [
    "for rating in no_prepay_tab.index:\n",
    "    no_prepay_tab.loc[rating, 'Market Value'] = (np.minimum(SPV_Q,\n",
    "                                                            np.quantile(SPV_P,\n",
    "                                                                        no_prepay_tab.loc[rating, 'Default Probability']/100\n",
    "                                                                       )).mean() * np.exp(-rf*ttm) / initial_market_value) * 100"
   ]
  },
  {
   "cell_type": "markdown",
   "id": "round-violence",
   "metadata": {},
   "source": [
    "Preliminary Table before \"tranching\""
   ]
  },
  {
   "cell_type": "code",
   "execution_count": 503,
   "id": "wireless-workshop",
   "metadata": {},
   "outputs": [
    {
     "data": {
      "text/html": [
       "<div>\n",
       "<style scoped>\n",
       "    .dataframe tbody tr th:only-of-type {\n",
       "        vertical-align: middle;\n",
       "    }\n",
       "\n",
       "    .dataframe tbody tr th {\n",
       "        vertical-align: top;\n",
       "    }\n",
       "\n",
       "    .dataframe thead th {\n",
       "        text-align: right;\n",
       "    }\n",
       "</style>\n",
       "<table border=\"1\" class=\"dataframe\">\n",
       "  <thead>\n",
       "    <tr style=\"text-align: right;\">\n",
       "      <th></th>\n",
       "      <th>Default Probability</th>\n",
       "      <th>Face Value</th>\n",
       "      <th>Market Value</th>\n",
       "    </tr>\n",
       "  </thead>\n",
       "  <tbody>\n",
       "    <tr>\n",
       "      <th>AAA</th>\n",
       "      <td>0.27</td>\n",
       "      <td>97.48</td>\n",
       "      <td>81.53</td>\n",
       "    </tr>\n",
       "    <tr>\n",
       "      <th>AA</th>\n",
       "      <td>0.30</td>\n",
       "      <td>98.19</td>\n",
       "      <td>82.10</td>\n",
       "    </tr>\n",
       "    <tr>\n",
       "      <th>A</th>\n",
       "      <td>0.46</td>\n",
       "      <td>100.49</td>\n",
       "      <td>83.92</td>\n",
       "    </tr>\n",
       "    <tr>\n",
       "      <th>BBB</th>\n",
       "      <td>1.54</td>\n",
       "      <td>107.85</td>\n",
       "      <td>89.48</td>\n",
       "    </tr>\n",
       "    <tr>\n",
       "      <th>BB</th>\n",
       "      <td>6.43</td>\n",
       "      <td>116.95</td>\n",
       "      <td>95.39</td>\n",
       "    </tr>\n",
       "    <tr>\n",
       "      <th>B</th>\n",
       "      <td>17.35</td>\n",
       "      <td>123.14</td>\n",
       "      <td>98.30</td>\n",
       "    </tr>\n",
       "  </tbody>\n",
       "</table>\n",
       "</div>"
      ],
      "text/plain": [
       "     Default Probability  Face Value  Market Value\n",
       "AAA                 0.27       97.48         81.53\n",
       "AA                  0.30       98.19         82.10\n",
       "A                   0.46      100.49         83.92\n",
       "BBB                 1.54      107.85         89.48\n",
       "BB                  6.43      116.95         95.39\n",
       "B                  17.35      123.14         98.30"
      ]
     },
     "execution_count": 503,
     "metadata": {},
     "output_type": "execute_result"
    }
   ],
   "source": [
    "no_prepay_tab.round(2)"
   ]
  },
  {
   "cell_type": "markdown",
   "id": "desirable-adult",
   "metadata": {},
   "source": [
    "Tranching:"
   ]
  },
  {
   "cell_type": "code",
   "execution_count": 504,
   "id": "disciplinary-atmosphere",
   "metadata": {},
   "outputs": [],
   "source": [
    "no_prepay_tab.loc[:,'Face Value':'Market Value'] = no_prepay_tab.loc[:,'Face Value':'Market Value'] - no_prepay_tab.loc[:,'Face Value':'Market Value'].shift(1)\n",
    "no_prepay_tab.loc['AAA','Face Value'] = (np.quantile(SPV_P, no_prepay_tab.loc['AAA','Default Probability']/100) / initial_market_value) * 100\n",
    "no_prepay_tab.loc['AAA','Market Value'] = (np.minimum(SPV_Q, np.quantile(SPV_P, no_prepay_tab.loc['AAA', 'Default Probability']/100)).mean() * np.exp(-rf*ttm) / initial_market_value) * 100\n",
    "no_prepay_tab['Yield'] = ott.zero_yield(no_prepay_tab['Market Value'], no_prepay_tab['Face Value'], ttm) * 100\n",
    "no_prepay_tab.loc['Equity','Market Value'] = 100 - no_prepay_tab['Market Value'].sum(axis=0)"
   ]
  },
  {
   "cell_type": "code",
   "execution_count": 505,
   "id": "informed-restoration",
   "metadata": {},
   "outputs": [
    {
     "data": {
      "text/html": [
       "<div>\n",
       "<style scoped>\n",
       "    .dataframe tbody tr th:only-of-type {\n",
       "        vertical-align: middle;\n",
       "    }\n",
       "\n",
       "    .dataframe tbody tr th {\n",
       "        vertical-align: top;\n",
       "    }\n",
       "\n",
       "    .dataframe thead th {\n",
       "        text-align: right;\n",
       "    }\n",
       "</style>\n",
       "<table border=\"1\" class=\"dataframe\">\n",
       "  <thead>\n",
       "    <tr style=\"text-align: right;\">\n",
       "      <th></th>\n",
       "      <th>Default Probability</th>\n",
       "      <th>Face Value</th>\n",
       "      <th>Market Value</th>\n",
       "      <th>Yield</th>\n",
       "    </tr>\n",
       "  </thead>\n",
       "  <tbody>\n",
       "    <tr>\n",
       "      <th>AAA</th>\n",
       "      <td>0.27</td>\n",
       "      <td>97.48</td>\n",
       "      <td>81.53</td>\n",
       "      <td>3.57</td>\n",
       "    </tr>\n",
       "    <tr>\n",
       "      <th>AA</th>\n",
       "      <td>0.30</td>\n",
       "      <td>0.70</td>\n",
       "      <td>0.56</td>\n",
       "      <td>4.48</td>\n",
       "    </tr>\n",
       "    <tr>\n",
       "      <th>A</th>\n",
       "      <td>0.46</td>\n",
       "      <td>2.30</td>\n",
       "      <td>1.82</td>\n",
       "      <td>4.67</td>\n",
       "    </tr>\n",
       "    <tr>\n",
       "      <th>BBB</th>\n",
       "      <td>1.54</td>\n",
       "      <td>7.36</td>\n",
       "      <td>5.57</td>\n",
       "      <td>5.60</td>\n",
       "    </tr>\n",
       "    <tr>\n",
       "      <th>BB</th>\n",
       "      <td>6.43</td>\n",
       "      <td>9.10</td>\n",
       "      <td>5.90</td>\n",
       "      <td>8.65</td>\n",
       "    </tr>\n",
       "    <tr>\n",
       "      <th>B</th>\n",
       "      <td>17.35</td>\n",
       "      <td>6.19</td>\n",
       "      <td>2.92</td>\n",
       "      <td>15.06</td>\n",
       "    </tr>\n",
       "    <tr>\n",
       "      <th>Equity</th>\n",
       "      <td>NaN</td>\n",
       "      <td>NaN</td>\n",
       "      <td>1.70</td>\n",
       "      <td>NaN</td>\n",
       "    </tr>\n",
       "  </tbody>\n",
       "</table>\n",
       "</div>"
      ],
      "text/plain": [
       "        Default Probability  Face Value  Market Value  Yield\n",
       "AAA                    0.27       97.48         81.53   3.57\n",
       "AA                     0.30        0.70          0.56   4.48\n",
       "A                      0.46        2.30          1.82   4.67\n",
       "BBB                    1.54        7.36          5.57   5.60\n",
       "BB                     6.43        9.10          5.90   8.65\n",
       "B                     17.35        6.19          2.92  15.06\n",
       "Equity                  NaN         NaN          1.70    NaN"
      ]
     },
     "execution_count": 505,
     "metadata": {},
     "output_type": "execute_result"
    }
   ],
   "source": [
    "no_prepay_tab.round(2)"
   ]
  },
  {
   "cell_type": "code",
   "execution_count": 506,
   "id": "cutting-basics",
   "metadata": {},
   "outputs": [
    {
     "data": {
      "text/plain": [
       "0.8586852653242807"
      ]
     },
     "execution_count": 506,
     "metadata": {},
     "output_type": "execute_result"
    }
   ],
   "source": [
    "WACD = (no_prepay_tab.loc['AAA':'B','Market Value'] * no_prepay_tab.loc['AAA':'B','Yield']).sum()/no_prepay_tab.loc['AAA':'B','Market Value'].sum()\n",
    "WACD - rf*100"
   ]
  },
  {
   "cell_type": "markdown",
   "id": "about-chicago",
   "metadata": {},
   "source": [
    "# Modelling the SPV Dynamics with Prepayments on Collateral Assets"
   ]
  },
  {
   "cell_type": "code",
   "execution_count": 507,
   "id": "liquid-hearts",
   "metadata": {},
   "outputs": [],
   "source": [
    "SPV_Q_pp, _, equity_Q_pp = loan_portfolios.with_prepayments(default_table = DefTable,\n",
    "                                                            rating='B',\n",
    "                                                            mv_callable=mv_call,\n",
    "                                                            risk_neutral = True,\n",
    "                                                            penalty=penalty)"
   ]
  },
  {
   "cell_type": "code",
   "execution_count": 508,
   "id": "better-chassis",
   "metadata": {},
   "outputs": [],
   "source": [
    "SPV_P_pp, M_pp, equity_P_pp = loan_portfolios.with_prepayments(default_table = DefTable,\n",
    "                                                               rating='B',\n",
    "                                                               mv_callable=mv_call,\n",
    "                                                               risk_neutral = False,\n",
    "                                                               penalty=penalty)"
   ]
  },
  {
   "cell_type": "markdown",
   "id": "owned-eugene",
   "metadata": {},
   "source": [
    "## Cash Flows to Tranches"
   ]
  },
  {
   "cell_type": "code",
   "execution_count": 509,
   "id": "connected-transcript",
   "metadata": {},
   "outputs": [],
   "source": [
    "tranches_prepay = ott.tranche_sizes(DefTable,SPV_P_pp,ttm,7)"
   ]
  },
  {
   "cell_type": "code",
   "execution_count": 510,
   "id": "documentary-shield",
   "metadata": {},
   "outputs": [
    {
     "data": {
      "text/html": [
       "<div>\n",
       "<style scoped>\n",
       "    .dataframe tbody tr th:only-of-type {\n",
       "        vertical-align: middle;\n",
       "    }\n",
       "\n",
       "    .dataframe tbody tr th {\n",
       "        vertical-align: top;\n",
       "    }\n",
       "\n",
       "    .dataframe thead th {\n",
       "        text-align: right;\n",
       "    }\n",
       "</style>\n",
       "<table border=\"1\" class=\"dataframe\">\n",
       "  <thead>\n",
       "    <tr style=\"text-align: right;\">\n",
       "      <th></th>\n",
       "      <th>Cash Flows</th>\n",
       "      <th>Sum</th>\n",
       "      <th>Percent of Total</th>\n",
       "    </tr>\n",
       "  </thead>\n",
       "  <tbody>\n",
       "    <tr>\n",
       "      <th>AAA</th>\n",
       "      <td>6372.4</td>\n",
       "      <td>6372.4</td>\n",
       "      <td>71.7</td>\n",
       "    </tr>\n",
       "    <tr>\n",
       "      <th>AA</th>\n",
       "      <td>32.7</td>\n",
       "      <td>6405.1</td>\n",
       "      <td>0.4</td>\n",
       "    </tr>\n",
       "    <tr>\n",
       "      <th>A</th>\n",
       "      <td>150.9</td>\n",
       "      <td>6555.9</td>\n",
       "      <td>1.7</td>\n",
       "    </tr>\n",
       "    <tr>\n",
       "      <th>BBB</th>\n",
       "      <td>471.0</td>\n",
       "      <td>7026.9</td>\n",
       "      <td>5.3</td>\n",
       "    </tr>\n",
       "    <tr>\n",
       "      <th>BB</th>\n",
       "      <td>571.0</td>\n",
       "      <td>7597.9</td>\n",
       "      <td>6.4</td>\n",
       "    </tr>\n",
       "    <tr>\n",
       "      <th>B</th>\n",
       "      <td>395.0</td>\n",
       "      <td>7992.9</td>\n",
       "      <td>4.4</td>\n",
       "    </tr>\n",
       "    <tr>\n",
       "      <th>Equity</th>\n",
       "      <td>896.6</td>\n",
       "      <td>8889.5</td>\n",
       "      <td>10.1</td>\n",
       "    </tr>\n",
       "  </tbody>\n",
       "</table>\n",
       "</div>"
      ],
      "text/plain": [
       "        Cash Flows     Sum  Percent of Total\n",
       "AAA         6372.4  6372.4              71.7\n",
       "AA            32.7  6405.1               0.4\n",
       "A            150.9  6555.9               1.7\n",
       "BBB          471.0  7026.9               5.3\n",
       "BB           571.0  7597.9               6.4\n",
       "B            395.0  7992.9               4.4\n",
       "Equity       896.6  8889.5              10.1"
      ]
     },
     "execution_count": 510,
     "metadata": {},
     "output_type": "execute_result"
    }
   ],
   "source": [
    "pd.DataFrame({'Cash Flows':tranches_prepay,\n",
    "              'Sum':tranches_prepay.cumsum(),\n",
    "              'Percent of Total':np.divide(tranches_prepay,tranches_prepay.cumsum()[-1])*100\n",
    "             },[\"AAA\",\"AA\",\"A\",\"BBB\",\"BB\",\"B\",\"Equity\"]).round(1)"
   ]
  },
  {
   "cell_type": "code",
   "execution_count": 511,
   "id": "imperial-automation",
   "metadata": {},
   "outputs": [
    {
     "data": {
      "image/png": "[encoded data removed]",
      "text/plain": [
       "<Figure size 396.794x255.118 with 2 Axes>"
      ]
     },
     "metadata": {
      "needs_background": "light"
     },
     "output_type": "display_data"
    }
   ],
   "source": [
    "plt.figure(figsize=(textwidth, 9*cm))\n",
    "palette = sns.color_palette(\"summer\", n_colors=6, as_cmap=True)\n",
    "\n",
    "simulations = SPV_P\n",
    "simulations_pp = SPV_P_pp\n",
    "\n",
    "min_ = 6000\n",
    "max_ = 9200\n",
    "ax = sns.histplot(data=simulations, bins=25, color=palette(1), stat='probability', alpha=0.75)\n",
    "ax = sns.histplot(data=simulations_pp, bins=25, color=palette(75), stat='probability', alpha=0.75)\n",
    "\n",
    "plt.ylabel(\"Probability\")\n",
    "maxy = round(ax.get_ylim()[1],2)\n",
    "\n",
    "plt.ylim([0, maxy])\n",
    "plt.yticks(np.linspace(0, maxy, 6),[str(int(round(x,2)*100))+\"%\" for x in np.linspace(0, maxy, 6)])\n",
    "plt.legend(['Baseline','With Prepayments'],loc=\"upper center\", bbox_to_anchor=(0.5, 1.3, 0, 0),ncol=2, frameon=False)\n",
    "\n",
    "\n",
    "plt.xlim([min_,max_])\n",
    "plt.xlabel(\"Collateral Value\")\n",
    "\n",
    "ax2 = ax.twinx()\n",
    "ax2 = sns.ecdfplot(data=simulations, color='k',linewidth=0.75, ax=ax2, stat='proportion')\n",
    "ax2 = sns.ecdfplot(data=simulations_pp, color='k',linewidth=0.75, ax=ax2, stat='proportion')\n",
    "\n",
    "plt.text(np.quantile(simulations_pp, 1),1.05,s=\"$F_{pp}$\",ha='center',va='center',color='k',size=12)\n",
    "plt.text(np.quantile(simulations, 1),1.05,s=\"$F$\",ha='center',va='center',color='k',size=12)\n",
    "\n",
    "plt.ylabel(\"Cumulative Probability\")\n",
    "plt.ylim([0,1])\n",
    "plt.yticks(np.linspace(0, 1, 6),[\"0%\",\"20%\",\"40%\",\"60%\",\"80%\",\"100%\"])\n",
    "\n",
    "plt.tight_layout()\n",
    "\n",
    "#plt.savefig(\"ColValwPP_P.pdf\", format='pdf', bbox_inches='tight')\n",
    "\n",
    "plt.show()"
   ]
  },
  {
   "cell_type": "markdown",
   "id": "rising-juice",
   "metadata": {},
   "source": [
    "Data for Scatterplots"
   ]
  },
  {
   "cell_type": "code",
   "execution_count": 512,
   "id": "scientific-threat",
   "metadata": {},
   "outputs": [],
   "source": [
    "SPV_P_pp_small = np.random.RandomState(1234).choice(SPV_P_pp,size=2500)\n",
    "M_pp_small = np.random.RandomState(1234).choice(M_pp,size=2500)\n",
    "equity_P_pp_small = np.random.RandomState(1234).choice(equity_P_pp,size=2500)"
   ]
  },
  {
   "cell_type": "code",
   "execution_count": 513,
   "id": "handled-enhancement",
   "metadata": {},
   "outputs": [
    {
     "data": {
      "text/html": [
       "<div>\n",
       "<style scoped>\n",
       "    .dataframe tbody tr th:only-of-type {\n",
       "        vertical-align: middle;\n",
       "    }\n",
       "\n",
       "    .dataframe tbody tr th {\n",
       "        vertical-align: top;\n",
       "    }\n",
       "\n",
       "    .dataframe thead th {\n",
       "        text-align: right;\n",
       "    }\n",
       "</style>\n",
       "<table border=\"1\" class=\"dataframe\">\n",
       "  <thead>\n",
       "    <tr style=\"text-align: right;\">\n",
       "      <th></th>\n",
       "      <th>SPV</th>\n",
       "      <th>Market Factor</th>\n",
       "      <th>AAA</th>\n",
       "      <th>AA</th>\n",
       "      <th>A</th>\n",
       "      <th>BBB</th>\n",
       "      <th>BB</th>\n",
       "      <th>B</th>\n",
       "      <th>Equity</th>\n",
       "    </tr>\n",
       "  </thead>\n",
       "  <tbody>\n",
       "    <tr>\n",
       "      <th>0</th>\n",
       "      <td>0.896112</td>\n",
       "      <td>-0.255843</td>\n",
       "      <td>1.0</td>\n",
       "      <td>1.0</td>\n",
       "      <td>1.0</td>\n",
       "      <td>1.0</td>\n",
       "      <td>1.0</td>\n",
       "      <td>1.0</td>\n",
       "      <td>0.476049</td>\n",
       "    </tr>\n",
       "    <tr>\n",
       "      <th>1</th>\n",
       "      <td>0.905556</td>\n",
       "      <td>0.274202</td>\n",
       "      <td>1.0</td>\n",
       "      <td>1.0</td>\n",
       "      <td>1.0</td>\n",
       "      <td>1.0</td>\n",
       "      <td>1.0</td>\n",
       "      <td>1.0</td>\n",
       "      <td>0.621207</td>\n",
       "    </tr>\n",
       "    <tr>\n",
       "      <th>2</th>\n",
       "      <td>0.890585</td>\n",
       "      <td>-0.299730</td>\n",
       "      <td>1.0</td>\n",
       "      <td>1.0</td>\n",
       "      <td>1.0</td>\n",
       "      <td>1.0</td>\n",
       "      <td>1.0</td>\n",
       "      <td>1.0</td>\n",
       "      <td>0.367028</td>\n",
       "    </tr>\n",
       "    <tr>\n",
       "      <th>3</th>\n",
       "      <td>0.876861</td>\n",
       "      <td>-0.106903</td>\n",
       "      <td>1.0</td>\n",
       "      <td>1.0</td>\n",
       "      <td>1.0</td>\n",
       "      <td>1.0</td>\n",
       "      <td>1.0</td>\n",
       "      <td>1.0</td>\n",
       "      <td>0.409656</td>\n",
       "    </tr>\n",
       "    <tr>\n",
       "      <th>4</th>\n",
       "      <td>0.903298</td>\n",
       "      <td>0.275692</td>\n",
       "      <td>1.0</td>\n",
       "      <td>1.0</td>\n",
       "      <td>1.0</td>\n",
       "      <td>1.0</td>\n",
       "      <td>1.0</td>\n",
       "      <td>1.0</td>\n",
       "      <td>0.540013</td>\n",
       "    </tr>\n",
       "    <tr>\n",
       "      <th>...</th>\n",
       "      <td>...</td>\n",
       "      <td>...</td>\n",
       "      <td>...</td>\n",
       "      <td>...</td>\n",
       "      <td>...</td>\n",
       "      <td>...</td>\n",
       "      <td>...</td>\n",
       "      <td>...</td>\n",
       "      <td>...</td>\n",
       "    </tr>\n",
       "    <tr>\n",
       "      <th>2495</th>\n",
       "      <td>0.914729</td>\n",
       "      <td>0.520556</td>\n",
       "      <td>1.0</td>\n",
       "      <td>1.0</td>\n",
       "      <td>1.0</td>\n",
       "      <td>1.0</td>\n",
       "      <td>1.0</td>\n",
       "      <td>1.0</td>\n",
       "      <td>0.656883</td>\n",
       "    </tr>\n",
       "    <tr>\n",
       "      <th>2496</th>\n",
       "      <td>0.909995</td>\n",
       "      <td>0.206378</td>\n",
       "      <td>1.0</td>\n",
       "      <td>1.0</td>\n",
       "      <td>1.0</td>\n",
       "      <td>1.0</td>\n",
       "      <td>1.0</td>\n",
       "      <td>1.0</td>\n",
       "      <td>0.482938</td>\n",
       "    </tr>\n",
       "    <tr>\n",
       "      <th>2497</th>\n",
       "      <td>0.884920</td>\n",
       "      <td>-0.105866</td>\n",
       "      <td>1.0</td>\n",
       "      <td>1.0</td>\n",
       "      <td>1.0</td>\n",
       "      <td>1.0</td>\n",
       "      <td>1.0</td>\n",
       "      <td>1.0</td>\n",
       "      <td>0.474837</td>\n",
       "    </tr>\n",
       "    <tr>\n",
       "      <th>2498</th>\n",
       "      <td>0.859691</td>\n",
       "      <td>-0.284961</td>\n",
       "      <td>1.0</td>\n",
       "      <td>1.0</td>\n",
       "      <td>1.0</td>\n",
       "      <td>1.0</td>\n",
       "      <td>1.0</td>\n",
       "      <td>1.0</td>\n",
       "      <td>0.252046</td>\n",
       "    </tr>\n",
       "    <tr>\n",
       "      <th>2499</th>\n",
       "      <td>0.907803</td>\n",
       "      <td>0.134535</td>\n",
       "      <td>1.0</td>\n",
       "      <td>1.0</td>\n",
       "      <td>1.0</td>\n",
       "      <td>1.0</td>\n",
       "      <td>1.0</td>\n",
       "      <td>1.0</td>\n",
       "      <td>0.541312</td>\n",
       "    </tr>\n",
       "  </tbody>\n",
       "</table>\n",
       "<p>2500 rows × 9 columns</p>\n",
       "</div>"
      ],
      "text/plain": [
       "           SPV  Market Factor  AAA   AA    A  BBB   BB    B    Equity\n",
       "0     0.896112      -0.255843  1.0  1.0  1.0  1.0  1.0  1.0  0.476049\n",
       "1     0.905556       0.274202  1.0  1.0  1.0  1.0  1.0  1.0  0.621207\n",
       "2     0.890585      -0.299730  1.0  1.0  1.0  1.0  1.0  1.0  0.367028\n",
       "3     0.876861      -0.106903  1.0  1.0  1.0  1.0  1.0  1.0  0.409656\n",
       "4     0.903298       0.275692  1.0  1.0  1.0  1.0  1.0  1.0  0.540013\n",
       "...        ...            ...  ...  ...  ...  ...  ...  ...       ...\n",
       "2495  0.914729       0.520556  1.0  1.0  1.0  1.0  1.0  1.0  0.656883\n",
       "2496  0.909995       0.206378  1.0  1.0  1.0  1.0  1.0  1.0  0.482938\n",
       "2497  0.884920      -0.105866  1.0  1.0  1.0  1.0  1.0  1.0  0.474837\n",
       "2498  0.859691      -0.284961  1.0  1.0  1.0  1.0  1.0  1.0  0.252046\n",
       "2499  0.907803       0.134535  1.0  1.0  1.0  1.0  1.0  1.0  0.541312\n",
       "\n",
       "[2500 rows x 9 columns]"
      ]
     },
     "execution_count": 513,
     "metadata": {},
     "output_type": "execute_result"
    }
   ],
   "source": [
    "data_prepay = pd.DataFrame({'SPV':SPV_P_pp_small/ max_spv_cash_flows,\n",
    "                             'Market Factor':M_pp_small / ttm,\n",
    "                             'AAA':ott.clo_payoffs(SPV_P_pp_small,tranches_prepay)[0]/ tranches_prepay[0],\n",
    "                             'AA':ott.clo_payoffs(SPV_P_pp_small,tranches_prepay)[1]/ tranches_prepay[1],\n",
    "                             'A':ott.clo_payoffs(SPV_P_pp_small,tranches_prepay)[2] / tranches_prepay[2],\n",
    "                             'BBB':ott.clo_payoffs(SPV_P_pp_small,tranches_prepay)[3] / tranches_prepay[3],\n",
    "                             'BB':ott.clo_payoffs(SPV_P_pp_small,tranches_prepay)[4] / tranches_prepay[4],\n",
    "                             'B':ott.clo_payoffs(SPV_P_pp_small,tranches_prepay)[5] / tranches_prepay[5],\n",
    "                             'Equity':(ott.clo_payoffs(SPV_P_pp_small,tranches_prepay)[6] + equity_P_pp_small) / (tranches_prepay[6] + max(equity_P_pp_small))})\n",
    "data_prepay"
   ]
  },
  {
   "cell_type": "markdown",
   "id": "limiting-leeds",
   "metadata": {},
   "source": [
    "Generate Tables"
   ]
  },
  {
   "cell_type": "code",
   "execution_count": 514,
   "id": "broken-quarter",
   "metadata": {},
   "outputs": [],
   "source": [
    "initial_market_value_prepayment = mv_call * J"
   ]
  },
  {
   "cell_type": "code",
   "execution_count": 515,
   "id": "blind-stanford",
   "metadata": {},
   "outputs": [
    {
     "name": "stdout",
     "output_type": "stream",
     "text": [
      "The maximum normalized payoff is: 137.74\n"
     ]
    }
   ],
   "source": [
    "maximum_norm_payoff = max_spv_cash_flows / initial_market_value_prepayment * 100\n",
    "print('The maximum normalized payoff is: {0:0.2f}'.format(maximum_norm_payoff))"
   ]
  },
  {
   "cell_type": "code",
   "execution_count": 516,
   "id": "incredible-corps",
   "metadata": {},
   "outputs": [],
   "source": [
    "prepay_tab = DefTable[[ttm]].copy()\n",
    "prepay_tab.rename(columns={5:'Default Probability'},inplace=True)\n",
    "prepay_tab['Face Value'] = (np.quantile(SPV_P_pp, prepay_tab['Default Probability']/100) / initial_market_value) * 100"
   ]
  },
  {
   "cell_type": "code",
   "execution_count": 517,
   "id": "exciting-month",
   "metadata": {},
   "outputs": [],
   "source": [
    "for rating in prepay_tab.index:\n",
    "    prepay_tab.loc[rating, 'Market Value'] = (np.minimum(SPV_Q_pp,\n",
    "                                                         np.quantile(SPV_P_pp,\n",
    "                                                                     prepay_tab.loc[rating, 'Default Probability']/100\n",
    "                                                                    )).mean() * np.exp(-rf*ttm) / initial_market_value) * 100"
   ]
  },
  {
   "cell_type": "markdown",
   "id": "prescription-thumb",
   "metadata": {},
   "source": [
    "Preliminary Table before Tranching"
   ]
  },
  {
   "cell_type": "code",
   "execution_count": 518,
   "id": "laden-biography",
   "metadata": {},
   "outputs": [
    {
     "data": {
      "text/html": [
       "<div>\n",
       "<style scoped>\n",
       "    .dataframe tbody tr th:only-of-type {\n",
       "        vertical-align: middle;\n",
       "    }\n",
       "\n",
       "    .dataframe tbody tr th {\n",
       "        vertical-align: top;\n",
       "    }\n",
       "\n",
       "    .dataframe thead th {\n",
       "        text-align: right;\n",
       "    }\n",
       "</style>\n",
       "<table border=\"1\" class=\"dataframe\">\n",
       "  <thead>\n",
       "    <tr style=\"text-align: right;\">\n",
       "      <th></th>\n",
       "      <th>Default Probability</th>\n",
       "      <th>Face Value</th>\n",
       "      <th>Market Value</th>\n",
       "    </tr>\n",
       "  </thead>\n",
       "  <tbody>\n",
       "    <tr>\n",
       "      <th>AAA</th>\n",
       "      <td>0.27</td>\n",
       "      <td>90.44</td>\n",
       "      <td>75.66</td>\n",
       "    </tr>\n",
       "    <tr>\n",
       "      <th>AA</th>\n",
       "      <td>0.30</td>\n",
       "      <td>90.90</td>\n",
       "      <td>76.03</td>\n",
       "    </tr>\n",
       "    <tr>\n",
       "      <th>A</th>\n",
       "      <td>0.46</td>\n",
       "      <td>93.04</td>\n",
       "      <td>77.73</td>\n",
       "    </tr>\n",
       "    <tr>\n",
       "      <th>BBB</th>\n",
       "      <td>1.54</td>\n",
       "      <td>99.73</td>\n",
       "      <td>82.79</td>\n",
       "    </tr>\n",
       "    <tr>\n",
       "      <th>BB</th>\n",
       "      <td>6.43</td>\n",
       "      <td>107.83</td>\n",
       "      <td>88.08</td>\n",
       "    </tr>\n",
       "    <tr>\n",
       "      <th>B</th>\n",
       "      <td>17.35</td>\n",
       "      <td>113.44</td>\n",
       "      <td>90.75</td>\n",
       "    </tr>\n",
       "  </tbody>\n",
       "</table>\n",
       "</div>"
      ],
      "text/plain": [
       "     Default Probability  Face Value  Market Value\n",
       "AAA                 0.27       90.44         75.66\n",
       "AA                  0.30       90.90         76.03\n",
       "A                   0.46       93.04         77.73\n",
       "BBB                 1.54       99.73         82.79\n",
       "BB                  6.43      107.83         88.08\n",
       "B                  17.35      113.44         90.75"
      ]
     },
     "execution_count": 518,
     "metadata": {},
     "output_type": "execute_result"
    }
   ],
   "source": [
    "prepay_tab.round(2)"
   ]
  },
  {
   "cell_type": "markdown",
   "id": "european-volleyball",
   "metadata": {},
   "source": [
    "Tranching"
   ]
  },
  {
   "cell_type": "code",
   "execution_count": 519,
   "id": "continent-professor",
   "metadata": {},
   "outputs": [],
   "source": [
    "prepay_tab.loc[:,'Face Value':'Market Value'] = prepay_tab.loc[:,'Face Value':'Market Value'] - prepay_tab.loc[:,'Face Value':'Market Value'].shift(1)\n",
    "prepay_tab.loc['AAA','Face Value'] = (np.quantile(SPV_P_pp, prepay_tab.loc['AAA','Default Probability']/100) / initial_market_value) * 100\n",
    "prepay_tab.loc['AAA','Market Value'] = (np.minimum(SPV_Q_pp, np.quantile(SPV_P_pp, prepay_tab.loc['AAA', 'Default Probability']/100)).mean() * np.exp(-rf*ttm) / initial_market_value) * 100\n",
    "prepay_tab['Yield'] = ott.zero_yield(prepay_tab['Market Value'], prepay_tab['Face Value'], ttm) * 100\n",
    "prepay_tab.loc['Equity','Market Value'] = initial_market_value_prepayment/initial_market_value * 100 - prepay_tab['Market Value'].sum(axis=0)"
   ]
  },
  {
   "cell_type": "code",
   "execution_count": 520,
   "id": "isolated-shark",
   "metadata": {},
   "outputs": [
    {
     "data": {
      "text/html": [
       "<div>\n",
       "<style scoped>\n",
       "    .dataframe tbody tr th:only-of-type {\n",
       "        vertical-align: middle;\n",
       "    }\n",
       "\n",
       "    .dataframe tbody tr th {\n",
       "        vertical-align: top;\n",
       "    }\n",
       "\n",
       "    .dataframe thead th {\n",
       "        text-align: right;\n",
       "    }\n",
       "</style>\n",
       "<table border=\"1\" class=\"dataframe\">\n",
       "  <thead>\n",
       "    <tr style=\"text-align: right;\">\n",
       "      <th></th>\n",
       "      <th>Default Probability</th>\n",
       "      <th>Face Value</th>\n",
       "      <th>Market Value</th>\n",
       "      <th>Yield</th>\n",
       "    </tr>\n",
       "  </thead>\n",
       "  <tbody>\n",
       "    <tr>\n",
       "      <th>AAA</th>\n",
       "      <td>0.27</td>\n",
       "      <td>90.44</td>\n",
       "      <td>75.66</td>\n",
       "      <td>3.57</td>\n",
       "    </tr>\n",
       "    <tr>\n",
       "      <th>AA</th>\n",
       "      <td>0.30</td>\n",
       "      <td>0.46</td>\n",
       "      <td>0.37</td>\n",
       "      <td>4.46</td>\n",
       "    </tr>\n",
       "    <tr>\n",
       "      <th>A</th>\n",
       "      <td>0.46</td>\n",
       "      <td>2.14</td>\n",
       "      <td>1.70</td>\n",
       "      <td>4.64</td>\n",
       "    </tr>\n",
       "    <tr>\n",
       "      <th>BBB</th>\n",
       "      <td>1.54</td>\n",
       "      <td>6.68</td>\n",
       "      <td>5.06</td>\n",
       "      <td>5.55</td>\n",
       "    </tr>\n",
       "    <tr>\n",
       "      <th>BB</th>\n",
       "      <td>6.43</td>\n",
       "      <td>8.10</td>\n",
       "      <td>5.28</td>\n",
       "      <td>8.55</td>\n",
       "    </tr>\n",
       "    <tr>\n",
       "      <th>B</th>\n",
       "      <td>17.35</td>\n",
       "      <td>5.61</td>\n",
       "      <td>2.67</td>\n",
       "      <td>14.82</td>\n",
       "    </tr>\n",
       "    <tr>\n",
       "      <th>Equity</th>\n",
       "      <td>NaN</td>\n",
       "      <td>NaN</td>\n",
       "      <td>6.32</td>\n",
       "      <td>NaN</td>\n",
       "    </tr>\n",
       "  </tbody>\n",
       "</table>\n",
       "</div>"
      ],
      "text/plain": [
       "        Default Probability  Face Value  Market Value  Yield\n",
       "AAA                    0.27       90.44         75.66   3.57\n",
       "AA                     0.30        0.46          0.37   4.46\n",
       "A                      0.46        2.14          1.70   4.64\n",
       "BBB                    1.54        6.68          5.06   5.55\n",
       "BB                     6.43        8.10          5.28   8.55\n",
       "B                     17.35        5.61          2.67  14.82\n",
       "Equity                  NaN         NaN          6.32    NaN"
      ]
     },
     "execution_count": 520,
     "metadata": {},
     "output_type": "execute_result"
    }
   ],
   "source": [
    "prepay_tab.round(2)"
   ]
  },
  {
   "cell_type": "markdown",
   "id": "hazardous-perry",
   "metadata": {},
   "source": [
    "Comparison with no prepayment case"
   ]
  },
  {
   "cell_type": "code",
   "execution_count": 521,
   "id": "equivalent-likelihood",
   "metadata": {},
   "outputs": [
    {
     "data": {
      "text/html": [
       "<div>\n",
       "<style scoped>\n",
       "    .dataframe tbody tr th:only-of-type {\n",
       "        vertical-align: middle;\n",
       "    }\n",
       "\n",
       "    .dataframe tbody tr th {\n",
       "        vertical-align: top;\n",
       "    }\n",
       "\n",
       "    .dataframe thead th {\n",
       "        text-align: right;\n",
       "    }\n",
       "</style>\n",
       "<table border=\"1\" class=\"dataframe\">\n",
       "  <thead>\n",
       "    <tr style=\"text-align: right;\">\n",
       "      <th></th>\n",
       "      <th>Default Probability</th>\n",
       "      <th>Face Value</th>\n",
       "      <th>Market Value</th>\n",
       "      <th>Yield</th>\n",
       "    </tr>\n",
       "  </thead>\n",
       "  <tbody>\n",
       "    <tr>\n",
       "      <th>AAA</th>\n",
       "      <td>0.27</td>\n",
       "      <td>97.48</td>\n",
       "      <td>81.53</td>\n",
       "      <td>3.57</td>\n",
       "    </tr>\n",
       "    <tr>\n",
       "      <th>AA</th>\n",
       "      <td>0.30</td>\n",
       "      <td>0.70</td>\n",
       "      <td>0.56</td>\n",
       "      <td>4.48</td>\n",
       "    </tr>\n",
       "    <tr>\n",
       "      <th>A</th>\n",
       "      <td>0.46</td>\n",
       "      <td>2.30</td>\n",
       "      <td>1.82</td>\n",
       "      <td>4.67</td>\n",
       "    </tr>\n",
       "    <tr>\n",
       "      <th>BBB</th>\n",
       "      <td>1.54</td>\n",
       "      <td>7.36</td>\n",
       "      <td>5.57</td>\n",
       "      <td>5.60</td>\n",
       "    </tr>\n",
       "    <tr>\n",
       "      <th>BB</th>\n",
       "      <td>6.43</td>\n",
       "      <td>9.10</td>\n",
       "      <td>5.90</td>\n",
       "      <td>8.65</td>\n",
       "    </tr>\n",
       "    <tr>\n",
       "      <th>B</th>\n",
       "      <td>17.35</td>\n",
       "      <td>6.19</td>\n",
       "      <td>2.92</td>\n",
       "      <td>15.06</td>\n",
       "    </tr>\n",
       "    <tr>\n",
       "      <th>Equity</th>\n",
       "      <td>NaN</td>\n",
       "      <td>NaN</td>\n",
       "      <td>1.70</td>\n",
       "      <td>NaN</td>\n",
       "    </tr>\n",
       "  </tbody>\n",
       "</table>\n",
       "</div>"
      ],
      "text/plain": [
       "        Default Probability  Face Value  Market Value  Yield\n",
       "AAA                    0.27       97.48         81.53   3.57\n",
       "AA                     0.30        0.70          0.56   4.48\n",
       "A                      0.46        2.30          1.82   4.67\n",
       "BBB                    1.54        7.36          5.57   5.60\n",
       "BB                     6.43        9.10          5.90   8.65\n",
       "B                     17.35        6.19          2.92  15.06\n",
       "Equity                  NaN         NaN          1.70    NaN"
      ]
     },
     "execution_count": 521,
     "metadata": {},
     "output_type": "execute_result"
    }
   ],
   "source": [
    "no_prepay_tab.round(2)"
   ]
  },
  {
   "cell_type": "markdown",
   "id": "overall-civilization",
   "metadata": {},
   "source": [
    "Create Results Table"
   ]
  },
  {
   "cell_type": "code",
   "execution_count": 522,
   "id": "sexual-richardson",
   "metadata": {},
   "outputs": [
    {
     "data": {
      "text/html": [
       "<div>\n",
       "<style scoped>\n",
       "    .dataframe tbody tr th:only-of-type {\n",
       "        vertical-align: middle;\n",
       "    }\n",
       "\n",
       "    .dataframe tbody tr th {\n",
       "        vertical-align: top;\n",
       "    }\n",
       "\n",
       "    .dataframe thead th {\n",
       "        text-align: right;\n",
       "    }\n",
       "</style>\n",
       "<table border=\"1\" class=\"dataframe\">\n",
       "  <thead>\n",
       "    <tr style=\"text-align: right;\">\n",
       "      <th></th>\n",
       "      <th>Default Probability</th>\n",
       "      <th>Face Value</th>\n",
       "      <th>Market Value</th>\n",
       "      <th>Yield</th>\n",
       "      <th>Adj. Yield</th>\n",
       "      <th>Adj. Spread</th>\n",
       "      <th>Mispricing</th>\n",
       "    </tr>\n",
       "  </thead>\n",
       "  <tbody>\n",
       "    <tr>\n",
       "      <th>AAA</th>\n",
       "      <td>0.27</td>\n",
       "      <td>97.48</td>\n",
       "      <td>75.66</td>\n",
       "      <td>3.57</td>\n",
       "      <td>5.07</td>\n",
       "      <td>1.57</td>\n",
       "      <td>1.50</td>\n",
       "    </tr>\n",
       "    <tr>\n",
       "      <th>AA</th>\n",
       "      <td>0.30</td>\n",
       "      <td>0.70</td>\n",
       "      <td>0.37</td>\n",
       "      <td>4.48</td>\n",
       "      <td>12.79</td>\n",
       "      <td>9.29</td>\n",
       "      <td>8.31</td>\n",
       "    </tr>\n",
       "    <tr>\n",
       "      <th>A</th>\n",
       "      <td>0.46</td>\n",
       "      <td>2.30</td>\n",
       "      <td>1.70</td>\n",
       "      <td>4.67</td>\n",
       "      <td>6.07</td>\n",
       "      <td>2.57</td>\n",
       "      <td>1.40</td>\n",
       "    </tr>\n",
       "    <tr>\n",
       "      <th>BBB</th>\n",
       "      <td>1.54</td>\n",
       "      <td>7.36</td>\n",
       "      <td>5.06</td>\n",
       "      <td>5.60</td>\n",
       "      <td>7.49</td>\n",
       "      <td>3.99</td>\n",
       "      <td>1.90</td>\n",
       "    </tr>\n",
       "    <tr>\n",
       "      <th>BB</th>\n",
       "      <td>6.43</td>\n",
       "      <td>9.10</td>\n",
       "      <td>5.28</td>\n",
       "      <td>8.65</td>\n",
       "      <td>10.86</td>\n",
       "      <td>7.36</td>\n",
       "      <td>2.21</td>\n",
       "    </tr>\n",
       "    <tr>\n",
       "      <th>B</th>\n",
       "      <td>17.35</td>\n",
       "      <td>6.19</td>\n",
       "      <td>2.67</td>\n",
       "      <td>15.06</td>\n",
       "      <td>16.80</td>\n",
       "      <td>13.30</td>\n",
       "      <td>1.74</td>\n",
       "    </tr>\n",
       "    <tr>\n",
       "      <th>Equity</th>\n",
       "      <td>NaN</td>\n",
       "      <td>NaN</td>\n",
       "      <td>6.32</td>\n",
       "      <td>NaN</td>\n",
       "      <td>NaN</td>\n",
       "      <td>NaN</td>\n",
       "      <td>NaN</td>\n",
       "    </tr>\n",
       "  </tbody>\n",
       "</table>\n",
       "</div>"
      ],
      "text/plain": [
       "        Default Probability  Face Value  Market Value  Yield  Adj. Yield  \\\n",
       "AAA                    0.27       97.48         75.66   3.57        5.07   \n",
       "AA                     0.30        0.70          0.37   4.48       12.79   \n",
       "A                      0.46        2.30          1.70   4.67        6.07   \n",
       "BBB                    1.54        7.36          5.06   5.60        7.49   \n",
       "BB                     6.43        9.10          5.28   8.65       10.86   \n",
       "B                     17.35        6.19          2.67  15.06       16.80   \n",
       "Equity                  NaN         NaN          6.32    NaN         NaN   \n",
       "\n",
       "        Adj. Spread  Mispricing  \n",
       "AAA            1.57        1.50  \n",
       "AA             9.29        8.31  \n",
       "A              2.57        1.40  \n",
       "BBB            3.99        1.90  \n",
       "BB             7.36        2.21  \n",
       "B             13.30        1.74  \n",
       "Equity          NaN         NaN  "
      ]
     },
     "execution_count": 522,
     "metadata": {},
     "output_type": "execute_result"
    }
   ],
   "source": [
    "final_df = pd.concat([no_prepay_tab[['Default Probability','Face Value','Yield']], prepay_tab[['Market Value']]], axis=1,sort=False)\n",
    "final_df['Adj. Yield'] = ott.zero_yield(final_df['Market Value'], final_df['Face Value'], ttm) * 100\n",
    "final_df['Adj. Spread'] = final_df['Adj. Yield'] - rf * 100\n",
    "final_df['Mispricing'] = final_df['Adj. Yield'] - final_df['Yield']\n",
    "\n",
    "final_df[['Default Probability', 'Face Value', 'Market Value', 'Yield', 'Adj. Yield', 'Adj. Spread', 'Mispricing']].round(2)"
   ]
  },
  {
   "cell_type": "code",
   "execution_count": 523,
   "id": "numeric-neighbor",
   "metadata": {},
   "outputs": [
    {
     "data": {
      "text/plain": [
       "4.602111606249279"
      ]
     },
     "execution_count": 523,
     "metadata": {},
     "output_type": "execute_result"
    }
   ],
   "source": [
    "equity_mv_pp / initial_market_value * 100"
   ]
  },
  {
   "cell_type": "code",
   "execution_count": 524,
   "id": "executive-satellite",
   "metadata": {},
   "outputs": [
    {
     "name": "stdout",
     "output_type": "stream",
     "text": [
      "The total mispricing given the Parameters is: 1.59%\n"
     ]
    }
   ],
   "source": [
    "total_mispricing = (final_df.loc['AAA':'B','Market Value'] * final_df['Mispricing'] / final_df.loc['AAA':'B','Market Value'].sum()).sum()\n",
    "print(\"The total mispricing given the Parameters is: {0:0.2f}%\".format(total_mispricing))"
   ]
  },
  {
   "cell_type": "code",
   "execution_count": 525,
   "id": "searching-superior",
   "metadata": {},
   "outputs": [
    {
     "name": "stdout",
     "output_type": "stream",
     "text": [
      "\n",
      "    WACD for the portfolios is:\n",
      "\n",
      "    Correctly Priced w/ Prepayments: 4.46%\n",
      "\n",
      "    Correctly Priced w/o Prepayments: 4.51%\n",
      "\n",
      "    Mispriced: 6.10%\n",
      "    \n"
     ]
    }
   ],
   "source": [
    "print(\n",
    "    \"\"\"\n",
    "    WACD for the portfolios is:\\n\n",
    "    Correctly Priced w/ Prepayments: {0:0.2f}%\\n\n",
    "    Correctly Priced w/o Prepayments: {1:0.2f}%\\n\n",
    "    Mispriced: {2:0.2f}%\n",
    "    \"\"\".format(\n",
    "        ott.zero_yield(prepay_tab.loc['AAA':'B','Market Value'].sum(),prepay_tab['Face Value'].sum(),ttm) * 100,\n",
    "        ott.zero_yield(no_prepay_tab.loc['AAA':'B','Market Value'].sum(),no_prepay_tab['Face Value'].sum(),ttm) * 100,\n",
    "        ott.zero_yield(final_df.loc['AAA':'B','Market Value'].sum(),final_df['Face Value'].sum(),ttm) * 100)\n",
    ")"
   ]
  },
  {
   "cell_type": "markdown",
   "id": "right-sending",
   "metadata": {},
   "source": [
    "# Create Scatterplots"
   ]
  },
  {
   "cell_type": "code",
   "execution_count": null,
   "id": "southwest-addiction",
   "metadata": {},
   "outputs": [],
   "source": []
  },
  {
   "cell_type": "code",
   "execution_count": 350,
   "id": "bored-disposal",
   "metadata": {},
   "outputs": [
    {
     "data": {
      "image/png": "[encoded data removed]",
      "text/plain": [
       "<Figure size 396.794x510.236 with 8 Axes>"
      ]
     },
     "metadata": {
      "needs_background": "light"
     },
     "output_type": "display_data"
    }
   ],
   "source": [
    "fig, axs = plt.subplots(ncols=2,nrows=4,sharex=True,sharey=True)\n",
    "\n",
    "palette = sns.color_palette(\"summer\", n_colors=6, as_cmap=True)\n",
    "\n",
    "fig.text(0.5, -0.015, 'Market Factor $Z_{m}$', ha='center', size=11)\n",
    "fig.text(-0.025, 0.5, 'Normalized Payoffs', va='center', rotation='vertical', size=11)\n",
    "\n",
    "i,j = 0,0\n",
    "for tranche in [\"Equity\",\"SPV\",\"AA\",\"AAA\",\"BBB\",\"A\",\"B\",\"BB\"]:\n",
    "    if j == 0: j = 1\n",
    "    else: j = 0\n",
    "    axs[i,j].scatter(x=data_no_prepay['Market Factor'], y = data_no_prepay[tranche], s= 0.5, color=palette(1),alpha=0.75)\n",
    "    axs[i,j].scatter(x=data_prepay['Market Factor'], y = data_prepay[tranche], s= 0.5, color=palette(150))\n",
    "    axs[i,j].set_title(tranche, size=11)\n",
    "    \n",
    "    axs[i,j].axhline(data_no_prepay[tranche].mean(),-2.25, 2.25,c=\"k\",linewidth=0.5)\n",
    "    axs[i,j].axhline(data_prepay[tranche].mean(),-2.25, 2.25,c=\"k\",linewidth=0.5)\n",
    "    \n",
    "    axs[i,j].set_xlabel('')\n",
    "    axs[i,j].set_xlim([-2.25,2.25])\n",
    "    axs[i,j].set_xticks([-2,-1,0,1,2])\n",
    "    \n",
    "    axs[i,j].set_ylabel('')\n",
    "    axs[i,j].set_ylim([-0.05,1.05])\n",
    "    axs[i,j].set_yticks([0,0.2,0.4,0.6,0.8,1])\n",
    "    axs[i,j].grid(lw=0.3)\n",
    "    if j == 0: i = i + 1\n",
    "\n",
    "fig.set_size_inches(textwidth, 18*cm)\n",
    "fig.tight_layout()\n",
    "\n",
    "#fig.savefig(\"Payoffs.pdf\", bbox_inches='tight', format='pdf')\n",
    "\n",
    "plt.show()"
   ]
  },
  {
   "cell_type": "markdown",
   "id": "direct-london",
   "metadata": {},
   "source": [
    "# Return on Equity Analysis"
   ]
  },
  {
   "cell_type": "code",
   "execution_count": 243,
   "id": "agricultural-livestock",
   "metadata": {},
   "outputs": [
    {
     "data": {
      "text/plain": [
       "(array([  0.        ,   0.        ,   0.        , ..., 671.06262338,\n",
       "        671.06262338, 671.06262338]),\n",
       " array([ 97.12962129, 157.42243283, 110.11126839, ..., 983.28665369,\n",
       "        999.36423868, 998.02744455]))"
      ]
     },
     "execution_count": 243,
     "metadata": {},
     "output_type": "execute_result"
    }
   ],
   "source": [
    "equity_payoffs = ott.clo_payoffs(SPV_P,tranches_no_prepay)[6]\n",
    "equity_payoffs_pp = ott.clo_payoffs(SPV_P_pp,tranches_prepay)[6] + equity_P_pp\n",
    "equity_payoffs,equity_payoffs_pp"
   ]
  },
  {
   "cell_type": "code",
   "execution_count": 244,
   "id": "indie-prescription",
   "metadata": {},
   "outputs": [
    {
     "data": {
      "text/plain": [
       "(100.60065506353396, 324.2646761285653)"
      ]
     },
     "execution_count": 244,
     "metadata": {},
     "output_type": "execute_result"
    }
   ],
   "source": [
    "equity_mv = (np.minimum(SPV_Q, np.quantile(SPV_P,1)).mean() - np.minimum(SPV_Q,np.quantile(SPV_P,DefTable.loc['B',ttm]/100)).mean()) * np.exp(-rf*ttm)\n",
    "equity_mv_pp = (np.minimum(SPV_Q_pp, np.quantile(SPV_P_pp,1)).mean() - np.minimum(SPV_Q_pp,np.quantile(SPV_P_pp,DefTable.loc['B',ttm]/100)).mean() + equity_Q_pp.mean()) * np.exp(-rf*ttm)\n",
    "equity_mv, equity_mv_pp"
   ]
  },
  {
   "cell_type": "code",
   "execution_count": 262,
   "id": "outstanding-assignment",
   "metadata": {},
   "outputs": [
    {
     "data": {
      "text/plain": [
       "(array([-1.        , -1.        , -1.        , ...,  5.67055918,\n",
       "         5.67055918,  5.67055918]),\n",
       " array([-0.70046191, -0.51452488, -0.6604278 , ...,  2.03235821,\n",
       "         2.08193989,  2.07781734]))"
      ]
     },
     "execution_count": 262,
     "metadata": {},
     "output_type": "execute_result"
    }
   ],
   "source": [
    "ROE = (equity_payoffs - equity_mv) / equity_mv\n",
    "ROE_pp = (equity_payoffs_pp - equity_mv_pp) / equity_mv_pp\n",
    "ROE,ROE_pp"
   ]
  },
  {
   "cell_type": "code",
   "execution_count": 453,
   "id": "excess-import",
   "metadata": {},
   "outputs": [],
   "source": [
    "ann_std = ROE.std()*np.sqrt(1/ttm)\n",
    "ann_std_pp = ROE_pp.std() * np.sqrt(1/ttm)"
   ]
  },
  {
   "cell_type": "code",
   "execution_count": 454,
   "id": "running-marijuana",
   "metadata": {},
   "outputs": [
    {
     "data": {
      "text/plain": [
       "(array([-1.        , -1.        , -1.        , ...,  0.46161317,\n",
       "         0.46161317,  0.46161317]),\n",
       " array([-0.21423911, -0.13456711, -0.19427577, ...,  0.24840673,\n",
       "         0.25246279,  0.25212754]))"
      ]
     },
     "execution_count": 454,
     "metadata": {},
     "output_type": "execute_result"
    }
   ],
   "source": [
    "ann_ROE = (1+ROE)**(1/ttm)-1\n",
    "ann_ROE_pp = (1+ROE_pp)**(1/ttm)-1\n",
    "ann_ROE, ann_ROE_pp"
   ]
  },
  {
   "cell_type": "code",
   "execution_count": 457,
   "id": "classified-singapore",
   "metadata": {},
   "outputs": [
    {
     "data": {
      "text/plain": [
       "(0.0189749825389799, 0.25703071928452814)"
      ]
     },
     "execution_count": 457,
     "metadata": {},
     "output_type": "execute_result"
    }
   ],
   "source": [
    "sharpe = (ann_ROE.mean() - rf) / ann_std\n",
    "sharpe_pp = (ann_ROE_pp.mean() - rf) / ann_std_pp\n",
    "sharpe, sharpe_pp"
   ]
  },
  {
   "cell_type": "code",
   "execution_count": 415,
   "id": "featured-software",
   "metadata": {},
   "outputs": [
    {
     "data": {
      "text/plain": [
       "(0.25984674918347794, 0.13503654469541093)"
      ]
     },
     "execution_count": 415,
     "metadata": {},
     "output_type": "execute_result"
    }
   ],
   "source": [
    "ann_mean_ROE = (1+ROE.mean())**(1/ttm)-1\n",
    "ann_mean_ROE_pp = (1+ROE_pp.mean())**(1/ttm)-1\n",
    "ann_mean_ROE, ann_mean_ROE_pp"
   ]
  },
  {
   "cell_type": "code",
   "execution_count": 416,
   "id": "complete-attachment",
   "metadata": {},
   "outputs": [
    {
     "data": {
      "image/png": "[encoded data removed]",
      "text/plain": [
       "<Figure size 396.794x226.772 with 1 Axes>"
      ]
     },
     "metadata": {
      "needs_background": "light"
     },
     "output_type": "display_data"
    }
   ],
   "source": [
    "plt.figure(figsize=(textwidth, 8*cm))\n",
    "palette = sns.color_palette(\"summer\", n_colors=6, as_cmap=True)\n",
    "\n",
    "simulations = ann_ROE[ann_ROE>-1]\n",
    "simulations_pp = ann_ROE_pp[ann_ROE_pp>-1]\n",
    "\n",
    "min_ = -0.4\n",
    "max_ = 0.5\n",
    "ax = sns.histplot(data=simulations, binwidth=0.025, color=palette(1), stat='probability', alpha=0.75)\n",
    "ax = sns.histplot(data=simulations_pp, binwidth=0.025, color=palette(75), stat='probability', alpha=0.75)\n",
    "\n",
    "plt.ylabel(\"Probability\")\n",
    "maxy = round(ax.get_ylim()[1],2)\n",
    "plt.legend(['Baseline','With Prepayments'],loc=\"upper center\", bbox_to_anchor=(0.5, 1.275, 0, 0),ncol=2, frameon=False)\n",
    "\n",
    "\n",
    "plt.ylim([0, maxy])\n",
    "plt.yticks(np.linspace(0, maxy, 6),[str(int(round(x,2)*100))+\"%\" for x in np.linspace(0, maxy, 6)])\n",
    "\n",
    "plt.xlim([min_,max_])\n",
    "plt.xlabel(\"Return on Equity\")\n",
    "plt.xticks(np.linspace(min_, max_, 10),[str(int(round(x,2)*100))+\"%\" for x in np.linspace(min_, max_, 10)])\n",
    "\n",
    "plt.vlines((0,ann_mean_ROW,ann_mean_ROW_pp),0,1,colors=('k'),linewidth=(0.5,0.75,0.75),linestyles=('--','-.','-.'))\n",
    "\n",
    "plt.text(ann_mean_ROE, maxy*1.05,s=\"$\\mu$\",ha='center',va='center',color='k')\n",
    "plt.text(ann_mean_ROE_pp, maxy*1.05,s=\"$\\mu_{pp}$\",ha='center',va='center',color='k')\n",
    "\n",
    "plt.tight_layout()\n",
    "\n",
    "#plt.savefig(\"pic.pdf\", format='pdf', bbox_inches='tight')\n",
    "\n",
    "plt.show()"
   ]
  },
  {
   "cell_type": "markdown",
   "id": "animated-position",
   "metadata": {},
   "source": [
    "# Distribution of SPV Cash Flows under Q-measure"
   ]
  },
  {
   "cell_type": "code",
   "execution_count": 477,
   "id": "vanilla-secretary",
   "metadata": {},
   "outputs": [
    {
     "data": {
      "image/png": "[encoded data removed]",
      "text/plain": [
       "<Figure size 396.794x255.118 with 2 Axes>"
      ]
     },
     "metadata": {
      "needs_background": "light"
     },
     "output_type": "display_data"
    }
   ],
   "source": [
    "plt.figure(figsize=(textwidth, 9*cm))\n",
    "palette = sns.color_palette(\"summer\", n_colors=6, as_cmap=True)\n",
    "\n",
    "simulations = SPV_Q\n",
    "simulations_pp = SPV_Q_pp\n",
    "\n",
    "min_ = 6000\n",
    "max_ = 9200\n",
    "ax = sns.histplot(data=simulations, bins=25, color=palette(1), stat='probability', alpha=0.75)\n",
    "ax = sns.histplot(data=simulations_pp, bins=25, color=palette(75), stat='probability', alpha=0.75)\n",
    "\n",
    "plt.ylabel(\"Probability\")\n",
    "maxy = round(ax.get_ylim()[1],2)\n",
    "\n",
    "plt.ylim([0, maxy])\n",
    "plt.yticks(np.linspace(0, maxy, 6),[str(int(round(x,2)*100))+\"%\" for x in np.linspace(0, maxy, 6)])\n",
    "\n",
    "plt.legend(['Baseline','With Prepayments'],loc=\"upper center\", bbox_to_anchor=(0.5, 1.35, 0, 0),ncol=2, frameon=False)\n",
    "plt.xlim([min_,max_])\n",
    "plt.xlabel(\"Collateral Value\")\n",
    "\n",
    "ax2 = ax.twinx()\n",
    "ax2 = sns.ecdfplot(data=simulations, color='k',linewidth=0.75, ax=ax2, stat='proportion')\n",
    "ax2 = sns.ecdfplot(data=simulations_pp, color='k',linewidth=0.75, ax=ax2, stat='proportion')\n",
    "\n",
    "plt.text(np.quantile(simulations_pp, 1),1.075,s=\"$F^{Q}_{pp}$\",ha='center',va='center',color='k',size=12)\n",
    "plt.text(np.quantile(simulations, 1),1.075,s=\"$F^{Q}$\",ha='center',va='center',color='k',size=12)\n",
    "\n",
    "plt.ylabel(\"Cumulative Probability\")\n",
    "plt.ylim([0,1])\n",
    "plt.yticks(np.linspace(0, 1, 6),[\"0%\",\"20%\",\"40%\",\"60%\",\"80%\",\"100%\"])\n",
    "\n",
    "plt.tight_layout()\n",
    "\n",
    "#plt.savefig(\"ColValwPP_Q.pdf\", format='pdf', bbox_inches='tight')\n",
    "\n",
    "plt.show()"
   ]
  },
  {
   "cell_type": "code",
   "execution_count": null,
   "id": "equivalent-nylon",
   "metadata": {},
   "outputs": [],
   "source": []
  },
  {
   "cell_type": "code",
   "execution_count": null,
   "id": "acoustic-chile",
   "metadata": {},
   "outputs": [],
   "source": []
  },
  {
   "cell_type": "code",
   "execution_count": null,
   "id": "equivalent-noise",
   "metadata": {},
   "outputs": [],
   "source": []
  }
 ],
 "metadata": {
  "kernelspec": {
   "display_name": "Python 3",
   "language": "python",
   "name": "python3"
  },
  "language_info": {
   "codemirror_mode": {
    "name": "ipython",
    "version": 3
   },
   "file_extension": ".py",
   "mimetype": "text/x-python",
   "name": "python",
   "nbconvert_exporter": "python",
   "pygments_lexer": "ipython3",
   "version": "3.8.5"
  }
 },
 "nbformat": 4,
 "nbformat_minor": 5
}
