{
 "cells": [
  {
   "cell_type": "markdown",
   "id": "about-renaissance",
   "metadata": {},
   "source": [
    "### Load Packages"
   ]
  },
  {
   "cell_type": "code",
   "execution_count": 3,
   "id": "chemical-traveler",
   "metadata": {},
   "outputs": [],
   "source": [
    "import pandas as pd\n",
    "import numpy as np\n",
    "import matplotlib\n",
    "import matplotlib.pyplot as plt\n",
    "import datetime as dt\n",
    "import math\n",
    "import seaborn as sns\n",
    "\n",
    "# Import Custom Module\n",
    "import OeconToolbox as ott\n",
    "\n",
    "%load_ext autoreload\n",
    "%autoreload 2\n",
    "%matplotlib inline"
   ]
  },
  {
   "cell_type": "markdown",
   "id": "intensive-chocolate",
   "metadata": {},
   "source": [
    "### [OPTIONAL] Set Matplotlib Style"
   ]
  },
  {
   "cell_type": "code",
   "execution_count": 3,
   "id": "other-single",
   "metadata": {},
   "outputs": [],
   "source": [
    "matplotlib.style.use('default')\n",
    "\n",
    "matplotlib.rcParams.update({\n",
    "    \"font.family\": \"sans-serif\",\n",
    "    \"font.sans-serif\": [\"Helvetica\"],\n",
    "    \"font.size\": 10})\n",
    "matplotlib.path.should_simplify = True\n",
    "\n",
    "sns.set_style(\"ticks\")\n",
    "\n",
    "cm = 1/2.54\n",
    "textwidth = 13.998 / 2.54"
   ]
  },
  {
   "cell_type": "markdown",
   "id": "retained-launch",
   "metadata": {},
   "source": [
    "## Import Cumulative Default Table"
   ]
  },
  {
   "cell_type": "code",
   "execution_count": 5,
   "id": "jewish-import",
   "metadata": {},
   "outputs": [
    {
     "data": {
      "text/html": [
       "<div>\n",
       "<style scoped>\n",
       "    .dataframe tbody tr th:only-of-type {\n",
       "        vertical-align: middle;\n",
       "    }\n",
       "\n",
       "    .dataframe tbody tr th {\n",
       "        vertical-align: top;\n",
       "    }\n",
       "\n",
       "    .dataframe thead th {\n",
       "        text-align: right;\n",
       "    }\n",
       "</style>\n",
       "<table border=\"1\" class=\"dataframe\">\n",
       "  <thead>\n",
       "    <tr style=\"text-align: right;\">\n",
       "      <th></th>\n",
       "      <th>1</th>\n",
       "      <th>2</th>\n",
       "      <th>3</th>\n",
       "      <th>4</th>\n",
       "      <th>5</th>\n",
       "      <th>6</th>\n",
       "      <th>7</th>\n",
       "      <th>8</th>\n",
       "      <th>9</th>\n",
       "      <th>10</th>\n",
       "    </tr>\n",
       "  </thead>\n",
       "  <tbody>\n",
       "    <tr>\n",
       "      <th>AAA</th>\n",
       "      <td>0.00</td>\n",
       "      <td>0.03</td>\n",
       "      <td>0.10</td>\n",
       "      <td>0.19</td>\n",
       "      <td>0.27</td>\n",
       "      <td>0.37</td>\n",
       "      <td>0.41</td>\n",
       "      <td>0.46</td>\n",
       "      <td>0.52</td>\n",
       "      <td>0.58</td>\n",
       "    </tr>\n",
       "    <tr>\n",
       "      <th>AA</th>\n",
       "      <td>0.02</td>\n",
       "      <td>0.06</td>\n",
       "      <td>0.11</td>\n",
       "      <td>0.21</td>\n",
       "      <td>0.30</td>\n",
       "      <td>0.41</td>\n",
       "      <td>0.49</td>\n",
       "      <td>0.56</td>\n",
       "      <td>0.63</td>\n",
       "      <td>0.70</td>\n",
       "    </tr>\n",
       "    <tr>\n",
       "      <th>A</th>\n",
       "      <td>0.05</td>\n",
       "      <td>0.13</td>\n",
       "      <td>0.22</td>\n",
       "      <td>0.33</td>\n",
       "      <td>0.46</td>\n",
       "      <td>0.60</td>\n",
       "      <td>0.76</td>\n",
       "      <td>0.90</td>\n",
       "      <td>1.05</td>\n",
       "      <td>1.20</td>\n",
       "    </tr>\n",
       "    <tr>\n",
       "      <th>BBB</th>\n",
       "      <td>0.16</td>\n",
       "      <td>0.43</td>\n",
       "      <td>0.75</td>\n",
       "      <td>1.14</td>\n",
       "      <td>1.54</td>\n",
       "      <td>1.94</td>\n",
       "      <td>2.27</td>\n",
       "      <td>2.61</td>\n",
       "      <td>2.94</td>\n",
       "      <td>3.24</td>\n",
       "    </tr>\n",
       "    <tr>\n",
       "      <th>BB</th>\n",
       "      <td>0.63</td>\n",
       "      <td>1.93</td>\n",
       "      <td>3.46</td>\n",
       "      <td>4.99</td>\n",
       "      <td>6.43</td>\n",
       "      <td>7.75</td>\n",
       "      <td>8.89</td>\n",
       "      <td>9.90</td>\n",
       "      <td>10.82</td>\n",
       "      <td>11.64</td>\n",
       "    </tr>\n",
       "    <tr>\n",
       "      <th>B</th>\n",
       "      <td>3.34</td>\n",
       "      <td>7.80</td>\n",
       "      <td>11.75</td>\n",
       "      <td>14.89</td>\n",
       "      <td>17.35</td>\n",
       "      <td>19.36</td>\n",
       "      <td>20.99</td>\n",
       "      <td>22.31</td>\n",
       "      <td>23.50</td>\n",
       "      <td>24.62</td>\n",
       "    </tr>\n",
       "  </tbody>\n",
       "</table>\n",
       "</div>"
      ],
      "text/plain": [
       "       1     2      3      4      5      6      7      8      9      10\n",
       "AAA  0.00  0.03   0.10   0.19   0.27   0.37   0.41   0.46   0.52   0.58\n",
       "AA   0.02  0.06   0.11   0.21   0.30   0.41   0.49   0.56   0.63   0.70\n",
       "A    0.05  0.13   0.22   0.33   0.46   0.60   0.76   0.90   1.05   1.20\n",
       "BBB  0.16  0.43   0.75   1.14   1.54   1.94   2.27   2.61   2.94   3.24\n",
       "BB   0.63  1.93   3.46   4.99   6.43   7.75   8.89   9.90  10.82  11.64\n",
       "B    3.34  7.80  11.75  14.89  17.35  19.36  20.99  22.31  23.50  24.62"
      ]
     },
     "execution_count": 5,
     "metadata": {},
     "output_type": "execute_result"
    }
   ],
   "source": [
    "DefTable = pd.read_excel(\"CumulativeDefaultTable.xlsx\",header=[0],index_col=[0],skipfooter=5,usecols=\"A:K\")\n",
    "DefTable.round(2)"
   ]
  },
  {
   "cell_type": "markdown",
   "id": "statistical-jaguar",
   "metadata": {},
   "source": [
    "# Simulating a Portfolio of loans\n",
    "The SPV portfolio consists of $J$ loans from identical corporate issuers with a single class of debt outstanding. The parameters of the issuers is identical to those described in the 'Collateral Dynamics.ipynb' notebook."
   ]
  },
  {
   "cell_type": "markdown",
   "id": "fabulous-flood",
   "metadata": {},
   "source": [
    "## Parameters of the Corporate Issuers"
   ]
  },
  {
   "cell_type": "code",
   "execution_count": 1,
   "id": "unsigned-morrison",
   "metadata": {},
   "outputs": [],
   "source": [
    "V0 = 100      # Initial Asset Value\n",
    "rf = .035     # Risk-Free Rate\n",
    "rm = .105     # Market Return\n",
    "beta = .8     # Firm CAPM Coefficient\n",
    "sigma_i = .25 # Idiosyncratic Risk\n",
    "sigma_m = .14 # Market Risk\n",
    "ttm = 5       # Time to Maturity of Debt"
   ]
  },
  {
   "cell_type": "markdown",
   "id": "worldwide-squad",
   "metadata": {},
   "source": [
    "Auxiliary Calculations"
   ]
  },
  {
   "cell_type": "code",
   "execution_count": 6,
   "id": "automotive-handle",
   "metadata": {},
   "outputs": [],
   "source": [
    "mu = rf + beta * (rm - rf)\n",
    "sigma = ott.sigma_beta_adj(beta, sigma_m, sigma_i)\n",
    "face_value = ott.facevalue_from_probability(DefTable.loc[\"B\", ttm] / 100, V0, ttm, mu, sigma)\n",
    "market_value = ott.mv_bond(V0, face_value, ttm, rf, sigma)"
   ]
  },
  {
   "cell_type": "markdown",
   "id": "incorporate-intersection",
   "metadata": {},
   "source": [
    "## Parameters of the SPV"
   ]
  },
  {
   "cell_type": "code",
   "execution_count": 18,
   "id": "designed-ensemble",
   "metadata": {},
   "outputs": [],
   "source": [
    "J = 125    # number of loans\n",
    "N = 250000 # Number of simulated portfolios"
   ]
  },
  {
   "cell_type": "markdown",
   "id": "aerial-pavilion",
   "metadata": {},
   "source": [
    "# Modelling the SPV Dynamics without Prepayment on Collateral Assets"
   ]
  },
  {
   "cell_type": "code",
   "execution_count": 22,
   "id": "arabic-pencil",
   "metadata": {},
   "outputs": [
    {
     "name": "stdout",
     "output_type": "stream",
     "text": [
      "The absolute maximum payoff: 9180.30 with initial market value: 6990.38\n"
     ]
    }
   ],
   "source": [
    "max_spv_cash_flows = face_value * J\n",
    "initial_market_value = market_value * J\n",
    "print(\"The absolute maximum payoff: {0:0.2f} with initial market value: {1:0.2f}\".format(max_spv_cash_flows,initial_market_value))"
   ]
  },
  {
   "cell_type": "markdown",
   "id": "mediterranean-northern",
   "metadata": {},
   "source": [
    "A wrapper function for the equilibrium value of the loan portfolio"
   ]
  },
  {
   "cell_type": "code",
   "execution_count": 16,
   "id": "headed-advisory",
   "metadata": {},
   "outputs": [],
   "source": [
    "def Dk(face_val):\n",
    "    Dk, M = ott.loan_portfolio(j = J,\n",
    "                               n = N,\n",
    "                               V = V0,\n",
    "                               B = face_value,\n",
    "                               T = ttm,\n",
    "                               rf = rf,\n",
    "                               rm = rm,\n",
    "                               beta = beta,\n",
    "                               sigmaI = sigma_i,\n",
    "                               sigmaM = sigma_m,\n",
    "                               risk_neutral=True,\n",
    "                               paths=False)\n",
    "    return Dk"
   ]
  },
  {
   "cell_type": "markdown",
   "id": "aerial-religious",
   "metadata": {},
   "source": [
    "Total SPV payoffs (under Q-measure)"
   ]
  },
  {
   "cell_type": "code",
   "execution_count": 20,
   "id": "possible-contact",
   "metadata": {},
   "outputs": [],
   "source": [
    "SPV_Q = Dk(face_value)"
   ]
  },
  {
   "cell_type": "markdown",
   "id": "personalized-reason",
   "metadata": {},
   "source": [
    "Total SPV payoffs (under P-measure)"
   ]
  },
  {
   "cell_type": "code",
   "execution_count": 21,
   "id": "acoustic-chemistry",
   "metadata": {},
   "outputs": [],
   "source": [
    "SPV_P, M = ott.loan_portfolio(j = J,\n",
    "                              n = 250000,\n",
    "                              V = V0,\n",
    "                              B = face_value,\n",
    "                              T = ttm,\n",
    "                              rf = rf,\n",
    "                              rm = rm,\n",
    "                              beta = beta,\n",
    "                              sigmaI = sigma_i,\n",
    "                              sigmaM = sigma_m,\n",
    "                              risk_neutral=False,\n",
    "                              paths=False)"
   ]
  },
  {
   "cell_type": "code",
   "execution_count": null,
   "id": "developed-profit",
   "metadata": {},
   "outputs": [],
   "source": []
  },
  {
   "cell_type": "code",
   "execution_count": null,
   "id": "measured-istanbul",
   "metadata": {},
   "outputs": [],
   "source": []
  }
 ],
 "metadata": {
  "kernelspec": {
   "display_name": "Python 3",
   "language": "python",
   "name": "python3"
  },
  "language_info": {
   "codemirror_mode": {
    "name": "ipython",
    "version": 3
   },
   "file_extension": ".py",
   "mimetype": "text/x-python",
   "name": "python",
   "nbconvert_exporter": "python",
   "pygments_lexer": "ipython3",
   "version": "3.8.5"
  }
 },
 "nbformat": 4,
 "nbformat_minor": 5
}
