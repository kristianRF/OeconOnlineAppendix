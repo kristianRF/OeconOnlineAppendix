{
 "cells": [
  {
   "cell_type": "markdown",
   "id": "integral-maximum",
   "metadata": {},
   "source": [
    "### Load Packages"
   ]
  },
  {
   "cell_type": "code",
   "execution_count": 3,
   "id": "simple-horse",
   "metadata": {},
   "outputs": [],
   "source": [
    "import pandas as pd\n",
    "import numpy as np\n",
    "import matplotlib\n",
    "import matplotlib.pyplot as plt\n",
    "import datetime as dt\n",
    "import math\n",
    "import seaborn as sns\n",
    "\n",
    "# Import Custom Module\n",
    "import OeconToolbox as ott\n",
    "\n",
    "%load_ext autoreload\n",
    "%autoreload 2\n",
    "%matplotlib inline"
   ]
  },
  {
   "cell_type": "markdown",
   "id": "brilliant-dover",
   "metadata": {},
   "source": [
    "### [OPTIONAL] Set Matplotlib Style"
   ]
  },
  {
   "cell_type": "code",
   "execution_count": 47,
   "id": "false-allowance",
   "metadata": {},
   "outputs": [],
   "source": [
    "matplotlib.style.use('default')\n",
    "\n",
    "matplotlib.rcParams.update({\n",
    "    \"font.family\": \"sans-serif\",\n",
    "    \"font.sans-serif\": [\"Helvetica\"],\n",
    "    \"font.size\": 10})\n",
    "matplotlib.path.should_simplify = True\n",
    "\n",
    "sns.set_style(\"ticks\")\n",
    "\n",
    "cm = 1/2.54\n",
    "textwidth = 13.998 / 2.54"
   ]
  },
  {
   "cell_type": "markdown",
   "id": "touched-madrid",
   "metadata": {},
   "source": [
    "## Import Cumulative Default Table"
   ]
  },
  {
   "cell_type": "code",
   "execution_count": 5,
   "id": "documentary-madagascar",
   "metadata": {},
   "outputs": [
    {
     "data": {
      "text/html": [
       "<div>\n",
       "<style scoped>\n",
       "    .dataframe tbody tr th:only-of-type {\n",
       "        vertical-align: middle;\n",
       "    }\n",
       "\n",
       "    .dataframe tbody tr th {\n",
       "        vertical-align: top;\n",
       "    }\n",
       "\n",
       "    .dataframe thead th {\n",
       "        text-align: right;\n",
       "    }\n",
       "</style>\n",
       "<table border=\"1\" class=\"dataframe\">\n",
       "  <thead>\n",
       "    <tr style=\"text-align: right;\">\n",
       "      <th></th>\n",
       "      <th>1</th>\n",
       "      <th>2</th>\n",
       "      <th>3</th>\n",
       "      <th>4</th>\n",
       "      <th>5</th>\n",
       "      <th>6</th>\n",
       "      <th>7</th>\n",
       "      <th>8</th>\n",
       "      <th>9</th>\n",
       "      <th>10</th>\n",
       "    </tr>\n",
       "  </thead>\n",
       "  <tbody>\n",
       "    <tr>\n",
       "      <th>AAA</th>\n",
       "      <td>0.00</td>\n",
       "      <td>0.03</td>\n",
       "      <td>0.10</td>\n",
       "      <td>0.19</td>\n",
       "      <td>0.27</td>\n",
       "      <td>0.37</td>\n",
       "      <td>0.41</td>\n",
       "      <td>0.46</td>\n",
       "      <td>0.52</td>\n",
       "      <td>0.58</td>\n",
       "    </tr>\n",
       "    <tr>\n",
       "      <th>AA</th>\n",
       "      <td>0.02</td>\n",
       "      <td>0.06</td>\n",
       "      <td>0.11</td>\n",
       "      <td>0.21</td>\n",
       "      <td>0.30</td>\n",
       "      <td>0.41</td>\n",
       "      <td>0.49</td>\n",
       "      <td>0.56</td>\n",
       "      <td>0.63</td>\n",
       "      <td>0.70</td>\n",
       "    </tr>\n",
       "    <tr>\n",
       "      <th>A</th>\n",
       "      <td>0.05</td>\n",
       "      <td>0.13</td>\n",
       "      <td>0.22</td>\n",
       "      <td>0.33</td>\n",
       "      <td>0.46</td>\n",
       "      <td>0.60</td>\n",
       "      <td>0.76</td>\n",
       "      <td>0.90</td>\n",
       "      <td>1.05</td>\n",
       "      <td>1.20</td>\n",
       "    </tr>\n",
       "    <tr>\n",
       "      <th>BBB</th>\n",
       "      <td>0.16</td>\n",
       "      <td>0.43</td>\n",
       "      <td>0.75</td>\n",
       "      <td>1.14</td>\n",
       "      <td>1.54</td>\n",
       "      <td>1.94</td>\n",
       "      <td>2.27</td>\n",
       "      <td>2.61</td>\n",
       "      <td>2.94</td>\n",
       "      <td>3.24</td>\n",
       "    </tr>\n",
       "    <tr>\n",
       "      <th>BB</th>\n",
       "      <td>0.63</td>\n",
       "      <td>1.93</td>\n",
       "      <td>3.46</td>\n",
       "      <td>4.99</td>\n",
       "      <td>6.43</td>\n",
       "      <td>7.75</td>\n",
       "      <td>8.89</td>\n",
       "      <td>9.90</td>\n",
       "      <td>10.82</td>\n",
       "      <td>11.64</td>\n",
       "    </tr>\n",
       "    <tr>\n",
       "      <th>B</th>\n",
       "      <td>3.34</td>\n",
       "      <td>7.80</td>\n",
       "      <td>11.75</td>\n",
       "      <td>14.89</td>\n",
       "      <td>17.35</td>\n",
       "      <td>19.36</td>\n",
       "      <td>20.99</td>\n",
       "      <td>22.31</td>\n",
       "      <td>23.50</td>\n",
       "      <td>24.62</td>\n",
       "    </tr>\n",
       "  </tbody>\n",
       "</table>\n",
       "</div>"
      ],
      "text/plain": [
       "       1     2      3      4      5      6      7      8      9      10\n",
       "AAA  0.00  0.03   0.10   0.19   0.27   0.37   0.41   0.46   0.52   0.58\n",
       "AA   0.02  0.06   0.11   0.21   0.30   0.41   0.49   0.56   0.63   0.70\n",
       "A    0.05  0.13   0.22   0.33   0.46   0.60   0.76   0.90   1.05   1.20\n",
       "BBB  0.16  0.43   0.75   1.14   1.54   1.94   2.27   2.61   2.94   3.24\n",
       "BB   0.63  1.93   3.46   4.99   6.43   7.75   8.89   9.90  10.82  11.64\n",
       "B    3.34  7.80  11.75  14.89  17.35  19.36  20.99  22.31  23.50  24.62"
      ]
     },
     "execution_count": 5,
     "metadata": {},
     "output_type": "execute_result"
    }
   ],
   "source": [
    "DefTable = pd.read_excel(\"CumulativeDefaultTable.xlsx\",header=[0],index_col=[0],skipfooter=5,usecols=\"A:K\")\n",
    "DefTable.round(2)"
   ]
  },
  {
   "cell_type": "markdown",
   "id": "federal-flash",
   "metadata": {},
   "source": [
    "# Simulating a Portfolio of loans\n",
    "The SPV portfolio consists of $J$ loans from identical corporate issuers with a single class of debt outstanding. The parameters of the issuers is identical to those described in the 'Collateral Dynamics.ipynb' notebook."
   ]
  },
  {
   "cell_type": "markdown",
   "id": "medical-digit",
   "metadata": {},
   "source": [
    "## Parameters of the Corporate Issuers"
   ]
  },
  {
   "cell_type": "code",
   "execution_count": 1,
   "id": "static-pontiac",
   "metadata": {},
   "outputs": [],
   "source": [
    "V0 = 100      # Initial Asset Value\n",
    "rf = .035     # Risk-Free Rate\n",
    "rm = .105     # Market Return\n",
    "beta = .8     # Firm CAPM Coefficient\n",
    "sigma_i = .25 # Idiosyncratic Risk\n",
    "sigma_m = .14 # Market Risk\n",
    "ttm = 5       # Time to Maturity of Debt"
   ]
  },
  {
   "cell_type": "markdown",
   "id": "timely-aquarium",
   "metadata": {},
   "source": [
    "Auxiliary Calculations"
   ]
  },
  {
   "cell_type": "code",
   "execution_count": 6,
   "id": "funded-detroit",
   "metadata": {},
   "outputs": [],
   "source": [
    "mu = rf + beta * (rm - rf)\n",
    "sigma = ott.sigma_beta_adj(beta, sigma_m, sigma_i)\n",
    "face_value = ott.facevalue_from_probability(DefTable.loc[\"B\", ttm] / 100, V0, ttm, mu, sigma)\n",
    "market_value = ott.mv_bond(V0, face_value, ttm, rf, sigma)"
   ]
  },
  {
   "cell_type": "markdown",
   "id": "wound-zimbabwe",
   "metadata": {},
   "source": [
    "## Parameters of the SPV"
   ]
  },
  {
   "cell_type": "code",
   "execution_count": 18,
   "id": "english-characteristic",
   "metadata": {},
   "outputs": [],
   "source": [
    "J = 125    # number of loans\n",
    "N = 250000 # Number of simulated portfolios"
   ]
  },
  {
   "cell_type": "markdown",
   "id": "extensive-clearing",
   "metadata": {},
   "source": [
    "# Modelling the SPV Dynamics without Prepayment on Collateral Assets"
   ]
  },
  {
   "cell_type": "code",
   "execution_count": 22,
   "id": "hourly-twins",
   "metadata": {},
   "outputs": [
    {
     "name": "stdout",
     "output_type": "stream",
     "text": [
      "The absolute maximum payoff: 9180.30 with initial market value: 6990.38\n"
     ]
    }
   ],
   "source": [
    "max_spv_cash_flows = face_value * J\n",
    "initial_market_value = market_value * J\n",
    "print(\"The absolute maximum payoff: {0:0.2f} with initial market value: {1:0.2f}\".format(max_spv_cash_flows,initial_market_value))"
   ]
  },
  {
   "cell_type": "markdown",
   "id": "industrial-explosion",
   "metadata": {},
   "source": [
    "A wrapper function for the equilibrium value of the loan portfolio"
   ]
  },
  {
   "cell_type": "code",
   "execution_count": 16,
   "id": "endangered-monitor",
   "metadata": {},
   "outputs": [],
   "source": [
    "def Dk(face_val):\n",
    "    Dk, M = ott.loan_portfolio(j = J,\n",
    "                               n = N,\n",
    "                               V = V0,\n",
    "                               B = face_value,\n",
    "                               T = ttm,\n",
    "                               rf = rf,\n",
    "                               rm = rm,\n",
    "                               beta = beta,\n",
    "                               sigmaI = sigma_i,\n",
    "                               sigmaM = sigma_m,\n",
    "                               risk_neutral=True,\n",
    "                               paths=False)\n",
    "    return Dk"
   ]
  },
  {
   "cell_type": "markdown",
   "id": "imperial-bankruptcy",
   "metadata": {},
   "source": [
    "Total SPV payoffs (under Q-measure)"
   ]
  },
  {
   "cell_type": "code",
   "execution_count": 20,
   "id": "mathematical-conjunction",
   "metadata": {},
   "outputs": [],
   "source": [
    "SPV_Q = Dk(face_value)"
   ]
  },
  {
   "cell_type": "markdown",
   "id": "recent-stereo",
   "metadata": {},
   "source": [
    "Total SPV payoffs (under P-measure)"
   ]
  },
  {
   "cell_type": "code",
   "execution_count": 21,
   "id": "smoking-government",
   "metadata": {},
   "outputs": [],
   "source": [
    "SPV_P, M = ott.loan_portfolio(j = J,\n",
    "                              n = 250000,\n",
    "                              V = V0,\n",
    "                              B = face_value,\n",
    "                              T = ttm,\n",
    "                              rf = rf,\n",
    "                              rm = rm,\n",
    "                              beta = beta,\n",
    "                              sigmaI = sigma_i,\n",
    "                              sigmaM = sigma_m,\n",
    "                              risk_neutral=False,\n",
    "                              paths=False)"
   ]
  },
  {
   "cell_type": "code",
   "execution_count": 24,
   "id": "accepting-pioneer",
   "metadata": {},
   "outputs": [],
   "source": [
    "tmp, tranches = np.zeros(7), np.zeros(7)\n",
    "i = 0\n",
    "for rating, def_prob in DefTable[ttm].items(): \n",
    "    tmp[i]  = np.quantile(SPV_P, def_prob/100)\n",
    "    if i == 0 : tranches[i] = np.quantile(SPV_P, def_prob/100)\n",
    "    else: tranches[i] = np.quantile(SPV_P, def_prob/100) - tmp[i-1].sum(axis=0)\n",
    "    i = i + 1\n",
    "tranches[i] = np.quantile(SPV_P, 1) - tmp[i-1].sum(axis=0)"
   ]
  },
  {
   "cell_type": "markdown",
   "id": "opposite-dialogue",
   "metadata": {},
   "source": [
    "## Cash Flows to each Tranche"
   ]
  },
  {
   "cell_type": "code",
   "execution_count": 33,
   "id": "ordinary-richmond",
   "metadata": {},
   "outputs": [
    {
     "data": {
      "text/html": [
       "<div>\n",
       "<style scoped>\n",
       "    .dataframe tbody tr th:only-of-type {\n",
       "        vertical-align: middle;\n",
       "    }\n",
       "\n",
       "    .dataframe tbody tr th {\n",
       "        vertical-align: top;\n",
       "    }\n",
       "\n",
       "    .dataframe thead th {\n",
       "        text-align: right;\n",
       "    }\n",
       "</style>\n",
       "<table border=\"1\" class=\"dataframe\">\n",
       "  <thead>\n",
       "    <tr style=\"text-align: right;\">\n",
       "      <th></th>\n",
       "      <th>Cash Flows</th>\n",
       "    </tr>\n",
       "  </thead>\n",
       "  <tbody>\n",
       "    <tr>\n",
       "      <th>AAA</th>\n",
       "      <td>7233.123926</td>\n",
       "    </tr>\n",
       "    <tr>\n",
       "      <th>AA</th>\n",
       "      <td>32.553669</td>\n",
       "    </tr>\n",
       "    <tr>\n",
       "      <th>A</th>\n",
       "      <td>125.585199</td>\n",
       "    </tr>\n",
       "    <tr>\n",
       "      <th>BBB</th>\n",
       "      <td>358.089939</td>\n",
       "    </tr>\n",
       "    <tr>\n",
       "      <th>BB</th>\n",
       "      <td>442.005521</td>\n",
       "    </tr>\n",
       "    <tr>\n",
       "      <th>B</th>\n",
       "      <td>317.878967</td>\n",
       "    </tr>\n",
       "    <tr>\n",
       "      <th>Equity</th>\n",
       "      <td>671.062623</td>\n",
       "    </tr>\n",
       "  </tbody>\n",
       "</table>\n",
       "</div>"
      ],
      "text/plain": [
       "         Cash Flows\n",
       "AAA     7233.123926\n",
       "AA        32.553669\n",
       "A        125.585199\n",
       "BBB      358.089939\n",
       "BB       442.005521\n",
       "B        317.878967\n",
       "Equity   671.062623"
      ]
     },
     "execution_count": 33,
     "metadata": {},
     "output_type": "execute_result"
    }
   ],
   "source": [
    "pd.DataFrame(tranches,[\"AAA\",\"AA\",\"A\",\"BBB\",\"BB\",\"B\",\"Equity\"],columns=['Cash Flows'])"
   ]
  },
  {
   "cell_type": "code",
   "execution_count": 50,
   "id": "better-mechanism",
   "metadata": {},
   "outputs": [
    {
     "name": "stdout",
     "output_type": "stream",
     "text": [
      "AAA 0.27 7233\n",
      "AA 0.3 7265\n",
      "A 0.46 7391\n",
      "BBB 1.54 7749\n",
      "BB 6.43 8191\n",
      "B 17.35 8509\n"
     ]
    },
    {
     "data": {
      "image/png": "[encoded data removed]",
      "text/plain": [
       "<Figure size 551.102x314.961 with 2 Axes>"
      ]
     },
     "metadata": {},
     "output_type": "display_data"
    }
   ],
   "source": [
    "plt.figure(figsize=(textwidth, 8*cm))\n",
    "palette = sns.color_palette(\"summer\", n_colors=6, as_cmap=True)\n",
    "\n",
    "simulations = SPV_P\n",
    "\n",
    "min_ = 7000\n",
    "max_ = 9200\n",
    "ax = sns.histplot(data=simulations, bins=25, color=palette(1), stat='probability', alpha=1)\n",
    "plt.ylabel(\"Probability\")\n",
    "maxy = round(ax.get_ylim()[1],2)\n",
    "\n",
    "plt.ylim([0, maxy])\n",
    "plt.yticks(np.linspace(0, maxy, 6),[str(int(round(x,2)*100))+\"%\" for x in np.linspace(0, maxy, 6)])\n",
    "\n",
    "plt.xlim([min_,max_])\n",
    "plt.xlabel(\"Collateral Value\")\n",
    "\n",
    "for rating, def_prob in DefTable[ttm].items(): \n",
    "    value = np.quantile(simulations, def_prob/100)\n",
    "    print(rating,def_prob,int(value))\n",
    "    plt.vlines(value,0,maxy*1.05,color='k',linestyles='--',linewidth=0.75)\n",
    "    if rating == 'AAA':\n",
    "        plt.text(value,maxy*1.05,s=rating,ha='right',va='center',color='k')\n",
    "    elif rating == 'AA' or rating == 'A':\n",
    "        plt.text(value,maxy*1.05,s=rating,ha='left',va='center',color='k')\n",
    "    else:\n",
    "        plt.text(value,maxy*1.05,s=rating,ha='center',va='center',color='k')\n",
    "\n",
    "ax2 = ax.twinx()\n",
    "ax2 = sns.ecdfplot(data=simulations, color='k',linewidth=0.75, ax=ax2, stat='proportion')\n",
    "plt.ylabel(\"Cumulative Probability\")\n",
    "plt.ylim([0,1])\n",
    "plt.yticks(np.linspace(0, 1, 6),[\"0%\",\"20%\",\"40%\",\"60%\",\"80%\",\"100%\"])\n",
    "\n",
    "plt.tight_layout()\n",
    "plt.show()\n",
    "#plt.savefig(\"pic.pdf\", format='pdf', bbox_inches='tight')"
   ]
  },
  {
   "cell_type": "markdown",
   "id": "beginning-relaxation",
   "metadata": {},
   "source": [
    "Data For Scatterplots"
   ]
  },
  {
   "cell_type": "code",
   "execution_count": 59,
   "id": "looking-vegetation",
   "metadata": {},
   "outputs": [],
   "source": [
    "SPV_P_small = np.random.RandomState(1234).choice(SPV_P,size=2500)\n",
    "M_small = np.random.RandomState(1234).choice(M,size=2500)"
   ]
  },
  {
   "cell_type": "code",
   "execution_count": 60,
   "id": "hired-lincoln",
   "metadata": {},
   "outputs": [
    {
     "data": {
      "text/html": [
       "<div>\n",
       "<style scoped>\n",
       "    .dataframe tbody tr th:only-of-type {\n",
       "        vertical-align: middle;\n",
       "    }\n",
       "\n",
       "    .dataframe tbody tr th {\n",
       "        vertical-align: top;\n",
       "    }\n",
       "\n",
       "    .dataframe thead th {\n",
       "        text-align: right;\n",
       "    }\n",
       "</style>\n",
       "<table border=\"1\" class=\"dataframe\">\n",
       "  <thead>\n",
       "    <tr style=\"text-align: right;\">\n",
       "      <th></th>\n",
       "      <th>SPV</th>\n",
       "      <th>Market Factor</th>\n",
       "      <th>AAA</th>\n",
       "      <th>AA</th>\n",
       "      <th>A</th>\n",
       "      <th>BBB</th>\n",
       "      <th>BB</th>\n",
       "      <th>B</th>\n",
       "      <th>Equity</th>\n",
       "    </tr>\n",
       "  </thead>\n",
       "  <tbody>\n",
       "    <tr>\n",
       "      <th>0</th>\n",
       "      <td>0.990824</td>\n",
       "      <td>0.249813</td>\n",
       "      <td>1.0</td>\n",
       "      <td>1.0</td>\n",
       "      <td>1.0</td>\n",
       "      <td>1.0</td>\n",
       "      <td>1.0</td>\n",
       "      <td>1.0</td>\n",
       "      <td>0.874467</td>\n",
       "    </tr>\n",
       "    <tr>\n",
       "      <th>1</th>\n",
       "      <td>0.982318</td>\n",
       "      <td>0.007552</td>\n",
       "      <td>1.0</td>\n",
       "      <td>1.0</td>\n",
       "      <td>1.0</td>\n",
       "      <td>1.0</td>\n",
       "      <td>1.0</td>\n",
       "      <td>1.0</td>\n",
       "      <td>0.758100</td>\n",
       "    </tr>\n",
       "    <tr>\n",
       "      <th>2</th>\n",
       "      <td>0.976469</td>\n",
       "      <td>0.196481</td>\n",
       "      <td>1.0</td>\n",
       "      <td>1.0</td>\n",
       "      <td>1.0</td>\n",
       "      <td>1.0</td>\n",
       "      <td>1.0</td>\n",
       "      <td>1.0</td>\n",
       "      <td>0.678097</td>\n",
       "    </tr>\n",
       "    <tr>\n",
       "      <th>3</th>\n",
       "      <td>0.964409</td>\n",
       "      <td>-0.136603</td>\n",
       "      <td>1.0</td>\n",
       "      <td>1.0</td>\n",
       "      <td>1.0</td>\n",
       "      <td>1.0</td>\n",
       "      <td>1.0</td>\n",
       "      <td>1.0</td>\n",
       "      <td>0.513102</td>\n",
       "    </tr>\n",
       "    <tr>\n",
       "      <th>4</th>\n",
       "      <td>0.982938</td>\n",
       "      <td>0.328542</td>\n",
       "      <td>1.0</td>\n",
       "      <td>1.0</td>\n",
       "      <td>1.0</td>\n",
       "      <td>1.0</td>\n",
       "      <td>1.0</td>\n",
       "      <td>1.0</td>\n",
       "      <td>0.766591</td>\n",
       "    </tr>\n",
       "    <tr>\n",
       "      <th>...</th>\n",
       "      <td>...</td>\n",
       "      <td>...</td>\n",
       "      <td>...</td>\n",
       "      <td>...</td>\n",
       "      <td>...</td>\n",
       "      <td>...</td>\n",
       "      <td>...</td>\n",
       "      <td>...</td>\n",
       "      <td>...</td>\n",
       "    </tr>\n",
       "    <tr>\n",
       "      <th>2495</th>\n",
       "      <td>0.979048</td>\n",
       "      <td>0.134932</td>\n",
       "      <td>1.0</td>\n",
       "      <td>1.0</td>\n",
       "      <td>1.0</td>\n",
       "      <td>1.0</td>\n",
       "      <td>1.0</td>\n",
       "      <td>1.0</td>\n",
       "      <td>0.713368</td>\n",
       "    </tr>\n",
       "    <tr>\n",
       "      <th>2496</th>\n",
       "      <td>0.968940</td>\n",
       "      <td>0.348749</td>\n",
       "      <td>1.0</td>\n",
       "      <td>1.0</td>\n",
       "      <td>1.0</td>\n",
       "      <td>1.0</td>\n",
       "      <td>1.0</td>\n",
       "      <td>1.0</td>\n",
       "      <td>0.575085</td>\n",
       "    </tr>\n",
       "    <tr>\n",
       "      <th>2497</th>\n",
       "      <td>0.983798</td>\n",
       "      <td>0.594158</td>\n",
       "      <td>1.0</td>\n",
       "      <td>1.0</td>\n",
       "      <td>1.0</td>\n",
       "      <td>1.0</td>\n",
       "      <td>1.0</td>\n",
       "      <td>1.0</td>\n",
       "      <td>0.778358</td>\n",
       "    </tr>\n",
       "    <tr>\n",
       "      <th>2498</th>\n",
       "      <td>0.939418</td>\n",
       "      <td>-0.309687</td>\n",
       "      <td>1.0</td>\n",
       "      <td>1.0</td>\n",
       "      <td>1.0</td>\n",
       "      <td>1.0</td>\n",
       "      <td>1.0</td>\n",
       "      <td>1.0</td>\n",
       "      <td>0.171217</td>\n",
       "    </tr>\n",
       "    <tr>\n",
       "      <th>2499</th>\n",
       "      <td>0.985371</td>\n",
       "      <td>0.734664</td>\n",
       "      <td>1.0</td>\n",
       "      <td>1.0</td>\n",
       "      <td>1.0</td>\n",
       "      <td>1.0</td>\n",
       "      <td>1.0</td>\n",
       "      <td>1.0</td>\n",
       "      <td>0.799867</td>\n",
       "    </tr>\n",
       "  </tbody>\n",
       "</table>\n",
       "<p>2500 rows × 9 columns</p>\n",
       "</div>"
      ],
      "text/plain": [
       "           SPV  Market Factor  AAA   AA    A  BBB   BB    B    Equity\n",
       "0     0.990824       0.249813  1.0  1.0  1.0  1.0  1.0  1.0  0.874467\n",
       "1     0.982318       0.007552  1.0  1.0  1.0  1.0  1.0  1.0  0.758100\n",
       "2     0.976469       0.196481  1.0  1.0  1.0  1.0  1.0  1.0  0.678097\n",
       "3     0.964409      -0.136603  1.0  1.0  1.0  1.0  1.0  1.0  0.513102\n",
       "4     0.982938       0.328542  1.0  1.0  1.0  1.0  1.0  1.0  0.766591\n",
       "...        ...            ...  ...  ...  ...  ...  ...  ...       ...\n",
       "2495  0.979048       0.134932  1.0  1.0  1.0  1.0  1.0  1.0  0.713368\n",
       "2496  0.968940       0.348749  1.0  1.0  1.0  1.0  1.0  1.0  0.575085\n",
       "2497  0.983798       0.594158  1.0  1.0  1.0  1.0  1.0  1.0  0.778358\n",
       "2498  0.939418      -0.309687  1.0  1.0  1.0  1.0  1.0  1.0  0.171217\n",
       "2499  0.985371       0.734664  1.0  1.0  1.0  1.0  1.0  1.0  0.799867\n",
       "\n",
       "[2500 rows x 9 columns]"
      ]
     },
     "execution_count": 60,
     "metadata": {},
     "output_type": "execute_result"
    }
   ],
   "source": [
    "scatter_data = pd.DataFrame({'SPV':SPV_P_small/ max_spv_cash_flows,\n",
    "                             'Market Factor':M_small / 5,\n",
    "                             'AAA':ott.clo_payoffs(SPV_P_small,tranches)[0]/ tranches[0],\n",
    "                             'AA':ott.clo_payoffs(SPV_P_small,tranches)[1]/ tranches[1],\n",
    "                             'A':ott.clo_payoffs(SPV_P_small,tranches)[2] / tranches[2],\n",
    "                             'BBB':ott.clo_payoffs(SPV_P_small,tranches)[3] / tranches[3],\n",
    "                             'BB':ott.clo_payoffs(SPV_P_small,tranches)[4] / tranches[4],\n",
    "                             'B':ott.clo_payoffs(SPV_P_small,tranches)[5] / tranches[5],\n",
    "                             'Equity':ott.clo_payoffs(SPV_P_small,tranches)[6]/ tranches[6]})\n",
    "scatter_data"
   ]
  },
  {
   "cell_type": "code",
   "execution_count": 61,
   "id": "former-jewelry",
   "metadata": {},
   "outputs": [
    {
     "data": {
      "image/png": "[encoded data removed]",
      "text/plain": [
       "<Figure size 551.102x787.402 with 8 Axes>"
      ]
     },
     "metadata": {},
     "output_type": "display_data"
    }
   ],
   "source": [
    "fig, axs = plt.subplots(ncols=2,nrows=4,sharex=True,sharey=True)\n",
    "\n",
    "palette = sns.color_palette(\"summer\", n_colors=6, as_cmap=True)\n",
    "\n",
    "fig.text(0.5, -0.015, 'Market Factor $Z_{m}$', ha='center', size=11)\n",
    "fig.text(-0.025, 0.5, 'Normalized Payoffs', va='center', rotation='vertical', size=11)\n",
    "\n",
    "i,j = 0,0\n",
    "for tranche in [\"Equity\",\"SPV\",\"AA\",\"AAA\",\"BBB\",\"A\",\"B\",\"BB\"]:\n",
    "    if j == 0: j = 1\n",
    "    else: j = 0\n",
    "    axs[i,j].scatter(x=scatter_data['Market Factor'], y = scatter_data[tranche], s= 0.5, color=palette(1))\n",
    "    #axs[i,j].scatter(x=scatter_data2['Market Factor'], y = scatter_data2[tranche], s= 0.5, color='red')\n",
    "    axs[i,j].set_title(tranche, size=11)\n",
    "    axs[i,j].set_xlabel('')\n",
    "    axs[i,j].set_ylabel('')\n",
    "    axs[i,j].set_ylim([-0.05,1.05])\n",
    "    axs[i,j].set_yticks([0,0.2,0.4,0.6,0.8,1])\n",
    "    axs[i,j].grid(lw=0.3)\n",
    "    if j == 0: i = i + 1\n",
    "\n",
    "fig.set_size_inches(textwidth, 20*cm)\n",
    "fig.tight_layout()\n",
    "\n",
    "plt.show()\n",
    "\n",
    "#fig.savefig(\"Payoffs.png\", bbox_inches='tight', format='png', dpi=600)"
   ]
  },
  {
   "cell_type": "code",
   "execution_count": null,
   "id": "figured-mandate",
   "metadata": {},
   "outputs": [],
   "source": []
  },
  {
   "cell_type": "code",
   "execution_count": null,
   "id": "grave-transformation",
   "metadata": {},
   "outputs": [],
   "source": []
  }
 ],
 "metadata": {
  "kernelspec": {
   "display_name": "Python 3",
   "language": "python",
   "name": "python3"
  },
  "language_info": {
   "codemirror_mode": {
    "name": "ipython",
    "version": 3
   },
   "file_extension": ".py",
   "mimetype": "text/x-python",
   "name": "python",
   "nbconvert_exporter": "python",
   "pygments_lexer": "ipython3",
   "version": "3.8.5"
  }
 },
 "nbformat": 4,
 "nbformat_minor": 5
}
