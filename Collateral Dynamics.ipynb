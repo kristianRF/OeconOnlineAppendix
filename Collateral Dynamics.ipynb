{
 "cells": [
  {
   "cell_type": "markdown",
   "id": "hidden-picture",
   "metadata": {},
   "source": [
    "### Load Packages"
   ]
  },
  {
   "cell_type": "code",
   "execution_count": 1,
   "id": "golden-catalyst",
   "metadata": {},
   "outputs": [],
   "source": [
    "import pandas as pd\n",
    "import numpy as np\n",
    "import matplotlib\n",
    "import matplotlib.pyplot as plt\n",
    "import datetime as dt\n",
    "import math\n",
    "import seaborn as sns\n",
    "\n",
    "# Import Custom Module\n",
    "import OeconToolbox as ott\n",
    "\n",
    "%load_ext autoreload\n",
    "%autoreload 2\n",
    "%matplotlib inline"
   ]
  },
  {
   "cell_type": "markdown",
   "id": "other-activation",
   "metadata": {},
   "source": [
    "### [OPTIONAL] Set Matplotlib Style"
   ]
  },
  {
   "cell_type": "code",
   "execution_count": 2,
   "id": "thousand-ordering",
   "metadata": {},
   "outputs": [],
   "source": [
    "matplotlib.style.use('default')\n",
    "\n",
    "matplotlib.rcParams.update({\n",
    "    \"font.family\": \"sans-serif\",\n",
    "    \"font.sans-serif\": [\"Helvetica\"],\n",
    "    \"font.size\": 10})\n",
    "matplotlib.path.should_simplify = True\n",
    "\n",
    "sns.set_style(\"ticks\")\n",
    "\n",
    "cm = 1/2.54\n",
    "textwidth = 13.998 / 2.54"
   ]
  },
  {
   "cell_type": "markdown",
   "id": "alien-messaging",
   "metadata": {},
   "source": [
    "## Import Cumulative Default Table"
   ]
  },
  {
   "cell_type": "code",
   "execution_count": 3,
   "id": "sunset-fever",
   "metadata": {},
   "outputs": [
    {
     "data": {
      "text/html": [
       "<div>\n",
       "<style scoped>\n",
       "    .dataframe tbody tr th:only-of-type {\n",
       "        vertical-align: middle;\n",
       "    }\n",
       "\n",
       "    .dataframe tbody tr th {\n",
       "        vertical-align: top;\n",
       "    }\n",
       "\n",
       "    .dataframe thead th {\n",
       "        text-align: right;\n",
       "    }\n",
       "</style>\n",
       "<table border=\"1\" class=\"dataframe\">\n",
       "  <thead>\n",
       "    <tr style=\"text-align: right;\">\n",
       "      <th></th>\n",
       "      <th>1</th>\n",
       "      <th>2</th>\n",
       "      <th>3</th>\n",
       "      <th>4</th>\n",
       "      <th>5</th>\n",
       "      <th>6</th>\n",
       "      <th>7</th>\n",
       "      <th>8</th>\n",
       "      <th>9</th>\n",
       "      <th>10</th>\n",
       "    </tr>\n",
       "  </thead>\n",
       "  <tbody>\n",
       "    <tr>\n",
       "      <th>AAA</th>\n",
       "      <td>0.00</td>\n",
       "      <td>0.03</td>\n",
       "      <td>0.10</td>\n",
       "      <td>0.19</td>\n",
       "      <td>0.27</td>\n",
       "      <td>0.37</td>\n",
       "      <td>0.41</td>\n",
       "      <td>0.46</td>\n",
       "      <td>0.52</td>\n",
       "      <td>0.58</td>\n",
       "    </tr>\n",
       "    <tr>\n",
       "      <th>AA</th>\n",
       "      <td>0.02</td>\n",
       "      <td>0.06</td>\n",
       "      <td>0.11</td>\n",
       "      <td>0.21</td>\n",
       "      <td>0.30</td>\n",
       "      <td>0.41</td>\n",
       "      <td>0.49</td>\n",
       "      <td>0.56</td>\n",
       "      <td>0.63</td>\n",
       "      <td>0.70</td>\n",
       "    </tr>\n",
       "    <tr>\n",
       "      <th>A</th>\n",
       "      <td>0.05</td>\n",
       "      <td>0.13</td>\n",
       "      <td>0.22</td>\n",
       "      <td>0.33</td>\n",
       "      <td>0.46</td>\n",
       "      <td>0.60</td>\n",
       "      <td>0.76</td>\n",
       "      <td>0.90</td>\n",
       "      <td>1.05</td>\n",
       "      <td>1.20</td>\n",
       "    </tr>\n",
       "    <tr>\n",
       "      <th>BBB</th>\n",
       "      <td>0.16</td>\n",
       "      <td>0.43</td>\n",
       "      <td>0.75</td>\n",
       "      <td>1.14</td>\n",
       "      <td>1.54</td>\n",
       "      <td>1.94</td>\n",
       "      <td>2.27</td>\n",
       "      <td>2.61</td>\n",
       "      <td>2.94</td>\n",
       "      <td>3.24</td>\n",
       "    </tr>\n",
       "    <tr>\n",
       "      <th>BB</th>\n",
       "      <td>0.63</td>\n",
       "      <td>1.93</td>\n",
       "      <td>3.46</td>\n",
       "      <td>4.99</td>\n",
       "      <td>6.43</td>\n",
       "      <td>7.75</td>\n",
       "      <td>8.89</td>\n",
       "      <td>9.90</td>\n",
       "      <td>10.82</td>\n",
       "      <td>11.64</td>\n",
       "    </tr>\n",
       "    <tr>\n",
       "      <th>B</th>\n",
       "      <td>3.34</td>\n",
       "      <td>7.80</td>\n",
       "      <td>11.75</td>\n",
       "      <td>14.89</td>\n",
       "      <td>17.35</td>\n",
       "      <td>19.36</td>\n",
       "      <td>20.99</td>\n",
       "      <td>22.31</td>\n",
       "      <td>23.50</td>\n",
       "      <td>24.62</td>\n",
       "    </tr>\n",
       "  </tbody>\n",
       "</table>\n",
       "</div>"
      ],
      "text/plain": [
       "       1     2      3      4      5      6      7      8      9      10\n",
       "AAA  0.00  0.03   0.10   0.19   0.27   0.37   0.41   0.46   0.52   0.58\n",
       "AA   0.02  0.06   0.11   0.21   0.30   0.41   0.49   0.56   0.63   0.70\n",
       "A    0.05  0.13   0.22   0.33   0.46   0.60   0.76   0.90   1.05   1.20\n",
       "BBB  0.16  0.43   0.75   1.14   1.54   1.94   2.27   2.61   2.94   3.24\n",
       "BB   0.63  1.93   3.46   4.99   6.43   7.75   8.89   9.90  10.82  11.64\n",
       "B    3.34  7.80  11.75  14.89  17.35  19.36  20.99  22.31  23.50  24.62"
      ]
     },
     "execution_count": 3,
     "metadata": {},
     "output_type": "execute_result"
    }
   ],
   "source": [
    "DefTable = pd.read_excel(\"CumulativeDefaultTable.xlsx\",header=[0],index_col=[0],skipfooter=5,usecols=\"A:K\")\n",
    "DefTable.round(2)"
   ]
  },
  {
   "cell_type": "markdown",
   "id": "anticipated-eclipse",
   "metadata": {},
   "source": [
    "# Simulating a Corporate Issuer with Outstanding Debt\n",
    "Firm consists of a single class of B-rated debt, with 5 year maturity and asset value following a Geometric Brownian Motion."
   ]
  },
  {
   "cell_type": "markdown",
   "id": "rising-onion",
   "metadata": {},
   "source": [
    "### Parameters:"
   ]
  },
  {
   "cell_type": "code",
   "execution_count": 4,
   "id": "statewide-documentation",
   "metadata": {},
   "outputs": [],
   "source": [
    "V0 = 100      # Initial Asset Value\n",
    "rf = .035     # Risk-Free Rate\n",
    "rm = .105     # Market Return\n",
    "beta = .8     # Firm CAPM Coefficient\n",
    "sigma_i = .25 # Idiosyncratic Risk\n",
    "sigma_m = .14 # Market Risk\n",
    "ttm = 5       # Time to Maturity of Debt"
   ]
  },
  {
   "cell_type": "markdown",
   "id": "removed-frederick",
   "metadata": {},
   "source": [
    "Auxiliary equations:"
   ]
  },
  {
   "cell_type": "code",
   "execution_count": 5,
   "id": "continental-category",
   "metadata": {},
   "outputs": [
    {
     "name": "stdout",
     "output_type": "stream",
     "text": [
      "CAPM expected return: 0.1050 and adjusted volatility: 0.2865\n"
     ]
    }
   ],
   "source": [
    "mu = rf + beta * (rm - rf)\n",
    "sigma = ott.sigma_beta_adj(beta, sigma_m, sigma_i)\n",
    "print(\"CAPM expected return: {0:0.4f} and adjusted volatility: {1:0.4f}\".format(mu,sigma))"
   ]
  },
  {
   "cell_type": "code",
   "execution_count": 6,
   "id": "failing-tiger",
   "metadata": {},
   "outputs": [
    {
     "name": "stdout",
     "output_type": "stream",
     "text": [
      "5-year cumulative default probability of a B-rated bond: 17.35%\n"
     ]
    }
   ],
   "source": [
    "default_prob_B = DefTable.loc[\"B\", ttm] / 100\n",
    "print(\"{0}-year cumulative default probability of a B-rated bond: {1:0.2f}%\".format(ttm,default_prob_B * 100))"
   ]
  },
  {
   "cell_type": "code",
   "execution_count": 7,
   "id": "illegal-awareness",
   "metadata": {},
   "outputs": [
    {
     "name": "stdout",
     "output_type": "stream",
     "text": [
      "The face value of the zero-coupon bond: 75.37 with initial fair value of: 56.37\n"
     ]
    }
   ],
   "source": [
    "face_value = ott.facevalue_from_probability(default_prob_B, V0, ttm, mu, sigma)\n",
    "market_value = ott.mv_bond(V0, face_value, ttm, rf, sigma)\n",
    "print(\"The face value of the zero-coupon bond: {0:0.2f} with initial fair value of: {1:0.2f}\".format(face_value, market_value))"
   ]
  },
  {
   "cell_type": "code",
   "execution_count": 8,
   "id": "aquatic-bidding",
   "metadata": {},
   "outputs": [
    {
     "name": "stdout",
     "output_type": "stream",
     "text": [
      "The yield on a non-callable bond with the aforementioned characteristics is: 5.81%\n"
     ]
    }
   ],
   "source": [
    "yield_NC = ott.zero_yield(market_value, face_value, ttm)\n",
    "print(\"The yield on a non-callable bond with the aforementioned characteristics is: {0:0.2f}%\".format(yield_NC*100))"
   ]
  },
  {
   "cell_type": "markdown",
   "id": "rural-halloween",
   "metadata": {},
   "source": [
    "Create class of stochastic models"
   ]
  },
  {
   "cell_type": "code",
   "execution_count": 9,
   "id": "theoretical-bradford",
   "metadata": {},
   "outputs": [],
   "source": [
    "models = ott.Stochastic_Model(T = ttm, freq = 1, seed = 123)"
   ]
  },
  {
   "cell_type": "markdown",
   "id": "collect-wednesday",
   "metadata": {},
   "source": [
    "Simulate Geometric Brownian Motion with $n$ paths"
   ]
  },
  {
   "cell_type": "code",
   "execution_count": 10,
   "id": "authentic-reader",
   "metadata": {},
   "outputs": [],
   "source": [
    "n = 250000"
   ]
  },
  {
   "cell_type": "code",
   "execution_count": 11,
   "id": "exclusive-glasgow",
   "metadata": {},
   "outputs": [],
   "source": [
    "asset_paths_Q = models.GBM(n = n, v_0 = V0, mu = rf, sigma = sigma)"
   ]
  },
  {
   "cell_type": "code",
   "execution_count": 12,
   "id": "multiple-gnome",
   "metadata": {},
   "outputs": [
    {
     "data": {
      "text/html": [
       "<div>\n",
       "<style scoped>\n",
       "    .dataframe tbody tr th:only-of-type {\n",
       "        vertical-align: middle;\n",
       "    }\n",
       "\n",
       "    .dataframe tbody tr th {\n",
       "        vertical-align: top;\n",
       "    }\n",
       "\n",
       "    .dataframe thead th {\n",
       "        text-align: right;\n",
       "    }\n",
       "</style>\n",
       "<table border=\"1\" class=\"dataframe\">\n",
       "  <thead>\n",
       "    <tr style=\"text-align: right;\">\n",
       "      <th></th>\n",
       "      <th>0</th>\n",
       "      <th>1</th>\n",
       "      <th>2</th>\n",
       "      <th>3</th>\n",
       "      <th>4</th>\n",
       "      <th>5</th>\n",
       "    </tr>\n",
       "  </thead>\n",
       "  <tbody>\n",
       "    <tr>\n",
       "      <th>0</th>\n",
       "      <td>100.0</td>\n",
       "      <td>87.89</td>\n",
       "      <td>88.66</td>\n",
       "      <td>85.75</td>\n",
       "      <td>140.20</td>\n",
       "      <td>143.67</td>\n",
       "    </tr>\n",
       "    <tr>\n",
       "      <th>1</th>\n",
       "      <td>100.0</td>\n",
       "      <td>98.65</td>\n",
       "      <td>62.67</td>\n",
       "      <td>70.01</td>\n",
       "      <td>57.74</td>\n",
       "      <td>59.46</td>\n",
       "    </tr>\n",
       "    <tr>\n",
       "      <th>2</th>\n",
       "      <td>100.0</td>\n",
       "      <td>107.68</td>\n",
       "      <td>86.12</td>\n",
       "      <td>116.26</td>\n",
       "      <td>124.64</td>\n",
       "      <td>186.24</td>\n",
       "    </tr>\n",
       "    <tr>\n",
       "      <th>3</th>\n",
       "      <td>100.0</td>\n",
       "      <td>82.72</td>\n",
       "      <td>86.18</td>\n",
       "      <td>107.03</td>\n",
       "      <td>107.55</td>\n",
       "      <td>121.43</td>\n",
       "    </tr>\n",
       "    <tr>\n",
       "      <th>4</th>\n",
       "      <td>100.0</td>\n",
       "      <td>118.65</td>\n",
       "      <td>147.77</td>\n",
       "      <td>146.80</td>\n",
       "      <td>144.33</td>\n",
       "      <td>132.65</td>\n",
       "    </tr>\n",
       "    <tr>\n",
       "      <th>5</th>\n",
       "      <td>100.0</td>\n",
       "      <td>154.93</td>\n",
       "      <td>96.73</td>\n",
       "      <td>95.12</td>\n",
       "      <td>144.03</td>\n",
       "      <td>102.81</td>\n",
       "    </tr>\n",
       "  </tbody>\n",
       "</table>\n",
       "</div>"
      ],
      "text/plain": [
       "       0       1       2       3       4       5\n",
       "0  100.0   87.89   88.66   85.75  140.20  143.67\n",
       "1  100.0   98.65   62.67   70.01   57.74   59.46\n",
       "2  100.0  107.68   86.12  116.26  124.64  186.24\n",
       "3  100.0   82.72   86.18  107.03  107.55  121.43\n",
       "4  100.0  118.65  147.77  146.80  144.33  132.65\n",
       "5  100.0  154.93   96.73   95.12  144.03  102.81"
      ]
     },
     "execution_count": 12,
     "metadata": {},
     "output_type": "execute_result"
    }
   ],
   "source": [
    "pd.DataFrame(asset_paths_Q.T).head(6).round(2)"
   ]
  },
  {
   "cell_type": "code",
   "execution_count": 13,
   "id": "conservative-fabric",
   "metadata": {},
   "outputs": [],
   "source": [
    "bond_paths_Q = ott.nc_loan_paths(asset_paths_Q, ttm, face_value, rf, sigma)"
   ]
  },
  {
   "cell_type": "code",
   "execution_count": 14,
   "id": "concrete-prize",
   "metadata": {},
   "outputs": [
    {
     "data": {
      "text/html": [
       "<div>\n",
       "<style scoped>\n",
       "    .dataframe tbody tr th:only-of-type {\n",
       "        vertical-align: middle;\n",
       "    }\n",
       "\n",
       "    .dataframe tbody tr th {\n",
       "        vertical-align: top;\n",
       "    }\n",
       "\n",
       "    .dataframe thead th {\n",
       "        text-align: right;\n",
       "    }\n",
       "</style>\n",
       "<table border=\"1\" class=\"dataframe\">\n",
       "  <thead>\n",
       "    <tr style=\"text-align: right;\">\n",
       "      <th></th>\n",
       "      <th>0</th>\n",
       "      <th>1</th>\n",
       "      <th>2</th>\n",
       "      <th>3</th>\n",
       "      <th>4</th>\n",
       "      <th>5</th>\n",
       "    </tr>\n",
       "  </thead>\n",
       "  <tbody>\n",
       "    <tr>\n",
       "      <th>0</th>\n",
       "      <td>56.37</td>\n",
       "      <td>57.26</td>\n",
       "      <td>60.81</td>\n",
       "      <td>64.03</td>\n",
       "      <td>72.67</td>\n",
       "      <td>75.37</td>\n",
       "    </tr>\n",
       "    <tr>\n",
       "      <th>1</th>\n",
       "      <td>56.37</td>\n",
       "      <td>59.24</td>\n",
       "      <td>52.31</td>\n",
       "      <td>58.88</td>\n",
       "      <td>55.55</td>\n",
       "      <td>59.46</td>\n",
       "    </tr>\n",
       "    <tr>\n",
       "      <th>2</th>\n",
       "      <td>56.37</td>\n",
       "      <td>60.51</td>\n",
       "      <td>60.24</td>\n",
       "      <td>68.42</td>\n",
       "      <td>72.46</td>\n",
       "      <td>75.37</td>\n",
       "    </tr>\n",
       "    <tr>\n",
       "      <th>3</th>\n",
       "      <td>56.37</td>\n",
       "      <td>56.09</td>\n",
       "      <td>60.25</td>\n",
       "      <td>67.59</td>\n",
       "      <td>71.78</td>\n",
       "      <td>75.37</td>\n",
       "    </tr>\n",
       "    <tr>\n",
       "      <th>4</th>\n",
       "      <td>56.37</td>\n",
       "      <td>61.70</td>\n",
       "      <td>66.64</td>\n",
       "      <td>69.72</td>\n",
       "      <td>72.69</td>\n",
       "      <td>75.37</td>\n",
       "    </tr>\n",
       "    <tr>\n",
       "      <th>5</th>\n",
       "      <td>56.37</td>\n",
       "      <td>63.89</td>\n",
       "      <td>62.35</td>\n",
       "      <td>65.96</td>\n",
       "      <td>72.69</td>\n",
       "      <td>75.37</td>\n",
       "    </tr>\n",
       "  </tbody>\n",
       "</table>\n",
       "</div>"
      ],
      "text/plain": [
       "       0      1      2      3      4      5\n",
       "0  56.37  57.26  60.81  64.03  72.67  75.37\n",
       "1  56.37  59.24  52.31  58.88  55.55  59.46\n",
       "2  56.37  60.51  60.24  68.42  72.46  75.37\n",
       "3  56.37  56.09  60.25  67.59  71.78  75.37\n",
       "4  56.37  61.70  66.64  69.72  72.69  75.37\n",
       "5  56.37  63.89  62.35  65.96  72.69  75.37"
      ]
     },
     "execution_count": 14,
     "metadata": {},
     "output_type": "execute_result"
    }
   ],
   "source": [
    "pd.DataFrame(bond_paths_Q.T).head(6).round(2)"
   ]
  },
  {
   "cell_type": "code",
   "execution_count": 15,
   "id": "trained-mozambique",
   "metadata": {},
   "outputs": [],
   "source": [
    "call_mat = ott.call_matrix(bond_paths_Q, face_value, yield_NC, ttm, penalty=0)\n",
    "bond_cash_flows = ott.cash_flow_matrix(bond_paths_Q, call_mat, face_value, yield_NC, ttm)"
   ]
  },
  {
   "cell_type": "markdown",
   "id": "heard-aging",
   "metadata": {},
   "source": [
    "### Analysing Prepayments"
   ]
  },
  {
   "cell_type": "code",
   "execution_count": 16,
   "id": "retained-ribbon",
   "metadata": {},
   "outputs": [],
   "source": [
    "calls = {\"No Penalty\": [0.476028, 0.122876, 0.067452, 0.048424, 0.285220],\n",
    "         \"Penalty\": [0.347868, 0.132096, 0.071416, 0.038464, 0.410156]}\n",
    "call_data = pd.DataFrame(calls)"
   ]
  },
  {
   "cell_type": "code",
   "execution_count": 17,
   "id": "level-yellow",
   "metadata": {},
   "outputs": [
    {
     "data": {
      "image/png": "[encoded data removed]",
      "text/plain": [
       "<Figure size 551.102x236.22 with 1 Axes>"
      ]
     },
     "metadata": {},
     "output_type": "display_data"
    }
   ],
   "source": [
    "plt.figure(figsize=(textwidth, 6*cm))\n",
    "palette = sns.color_palette(\"summer\", as_cmap=True)\n",
    "\n",
    "d = 0.5\n",
    "plt.bar([(i + 1)-0.45*d for i in list(call_data.index)],height=call_data.loc[:,\"No Penalty\"], color=palette(1), align ='center',width=d*0.75)\n",
    "plt.bar([(i + 1)+0.45*d for i in list(call_data.index)],height=call_data.loc[:,\"Penalty\"], color=palette(75), align ='center', width=d*0.75)\n",
    "\n",
    "plt.ylabel(\"Prepayment Rate\")\n",
    "plt.ylim(0,0.75)\n",
    "plt.yticks(np.linspace(0, 0.75, 6),[\"0%\",\"15%\",\"30%\",\"45%\",\"60%\",\"75%\"])\n",
    "\n",
    "for index, value in enumerate(calls.get(\"No Penalty\")):\n",
    "    plt.text(index+1-0.45*d, value + 0.025, str(round(value * 100,1))+\"%\",ha='center')\n",
    "    \n",
    "for index, value in enumerate(calls.get(\"Penalty\")):\n",
    "    plt.text(index+1+0.45*d, value + 0.025, str(round(value * 100,1))+\"%\",ha='center')\n",
    "\n",
    "plt.legend([\"$\\mathcal{P}(B)=0$\",\"$\\mathcal{P}(B)=0.015\\,B$\"],frameon=False, loc=9, ncol=2)\n",
    "plt.xlabel(\"Period\")\n",
    "\n",
    "plt.tight_layout()\n",
    "plt.show()\n",
    "#plt.savefig(\"pic.pdf\", format='pdf', bbox_inches='tight')"
   ]
  },
  {
   "cell_type": "markdown",
   "id": "educated-pearl",
   "metadata": {},
   "source": [
    "## Pricing the Callable Loan"
   ]
  },
  {
   "cell_type": "code",
   "execution_count": 18,
   "id": "liberal-intranet",
   "metadata": {},
   "outputs": [
    {
     "data": {
      "text/html": [
       "<div>\n",
       "<style scoped>\n",
       "    .dataframe tbody tr th:only-of-type {\n",
       "        vertical-align: middle;\n",
       "    }\n",
       "\n",
       "    .dataframe tbody tr th {\n",
       "        vertical-align: top;\n",
       "    }\n",
       "\n",
       "    .dataframe thead th {\n",
       "        text-align: right;\n",
       "    }\n",
       "</style>\n",
       "<table border=\"1\" class=\"dataframe\">\n",
       "  <thead>\n",
       "    <tr style=\"text-align: right;\">\n",
       "      <th></th>\n",
       "      <th>0</th>\n",
       "      <th>1</th>\n",
       "      <th>2</th>\n",
       "      <th>3</th>\n",
       "      <th>4</th>\n",
       "      <th>5</th>\n",
       "    </tr>\n",
       "  </thead>\n",
       "  <tbody>\n",
       "    <tr>\n",
       "      <th>0</th>\n",
       "      <td>0.0</td>\n",
       "      <td>0.00</td>\n",
       "      <td>0.0</td>\n",
       "      <td>0.0</td>\n",
       "      <td>71.11</td>\n",
       "      <td>0.00</td>\n",
       "    </tr>\n",
       "    <tr>\n",
       "      <th>1</th>\n",
       "      <td>0.0</td>\n",
       "      <td>0.00</td>\n",
       "      <td>0.0</td>\n",
       "      <td>0.0</td>\n",
       "      <td>0.00</td>\n",
       "      <td>59.46</td>\n",
       "    </tr>\n",
       "    <tr>\n",
       "      <th>2</th>\n",
       "      <td>0.0</td>\n",
       "      <td>59.74</td>\n",
       "      <td>0.0</td>\n",
       "      <td>0.0</td>\n",
       "      <td>0.00</td>\n",
       "      <td>0.00</td>\n",
       "    </tr>\n",
       "    <tr>\n",
       "      <th>3</th>\n",
       "      <td>0.0</td>\n",
       "      <td>0.00</td>\n",
       "      <td>0.0</td>\n",
       "      <td>67.1</td>\n",
       "      <td>0.00</td>\n",
       "      <td>0.00</td>\n",
       "    </tr>\n",
       "    <tr>\n",
       "      <th>4</th>\n",
       "      <td>0.0</td>\n",
       "      <td>59.74</td>\n",
       "      <td>0.0</td>\n",
       "      <td>0.0</td>\n",
       "      <td>0.00</td>\n",
       "      <td>0.00</td>\n",
       "    </tr>\n",
       "    <tr>\n",
       "      <th>5</th>\n",
       "      <td>0.0</td>\n",
       "      <td>59.74</td>\n",
       "      <td>0.0</td>\n",
       "      <td>0.0</td>\n",
       "      <td>0.00</td>\n",
       "      <td>0.00</td>\n",
       "    </tr>\n",
       "  </tbody>\n",
       "</table>\n",
       "</div>"
      ],
      "text/plain": [
       "     0      1    2     3      4      5\n",
       "0  0.0   0.00  0.0   0.0  71.11   0.00\n",
       "1  0.0   0.00  0.0   0.0   0.00  59.46\n",
       "2  0.0  59.74  0.0   0.0   0.00   0.00\n",
       "3  0.0   0.00  0.0  67.1   0.00   0.00\n",
       "4  0.0  59.74  0.0   0.0   0.00   0.00\n",
       "5  0.0  59.74  0.0   0.0   0.00   0.00"
      ]
     },
     "execution_count": 18,
     "metadata": {},
     "output_type": "execute_result"
    }
   ],
   "source": [
    "pd.DataFrame(bond_cash_flows.T).head(6).round(2)"
   ]
  },
  {
   "cell_type": "code",
   "execution_count": 20,
   "id": "bulgarian-detroit",
   "metadata": {},
   "outputs": [
    {
     "name": "stdout",
     "output_type": "stream",
     "text": [
      "The market value of a callable bond with the aforementioned characteristics is: 55.0\n"
     ]
    }
   ],
   "source": [
    "callable_bond_mv = np.exp(-rf * np.linspace(0, ttm, ttm+1)).reshape((ttm+1,1)) * bond_cash_flows\n",
    "callable_bond_mv = callable_bond_mv.sum(axis=0).mean()\n",
    "print(\"The market value of a callable bond with the aforementioned characteristics is: {0:0.1f}\".format(callable_bond_mv))"
   ]
  },
  {
   "cell_type": "code",
   "execution_count": 20,
   "id": "interested-restoration",
   "metadata": {},
   "outputs": [
    {
     "name": "stdout",
     "output_type": "stream",
     "text": [
      "The yield on a callable bond with the aforementioned characteristics is: 5.89%\n"
     ]
    }
   ],
   "source": [
    "yield_call = ott.zero_yield(callable_bond_mv, face_value, ttm)\n",
    "print(\"The yield on a callable bond with the aforementioned characteristics is: {0:0.2f}%\".format(yield_call*100))"
   ]
  },
  {
   "cell_type": "code",
   "execution_count": 21,
   "id": "found-reverse",
   "metadata": {},
   "outputs": [
    {
     "name": "stdout",
     "output_type": "stream",
     "text": [
      "The incremental option spread is: 0.44%\n"
     ]
    }
   ],
   "source": [
    "print(\"The incremental option spread is: {0:0.2f}%\".format((yield_call - yield_NC) * 100))"
   ]
  },
  {
   "cell_type": "markdown",
   "id": "monetary-preservation",
   "metadata": {},
   "source": [
    "### Cash Flows to Lender from a Callable Bond"
   ]
  },
  {
   "cell_type": "code",
   "execution_count": 81,
   "id": "optimum-shield",
   "metadata": {},
   "outputs": [],
   "source": [
    "call_bond_cash_flows = bond_cash_flows.copy()"
   ]
  },
  {
   "cell_type": "code",
   "execution_count": 89,
   "id": "anonymous-tract",
   "metadata": {},
   "outputs": [],
   "source": [
    "for t in range(0,ttm):\n",
    "    call_bond_cash_flows[t,:] = face_value * np.exp(-yield_call * (ttm-t)) * call_mat[t,:]"
   ]
  },
  {
   "cell_type": "code",
   "execution_count": 90,
   "id": "selective-slave",
   "metadata": {},
   "outputs": [
    {
     "data": {
      "text/html": [
       "<div>\n",
       "<style scoped>\n",
       "    .dataframe tbody tr th:only-of-type {\n",
       "        vertical-align: middle;\n",
       "    }\n",
       "\n",
       "    .dataframe tbody tr th {\n",
       "        vertical-align: top;\n",
       "    }\n",
       "\n",
       "    .dataframe thead th {\n",
       "        text-align: right;\n",
       "    }\n",
       "</style>\n",
       "<table border=\"1\" class=\"dataframe\">\n",
       "  <thead>\n",
       "    <tr style=\"text-align: right;\">\n",
       "      <th></th>\n",
       "      <th>0</th>\n",
       "      <th>1</th>\n",
       "      <th>2</th>\n",
       "      <th>3</th>\n",
       "      <th>4</th>\n",
       "      <th>5</th>\n",
       "    </tr>\n",
       "  </thead>\n",
       "  <tbody>\n",
       "    <tr>\n",
       "      <th>0</th>\n",
       "      <td>0.0</td>\n",
       "      <td>0.00</td>\n",
       "      <td>0.0</td>\n",
       "      <td>0.00</td>\n",
       "      <td>69.24</td>\n",
       "      <td>0.00</td>\n",
       "    </tr>\n",
       "    <tr>\n",
       "      <th>1</th>\n",
       "      <td>0.0</td>\n",
       "      <td>0.00</td>\n",
       "      <td>0.0</td>\n",
       "      <td>0.00</td>\n",
       "      <td>0.00</td>\n",
       "      <td>61.83</td>\n",
       "    </tr>\n",
       "    <tr>\n",
       "      <th>2</th>\n",
       "      <td>0.0</td>\n",
       "      <td>58.04</td>\n",
       "      <td>0.0</td>\n",
       "      <td>0.00</td>\n",
       "      <td>0.00</td>\n",
       "      <td>0.00</td>\n",
       "    </tr>\n",
       "    <tr>\n",
       "      <th>3</th>\n",
       "      <td>0.0</td>\n",
       "      <td>0.00</td>\n",
       "      <td>0.0</td>\n",
       "      <td>65.29</td>\n",
       "      <td>0.00</td>\n",
       "      <td>0.00</td>\n",
       "    </tr>\n",
       "    <tr>\n",
       "      <th>4</th>\n",
       "      <td>0.0</td>\n",
       "      <td>58.04</td>\n",
       "      <td>0.0</td>\n",
       "      <td>0.00</td>\n",
       "      <td>0.00</td>\n",
       "      <td>0.00</td>\n",
       "    </tr>\n",
       "    <tr>\n",
       "      <th>5</th>\n",
       "      <td>0.0</td>\n",
       "      <td>58.04</td>\n",
       "      <td>0.0</td>\n",
       "      <td>0.00</td>\n",
       "      <td>0.00</td>\n",
       "      <td>0.00</td>\n",
       "    </tr>\n",
       "  </tbody>\n",
       "</table>\n",
       "</div>"
      ],
      "text/plain": [
       "     0      1    2      3      4      5\n",
       "0  0.0   0.00  0.0   0.00  69.24   0.00\n",
       "1  0.0   0.00  0.0   0.00   0.00  61.83\n",
       "2  0.0  58.04  0.0   0.00   0.00   0.00\n",
       "3  0.0   0.00  0.0  65.29   0.00   0.00\n",
       "4  0.0  58.04  0.0   0.00   0.00   0.00\n",
       "5  0.0  58.04  0.0   0.00   0.00   0.00"
      ]
     },
     "execution_count": 90,
     "metadata": {},
     "output_type": "execute_result"
    }
   ],
   "source": [
    "pd.DataFrame(call_bond_cash_flows.T).head(6).round(2)"
   ]
  },
  {
   "cell_type": "markdown",
   "id": "demonstrated-speed",
   "metadata": {},
   "source": [
    "# Introducing Subordination and Tranched Debt"
   ]
  },
  {
   "cell_type": "code",
   "execution_count": 22,
   "id": "alternative-confirmation",
   "metadata": {},
   "outputs": [],
   "source": [
    "df = DefTable[ttm].copy()\n",
    "df = df.to_frame(\"Default Probability\")"
   ]
  },
  {
   "cell_type": "code",
   "execution_count": 23,
   "id": "likely-guarantee",
   "metadata": {},
   "outputs": [],
   "source": [
    "def mv_call(x,y):\n",
    "    return models.callable_loan_value(v_0=V0, nc_yield=y,penalty=0,face_val=x,mu=rf,sigma=sigma,n=250000, matrices=False)"
   ]
  },
  {
   "cell_type": "code",
   "execution_count": 24,
   "id": "brown-south",
   "metadata": {},
   "outputs": [],
   "source": [
    "df[\"Face Value\"] = ott.facevalue_from_probability(df[\"Default Probability\"] / 100, V0, ttm, mu, sigma)\n",
    "df[\"Market Value\"] = ott.mv_bond(V0, df[\"Face Value\"], ttm, rf, sigma)\n",
    "df[\"Yield\"] = ott.zero_yield(df[\"Market Value\"], df[\"Face Value\"], ttm) * 100\n",
    "for tranche in df.index:\n",
    "    fv = df.loc[tranche, \"Face Value\"]\n",
    "    nc_y = df.loc[tranche, \"Yield\"] / 100\n",
    "    df.loc[tranche, \"MV Callable\"] = mv_call(fv, nc_y)\n",
    "    mv = df.loc[tranche, \"MV Callable\"]\n",
    "    df.loc[tranche, \"Yield Callable\"] = ott.zero_yield(mv, fv, ttm) * 100\n",
    "df[\"Option Value\"] = (df[\"Market Value\"]- df[\"MV Callable\"])\n",
    "df[\"Option Spread (bps)\"] = (df[\"Yield Callable\"]- df[\"Yield\"]) * 100"
   ]
  },
  {
   "cell_type": "code",
   "execution_count": 25,
   "id": "rough-investigator",
   "metadata": {},
   "outputs": [
    {
     "data": {
      "text/html": [
       "<div>\n",
       "<style scoped>\n",
       "    .dataframe tbody tr th:only-of-type {\n",
       "        vertical-align: middle;\n",
       "    }\n",
       "\n",
       "    .dataframe tbody tr th {\n",
       "        vertical-align: top;\n",
       "    }\n",
       "\n",
       "    .dataframe thead th {\n",
       "        text-align: right;\n",
       "    }\n",
       "</style>\n",
       "<table border=\"1\" class=\"dataframe\">\n",
       "  <thead>\n",
       "    <tr style=\"text-align: right;\">\n",
       "      <th></th>\n",
       "      <th>Default Probability</th>\n",
       "      <th>Face Value</th>\n",
       "      <th>Market Value</th>\n",
       "      <th>Yield</th>\n",
       "      <th>MV Callable</th>\n",
       "      <th>Yield Callable</th>\n",
       "      <th>Option Value</th>\n",
       "      <th>Option Spread (bps)</th>\n",
       "    </tr>\n",
       "  </thead>\n",
       "  <tbody>\n",
       "    <tr>\n",
       "      <th>AAA</th>\n",
       "      <td>0.27</td>\n",
       "      <td>23.77</td>\n",
       "      <td>19.92</td>\n",
       "      <td>3.53</td>\n",
       "      <td>19.90</td>\n",
       "      <td>3.55</td>\n",
       "      <td>0.02</td>\n",
       "      <td>1.64</td>\n",
       "    </tr>\n",
       "    <tr>\n",
       "      <th>AA</th>\n",
       "      <td>0.30</td>\n",
       "      <td>24.27</td>\n",
       "      <td>20.34</td>\n",
       "      <td>3.54</td>\n",
       "      <td>20.32</td>\n",
       "      <td>3.56</td>\n",
       "      <td>0.02</td>\n",
       "      <td>1.79</td>\n",
       "    </tr>\n",
       "    <tr>\n",
       "      <th>A</th>\n",
       "      <td>0.46</td>\n",
       "      <td>26.50</td>\n",
       "      <td>22.18</td>\n",
       "      <td>3.56</td>\n",
       "      <td>22.15</td>\n",
       "      <td>3.58</td>\n",
       "      <td>0.03</td>\n",
       "      <td>2.55</td>\n",
       "    </tr>\n",
       "    <tr>\n",
       "      <th>BBB</th>\n",
       "      <td>1.54</td>\n",
       "      <td>34.80</td>\n",
       "      <td>28.95</td>\n",
       "      <td>3.68</td>\n",
       "      <td>28.85</td>\n",
       "      <td>3.75</td>\n",
       "      <td>0.10</td>\n",
       "      <td>6.95</td>\n",
       "    </tr>\n",
       "    <tr>\n",
       "      <th>BB</th>\n",
       "      <td>6.43</td>\n",
       "      <td>51.51</td>\n",
       "      <td>41.71</td>\n",
       "      <td>4.22</td>\n",
       "      <td>41.27</td>\n",
       "      <td>4.43</td>\n",
       "      <td>0.44</td>\n",
       "      <td>21.07</td>\n",
       "    </tr>\n",
       "    <tr>\n",
       "      <th>B</th>\n",
       "      <td>17.35</td>\n",
       "      <td>73.44</td>\n",
       "      <td>55.92</td>\n",
       "      <td>5.45</td>\n",
       "      <td>54.72</td>\n",
       "      <td>5.89</td>\n",
       "      <td>1.21</td>\n",
       "      <td>43.58</td>\n",
       "    </tr>\n",
       "  </tbody>\n",
       "</table>\n",
       "</div>"
      ],
      "text/plain": [
       "     Default Probability  Face Value  Market Value  Yield  MV Callable  \\\n",
       "AAA                 0.27       23.77         19.92   3.53        19.90   \n",
       "AA                  0.30       24.27         20.34   3.54        20.32   \n",
       "A                   0.46       26.50         22.18   3.56        22.15   \n",
       "BBB                 1.54       34.80         28.95   3.68        28.85   \n",
       "BB                  6.43       51.51         41.71   4.22        41.27   \n",
       "B                  17.35       73.44         55.92   5.45        54.72   \n",
       "\n",
       "     Yield Callable  Option Value  Option Spread (bps)  \n",
       "AAA            3.55          0.02                 1.64  \n",
       "AA             3.56          0.02                 1.79  \n",
       "A              3.58          0.03                 2.55  \n",
       "BBB            3.75          0.10                 6.95  \n",
       "BB             4.43          0.44                21.07  \n",
       "B              5.89          1.21                43.58  "
      ]
     },
     "execution_count": 25,
     "metadata": {},
     "output_type": "execute_result"
    }
   ],
   "source": [
    "df.round(2)"
   ]
  },
  {
   "cell_type": "code",
   "execution_count": 26,
   "id": "greater-impression",
   "metadata": {},
   "outputs": [],
   "source": [
    "df2 = df[['Default Probability','Face Value','Market Value','MV Callable']].copy()\n",
    "\n",
    "for col in [\"Face Value\", \"Market Value\", \"MV Callable\"]:\n",
    "    df2[col] = df2[col] - df2[col].shift(1)\n",
    "    df2.loc['AAA',col] = df.loc['AAA',col]\n",
    "\n",
    "for col in [\"Market Value\", \"MV Callable\"]:\n",
    "    df2.loc['Equity',col] = V0 - sum(df2.loc[\"AAA\":\"B\",col])\n",
    "    \n",
    "df2['Yield'] = ott.zero_yield(df2[\"Market Value\"], df2[\"Face Value\"], ttm) * 100\n",
    "df2['Yield Callable'] = ott.zero_yield(df2[\"MV Callable\"], df2[\"Face Value\"], ttm) * 100\n",
    "df2.loc[\"AAA\":\"B\",\"Option Value\"] = (df2.loc[\"AAA\":\"B\",\"Market Value\"]- df2.loc[\"AAA\":\"B\",\"MV Callable\"])\n",
    "df2[\"Option Spread (bps)\"] = (df2[\"Yield Callable\"]- df2[\"Yield\"]) * 100"
   ]
  },
  {
   "cell_type": "code",
   "execution_count": 27,
   "id": "unique-license",
   "metadata": {},
   "outputs": [
    {
     "data": {
      "text/html": [
       "<div>\n",
       "<style scoped>\n",
       "    .dataframe tbody tr th:only-of-type {\n",
       "        vertical-align: middle;\n",
       "    }\n",
       "\n",
       "    .dataframe tbody tr th {\n",
       "        vertical-align: top;\n",
       "    }\n",
       "\n",
       "    .dataframe thead th {\n",
       "        text-align: right;\n",
       "    }\n",
       "</style>\n",
       "<table border=\"1\" class=\"dataframe\">\n",
       "  <thead>\n",
       "    <tr style=\"text-align: right;\">\n",
       "      <th></th>\n",
       "      <th>Default Probability</th>\n",
       "      <th>Face Value</th>\n",
       "      <th>Market Value</th>\n",
       "      <th>MV Callable</th>\n",
       "      <th>Yield</th>\n",
       "      <th>Yield Callable</th>\n",
       "      <th>Option Value</th>\n",
       "      <th>Option Spread (bps)</th>\n",
       "    </tr>\n",
       "  </thead>\n",
       "  <tbody>\n",
       "    <tr>\n",
       "      <th>AAA</th>\n",
       "      <td>0.27</td>\n",
       "      <td>23.77</td>\n",
       "      <td>19.92</td>\n",
       "      <td>19.90</td>\n",
       "      <td>3.53</td>\n",
       "      <td>3.55</td>\n",
       "      <td>0.02</td>\n",
       "      <td>1.64</td>\n",
       "    </tr>\n",
       "    <tr>\n",
       "      <th>AA</th>\n",
       "      <td>0.30</td>\n",
       "      <td>0.51</td>\n",
       "      <td>0.42</td>\n",
       "      <td>0.42</td>\n",
       "      <td>3.71</td>\n",
       "      <td>3.80</td>\n",
       "      <td>0.00</td>\n",
       "      <td>8.59</td>\n",
       "    </tr>\n",
       "    <tr>\n",
       "      <th>A</th>\n",
       "      <td>0.46</td>\n",
       "      <td>2.23</td>\n",
       "      <td>1.84</td>\n",
       "      <td>1.83</td>\n",
       "      <td>3.77</td>\n",
       "      <td>3.88</td>\n",
       "      <td>0.01</td>\n",
       "      <td>10.95</td>\n",
       "    </tr>\n",
       "    <tr>\n",
       "      <th>BBB</th>\n",
       "      <td>1.54</td>\n",
       "      <td>8.30</td>\n",
       "      <td>6.77</td>\n",
       "      <td>6.70</td>\n",
       "      <td>4.08</td>\n",
       "      <td>4.30</td>\n",
       "      <td>0.07</td>\n",
       "      <td>21.43</td>\n",
       "    </tr>\n",
       "    <tr>\n",
       "      <th>BB</th>\n",
       "      <td>6.43</td>\n",
       "      <td>16.70</td>\n",
       "      <td>12.76</td>\n",
       "      <td>12.42</td>\n",
       "      <td>5.39</td>\n",
       "      <td>5.93</td>\n",
       "      <td>0.34</td>\n",
       "      <td>53.49</td>\n",
       "    </tr>\n",
       "    <tr>\n",
       "      <th>B</th>\n",
       "      <td>17.35</td>\n",
       "      <td>21.94</td>\n",
       "      <td>14.22</td>\n",
       "      <td>13.45</td>\n",
       "      <td>8.68</td>\n",
       "      <td>9.79</td>\n",
       "      <td>0.77</td>\n",
       "      <td>111.11</td>\n",
       "    </tr>\n",
       "    <tr>\n",
       "      <th>Equity</th>\n",
       "      <td>NaN</td>\n",
       "      <td>NaN</td>\n",
       "      <td>44.08</td>\n",
       "      <td>45.28</td>\n",
       "      <td>NaN</td>\n",
       "      <td>NaN</td>\n",
       "      <td>NaN</td>\n",
       "      <td>NaN</td>\n",
       "    </tr>\n",
       "  </tbody>\n",
       "</table>\n",
       "</div>"
      ],
      "text/plain": [
       "        Default Probability  Face Value  Market Value  MV Callable  Yield  \\\n",
       "AAA                    0.27       23.77         19.92        19.90   3.53   \n",
       "AA                     0.30        0.51          0.42         0.42   3.71   \n",
       "A                      0.46        2.23          1.84         1.83   3.77   \n",
       "BBB                    1.54        8.30          6.77         6.70   4.08   \n",
       "BB                     6.43       16.70         12.76        12.42   5.39   \n",
       "B                     17.35       21.94         14.22        13.45   8.68   \n",
       "Equity                  NaN         NaN         44.08        45.28    NaN   \n",
       "\n",
       "        Yield Callable  Option Value  Option Spread (bps)  \n",
       "AAA               3.55          0.02                 1.64  \n",
       "AA                3.80          0.00                 8.59  \n",
       "A                 3.88          0.01                10.95  \n",
       "BBB               4.30          0.07                21.43  \n",
       "BB                5.93          0.34                53.49  \n",
       "B                 9.79          0.77               111.11  \n",
       "Equity             NaN           NaN                  NaN  "
      ]
     },
     "execution_count": 27,
     "metadata": {},
     "output_type": "execute_result"
    }
   ],
   "source": [
    "df2.round(2)"
   ]
  },
  {
   "cell_type": "code",
   "execution_count": 28,
   "id": "bored-shipping",
   "metadata": {},
   "outputs": [
    {
     "name": "stdout",
     "output_type": "stream",
     "text": [
      "The weighted-average cost of the tranches is: 5.34%\n"
     ]
    }
   ],
   "source": [
    "df3 = df2[['Market Value', 'Yield']].copy()\n",
    "df3 = df3['AAA':'B']\n",
    "df3['Fraction'] = df3['Market Value'] / df3['Market Value'].sum()\n",
    "WACD = (df3['Yield'] * df3['Fraction']).sum()\n",
    "print(\"The weighted-average cost of the tranches is: {0:0.2f}%\".format(WACD))"
   ]
  },
  {
   "cell_type": "code",
   "execution_count": 29,
   "id": "sporting-holiday",
   "metadata": {},
   "outputs": [
    {
     "name": "stdout",
     "output_type": "stream",
     "text": [
      "Thus the excess spread is: 11 bps\n"
     ]
    }
   ],
   "source": [
    "print(\"Thus the excess spread is: {0:0.0f} bps\".format((df.loc[\"B\",\"Yield\"] - WACD)*100))"
   ]
  },
  {
   "cell_type": "markdown",
   "id": "mediterranean-condition",
   "metadata": {},
   "source": [
    "# Determine Yields on 4, 3, 2, 1 year debt for SPV Dynamics Sections"
   ]
  },
  {
   "cell_type": "code",
   "execution_count": 78,
   "id": "reverse-notion",
   "metadata": {},
   "outputs": [
    {
     "data": {
      "text/html": [
       "<div>\n",
       "<style scoped>\n",
       "    .dataframe tbody tr th:only-of-type {\n",
       "        vertical-align: middle;\n",
       "    }\n",
       "\n",
       "    .dataframe tbody tr th {\n",
       "        vertical-align: top;\n",
       "    }\n",
       "\n",
       "    .dataframe thead th {\n",
       "        text-align: right;\n",
       "    }\n",
       "</style>\n",
       "<table border=\"1\" class=\"dataframe\">\n",
       "  <thead>\n",
       "    <tr style=\"text-align: right;\">\n",
       "      <th></th>\n",
       "      <th>PD</th>\n",
       "      <th>FV</th>\n",
       "      <th>MV</th>\n",
       "      <th>Y</th>\n",
       "    </tr>\n",
       "  </thead>\n",
       "  <tbody>\n",
       "    <tr>\n",
       "      <th>1</th>\n",
       "      <td>0.0334</td>\n",
       "      <td>63.848207</td>\n",
       "      <td>61.319846</td>\n",
       "      <td>0.040405</td>\n",
       "    </tr>\n",
       "    <tr>\n",
       "      <th>2</th>\n",
       "      <td>0.0780</td>\n",
       "      <td>64.233368</td>\n",
       "      <td>58.608757</td>\n",
       "      <td>0.045819</td>\n",
       "    </tr>\n",
       "    <tr>\n",
       "      <th>3</th>\n",
       "      <td>0.1175</td>\n",
       "      <td>66.827964</td>\n",
       "      <td>57.540211</td>\n",
       "      <td>0.049879</td>\n",
       "    </tr>\n",
       "    <tr>\n",
       "      <th>4</th>\n",
       "      <td>0.1489</td>\n",
       "      <td>70.010595</td>\n",
       "      <td>56.717107</td>\n",
       "      <td>0.052643</td>\n",
       "    </tr>\n",
       "  </tbody>\n",
       "</table>\n",
       "</div>"
      ],
      "text/plain": [
       "       PD         FV         MV         Y\n",
       "1  0.0334  63.848207  61.319846  0.040405\n",
       "2  0.0780  64.233368  58.608757  0.045819\n",
       "3  0.1175  66.827964  57.540211  0.049879\n",
       "4  0.1489  70.010595  56.717107  0.052643"
      ]
     },
     "execution_count": 78,
     "metadata": {},
     "output_type": "execute_result"
    }
   ],
   "source": []
  },
  {
   "cell_type": "code",
   "execution_count": 72,
   "id": "exempt-associate",
   "metadata": {},
   "outputs": [
    {
     "data": {
      "text/html": [
       "<div>\n",
       "<style scoped>\n",
       "    .dataframe tbody tr th:only-of-type {\n",
       "        vertical-align: middle;\n",
       "    }\n",
       "\n",
       "    .dataframe tbody tr th {\n",
       "        vertical-align: top;\n",
       "    }\n",
       "\n",
       "    .dataframe thead th {\n",
       "        text-align: right;\n",
       "    }\n",
       "</style>\n",
       "<table border=\"1\" class=\"dataframe\">\n",
       "  <thead>\n",
       "    <tr style=\"text-align: right;\">\n",
       "      <th></th>\n",
       "      <th>PD</th>\n",
       "      <th>FV</th>\n",
       "      <th>MV</th>\n",
       "      <th>Y</th>\n",
       "    </tr>\n",
       "  </thead>\n",
       "  <tbody>\n",
       "    <tr>\n",
       "      <th>0</th>\n",
       "      <td>0.0334</td>\n",
       "      <td>63.848207</td>\n",
       "      <td>61.319846</td>\n",
       "      <td>0.040405</td>\n",
       "    </tr>\n",
       "    <tr>\n",
       "      <th>1</th>\n",
       "      <td>0.0780</td>\n",
       "      <td>64.233368</td>\n",
       "      <td>58.608757</td>\n",
       "      <td>0.045819</td>\n",
       "    </tr>\n",
       "    <tr>\n",
       "      <th>2</th>\n",
       "      <td>0.1175</td>\n",
       "      <td>66.827964</td>\n",
       "      <td>57.540211</td>\n",
       "      <td>0.049879</td>\n",
       "    </tr>\n",
       "    <tr>\n",
       "      <th>3</th>\n",
       "      <td>0.1489</td>\n",
       "      <td>70.010595</td>\n",
       "      <td>56.717107</td>\n",
       "      <td>0.052643</td>\n",
       "    </tr>\n",
       "  </tbody>\n",
       "</table>\n",
       "</div>"
      ],
      "text/plain": [
       "       PD         FV         MV         Y\n",
       "0  0.0334  63.848207  61.319846  0.040405\n",
       "1  0.0780  64.233368  58.608757  0.045819\n",
       "2  0.1175  66.827964  57.540211  0.049879\n",
       "3  0.1489  70.010595  56.717107  0.052643"
      ]
     },
     "execution_count": 72,
     "metadata": {},
     "output_type": "execute_result"
    }
   ],
   "source": []
  },
  {
   "cell_type": "code",
   "execution_count": 62,
   "id": "treated-assembly",
   "metadata": {},
   "outputs": [
    {
     "data": {
      "text/plain": [
       "1.0412552891396334"
      ]
     },
     "execution_count": 62,
     "metadata": {},
     "output_type": "execute_result"
    }
   ],
   "source": [
    "59.06/56.72"
   ]
  },
  {
   "cell_type": "code",
   "execution_count": 56,
   "id": "unnecessary-armor",
   "metadata": {},
   "outputs": [],
   "source": [
    "from scipy.stats import norm\n",
    "def physical_default_prob(V: float, D: float, T: float, mu: float, sigma: float):\n",
    "    \"\"\"\n",
    "    Returns the physical or \"true\" default probability\n",
    "    ______________________________________________________________\n",
    "    Parameters:\n",
    "        V (float): Value of the firm\n",
    "        D (float): Principal of the debt\n",
    "        T (float): Number of periods\n",
    "        mu (float): Drift of the firm-value\n",
    "        sigma (float): Volatility of the firm-value\n",
    "    Returns:\n",
    "        The estimated physical default probability\n",
    "    \"\"\"\n",
    "    return norm.cdf(-(np.log(V / D) + (mu - 0.5 * sigma ** 2) * T) / (sigma * (T ** 0.5)))"
   ]
  },
  {
   "cell_type": "code",
   "execution_count": 58,
   "id": "regulation-sailing",
   "metadata": {},
   "outputs": [
    {
     "data": {
      "text/plain": [
       "0.15415015394775883"
      ]
     },
     "execution_count": 58,
     "metadata": {},
     "output_type": "execute_result"
    }
   ],
   "source": [
    "physical_default_prob(100,70,5,mu,sigma)"
   ]
  }
 ],
 "metadata": {
  "kernelspec": {
   "display_name": "Python 3",
   "language": "python",
   "name": "python3"
  },
  "language_info": {
   "codemirror_mode": {
    "name": "ipython",
    "version": 3
   },
   "file_extension": ".py",
   "mimetype": "text/x-python",
   "name": "python",
   "nbconvert_exporter": "python",
   "pygments_lexer": "ipython3",
   "version": "3.8.5"
  }
 },
 "nbformat": 4,
 "nbformat_minor": 5
}
