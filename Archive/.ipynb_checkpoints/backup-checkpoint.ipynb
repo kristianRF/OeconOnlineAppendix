{
 "cells": [
  {
   "cell_type": "markdown",
   "id": "under-means",
   "metadata": {},
   "source": [
    "### Load Packages"
   ]
  },
  {
   "cell_type": "code",
   "execution_count": 1,
   "id": "alpine-mason",
   "metadata": {},
   "outputs": [],
   "source": [
    "import pandas as pd\n",
    "import numpy as np\n",
    "import matplotlib\n",
    "import matplotlib.pyplot as plt\n",
    "import datetime as dt\n",
    "import math\n",
    "import seaborn as sns\n",
    "\n",
    "# Import Custom Module\n",
    "import OeconToolbox as ott\n",
    "\n",
    "%load_ext autoreload\n",
    "%autoreload 2\n",
    "%matplotlib inline"
   ]
  },
  {
   "cell_type": "markdown",
   "id": "sweet-witch",
   "metadata": {},
   "source": [
    "### [OPTIONAL] Set Matplotlib Style"
   ]
  },
  {
   "cell_type": "code",
   "execution_count": 2,
   "id": "mineral-april",
   "metadata": {},
   "outputs": [],
   "source": [
    "matplotlib.style.use('default')\n",
    "\n",
    "matplotlib.rcParams.update({\n",
    "    \"font.family\": \"sans-serif\",\n",
    "    \"font.sans-serif\": [\"Helvetica\"],\n",
    "    \"font.size\": 10})\n",
    "matplotlib.path.should_simplify = True\n",
    "\n",
    "sns.set_style(\"ticks\")\n",
    "\n",
    "cm = 1/2.54\n",
    "textwidth = 13.998 / 2.54"
   ]
  },
  {
   "cell_type": "markdown",
   "id": "supposed-frame",
   "metadata": {},
   "source": [
    "## Import Cumulative Default Table"
   ]
  },
  {
   "cell_type": "code",
   "execution_count": 3,
   "id": "proper-document",
   "metadata": {},
   "outputs": [
    {
     "data": {
      "text/html": [
       "<div>\n",
       "<style scoped>\n",
       "    .dataframe tbody tr th:only-of-type {\n",
       "        vertical-align: middle;\n",
       "    }\n",
       "\n",
       "    .dataframe tbody tr th {\n",
       "        vertical-align: top;\n",
       "    }\n",
       "\n",
       "    .dataframe thead th {\n",
       "        text-align: right;\n",
       "    }\n",
       "</style>\n",
       "<table border=\"1\" class=\"dataframe\">\n",
       "  <thead>\n",
       "    <tr style=\"text-align: right;\">\n",
       "      <th></th>\n",
       "      <th>1</th>\n",
       "      <th>2</th>\n",
       "      <th>3</th>\n",
       "      <th>4</th>\n",
       "      <th>5</th>\n",
       "      <th>6</th>\n",
       "      <th>7</th>\n",
       "      <th>8</th>\n",
       "      <th>9</th>\n",
       "      <th>10</th>\n",
       "    </tr>\n",
       "  </thead>\n",
       "  <tbody>\n",
       "    <tr>\n",
       "      <th>AAA</th>\n",
       "      <td>0.00</td>\n",
       "      <td>0.03</td>\n",
       "      <td>0.10</td>\n",
       "      <td>0.19</td>\n",
       "      <td>0.27</td>\n",
       "      <td>0.37</td>\n",
       "      <td>0.41</td>\n",
       "      <td>0.46</td>\n",
       "      <td>0.52</td>\n",
       "      <td>0.58</td>\n",
       "    </tr>\n",
       "    <tr>\n",
       "      <th>AA</th>\n",
       "      <td>0.02</td>\n",
       "      <td>0.06</td>\n",
       "      <td>0.11</td>\n",
       "      <td>0.21</td>\n",
       "      <td>0.30</td>\n",
       "      <td>0.41</td>\n",
       "      <td>0.49</td>\n",
       "      <td>0.56</td>\n",
       "      <td>0.63</td>\n",
       "      <td>0.70</td>\n",
       "    </tr>\n",
       "    <tr>\n",
       "      <th>A</th>\n",
       "      <td>0.05</td>\n",
       "      <td>0.13</td>\n",
       "      <td>0.22</td>\n",
       "      <td>0.33</td>\n",
       "      <td>0.46</td>\n",
       "      <td>0.60</td>\n",
       "      <td>0.76</td>\n",
       "      <td>0.90</td>\n",
       "      <td>1.05</td>\n",
       "      <td>1.20</td>\n",
       "    </tr>\n",
       "    <tr>\n",
       "      <th>BBB</th>\n",
       "      <td>0.16</td>\n",
       "      <td>0.43</td>\n",
       "      <td>0.75</td>\n",
       "      <td>1.14</td>\n",
       "      <td>1.54</td>\n",
       "      <td>1.94</td>\n",
       "      <td>2.27</td>\n",
       "      <td>2.61</td>\n",
       "      <td>2.94</td>\n",
       "      <td>3.24</td>\n",
       "    </tr>\n",
       "    <tr>\n",
       "      <th>BB</th>\n",
       "      <td>0.63</td>\n",
       "      <td>1.93</td>\n",
       "      <td>3.46</td>\n",
       "      <td>4.99</td>\n",
       "      <td>6.43</td>\n",
       "      <td>7.75</td>\n",
       "      <td>8.89</td>\n",
       "      <td>9.90</td>\n",
       "      <td>10.82</td>\n",
       "      <td>11.64</td>\n",
       "    </tr>\n",
       "    <tr>\n",
       "      <th>B</th>\n",
       "      <td>3.34</td>\n",
       "      <td>7.80</td>\n",
       "      <td>11.75</td>\n",
       "      <td>14.89</td>\n",
       "      <td>17.35</td>\n",
       "      <td>19.36</td>\n",
       "      <td>20.99</td>\n",
       "      <td>22.31</td>\n",
       "      <td>23.50</td>\n",
       "      <td>24.62</td>\n",
       "    </tr>\n",
       "  </tbody>\n",
       "</table>\n",
       "</div>"
      ],
      "text/plain": [
       "       1     2      3      4      5      6      7      8      9      10\n",
       "AAA  0.00  0.03   0.10   0.19   0.27   0.37   0.41   0.46   0.52   0.58\n",
       "AA   0.02  0.06   0.11   0.21   0.30   0.41   0.49   0.56   0.63   0.70\n",
       "A    0.05  0.13   0.22   0.33   0.46   0.60   0.76   0.90   1.05   1.20\n",
       "BBB  0.16  0.43   0.75   1.14   1.54   1.94   2.27   2.61   2.94   3.24\n",
       "BB   0.63  1.93   3.46   4.99   6.43   7.75   8.89   9.90  10.82  11.64\n",
       "B    3.34  7.80  11.75  14.89  17.35  19.36  20.99  22.31  23.50  24.62"
      ]
     },
     "execution_count": 3,
     "metadata": {},
     "output_type": "execute_result"
    }
   ],
   "source": [
    "DefTable = pd.read_excel(\"CumulativeDefaultTable.xlsx\",header=[0],index_col=[0],skipfooter=5,usecols=\"A:K\")\n",
    "DefTable.round(2)"
   ]
  },
  {
   "cell_type": "markdown",
   "id": "romance-experience",
   "metadata": {},
   "source": [
    "# Simulating a Portfolio of loans\n",
    "The SPV portfolio consists of $J$ loans from identical corporate issuers with a single class of debt outstanding. The parameters of the issuers is identical to those described in the 'Collateral Dynamics.ipynb' notebook."
   ]
  },
  {
   "cell_type": "markdown",
   "id": "vertical-plasma",
   "metadata": {},
   "source": [
    "## Parameters of the Corporate Issuers"
   ]
  },
  {
   "cell_type": "code",
   "execution_count": 4,
   "id": "searching-needle",
   "metadata": {},
   "outputs": [],
   "source": [
    "V0 = 100      # Initial Asset Value\n",
    "rf = .035     # Risk-Free Rate\n",
    "rm = .105     # Market Return\n",
    "beta = .8     # Firm CAPM Coefficient\n",
    "sigma_i = .25 # Idiosyncratic Risk\n",
    "sigma_m = .14 # Market Risk\n",
    "ttm = 5       # Time to Maturity of Debt\n",
    "penalty = 0   # Penalty on prepayment"
   ]
  },
  {
   "cell_type": "markdown",
   "id": "stock-parade",
   "metadata": {},
   "source": [
    "Auxiliary Calculations"
   ]
  },
  {
   "cell_type": "code",
   "execution_count": 5,
   "id": "arranged-collins",
   "metadata": {},
   "outputs": [],
   "source": [
    "mu = rf + beta * (rm - rf)\n",
    "sigma = ott.sigma_beta_adj(beta, sigma_m, sigma_i)\n",
    "face_value = ott.facevalue_from_probability(DefTable.loc[\"B\", ttm] / 100, V0, ttm, mu, sigma)\n",
    "market_value = ott.mv_bond(V0, face_value, ttm, rf, sigma)\n",
    "b_loan_yield = ott.zero_yield(market_value,face_value, ttm)\n",
    "# Results from Collateral Dynamics Notebook\n",
    "mv_call = 54.71780723807047\n",
    "b_callable_yield = ott.zero_yield(mv_call,face_value, ttm)"
   ]
  },
  {
   "cell_type": "markdown",
   "id": "express-mongolia",
   "metadata": {},
   "source": [
    "## Parameters of the SPV"
   ]
  },
  {
   "cell_type": "code",
   "execution_count": 6,
   "id": "broke-surrey",
   "metadata": {},
   "outputs": [],
   "source": [
    "J = 125    # number of loans\n",
    "N = 250000 # Number of simulated portfolios"
   ]
  },
  {
   "cell_type": "markdown",
   "id": "integrated-toronto",
   "metadata": {},
   "source": [
    "# Modelling the SPV Dynamics without Prepayment on Collateral Assets"
   ]
  },
  {
   "cell_type": "code",
   "execution_count": 7,
   "id": "blocked-level",
   "metadata": {},
   "outputs": [
    {
     "name": "stdout",
     "output_type": "stream",
     "text": [
      "The absolute maximum payoff: 9180.30 with initial market value: 6990.38\n"
     ]
    }
   ],
   "source": [
    "max_spv_cash_flows = face_value * J\n",
    "initial_market_value = market_value * J\n",
    "print(\"The absolute maximum payoff: {0:0.2f} with initial market value: {1:0.2f}\".format(max_spv_cash_flows,initial_market_value))"
   ]
  },
  {
   "cell_type": "markdown",
   "id": "taken-growth",
   "metadata": {},
   "source": [
    "Total SPV payoffs (under Q-measure)"
   ]
  },
  {
   "cell_type": "code",
   "execution_count": 8,
   "id": "alternative-chick",
   "metadata": {},
   "outputs": [],
   "source": [
    "SPV_Q, _ = ott.loan_portfolio(j = J,\n",
    "                              n = N,\n",
    "                              V = V0,\n",
    "                              B = face_value,\n",
    "                              T = ttm,\n",
    "                              rf = rf,\n",
    "                              rm = rm,\n",
    "                              beta = beta,\n",
    "                              sigmaI = sigma_i,\n",
    "                              sigmaM = sigma_m,\n",
    "                              risk_neutral=True,\n",
    "                              paths=False)"
   ]
  },
  {
   "cell_type": "markdown",
   "id": "innocent-hearing",
   "metadata": {},
   "source": [
    "Total SPV payoffs (under P-measure)"
   ]
  },
  {
   "cell_type": "code",
   "execution_count": 9,
   "id": "legitimate-container",
   "metadata": {},
   "outputs": [],
   "source": [
    "SPV_P, M = ott.loan_portfolio(j = J,\n",
    "                              n = N,\n",
    "                              V = V0,\n",
    "                              B = face_value,\n",
    "                              T = ttm,\n",
    "                              rf = rf,\n",
    "                              rm = rm,\n",
    "                              beta = beta,\n",
    "                              sigmaI = sigma_i,\n",
    "                              sigmaM = sigma_m,\n",
    "                              risk_neutral=False,\n",
    "                              paths=False)"
   ]
  },
  {
   "cell_type": "code",
   "execution_count": 10,
   "id": "refined-valuable",
   "metadata": {},
   "outputs": [],
   "source": [
    "total, tranches = np.zeros(7), np.zeros(7)\n",
    "i = 0\n",
    "for rating, def_prob in DefTable[ttm].items(): \n",
    "    total[i]  = np.quantile(SPV_P, def_prob/100)\n",
    "    if i == 0 : tranches[i] = np.quantile(SPV_P, def_prob/100)\n",
    "    else: tranches[i] = np.quantile(SPV_P, def_prob/100) - total[i-1].sum(axis=0)\n",
    "    i = i + 1\n",
    "tranches[i] = np.quantile(SPV_P, 1) - total[i-1].sum(axis=0)"
   ]
  },
  {
   "cell_type": "markdown",
   "id": "portable-garlic",
   "metadata": {},
   "source": [
    "## Cash Flows to each Tranche"
   ]
  },
  {
   "cell_type": "code",
   "execution_count": 11,
   "id": "intended-martial",
   "metadata": {},
   "outputs": [
    {
     "data": {
      "text/html": [
       "<div>\n",
       "<style scoped>\n",
       "    .dataframe tbody tr th:only-of-type {\n",
       "        vertical-align: middle;\n",
       "    }\n",
       "\n",
       "    .dataframe tbody tr th {\n",
       "        vertical-align: top;\n",
       "    }\n",
       "\n",
       "    .dataframe thead th {\n",
       "        text-align: right;\n",
       "    }\n",
       "</style>\n",
       "<table border=\"1\" class=\"dataframe\">\n",
       "  <thead>\n",
       "    <tr style=\"text-align: right;\">\n",
       "      <th></th>\n",
       "      <th>Cash Flows</th>\n",
       "      <th>Sum</th>\n",
       "      <th>Percent of Total</th>\n",
       "    </tr>\n",
       "  </thead>\n",
       "  <tbody>\n",
       "    <tr>\n",
       "      <th>AAA</th>\n",
       "      <td>7233.1</td>\n",
       "      <td>7233.1</td>\n",
       "      <td>78.8</td>\n",
       "    </tr>\n",
       "    <tr>\n",
       "      <th>AA</th>\n",
       "      <td>32.6</td>\n",
       "      <td>7265.7</td>\n",
       "      <td>0.4</td>\n",
       "    </tr>\n",
       "    <tr>\n",
       "      <th>A</th>\n",
       "      <td>125.6</td>\n",
       "      <td>7391.3</td>\n",
       "      <td>1.4</td>\n",
       "    </tr>\n",
       "    <tr>\n",
       "      <th>BBB</th>\n",
       "      <td>358.1</td>\n",
       "      <td>7749.4</td>\n",
       "      <td>3.9</td>\n",
       "    </tr>\n",
       "    <tr>\n",
       "      <th>BB</th>\n",
       "      <td>442.0</td>\n",
       "      <td>8191.4</td>\n",
       "      <td>4.8</td>\n",
       "    </tr>\n",
       "    <tr>\n",
       "      <th>B</th>\n",
       "      <td>317.9</td>\n",
       "      <td>8509.2</td>\n",
       "      <td>3.5</td>\n",
       "    </tr>\n",
       "    <tr>\n",
       "      <th>Equity</th>\n",
       "      <td>671.1</td>\n",
       "      <td>9180.3</td>\n",
       "      <td>7.3</td>\n",
       "    </tr>\n",
       "  </tbody>\n",
       "</table>\n",
       "</div>"
      ],
      "text/plain": [
       "        Cash Flows     Sum  Percent of Total\n",
       "AAA         7233.1  7233.1              78.8\n",
       "AA            32.6  7265.7               0.4\n",
       "A            125.6  7391.3               1.4\n",
       "BBB          358.1  7749.4               3.9\n",
       "BB           442.0  8191.4               4.8\n",
       "B            317.9  8509.2               3.5\n",
       "Equity       671.1  9180.3               7.3"
      ]
     },
     "execution_count": 11,
     "metadata": {},
     "output_type": "execute_result"
    }
   ],
   "source": [
    "pd.DataFrame({'Cash Flows':tranches,'Sum':tranches.cumsum(),'Percent of Total':np.divide(tranches,tranches.cumsum()[-1])*100},[\"AAA\",\"AA\",\"A\",\"BBB\",\"BB\",\"B\",\"Equity\"]).round(1)"
   ]
  },
  {
   "cell_type": "code",
   "execution_count": 12,
   "id": "radio-motel",
   "metadata": {},
   "outputs": [
    {
     "data": {
      "image/png": "[encoded data removed]",
      "text/plain": [
       "<Figure size 551.102x314.961 with 2 Axes>"
      ]
     },
     "metadata": {},
     "output_type": "display_data"
    }
   ],
   "source": [
    "plt.figure(figsize=(textwidth, 8*cm))\n",
    "palette = sns.color_palette(\"summer\", n_colors=6, as_cmap=True)\n",
    "\n",
    "simulations = SPV_P\n",
    "\n",
    "min_ = 7000\n",
    "max_ = 9200\n",
    "ax = sns.histplot(data=simulations, bins=25, color=palette(1), stat='probability', alpha=1)\n",
    "plt.ylabel(\"Probability\")\n",
    "maxy = round(ax.get_ylim()[1],2)\n",
    "\n",
    "plt.ylim([0, maxy])\n",
    "plt.yticks(np.linspace(0, maxy, 6),[str(int(round(x,2)*100))+\"%\" for x in np.linspace(0, maxy, 6)])\n",
    "\n",
    "plt.xlim([min_,max_])\n",
    "plt.xlabel(\"Collateral Value\")\n",
    "\n",
    "for rating, def_prob in DefTable[ttm].items(): \n",
    "    value = np.quantile(simulations, def_prob/100)\n",
    "    plt.vlines(value,0,maxy*1.05,color='k',linestyles='--',linewidth=0.75)\n",
    "    if rating == 'AAA':\n",
    "        plt.text(value,maxy*1.05,s=rating,ha='right',va='center',color='k')\n",
    "    elif rating == 'AA' or rating == 'A':\n",
    "        plt.text(value,maxy*1.05,s=rating,ha='left',va='center',color='k')\n",
    "    else:\n",
    "        plt.text(value,maxy*1.05,s=rating,ha='center',va='center',color='k')\n",
    "\n",
    "ax2 = ax.twinx()\n",
    "ax2 = sns.ecdfplot(data=simulations, color='k',linewidth=0.75, ax=ax2, stat='proportion')\n",
    "plt.ylabel(\"Cumulative Probability\")\n",
    "plt.ylim([0,1])\n",
    "plt.yticks(np.linspace(0, 1, 6),[\"0%\",\"20%\",\"40%\",\"60%\",\"80%\",\"100%\"])\n",
    "\n",
    "plt.tight_layout()\n",
    "plt.show()\n",
    "#plt.savefig(\"pic.pdf\", format='pdf', bbox_inches='tight')"
   ]
  },
  {
   "cell_type": "markdown",
   "id": "peaceful-france",
   "metadata": {},
   "source": [
    "Data For Scatterplots"
   ]
  },
  {
   "cell_type": "code",
   "execution_count": 13,
   "id": "interpreted-retention",
   "metadata": {},
   "outputs": [],
   "source": [
    "SPV_P_small = np.random.RandomState(1234).choice(SPV_P,size=2500)\n",
    "M_small = np.random.RandomState(1234).choice(M,size=2500)"
   ]
  },
  {
   "cell_type": "code",
   "execution_count": 14,
   "id": "classified-blame",
   "metadata": {},
   "outputs": [
    {
     "data": {
      "text/html": [
       "<div>\n",
       "<style scoped>\n",
       "    .dataframe tbody tr th:only-of-type {\n",
       "        vertical-align: middle;\n",
       "    }\n",
       "\n",
       "    .dataframe tbody tr th {\n",
       "        vertical-align: top;\n",
       "    }\n",
       "\n",
       "    .dataframe thead th {\n",
       "        text-align: right;\n",
       "    }\n",
       "</style>\n",
       "<table border=\"1\" class=\"dataframe\">\n",
       "  <thead>\n",
       "    <tr style=\"text-align: right;\">\n",
       "      <th></th>\n",
       "      <th>SPV</th>\n",
       "      <th>Market Factor</th>\n",
       "      <th>AAA</th>\n",
       "      <th>AA</th>\n",
       "      <th>A</th>\n",
       "      <th>BBB</th>\n",
       "      <th>BB</th>\n",
       "      <th>B</th>\n",
       "      <th>Equity</th>\n",
       "    </tr>\n",
       "  </thead>\n",
       "  <tbody>\n",
       "    <tr>\n",
       "      <th>0</th>\n",
       "      <td>0.990824</td>\n",
       "      <td>0.249813</td>\n",
       "      <td>1.0</td>\n",
       "      <td>1.0</td>\n",
       "      <td>1.0</td>\n",
       "      <td>1.0</td>\n",
       "      <td>1.0</td>\n",
       "      <td>1.0</td>\n",
       "      <td>0.874467</td>\n",
       "    </tr>\n",
       "    <tr>\n",
       "      <th>1</th>\n",
       "      <td>0.982318</td>\n",
       "      <td>0.007552</td>\n",
       "      <td>1.0</td>\n",
       "      <td>1.0</td>\n",
       "      <td>1.0</td>\n",
       "      <td>1.0</td>\n",
       "      <td>1.0</td>\n",
       "      <td>1.0</td>\n",
       "      <td>0.758100</td>\n",
       "    </tr>\n",
       "    <tr>\n",
       "      <th>2</th>\n",
       "      <td>0.976469</td>\n",
       "      <td>0.196481</td>\n",
       "      <td>1.0</td>\n",
       "      <td>1.0</td>\n",
       "      <td>1.0</td>\n",
       "      <td>1.0</td>\n",
       "      <td>1.0</td>\n",
       "      <td>1.0</td>\n",
       "      <td>0.678097</td>\n",
       "    </tr>\n",
       "    <tr>\n",
       "      <th>3</th>\n",
       "      <td>0.964409</td>\n",
       "      <td>-0.136603</td>\n",
       "      <td>1.0</td>\n",
       "      <td>1.0</td>\n",
       "      <td>1.0</td>\n",
       "      <td>1.0</td>\n",
       "      <td>1.0</td>\n",
       "      <td>1.0</td>\n",
       "      <td>0.513102</td>\n",
       "    </tr>\n",
       "    <tr>\n",
       "      <th>4</th>\n",
       "      <td>0.982938</td>\n",
       "      <td>0.328542</td>\n",
       "      <td>1.0</td>\n",
       "      <td>1.0</td>\n",
       "      <td>1.0</td>\n",
       "      <td>1.0</td>\n",
       "      <td>1.0</td>\n",
       "      <td>1.0</td>\n",
       "      <td>0.766591</td>\n",
       "    </tr>\n",
       "    <tr>\n",
       "      <th>...</th>\n",
       "      <td>...</td>\n",
       "      <td>...</td>\n",
       "      <td>...</td>\n",
       "      <td>...</td>\n",
       "      <td>...</td>\n",
       "      <td>...</td>\n",
       "      <td>...</td>\n",
       "      <td>...</td>\n",
       "      <td>...</td>\n",
       "    </tr>\n",
       "    <tr>\n",
       "      <th>2495</th>\n",
       "      <td>0.979048</td>\n",
       "      <td>0.134932</td>\n",
       "      <td>1.0</td>\n",
       "      <td>1.0</td>\n",
       "      <td>1.0</td>\n",
       "      <td>1.0</td>\n",
       "      <td>1.0</td>\n",
       "      <td>1.0</td>\n",
       "      <td>0.713368</td>\n",
       "    </tr>\n",
       "    <tr>\n",
       "      <th>2496</th>\n",
       "      <td>0.968940</td>\n",
       "      <td>0.348749</td>\n",
       "      <td>1.0</td>\n",
       "      <td>1.0</td>\n",
       "      <td>1.0</td>\n",
       "      <td>1.0</td>\n",
       "      <td>1.0</td>\n",
       "      <td>1.0</td>\n",
       "      <td>0.575085</td>\n",
       "    </tr>\n",
       "    <tr>\n",
       "      <th>2497</th>\n",
       "      <td>0.983798</td>\n",
       "      <td>0.594158</td>\n",
       "      <td>1.0</td>\n",
       "      <td>1.0</td>\n",
       "      <td>1.0</td>\n",
       "      <td>1.0</td>\n",
       "      <td>1.0</td>\n",
       "      <td>1.0</td>\n",
       "      <td>0.778358</td>\n",
       "    </tr>\n",
       "    <tr>\n",
       "      <th>2498</th>\n",
       "      <td>0.939418</td>\n",
       "      <td>-0.309687</td>\n",
       "      <td>1.0</td>\n",
       "      <td>1.0</td>\n",
       "      <td>1.0</td>\n",
       "      <td>1.0</td>\n",
       "      <td>1.0</td>\n",
       "      <td>1.0</td>\n",
       "      <td>0.171217</td>\n",
       "    </tr>\n",
       "    <tr>\n",
       "      <th>2499</th>\n",
       "      <td>0.985371</td>\n",
       "      <td>0.734664</td>\n",
       "      <td>1.0</td>\n",
       "      <td>1.0</td>\n",
       "      <td>1.0</td>\n",
       "      <td>1.0</td>\n",
       "      <td>1.0</td>\n",
       "      <td>1.0</td>\n",
       "      <td>0.799867</td>\n",
       "    </tr>\n",
       "  </tbody>\n",
       "</table>\n",
       "<p>2500 rows × 9 columns</p>\n",
       "</div>"
      ],
      "text/plain": [
       "           SPV  Market Factor  AAA   AA    A  BBB   BB    B    Equity\n",
       "0     0.990824       0.249813  1.0  1.0  1.0  1.0  1.0  1.0  0.874467\n",
       "1     0.982318       0.007552  1.0  1.0  1.0  1.0  1.0  1.0  0.758100\n",
       "2     0.976469       0.196481  1.0  1.0  1.0  1.0  1.0  1.0  0.678097\n",
       "3     0.964409      -0.136603  1.0  1.0  1.0  1.0  1.0  1.0  0.513102\n",
       "4     0.982938       0.328542  1.0  1.0  1.0  1.0  1.0  1.0  0.766591\n",
       "...        ...            ...  ...  ...  ...  ...  ...  ...       ...\n",
       "2495  0.979048       0.134932  1.0  1.0  1.0  1.0  1.0  1.0  0.713368\n",
       "2496  0.968940       0.348749  1.0  1.0  1.0  1.0  1.0  1.0  0.575085\n",
       "2497  0.983798       0.594158  1.0  1.0  1.0  1.0  1.0  1.0  0.778358\n",
       "2498  0.939418      -0.309687  1.0  1.0  1.0  1.0  1.0  1.0  0.171217\n",
       "2499  0.985371       0.734664  1.0  1.0  1.0  1.0  1.0  1.0  0.799867\n",
       "\n",
       "[2500 rows x 9 columns]"
      ]
     },
     "execution_count": 14,
     "metadata": {},
     "output_type": "execute_result"
    }
   ],
   "source": [
    "scatter_data = pd.DataFrame({'SPV':SPV_P_small/ max_spv_cash_flows,\n",
    "                             'Market Factor':M_small / 5,\n",
    "                             'AAA':ott.clo_payoffs(SPV_P_small,tranches)[0]/ tranches[0],\n",
    "                             'AA':ott.clo_payoffs(SPV_P_small,tranches)[1]/ tranches[1],\n",
    "                             'A':ott.clo_payoffs(SPV_P_small,tranches)[2] / tranches[2],\n",
    "                             'BBB':ott.clo_payoffs(SPV_P_small,tranches)[3] / tranches[3],\n",
    "                             'BB':ott.clo_payoffs(SPV_P_small,tranches)[4] / tranches[4],\n",
    "                             'B':ott.clo_payoffs(SPV_P_small,tranches)[5] / tranches[5],\n",
    "                             'Equity':ott.clo_payoffs(SPV_P_small,tranches)[6]/ tranches[6]})\n",
    "scatter_data"
   ]
  },
  {
   "cell_type": "code",
   "execution_count": 15,
   "id": "medical-argentina",
   "metadata": {},
   "outputs": [
    {
     "data": {
      "image/png": "[encoded data removed]",
      "text/plain": [
       "<Figure size 551.102x787.402 with 8 Axes>"
      ]
     },
     "metadata": {},
     "output_type": "display_data"
    }
   ],
   "source": [
    "fig, axs = plt.subplots(ncols=2,nrows=4,sharex=True,sharey=True)\n",
    "\n",
    "palette = sns.color_palette(\"summer\", n_colors=6, as_cmap=True)\n",
    "\n",
    "fig.text(0.5, -0.015, 'Market Factor $Z_{m}$', ha='center', size=11)\n",
    "fig.text(-0.025, 0.5, 'Normalized Payoffs', va='center', rotation='vertical', size=11)\n",
    "\n",
    "i,j = 0,0\n",
    "for tranche in [\"Equity\",\"SPV\",\"AA\",\"AAA\",\"BBB\",\"A\",\"B\",\"BB\"]:\n",
    "    if j == 0: j = 1\n",
    "    else: j = 0\n",
    "    axs[i,j].scatter(x=scatter_data['Market Factor'], y = scatter_data[tranche], s= 0.5, color=palette(1))\n",
    "    axs[i,j].set_title(tranche, size=11)\n",
    "    axs[i,j].axhline(scatter_data[tranche].mean(),-2.25, 2.25,c=\"k\",linewidth=0.5)\n",
    "    \n",
    "    axs[i,j].set_xlabel('')\n",
    "    axs[i,j].set_xlim([-2.25,2.25])\n",
    "    axs[i,j].set_xticks([-2,-1,0,1,2])\n",
    "    \n",
    "    axs[i,j].set_ylabel('')\n",
    "    axs[i,j].set_ylim([-0.05,1.05])\n",
    "    axs[i,j].set_yticks([0,0.2,0.4,0.6,0.8,1])\n",
    "    axs[i,j].grid(lw=0.3)\n",
    "    if j == 0: i = i + 1\n",
    "\n",
    "fig.set_size_inches(textwidth, 20*cm)\n",
    "fig.tight_layout()\n",
    "\n",
    "plt.show()\n",
    "\n",
    "#fig.savefig(\"Payoffs.png\", bbox_inches='tight', format='png', dpi=600)"
   ]
  },
  {
   "cell_type": "code",
   "execution_count": 16,
   "id": "closed-intranet",
   "metadata": {},
   "outputs": [
    {
     "data": {
      "text/html": [
       "<div>\n",
       "<style scoped>\n",
       "    .dataframe tbody tr th:only-of-type {\n",
       "        vertical-align: middle;\n",
       "    }\n",
       "\n",
       "    .dataframe tbody tr th {\n",
       "        vertical-align: top;\n",
       "    }\n",
       "\n",
       "    .dataframe thead th {\n",
       "        text-align: right;\n",
       "    }\n",
       "</style>\n",
       "<table border=\"1\" class=\"dataframe\">\n",
       "  <thead>\n",
       "    <tr style=\"text-align: right;\">\n",
       "      <th></th>\n",
       "      <th>Default Probability</th>\n",
       "      <th>Face Value</th>\n",
       "    </tr>\n",
       "  </thead>\n",
       "  <tbody>\n",
       "    <tr>\n",
       "      <th>AAA</th>\n",
       "      <td>0.27</td>\n",
       "      <td>103.47</td>\n",
       "    </tr>\n",
       "    <tr>\n",
       "      <th>AA</th>\n",
       "      <td>0.30</td>\n",
       "      <td>103.94</td>\n",
       "    </tr>\n",
       "    <tr>\n",
       "      <th>A</th>\n",
       "      <td>0.46</td>\n",
       "      <td>105.73</td>\n",
       "    </tr>\n",
       "    <tr>\n",
       "      <th>BBB</th>\n",
       "      <td>1.54</td>\n",
       "      <td>110.86</td>\n",
       "    </tr>\n",
       "    <tr>\n",
       "      <th>BB</th>\n",
       "      <td>6.43</td>\n",
       "      <td>117.18</td>\n",
       "    </tr>\n",
       "    <tr>\n",
       "      <th>B</th>\n",
       "      <td>17.35</td>\n",
       "      <td>121.73</td>\n",
       "    </tr>\n",
       "  </tbody>\n",
       "</table>\n",
       "</div>"
      ],
      "text/plain": [
       "     Default Probability  Face Value\n",
       "AAA                 0.27      103.47\n",
       "AA                  0.30      103.94\n",
       "A                   0.46      105.73\n",
       "BBB                 1.54      110.86\n",
       "BB                  6.43      117.18\n",
       "B                  17.35      121.73"
      ]
     },
     "execution_count": 16,
     "metadata": {},
     "output_type": "execute_result"
    }
   ],
   "source": [
    "no_prepay_tab = DefTable[[ttm]].copy()\n",
    "no_prepay_tab.rename(columns={5:'Default Probability'},inplace=True)\n",
    "no_prepay_tab['Face Value'] = (np.quantile(SPV_P, no_prepay_tab['Default Probability']/100) / initial_market_value) * 100\n",
    "no_prepay_tab.round(2)"
   ]
  },
  {
   "cell_type": "code",
   "execution_count": 17,
   "id": "polish-crowd",
   "metadata": {},
   "outputs": [
    {
     "name": "stdout",
     "output_type": "stream",
     "text": [
      "The maximum normalized payoff is: 131.33\n"
     ]
    }
   ],
   "source": [
    "maximum_norm_payoff = max_spv_cash_flows / initial_market_value * 100\n",
    "print('The maximum normalized payoff is: {0:0.2f}'.format(maximum_norm_payoff))"
   ]
  },
  {
   "cell_type": "code",
   "execution_count": 18,
   "id": "exposed-tiger",
   "metadata": {},
   "outputs": [],
   "source": [
    "for rating in no_prepay_tab.index:\n",
    "    no_prepay_tab.loc[rating, 'Market Value'] = (np.minimum(SPV_Q,\n",
    "                                                            np.quantile(SPV_P,\n",
    "                                                                        no_prepay_tab.loc[rating, 'Default Probability']/100\n",
    "                                                                       )).mean() * np.exp(-rf*ttm) / initial_market_value) * 100"
   ]
  },
  {
   "cell_type": "markdown",
   "id": "specialized-output",
   "metadata": {},
   "source": [
    "Preliminary Table before \"tranching\""
   ]
  },
  {
   "cell_type": "code",
   "execution_count": 19,
   "id": "adverse-covering",
   "metadata": {},
   "outputs": [
    {
     "data": {
      "text/html": [
       "<div>\n",
       "<style scoped>\n",
       "    .dataframe tbody tr th:only-of-type {\n",
       "        vertical-align: middle;\n",
       "    }\n",
       "\n",
       "    .dataframe tbody tr th {\n",
       "        vertical-align: top;\n",
       "    }\n",
       "\n",
       "    .dataframe thead th {\n",
       "        text-align: right;\n",
       "    }\n",
       "</style>\n",
       "<table border=\"1\" class=\"dataframe\">\n",
       "  <thead>\n",
       "    <tr style=\"text-align: right;\">\n",
       "      <th></th>\n",
       "      <th>Default Probability</th>\n",
       "      <th>Face Value</th>\n",
       "      <th>Market Value</th>\n",
       "    </tr>\n",
       "  </thead>\n",
       "  <tbody>\n",
       "    <tr>\n",
       "      <th>AAA</th>\n",
       "      <td>0.27</td>\n",
       "      <td>103.47</td>\n",
       "      <td>86.64</td>\n",
       "    </tr>\n",
       "    <tr>\n",
       "      <th>AA</th>\n",
       "      <td>0.30</td>\n",
       "      <td>103.94</td>\n",
       "      <td>87.02</td>\n",
       "    </tr>\n",
       "    <tr>\n",
       "      <th>A</th>\n",
       "      <td>0.46</td>\n",
       "      <td>105.73</td>\n",
       "      <td>88.44</td>\n",
       "    </tr>\n",
       "    <tr>\n",
       "      <th>BBB</th>\n",
       "      <td>1.54</td>\n",
       "      <td>110.86</td>\n",
       "      <td>92.31</td>\n",
       "    </tr>\n",
       "    <tr>\n",
       "      <th>BB</th>\n",
       "      <td>6.43</td>\n",
       "      <td>117.18</td>\n",
       "      <td>96.41</td>\n",
       "    </tr>\n",
       "    <tr>\n",
       "      <th>B</th>\n",
       "      <td>17.35</td>\n",
       "      <td>121.73</td>\n",
       "      <td>98.56</td>\n",
       "    </tr>\n",
       "  </tbody>\n",
       "</table>\n",
       "</div>"
      ],
      "text/plain": [
       "     Default Probability  Face Value  Market Value\n",
       "AAA                 0.27      103.47         86.64\n",
       "AA                  0.30      103.94         87.02\n",
       "A                   0.46      105.73         88.44\n",
       "BBB                 1.54      110.86         92.31\n",
       "BB                  6.43      117.18         96.41\n",
       "B                  17.35      121.73         98.56"
      ]
     },
     "execution_count": 19,
     "metadata": {},
     "output_type": "execute_result"
    }
   ],
   "source": [
    "no_prepay_tab.round(2)"
   ]
  },
  {
   "cell_type": "markdown",
   "id": "powered-office",
   "metadata": {},
   "source": [
    "Tranching:"
   ]
  },
  {
   "cell_type": "code",
   "execution_count": 20,
   "id": "impossible-recall",
   "metadata": {},
   "outputs": [],
   "source": [
    "no_prepay_tab.loc[:,'Face Value':'Market Value'] = no_prepay_tab.loc[:,'Face Value':'Market Value'] - no_prepay_tab.loc[:,'Face Value':'Market Value'].shift(1)\n",
    "no_prepay_tab.loc['AAA','Face Value'] = (np.quantile(SPV_P, no_prepay_tab.loc['AAA','Default Probability']/100) / initial_market_value) * 100\n",
    "no_prepay_tab.loc['AAA','Market Value'] = (np.minimum(SPV_Q, np.quantile(SPV_P, no_prepay_tab.loc['AAA', 'Default Probability']/100)).mean() * np.exp(-rf*ttm) / initial_market_value) * 100\n",
    "no_prepay_tab['Yield'] = ott.zero_yield(no_prepay_tab['Market Value'], no_prepay_tab['Face Value'], ttm) * 100\n",
    "no_prepay_tab.loc['Equity','Market Value'] = 100 - no_prepay_tab['Market Value'].sum(axis=0)"
   ]
  },
  {
   "cell_type": "code",
   "execution_count": 21,
   "id": "neural-orbit",
   "metadata": {},
   "outputs": [
    {
     "data": {
      "text/html": [
       "<div>\n",
       "<style scoped>\n",
       "    .dataframe tbody tr th:only-of-type {\n",
       "        vertical-align: middle;\n",
       "    }\n",
       "\n",
       "    .dataframe tbody tr th {\n",
       "        vertical-align: top;\n",
       "    }\n",
       "\n",
       "    .dataframe thead th {\n",
       "        text-align: right;\n",
       "    }\n",
       "</style>\n",
       "<table border=\"1\" class=\"dataframe\">\n",
       "  <thead>\n",
       "    <tr style=\"text-align: right;\">\n",
       "      <th></th>\n",
       "      <th>Default Probability</th>\n",
       "      <th>Face Value</th>\n",
       "      <th>Market Value</th>\n",
       "      <th>Yield</th>\n",
       "    </tr>\n",
       "  </thead>\n",
       "  <tbody>\n",
       "    <tr>\n",
       "      <th>AAA</th>\n",
       "      <td>0.27</td>\n",
       "      <td>103.47</td>\n",
       "      <td>86.64</td>\n",
       "      <td>3.55</td>\n",
       "    </tr>\n",
       "    <tr>\n",
       "      <th>AA</th>\n",
       "      <td>0.30</td>\n",
       "      <td>0.47</td>\n",
       "      <td>0.37</td>\n",
       "      <td>4.48</td>\n",
       "    </tr>\n",
       "    <tr>\n",
       "      <th>A</th>\n",
       "      <td>0.46</td>\n",
       "      <td>1.80</td>\n",
       "      <td>1.42</td>\n",
       "      <td>4.69</td>\n",
       "    </tr>\n",
       "    <tr>\n",
       "      <th>BBB</th>\n",
       "      <td>1.54</td>\n",
       "      <td>5.12</td>\n",
       "      <td>3.87</td>\n",
       "      <td>5.61</td>\n",
       "    </tr>\n",
       "    <tr>\n",
       "      <th>BB</th>\n",
       "      <td>6.43</td>\n",
       "      <td>6.32</td>\n",
       "      <td>4.11</td>\n",
       "      <td>8.63</td>\n",
       "    </tr>\n",
       "    <tr>\n",
       "      <th>B</th>\n",
       "      <td>17.35</td>\n",
       "      <td>4.55</td>\n",
       "      <td>2.15</td>\n",
       "      <td>15.00</td>\n",
       "    </tr>\n",
       "    <tr>\n",
       "      <th>Equity</th>\n",
       "      <td>NaN</td>\n",
       "      <td>NaN</td>\n",
       "      <td>1.44</td>\n",
       "      <td>NaN</td>\n",
       "    </tr>\n",
       "  </tbody>\n",
       "</table>\n",
       "</div>"
      ],
      "text/plain": [
       "        Default Probability  Face Value  Market Value  Yield\n",
       "AAA                    0.27      103.47         86.64   3.55\n",
       "AA                     0.30        0.47          0.37   4.48\n",
       "A                      0.46        1.80          1.42   4.69\n",
       "BBB                    1.54        5.12          3.87   5.61\n",
       "BB                     6.43        6.32          4.11   8.63\n",
       "B                     17.35        4.55          2.15  15.00\n",
       "Equity                  NaN         NaN          1.44    NaN"
      ]
     },
     "execution_count": 21,
     "metadata": {},
     "output_type": "execute_result"
    }
   ],
   "source": [
    "no_prepay_tab.round(2)"
   ]
  },
  {
   "cell_type": "code",
   "execution_count": 22,
   "id": "desirable-sociology",
   "metadata": {},
   "outputs": [
    {
     "data": {
      "text/plain": [
       "0.6119757806153125"
      ]
     },
     "execution_count": 22,
     "metadata": {},
     "output_type": "execute_result"
    }
   ],
   "source": [
    "WACD = (no_prepay_tab.loc['AAA':'B','Market Value'] * no_prepay_tab.loc['AAA':'B','Yield']).sum()/no_prepay_tab.loc['AAA':'B','Market Value'].sum()\n",
    "WACD - rf*100"
   ]
  },
  {
   "cell_type": "markdown",
   "id": "unlikely-rouge",
   "metadata": {},
   "source": [
    "Return on equity analysis"
   ]
  },
  {
   "cell_type": "code",
   "execution_count": 23,
   "id": "annual-bernard",
   "metadata": {},
   "outputs": [],
   "source": [
    "equity_payoffs = ott.clo_payoffs(SPV_P,tranches)[6]"
   ]
  },
  {
   "cell_type": "code",
   "execution_count": 26,
   "id": "harmful-davis",
   "metadata": {},
   "outputs": [],
   "source": [
    "equity_mv = (np.minimum(SPV_Q, np.quantile(SPV_P,1)).mean() - np.minimum(SPV_Q,np.quantile(SPV_P,DefTable.loc['B',5]/100)).mean()) * np.exp(-rf*ttm) "
   ]
  },
  {
   "cell_type": "code",
   "execution_count": 27,
   "id": "short-postage",
   "metadata": {},
   "outputs": [],
   "source": [
    "equity_returns = equity_payoffs/equity_mv#np.where(np.log1p(equity_payoffs/equity_mv)>0,np.log1p(equity_payoffs/equity_mv)-1,0)"
   ]
  },
  {
   "cell_type": "code",
   "execution_count": 28,
   "id": "freelance-metallic",
   "metadata": {},
   "outputs": [
    {
     "data": {
      "text/plain": [
       "<AxesSubplot:ylabel='Frequency'>"
      ]
     },
     "execution_count": 28,
     "metadata": {},
     "output_type": "execute_result"
    },
    {
     "data": {
      "image/png": "[encoded data removed]",
      "text/plain": [
       "<Figure size 640x480 with 1 Axes>"
      ]
     },
     "metadata": {},
     "output_type": "display_data"
    }
   ],
   "source": [
    "pd.DataFrame(equity_returns).plot(kind='hist')"
   ]
  },
  {
   "cell_type": "markdown",
   "id": "packed-premiere",
   "metadata": {},
   "source": [
    "# Introducing Prepayments on Collateral"
   ]
  },
  {
   "cell_type": "code",
   "execution_count": 1,
   "id": "alleged-district",
   "metadata": {},
   "outputs": [],
   "source": [
    "#N = 250000"
   ]
  },
  {
   "cell_type": "code",
   "execution_count": 29,
   "id": "through-knife",
   "metadata": {},
   "outputs": [
    {
     "data": {
      "text/html": [
       "<div>\n",
       "<style scoped>\n",
       "    .dataframe tbody tr th:only-of-type {\n",
       "        vertical-align: middle;\n",
       "    }\n",
       "\n",
       "    .dataframe tbody tr th {\n",
       "        vertical-align: top;\n",
       "    }\n",
       "\n",
       "    .dataframe thead th {\n",
       "        text-align: right;\n",
       "    }\n",
       "</style>\n",
       "<table border=\"1\" class=\"dataframe\">\n",
       "  <thead>\n",
       "    <tr style=\"text-align: right;\">\n",
       "      <th></th>\n",
       "      <th>PD</th>\n",
       "      <th>FV</th>\n",
       "      <th>MV</th>\n",
       "      <th>Y</th>\n",
       "    </tr>\n",
       "  </thead>\n",
       "  <tbody>\n",
       "    <tr>\n",
       "      <th>4</th>\n",
       "      <td>0.0334</td>\n",
       "      <td>63.848207</td>\n",
       "      <td>61.319846</td>\n",
       "      <td>0.040405</td>\n",
       "    </tr>\n",
       "    <tr>\n",
       "      <th>3</th>\n",
       "      <td>0.0780</td>\n",
       "      <td>64.233368</td>\n",
       "      <td>58.608757</td>\n",
       "      <td>0.045819</td>\n",
       "    </tr>\n",
       "    <tr>\n",
       "      <th>2</th>\n",
       "      <td>0.1175</td>\n",
       "      <td>66.827964</td>\n",
       "      <td>57.540211</td>\n",
       "      <td>0.049879</td>\n",
       "    </tr>\n",
       "    <tr>\n",
       "      <th>1</th>\n",
       "      <td>0.1489</td>\n",
       "      <td>70.010595</td>\n",
       "      <td>56.717107</td>\n",
       "      <td>0.052643</td>\n",
       "    </tr>\n",
       "  </tbody>\n",
       "</table>\n",
       "</div>"
      ],
      "text/plain": [
       "       PD         FV         MV         Y\n",
       "4  0.0334  63.848207  61.319846  0.040405\n",
       "3  0.0780  64.233368  58.608757  0.045819\n",
       "2  0.1175  66.827964  57.540211  0.049879\n",
       "1  0.1489  70.010595  56.717107  0.052643"
      ]
     },
     "execution_count": 29,
     "metadata": {},
     "output_type": "execute_result"
    }
   ],
   "source": [
    "PD, FV, MV, Y = np.zeros(4),np.zeros(4),np.zeros(4),np.zeros(4)\n",
    "\n",
    "for t in range (1, ttm):\n",
    "    PD[t-1] = DefTable.loc[\"B\", t] / 100\n",
    "    FV[t-1] = ott.facevalue_from_probability(PD[t-1], V0, t, mu, sigma)\n",
    "    MV[t-1] = ott.mv_bond(V0, FV[t-1], t, rf, sigma)\n",
    "    Y[t-1] = ott.zero_yield(MV[t-1],FV[t-1],t)\n",
    "    \n",
    "nc_loans = pd.DataFrame({'PD':PD,'FV':FV,'MV':MV,'Y':Y},index=[4,3,2,1])\n",
    "nc_loans"
   ]
  },
  {
   "cell_type": "code",
   "execution_count": 30,
   "id": "circular-economy",
   "metadata": {},
   "outputs": [],
   "source": [
    "random_state = np.random.RandomState(1234)\n",
    "random = random_state.standard_normal(size=(ttm + 1, N, J + 1))"
   ]
  },
  {
   "cell_type": "code",
   "execution_count": 171,
   "id": "backed-amateur",
   "metadata": {},
   "outputs": [],
   "source": [
    "call_barrier = np.flip(face_value * np.exp(-b_loan_yield* np.linspace(0,ttm,ttm+1)) - penalty).reshape((ttm+1,1))"
   ]
  },
  {
   "cell_type": "code",
   "execution_count": 172,
   "id": "specialized-august",
   "metadata": {},
   "outputs": [
    {
     "data": {
      "text/plain": [
       "array([[55.92305707],\n",
       "       [59.05573706],\n",
       "       [62.36390251],\n",
       "       [65.85738372],\n",
       "       [69.54656164],\n",
       "       [73.44239876]])"
      ]
     },
     "execution_count": 172,
     "metadata": {},
     "output_type": "execute_result"
    }
   ],
   "source": [
    "call_barrier"
   ]
  },
  {
   "cell_type": "code",
   "execution_count": 173,
   "id": "bright-genius",
   "metadata": {},
   "outputs": [],
   "source": [
    "# Generate Asset Paths:\n",
    "def asset_gbm(x,ttm):\n",
    "        drift = (x - 0.5 * sigma ** 2)\n",
    "        diffusion = (beta * sigma_m * random[:,:,0].reshape((ttm + 1,N,1))) + (sigma_i * random[:,:,1:])\n",
    "        increments = drift + diffusion\n",
    "        increments[0] = 0\n",
    "        return V0 * np.exp(increments.cumsum(axis=0))"
   ]
  },
  {
   "cell_type": "code",
   "execution_count": 174,
   "id": "abstract-export",
   "metadata": {},
   "outputs": [],
   "source": [
    "asset_paths_Q = asset_gbm(rf,ttm)\n",
    "asset_paths_P = asset_gbm(mu,ttm)"
   ]
  },
  {
   "cell_type": "code",
   "execution_count": 175,
   "id": "still-miracle",
   "metadata": {},
   "outputs": [],
   "source": [
    "asset_paths = asset_paths_Q"
   ]
  },
  {
   "cell_type": "code",
   "execution_count": 176,
   "id": "representative-vision",
   "metadata": {},
   "outputs": [],
   "source": [
    "nc_loan_paths, call_mat, nc_cfs_mat,  pf_cfs, call_cfs_mat = [np.zeros_like(asset_paths_Q) for _ in range(5)]"
   ]
  },
  {
   "cell_type": "code",
   "execution_count": 177,
   "id": "premium-satellite",
   "metadata": {},
   "outputs": [],
   "source": [
    "face_values_mat = np.ones((N,J)) * face_value\n",
    "cfs_distributions = np.zeros((ttm,N))"
   ]
  },
  {
   "cell_type": "code",
   "execution_count": 178,
   "id": "proud-austin",
   "metadata": {},
   "outputs": [],
   "source": [
    "for t in range(0, ttm + 1):\n",
    "    cond1 = (call_mat[:t,:,:].sum(axis = 0) == 0)\n",
    "    if t == 0:\n",
    "        nc_loan_paths[t,:,:] = ott.mv_bond(asset_paths[t,:,:], face_value, (ttm - t), rf, sigma)\n",
    "    elif t == ttm:\n",
    "        nc_loan_paths[t,:,:] = np.minimum(asset_paths[t,:,:], face_values_mat[:,:])\n",
    "        call_mat[t,:,:] = np.where(cond1, 1, 0)\n",
    "        nc_cfs_mat[t,:,:] = nc_loan_paths[t,:,:]\n",
    "    else:\n",
    "        nc_loan_paths[t,:,:] = ott.mv_bond(asset_paths[t,:,:], face_value, (ttm - t), rf, sigma)\n",
    "        call_mat[t,:,:] = np.where((nc_loan_paths[t,:,:] - call_barrier[t] > 0) & cond1, 1, 0)\n",
    "        nc_cfs_mat[t,:,:] = face_value * np.exp(-b_loan_yield * (ttm - t)) * call_mat[t,:,:]"
   ]
  },
  {
   "cell_type": "code",
   "execution_count": 179,
   "id": "rotary-handbook",
   "metadata": {},
   "outputs": [
    {
     "data": {
      "text/html": [
       "<div>\n",
       "<style scoped>\n",
       "    .dataframe tbody tr th:only-of-type {\n",
       "        vertical-align: middle;\n",
       "    }\n",
       "\n",
       "    .dataframe tbody tr th {\n",
       "        vertical-align: top;\n",
       "    }\n",
       "\n",
       "    .dataframe thead th {\n",
       "        text-align: right;\n",
       "    }\n",
       "</style>\n",
       "<table border=\"1\" class=\"dataframe\">\n",
       "  <thead>\n",
       "    <tr style=\"text-align: right;\">\n",
       "      <th></th>\n",
       "      <th>0</th>\n",
       "      <th>1</th>\n",
       "      <th>2</th>\n",
       "      <th>3</th>\n",
       "      <th>4</th>\n",
       "      <th>5</th>\n",
       "    </tr>\n",
       "  </thead>\n",
       "  <tbody>\n",
       "    <tr>\n",
       "      <th>0</th>\n",
       "      <td>55.923057</td>\n",
       "      <td>60.405143</td>\n",
       "      <td>63.465637</td>\n",
       "      <td>68.208353</td>\n",
       "      <td>70.835403</td>\n",
       "      <td>73.442399</td>\n",
       "    </tr>\n",
       "    <tr>\n",
       "      <th>1</th>\n",
       "      <td>55.923057</td>\n",
       "      <td>56.707179</td>\n",
       "      <td>65.134331</td>\n",
       "      <td>62.724851</td>\n",
       "      <td>66.209126</td>\n",
       "      <td>59.391516</td>\n",
       "    </tr>\n",
       "    <tr>\n",
       "      <th>2</th>\n",
       "      <td>55.923057</td>\n",
       "      <td>52.819171</td>\n",
       "      <td>62.822462</td>\n",
       "      <td>66.679022</td>\n",
       "      <td>70.831822</td>\n",
       "      <td>73.442399</td>\n",
       "    </tr>\n",
       "    <tr>\n",
       "      <th>3</th>\n",
       "      <td>55.923057</td>\n",
       "      <td>56.573820</td>\n",
       "      <td>62.031438</td>\n",
       "      <td>61.660553</td>\n",
       "      <td>64.148838</td>\n",
       "      <td>73.442399</td>\n",
       "    </tr>\n",
       "    <tr>\n",
       "      <th>4</th>\n",
       "      <td>55.923057</td>\n",
       "      <td>52.714125</td>\n",
       "      <td>62.326489</td>\n",
       "      <td>65.946027</td>\n",
       "      <td>54.466777</td>\n",
       "      <td>39.856744</td>\n",
       "    </tr>\n",
       "  </tbody>\n",
       "</table>\n",
       "</div>"
      ],
      "text/plain": [
       "           0          1          2          3          4          5\n",
       "0  55.923057  60.405143  63.465637  68.208353  70.835403  73.442399\n",
       "1  55.923057  56.707179  65.134331  62.724851  66.209126  59.391516\n",
       "2  55.923057  52.819171  62.822462  66.679022  70.831822  73.442399\n",
       "3  55.923057  56.573820  62.031438  61.660553  64.148838  73.442399\n",
       "4  55.923057  52.714125  62.326489  65.946027  54.466777  39.856744"
      ]
     },
     "execution_count": 179,
     "metadata": {},
     "output_type": "execute_result"
    }
   ],
   "source": [
    "pd.DataFrame(nc_loan_paths[:,1,:]).T.head()"
   ]
  },
  {
   "cell_type": "code",
   "execution_count": 180,
   "id": "proved-equilibrium",
   "metadata": {},
   "outputs": [
    {
     "data": {
      "text/html": [
       "<div>\n",
       "<style scoped>\n",
       "    .dataframe tbody tr th:only-of-type {\n",
       "        vertical-align: middle;\n",
       "    }\n",
       "\n",
       "    .dataframe tbody tr th {\n",
       "        vertical-align: top;\n",
       "    }\n",
       "\n",
       "    .dataframe thead th {\n",
       "        text-align: right;\n",
       "    }\n",
       "</style>\n",
       "<table border=\"1\" class=\"dataframe\">\n",
       "  <thead>\n",
       "    <tr style=\"text-align: right;\">\n",
       "      <th></th>\n",
       "      <th>0</th>\n",
       "      <th>1</th>\n",
       "      <th>2</th>\n",
       "      <th>3</th>\n",
       "      <th>4</th>\n",
       "      <th>5</th>\n",
       "    </tr>\n",
       "  </thead>\n",
       "  <tbody>\n",
       "    <tr>\n",
       "      <th>0</th>\n",
       "      <td>0.0</td>\n",
       "      <td>1.0</td>\n",
       "      <td>0.0</td>\n",
       "      <td>0.0</td>\n",
       "      <td>0.0</td>\n",
       "      <td>0.0</td>\n",
       "    </tr>\n",
       "    <tr>\n",
       "      <th>1</th>\n",
       "      <td>0.0</td>\n",
       "      <td>0.0</td>\n",
       "      <td>1.0</td>\n",
       "      <td>0.0</td>\n",
       "      <td>0.0</td>\n",
       "      <td>0.0</td>\n",
       "    </tr>\n",
       "    <tr>\n",
       "      <th>2</th>\n",
       "      <td>0.0</td>\n",
       "      <td>0.0</td>\n",
       "      <td>1.0</td>\n",
       "      <td>0.0</td>\n",
       "      <td>0.0</td>\n",
       "      <td>0.0</td>\n",
       "    </tr>\n",
       "    <tr>\n",
       "      <th>3</th>\n",
       "      <td>0.0</td>\n",
       "      <td>0.0</td>\n",
       "      <td>0.0</td>\n",
       "      <td>0.0</td>\n",
       "      <td>0.0</td>\n",
       "      <td>1.0</td>\n",
       "    </tr>\n",
       "    <tr>\n",
       "      <th>4</th>\n",
       "      <td>0.0</td>\n",
       "      <td>0.0</td>\n",
       "      <td>0.0</td>\n",
       "      <td>1.0</td>\n",
       "      <td>0.0</td>\n",
       "      <td>0.0</td>\n",
       "    </tr>\n",
       "  </tbody>\n",
       "</table>\n",
       "</div>"
      ],
      "text/plain": [
       "     0    1    2    3    4    5\n",
       "0  0.0  1.0  0.0  0.0  0.0  0.0\n",
       "1  0.0  0.0  1.0  0.0  0.0  0.0\n",
       "2  0.0  0.0  1.0  0.0  0.0  0.0\n",
       "3  0.0  0.0  0.0  0.0  0.0  1.0\n",
       "4  0.0  0.0  0.0  1.0  0.0  0.0"
      ]
     },
     "execution_count": 180,
     "metadata": {},
     "output_type": "execute_result"
    }
   ],
   "source": [
    "pd.DataFrame(call_mat[:,1,:]).T.head()"
   ]
  },
  {
   "cell_type": "code",
   "execution_count": 181,
   "id": "daily-modeling",
   "metadata": {},
   "outputs": [],
   "source": [
    "for t in range(1,ttm):\n",
    "    face_values_mat[:,:] = np.where(call_mat[t,:,:]==1,nc_loans.loc[t,'FV'],face_values_mat[:,:])"
   ]
  },
  {
   "cell_type": "code",
   "execution_count": 182,
   "id": "greek-kernel",
   "metadata": {},
   "outputs": [
    {
     "data": {
      "text/html": [
       "<div>\n",
       "<style scoped>\n",
       "    .dataframe tbody tr th:only-of-type {\n",
       "        vertical-align: middle;\n",
       "    }\n",
       "\n",
       "    .dataframe tbody tr th {\n",
       "        vertical-align: top;\n",
       "    }\n",
       "\n",
       "    .dataframe thead th {\n",
       "        text-align: right;\n",
       "    }\n",
       "</style>\n",
       "<table border=\"1\" class=\"dataframe\">\n",
       "  <thead>\n",
       "    <tr style=\"text-align: right;\">\n",
       "      <th></th>\n",
       "      <th>PD</th>\n",
       "      <th>FV</th>\n",
       "      <th>MV</th>\n",
       "      <th>Y</th>\n",
       "    </tr>\n",
       "  </thead>\n",
       "  <tbody>\n",
       "    <tr>\n",
       "      <th>4</th>\n",
       "      <td>0.0334</td>\n",
       "      <td>63.848207</td>\n",
       "      <td>61.319846</td>\n",
       "      <td>0.040405</td>\n",
       "    </tr>\n",
       "    <tr>\n",
       "      <th>3</th>\n",
       "      <td>0.0780</td>\n",
       "      <td>64.233368</td>\n",
       "      <td>58.608757</td>\n",
       "      <td>0.045819</td>\n",
       "    </tr>\n",
       "    <tr>\n",
       "      <th>2</th>\n",
       "      <td>0.1175</td>\n",
       "      <td>66.827964</td>\n",
       "      <td>57.540211</td>\n",
       "      <td>0.049879</td>\n",
       "    </tr>\n",
       "    <tr>\n",
       "      <th>1</th>\n",
       "      <td>0.1489</td>\n",
       "      <td>70.010595</td>\n",
       "      <td>56.717107</td>\n",
       "      <td>0.052643</td>\n",
       "    </tr>\n",
       "  </tbody>\n",
       "</table>\n",
       "</div>"
      ],
      "text/plain": [
       "       PD         FV         MV         Y\n",
       "4  0.0334  63.848207  61.319846  0.040405\n",
       "3  0.0780  64.233368  58.608757  0.045819\n",
       "2  0.1175  66.827964  57.540211  0.049879\n",
       "1  0.1489  70.010595  56.717107  0.052643"
      ]
     },
     "execution_count": 182,
     "metadata": {},
     "output_type": "execute_result"
    }
   ],
   "source": [
    "nc_loans"
   ]
  },
  {
   "cell_type": "code",
   "execution_count": 183,
   "id": "broke-adrian",
   "metadata": {},
   "outputs": [],
   "source": [
    "# Determine Cash Flows to SPV\n",
    "for t in range(0, ttm + 1):\n",
    "    if t == ttm:\n",
    "        call_cfs_mat[t,:,:] = np.minimum(asset_paths[t,:,:], face_value) * call_mat[t,:,:]\n",
    "    else:\n",
    "        call_cfs_mat[t,:,:] = face_value * np.exp(-b_callable_yield * (ttm-t)) * call_mat[t,:,:]"
   ]
  },
  {
   "cell_type": "code",
   "execution_count": 184,
   "id": "structured-finder",
   "metadata": {},
   "outputs": [],
   "source": [
    "# Distributions to Equity\n",
    "for t in range(1, ttm):\n",
    "    cfs_distributions[t,:] = np.where(call_mat[t,:,:]==1, call_cfs_mat[t,:,:] - nc_loans.loc[t,'MV'],0).sum(axis=1)"
   ]
  },
  {
   "cell_type": "code",
   "execution_count": 185,
   "id": "geological-corps",
   "metadata": {},
   "outputs": [
    {
     "data": {
      "text/html": [
       "<div>\n",
       "<style scoped>\n",
       "    .dataframe tbody tr th:only-of-type {\n",
       "        vertical-align: middle;\n",
       "    }\n",
       "\n",
       "    .dataframe tbody tr th {\n",
       "        vertical-align: top;\n",
       "    }\n",
       "\n",
       "    .dataframe thead th {\n",
       "        text-align: right;\n",
       "    }\n",
       "</style>\n",
       "<table border=\"1\" class=\"dataframe\">\n",
       "  <thead>\n",
       "    <tr style=\"text-align: right;\">\n",
       "      <th></th>\n",
       "      <th>0</th>\n",
       "      <th>1</th>\n",
       "      <th>2</th>\n",
       "      <th>3</th>\n",
       "      <th>4</th>\n",
       "    </tr>\n",
       "  </thead>\n",
       "  <tbody>\n",
       "    <tr>\n",
       "      <th>0</th>\n",
       "      <td>0.0</td>\n",
       "      <td>78.526503</td>\n",
       "      <td>62.226147</td>\n",
       "      <td>55.385803</td>\n",
       "      <td>47.732328</td>\n",
       "    </tr>\n",
       "  </tbody>\n",
       "</table>\n",
       "</div>"
      ],
      "text/plain": [
       "     0          1          2          3          4\n",
       "0  0.0  78.526503  62.226147  55.385803  47.732328"
      ]
     },
     "execution_count": 185,
     "metadata": {},
     "output_type": "execute_result"
    }
   ],
   "source": [
    "pd.DataFrame(cfs_distributions[:,:].mean(axis=1)).T"
   ]
  },
  {
   "cell_type": "code",
   "execution_count": 186,
   "id": "rural-submission",
   "metadata": {},
   "outputs": [],
   "source": [
    "drift = (rf - 0.5 * sigma ** 2)\n",
    "diffusion = (beta * sigma_m * random[:,:,0].reshape((ttm + 1,N,1))) + (sigma_i * random[:,:,1:])\n",
    "increments = drift + diffusion\n",
    "increments[0] = 0\n",
    "a_paths = np.zeros_like(random[:,:,1:])\n",
    "a_paths[0,:,:] = V0 \n",
    "for t in range(1,ttm):\n",
    "    a_paths[t,:,:] = np.where(call_mat[t,:,:] == 1, V0, a_paths[t-1,:,:] * np.exp(increments[t,:,:]))\n",
    "a_paths[ttm,:,:] = a_paths[ttm-1,:,:] * np.exp(increments[ttm,:,:])"
   ]
  },
  {
   "cell_type": "code",
   "execution_count": 187,
   "id": "unlike-confusion",
   "metadata": {},
   "outputs": [
    {
     "data": {
      "text/plain": [
       "(250000, 125)"
      ]
     },
     "execution_count": 187,
     "metadata": {},
     "output_type": "execute_result"
    }
   ],
   "source": [
    "np.minimum(a_paths[ttm,:,:],face_values_mat).shape"
   ]
  },
  {
   "cell_type": "code",
   "execution_count": 188,
   "id": "permanent-corporation",
   "metadata": {},
   "outputs": [],
   "source": [
    "terminal_value = a_paths[-1,:,:]\n",
    "cash_flows = np.minimum(terminal_value, face_values_mat).sum(axis=1)\n",
    "sort = cash_flows.argsort()"
   ]
  },
  {
   "cell_type": "code",
   "execution_count": 189,
   "id": "capable-boring",
   "metadata": {},
   "outputs": [],
   "source": [
    "pp_SPV_Q = cash_flows[sort]"
   ]
  },
  {
   "cell_type": "code",
   "execution_count": null,
   "id": "double-initial",
   "metadata": {},
   "outputs": [],
   "source": []
  },
  {
   "cell_type": "code",
   "execution_count": 145,
   "id": "subsequent-weekend",
   "metadata": {},
   "outputs": [],
   "source": [
    "pp_SPV_P = cash_flows[sort]\n",
    "pp_M = random[1:,:,0].sum(axis=0)[sort]"
   ]
  },
  {
   "cell_type": "code",
   "execution_count": 169,
   "id": "passing-justice",
   "metadata": {},
   "outputs": [
    {
     "data": {
      "text/plain": [
       "(array([1.0000e+00, 0.0000e+00, 0.0000e+00, 0.0000e+00, 0.0000e+00,\n",
       "        1.0000e+00, 0.0000e+00, 2.0000e+00, 1.0000e+00, 2.0000e+00,\n",
       "        0.0000e+00, 1.0000e+00, 5.0000e+00, 6.0000e+00, 1.1000e+01,\n",
       "        1.0000e+01, 1.6000e+01, 1.9000e+01, 2.2000e+01, 2.4000e+01,\n",
       "        3.5000e+01, 5.0000e+01, 5.8000e+01, 8.6000e+01, 1.2600e+02,\n",
       "        1.7800e+02, 1.9300e+02, 2.8500e+02, 3.5400e+02, 5.0800e+02,\n",
       "        6.0900e+02, 8.2100e+02, 1.0720e+03, 1.3480e+03, 1.7780e+03,\n",
       "        2.2700e+03, 2.9360e+03, 3.7500e+03, 4.8200e+03, 6.2280e+03,\n",
       "        8.0110e+03, 1.0386e+04, 1.3098e+04, 1.6671e+04, 2.0706e+04,\n",
       "        2.5624e+04, 3.1110e+04, 3.5610e+04, 3.6306e+04, 2.4852e+04]),\n",
       " array([0.55596096, 0.56484174, 0.57372252, 0.5826033 , 0.59148408,\n",
       "        0.60036486, 0.60924564, 0.61812642, 0.62700721, 0.63588799,\n",
       "        0.64476877, 0.65364955, 0.66253033, 0.67141111, 0.68029189,\n",
       "        0.68917267, 0.69805345, 0.70693423, 0.71581501, 0.72469579,\n",
       "        0.73357658, 0.74245736, 0.75133814, 0.76021892, 0.7690997 ,\n",
       "        0.77798048, 0.78686126, 0.79574204, 0.80462282, 0.8135036 ,\n",
       "        0.82238438, 0.83126516, 0.84014595, 0.84902673, 0.85790751,\n",
       "        0.86678829, 0.87566907, 0.88454985, 0.89343063, 0.90231141,\n",
       "        0.91119219, 0.92007297, 0.92895375, 0.93783453, 0.94671532,\n",
       "        0.9555961 , 0.96447688, 0.97335766, 0.98223844, 0.99111922,\n",
       "        1.        ]),\n",
       " <BarContainer object of 50 artists>)"
      ]
     },
     "execution_count": 169,
     "metadata": {},
     "output_type": "execute_result"
    },
    {
     "data": {
      "image/png": "[encoded data removed]",
      "text/plain": [
       "<Figure size 640x480 with 1 Axes>"
      ]
     },
     "metadata": {},
     "output_type": "display_data"
    }
   ],
   "source": [
    "plt.hist(pp_SPV_P/max_spv_cash_flows,bins=50)\n",
    "plt.hist(SPV_P/max_spv_cash_flows,bins=50)\n",
    "            "
   ]
  },
  {
   "cell_type": "code",
   "execution_count": 146,
   "id": "atmospheric-dealing",
   "metadata": {},
   "outputs": [],
   "source": [
    "tmp, tranches_pp = np.zeros(7), np.zeros(7)\n",
    "i = 0\n",
    "for rating, def_prob in DefTable[ttm].items(): \n",
    "    tmp[i]  = np.quantile(pp_SPV_P, def_prob/100)\n",
    "    if i == 0 : tranches_pp[i] = np.quantile(pp_SPV_P, def_prob/100)\n",
    "    else: tranches_pp[i] = np.quantile(pp_SPV_P, def_prob/100) - tmp[i-1].sum(axis=0)\n",
    "    i = i + 1\n",
    "tranches_pp[i] = np.quantile(pp_SPV_P, 1) - tmp[i-1].sum(axis=0)"
   ]
  },
  {
   "cell_type": "code",
   "execution_count": 147,
   "id": "incident-evolution",
   "metadata": {},
   "outputs": [
    {
     "data": {
      "text/plain": [
       "array([6752.56162935,   31.2153885 ,  115.3956283 ,  336.20343599,\n",
       "        411.26578818,  296.57616819,  801.89094453])"
      ]
     },
     "execution_count": 147,
     "metadata": {},
     "output_type": "execute_result"
    }
   ],
   "source": [
    "tranches_pp"
   ]
  },
  {
   "cell_type": "code",
   "execution_count": 148,
   "id": "changing-mathematics",
   "metadata": {},
   "outputs": [
    {
     "data": {
      "text/plain": [
       "array([7233.12392595,   32.55366926,  125.58519927,  358.08993904,\n",
       "        442.005521  ,  317.878967  ,  671.06262338])"
      ]
     },
     "execution_count": 148,
     "metadata": {},
     "output_type": "execute_result"
    }
   ],
   "source": [
    "tranches"
   ]
  },
  {
   "cell_type": "markdown",
   "id": "subject-indie",
   "metadata": {},
   "source": [
    "# Cash Flows to each Tranche"
   ]
  },
  {
   "cell_type": "code",
   "execution_count": 149,
   "id": "broad-chess",
   "metadata": {},
   "outputs": [
    {
     "data": {
      "text/html": [
       "<div>\n",
       "<style scoped>\n",
       "    .dataframe tbody tr th:only-of-type {\n",
       "        vertical-align: middle;\n",
       "    }\n",
       "\n",
       "    .dataframe tbody tr th {\n",
       "        vertical-align: top;\n",
       "    }\n",
       "\n",
       "    .dataframe thead th {\n",
       "        text-align: right;\n",
       "    }\n",
       "</style>\n",
       "<table border=\"1\" class=\"dataframe\">\n",
       "  <thead>\n",
       "    <tr style=\"text-align: right;\">\n",
       "      <th></th>\n",
       "      <th>Cash Flows</th>\n",
       "      <th>Sum</th>\n",
       "    </tr>\n",
       "  </thead>\n",
       "  <tbody>\n",
       "    <tr>\n",
       "      <th>AAA</th>\n",
       "      <td>6752.561629</td>\n",
       "      <td>6752.561629</td>\n",
       "    </tr>\n",
       "    <tr>\n",
       "      <th>AA</th>\n",
       "      <td>31.215389</td>\n",
       "      <td>6783.777018</td>\n",
       "    </tr>\n",
       "    <tr>\n",
       "      <th>A</th>\n",
       "      <td>115.395628</td>\n",
       "      <td>6899.172646</td>\n",
       "    </tr>\n",
       "    <tr>\n",
       "      <th>BBB</th>\n",
       "      <td>336.203436</td>\n",
       "      <td>7235.376082</td>\n",
       "    </tr>\n",
       "    <tr>\n",
       "      <th>BB</th>\n",
       "      <td>411.265788</td>\n",
       "      <td>7646.641870</td>\n",
       "    </tr>\n",
       "    <tr>\n",
       "      <th>B</th>\n",
       "      <td>296.576168</td>\n",
       "      <td>7943.218039</td>\n",
       "    </tr>\n",
       "    <tr>\n",
       "      <th>Equity</th>\n",
       "      <td>801.890945</td>\n",
       "      <td>8745.108983</td>\n",
       "    </tr>\n",
       "  </tbody>\n",
       "</table>\n",
       "</div>"
      ],
      "text/plain": [
       "         Cash Flows          Sum\n",
       "AAA     6752.561629  6752.561629\n",
       "AA        31.215389  6783.777018\n",
       "A        115.395628  6899.172646\n",
       "BBB      336.203436  7235.376082\n",
       "BB       411.265788  7646.641870\n",
       "B        296.576168  7943.218039\n",
       "Equity   801.890945  8745.108983"
      ]
     },
     "execution_count": 149,
     "metadata": {},
     "output_type": "execute_result"
    }
   ],
   "source": [
    "pd.DataFrame({'Cash Flows':tranches_pp,'Sum':tranches_pp.cumsum()},[\"AAA\",\"AA\",\"A\",\"BBB\",\"BB\",\"B\",\"Equity\"])"
   ]
  },
  {
   "cell_type": "code",
   "execution_count": 150,
   "id": "thick-router",
   "metadata": {},
   "outputs": [
    {
     "data": {
      "image/png": "[encoded data removed]",
      "text/plain": [
       "<Figure size 551.102x314.961 with 2 Axes>"
      ]
     },
     "metadata": {},
     "output_type": "display_data"
    }
   ],
   "source": [
    "plt.figure(figsize=(textwidth, 8*cm))\n",
    "palette = sns.color_palette(\"summer\", n_colors=6, as_cmap=True)\n",
    "\n",
    "simulations = SPV_P\n",
    "simulations_pp = pp_SPV_P\n",
    "\n",
    "min_ = 7000\n",
    "max_ = 9200\n",
    "ax = sns.histplot(data=simulations, bins=25, color=palette(1), stat='probability', alpha=0.5)\n",
    "ax = sns.histplot(data=simulations_pp, bins=25, color=palette(75), stat='probability', alpha=0.5)\n",
    "\n",
    "plt.ylabel(\"Probability\")\n",
    "maxy = round(ax.get_ylim()[1],2)\n",
    "\n",
    "plt.ylim([0, maxy])\n",
    "plt.yticks(np.linspace(0, maxy, 6),[str(int(round(x,2)*100))+\"%\" for x in np.linspace(0, maxy, 6)])\n",
    "\n",
    "plt.xlim([min_,max_])\n",
    "plt.xlabel(\"Collateral Value\")\n",
    "\n",
    "for rating, def_prob in DefTable[ttm].items(): \n",
    "    value = np.quantile(simulations_pp, def_prob/100)\n",
    "    plt.vlines(value,0,maxy*1.05,color='k',linestyles='--',linewidth=0.75)\n",
    "    if rating == 'AAA':\n",
    "        plt.text(value,maxy*1.05,s=rating,ha='right',va='center',color='k')\n",
    "    elif rating == 'AA' or rating == 'A':\n",
    "        plt.text(value,maxy*1.05,s=rating,ha='left',va='center',color='k')\n",
    "    else:\n",
    "        plt.text(value,maxy*1.05,s=rating,ha='center',va='center',color='k')\n",
    "\n",
    "ax2 = ax.twinx()\n",
    "ax2 = sns.ecdfplot(data=simulations, color='k',linewidth=0.75, ax=ax2, stat='proportion')\n",
    "ax2 = sns.ecdfplot(data=simulations_pp, color='k',linewidth=0.75, ax=ax2, stat='proportion')\n",
    "plt.ylabel(\"Cumulative Probability\")\n",
    "plt.ylim([0,1])\n",
    "plt.yticks(np.linspace(0, 1, 6),[\"0%\",\"20%\",\"40%\",\"60%\",\"80%\",\"100%\"])\n",
    "\n",
    "plt.tight_layout()\n",
    "\n",
    "#plt.savefig(\"pic.pdf\", format='pdf', bbox_inches='tight')\n",
    "\n",
    "plt.show()"
   ]
  },
  {
   "cell_type": "code",
   "execution_count": 151,
   "id": "elegant-delicious",
   "metadata": {},
   "outputs": [],
   "source": [
    "pp_SPV_P_small = np.random.RandomState(1234).choice(pp_SPV_P,size=2500)\n",
    "pp_M_small = np.random.RandomState(1234).choice(pp_M,size=2500)"
   ]
  },
  {
   "cell_type": "code",
   "execution_count": 154,
   "id": "rural-sheriff",
   "metadata": {},
   "outputs": [
    {
     "data": {
      "image/png": "[encoded data removed]",
      "text/plain": [
       "<Figure size 640x480 with 1 Axes>"
      ]
     },
     "metadata": {},
     "output_type": "display_data"
    }
   ],
   "source": [
    "plt.scatter(x=pp_M_small/ttm, y = pp_SPV_P_small/max_spv_cash_flows, s = 0.5, color=palette(75))\n",
    "plt.scatter(x=scatter_data['Market Factor'], y = scatter_data['SPV'], s = 0.5, color=palette(1))\n",
    "plt.ylim([-0.05,1.05])\n",
    "plt.xlim([-2.25,2.25])\n",
    "plt.savefig('hallo.png')"
   ]
  },
  {
   "cell_type": "markdown",
   "id": "annual-traffic",
   "metadata": {},
   "source": [
    "Data for scatter plots"
   ]
  },
  {
   "cell_type": "code",
   "execution_count": 105,
   "id": "addressed-designer",
   "metadata": {},
   "outputs": [],
   "source": [
    "SPV_P_pp_small = np.random.RandomState(1234).choice(pp_SPV_P,size=2500)\n",
    "M_small = np.random.RandomState(1234).choice(pp_M,size=2500)"
   ]
  },
  {
   "cell_type": "code",
   "execution_count": 155,
   "id": "broad-security",
   "metadata": {},
   "outputs": [
    {
     "data": {
      "text/html": [
       "<div>\n",
       "<style scoped>\n",
       "    .dataframe tbody tr th:only-of-type {\n",
       "        vertical-align: middle;\n",
       "    }\n",
       "\n",
       "    .dataframe tbody tr th {\n",
       "        vertical-align: top;\n",
       "    }\n",
       "\n",
       "    .dataframe thead th {\n",
       "        text-align: right;\n",
       "    }\n",
       "</style>\n",
       "<table border=\"1\" class=\"dataframe\">\n",
       "  <thead>\n",
       "    <tr style=\"text-align: right;\">\n",
       "      <th></th>\n",
       "      <th>SPV</th>\n",
       "      <th>Market Factor</th>\n",
       "      <th>AAA</th>\n",
       "      <th>AA</th>\n",
       "      <th>A</th>\n",
       "      <th>BBB</th>\n",
       "      <th>BB</th>\n",
       "      <th>B</th>\n",
       "      <th>Equity</th>\n",
       "    </tr>\n",
       "  </thead>\n",
       "  <tbody>\n",
       "    <tr>\n",
       "      <th>0</th>\n",
       "      <td>0.908249</td>\n",
       "      <td>0.829746</td>\n",
       "      <td>1.0</td>\n",
       "      <td>1.0</td>\n",
       "      <td>1.0</td>\n",
       "      <td>1.0</td>\n",
       "      <td>1.000000</td>\n",
       "      <td>1.000000</td>\n",
       "      <td>0.492309</td>\n",
       "    </tr>\n",
       "    <tr>\n",
       "      <th>1</th>\n",
       "      <td>0.890168</td>\n",
       "      <td>0.284469</td>\n",
       "      <td>1.0</td>\n",
       "      <td>1.0</td>\n",
       "      <td>1.0</td>\n",
       "      <td>1.0</td>\n",
       "      <td>1.000000</td>\n",
       "      <td>1.000000</td>\n",
       "      <td>0.285311</td>\n",
       "    </tr>\n",
       "    <tr>\n",
       "      <th>2</th>\n",
       "      <td>0.878800</td>\n",
       "      <td>0.218164</td>\n",
       "      <td>1.0</td>\n",
       "      <td>1.0</td>\n",
       "      <td>1.0</td>\n",
       "      <td>1.0</td>\n",
       "      <td>1.000000</td>\n",
       "      <td>1.000000</td>\n",
       "      <td>0.155173</td>\n",
       "    </tr>\n",
       "    <tr>\n",
       "      <th>3</th>\n",
       "      <td>0.857374</td>\n",
       "      <td>0.080173</td>\n",
       "      <td>1.0</td>\n",
       "      <td>1.0</td>\n",
       "      <td>1.0</td>\n",
       "      <td>1.0</td>\n",
       "      <td>1.000000</td>\n",
       "      <td>0.756319</td>\n",
       "      <td>0.000000</td>\n",
       "    </tr>\n",
       "    <tr>\n",
       "      <th>4</th>\n",
       "      <td>0.891358</td>\n",
       "      <td>0.249629</td>\n",
       "      <td>1.0</td>\n",
       "      <td>1.0</td>\n",
       "      <td>1.0</td>\n",
       "      <td>1.0</td>\n",
       "      <td>1.000000</td>\n",
       "      <td>1.000000</td>\n",
       "      <td>0.298934</td>\n",
       "    </tr>\n",
       "    <tr>\n",
       "      <th>...</th>\n",
       "      <td>...</td>\n",
       "      <td>...</td>\n",
       "      <td>...</td>\n",
       "      <td>...</td>\n",
       "      <td>...</td>\n",
       "      <td>...</td>\n",
       "      <td>...</td>\n",
       "      <td>...</td>\n",
       "      <td>...</td>\n",
       "    </tr>\n",
       "    <tr>\n",
       "      <th>2495</th>\n",
       "      <td>0.883696</td>\n",
       "      <td>0.382752</td>\n",
       "      <td>1.0</td>\n",
       "      <td>1.0</td>\n",
       "      <td>1.0</td>\n",
       "      <td>1.0</td>\n",
       "      <td>1.000000</td>\n",
       "      <td>1.000000</td>\n",
       "      <td>0.211217</td>\n",
       "    </tr>\n",
       "    <tr>\n",
       "      <th>2496</th>\n",
       "      <td>0.865273</td>\n",
       "      <td>-0.028076</td>\n",
       "      <td>1.0</td>\n",
       "      <td>1.0</td>\n",
       "      <td>1.0</td>\n",
       "      <td>1.0</td>\n",
       "      <td>1.000000</td>\n",
       "      <td>1.000000</td>\n",
       "      <td>0.000310</td>\n",
       "    </tr>\n",
       "    <tr>\n",
       "      <th>2497</th>\n",
       "      <td>0.893031</td>\n",
       "      <td>0.161635</td>\n",
       "      <td>1.0</td>\n",
       "      <td>1.0</td>\n",
       "      <td>1.0</td>\n",
       "      <td>1.0</td>\n",
       "      <td>1.000000</td>\n",
       "      <td>1.000000</td>\n",
       "      <td>0.318089</td>\n",
       "    </tr>\n",
       "    <tr>\n",
       "      <th>2498</th>\n",
       "      <td>0.817504</td>\n",
       "      <td>-0.185345</td>\n",
       "      <td>1.0</td>\n",
       "      <td>1.0</td>\n",
       "      <td>1.0</td>\n",
       "      <td>1.0</td>\n",
       "      <td>0.655427</td>\n",
       "      <td>0.000000</td>\n",
       "      <td>0.000000</td>\n",
       "    </tr>\n",
       "    <tr>\n",
       "      <th>2499</th>\n",
       "      <td>0.896266</td>\n",
       "      <td>0.330396</td>\n",
       "      <td>1.0</td>\n",
       "      <td>1.0</td>\n",
       "      <td>1.0</td>\n",
       "      <td>1.0</td>\n",
       "      <td>1.000000</td>\n",
       "      <td>1.000000</td>\n",
       "      <td>0.355132</td>\n",
       "    </tr>\n",
       "  </tbody>\n",
       "</table>\n",
       "<p>2500 rows × 9 columns</p>\n",
       "</div>"
      ],
      "text/plain": [
       "           SPV  Market Factor  AAA   AA    A  BBB        BB         B  \\\n",
       "0     0.908249       0.829746  1.0  1.0  1.0  1.0  1.000000  1.000000   \n",
       "1     0.890168       0.284469  1.0  1.0  1.0  1.0  1.000000  1.000000   \n",
       "2     0.878800       0.218164  1.0  1.0  1.0  1.0  1.000000  1.000000   \n",
       "3     0.857374       0.080173  1.0  1.0  1.0  1.0  1.000000  0.756319   \n",
       "4     0.891358       0.249629  1.0  1.0  1.0  1.0  1.000000  1.000000   \n",
       "...        ...            ...  ...  ...  ...  ...       ...       ...   \n",
       "2495  0.883696       0.382752  1.0  1.0  1.0  1.0  1.000000  1.000000   \n",
       "2496  0.865273      -0.028076  1.0  1.0  1.0  1.0  1.000000  1.000000   \n",
       "2497  0.893031       0.161635  1.0  1.0  1.0  1.0  1.000000  1.000000   \n",
       "2498  0.817504      -0.185345  1.0  1.0  1.0  1.0  0.655427  0.000000   \n",
       "2499  0.896266       0.330396  1.0  1.0  1.0  1.0  1.000000  1.000000   \n",
       "\n",
       "        Equity  \n",
       "0     0.492309  \n",
       "1     0.285311  \n",
       "2     0.155173  \n",
       "3     0.000000  \n",
       "4     0.298934  \n",
       "...        ...  \n",
       "2495  0.211217  \n",
       "2496  0.000310  \n",
       "2497  0.318089  \n",
       "2498  0.000000  \n",
       "2499  0.355132  \n",
       "\n",
       "[2500 rows x 9 columns]"
      ]
     },
     "execution_count": 155,
     "metadata": {},
     "output_type": "execute_result"
    }
   ],
   "source": [
    "scatter_data2 = pd.DataFrame({'SPV':SPV_P_pp_small/ max_spv_cash_flows,\n",
    "                             'Market Factor':M_small / ttm,\n",
    "                             'AAA':ott.clo_payoffs(SPV_P_pp_small,tranches_pp)[0]/ tranches_pp[0],\n",
    "                             'AA':ott.clo_payoffs(SPV_P_pp_small,tranches_pp)[1]/ tranches_pp[1],\n",
    "                             'A':ott.clo_payoffs(SPV_P_pp_small,tranches_pp)[2] / tranches_pp[2],\n",
    "                             'BBB':ott.clo_payoffs(SPV_P_pp_small,tranches_pp)[3] / tranches_pp[3],\n",
    "                             'BB':ott.clo_payoffs(SPV_P_pp_small,tranches_pp)[4] / tranches_pp[4],\n",
    "                             'B':ott.clo_payoffs(SPV_P_pp_small,tranches_pp)[5] / tranches_pp[5],\n",
    "                             'Equity':ott.clo_payoffs(SPV_P_pp_small,tranches_pp)[6]/ tranches_pp[6]})\n",
    "scatter_data2"
   ]
  },
  {
   "cell_type": "code",
   "execution_count": 156,
   "id": "hollow-burns",
   "metadata": {},
   "outputs": [
    {
     "data": {
      "image/png": "[encoded data removed]",
      "text/plain": [
       "<Figure size 551.102x787.402 with 8 Axes>"
      ]
     },
     "metadata": {},
     "output_type": "display_data"
    }
   ],
   "source": [
    "fig, axs = plt.subplots(ncols=2,nrows=4,sharex=True,sharey=True)\n",
    "\n",
    "palette = sns.color_palette(\"summer\", n_colors=6, as_cmap=True)\n",
    "\n",
    "fig.text(0.5, -0.015, 'Market Factor $Z_{m}$', ha='center', size=11)\n",
    "fig.text(-0.025, 0.5, 'Normalized Payoffs', va='center', rotation='vertical', size=11)\n",
    "\n",
    "i,j = 0,0\n",
    "for tranche in [\"Equity\",\"SPV\",\"AA\",\"AAA\",\"BBB\",\"A\",\"B\",\"BB\"]:\n",
    "    if j == 0: j = 1\n",
    "    else: j = 0\n",
    "    axs[i,j].scatter(x=scatter_data['Market Factor'], y = scatter_data[tranche], s= 0.5, color=palette(1),alpha=0.75)\n",
    "    axs[i,j].scatter(x=scatter_data2['Market Factor'], y = scatter_data2[tranche], s= 0.5, color=palette(150))\n",
    "    axs[i,j].set_title(tranche, size=11)\n",
    "    \n",
    "    axs[i,j].axhline(scatter_data[tranche].mean(),-2.25, 2.25,c=\"k\",linewidth=0.5)\n",
    "    axs[i,j].axhline(scatter_data2[tranche].mean(),-2.25, 2.25,c=\"k\",linewidth=0.5)\n",
    "    \n",
    "    axs[i,j].set_xlabel('')\n",
    "    axs[i,j].set_xlim([-2.25,2.25])\n",
    "    axs[i,j].set_xticks([-2,-1,0,1,2])\n",
    "    \n",
    "    axs[i,j].set_ylabel('')\n",
    "    axs[i,j].set_ylim([-0.05,1.05])\n",
    "    axs[i,j].set_yticks([0,0.2,0.4,0.6,0.8,1])\n",
    "    axs[i,j].grid(lw=0.3)\n",
    "    if j == 0: i = i + 1\n",
    "\n",
    "fig.set_size_inches(textwidth, 20*cm)\n",
    "fig.tight_layout()\n",
    "\n",
    "#fig.savefig(\"Payoffs.pdf\", bbox_inches='tight', format='pdf')\n",
    "\n",
    "plt.show()"
   ]
  },
  {
   "cell_type": "code",
   "execution_count": 240,
   "id": "brazilian-blond",
   "metadata": {},
   "outputs": [],
   "source": [
    "initial_market_value_prepayment = mv_call * J"
   ]
  },
  {
   "cell_type": "code",
   "execution_count": 241,
   "id": "reflected-evening",
   "metadata": {},
   "outputs": [
    {
     "data": {
      "text/html": [
       "<div>\n",
       "<style scoped>\n",
       "    .dataframe tbody tr th:only-of-type {\n",
       "        vertical-align: middle;\n",
       "    }\n",
       "\n",
       "    .dataframe tbody tr th {\n",
       "        vertical-align: top;\n",
       "    }\n",
       "\n",
       "    .dataframe thead th {\n",
       "        text-align: right;\n",
       "    }\n",
       "</style>\n",
       "<table border=\"1\" class=\"dataframe\">\n",
       "  <thead>\n",
       "    <tr style=\"text-align: right;\">\n",
       "      <th></th>\n",
       "      <th>Default Probability</th>\n",
       "      <th>Face Value</th>\n",
       "    </tr>\n",
       "  </thead>\n",
       "  <tbody>\n",
       "    <tr>\n",
       "      <th>AAA</th>\n",
       "      <td>0.27</td>\n",
       "      <td>98.725617</td>\n",
       "    </tr>\n",
       "    <tr>\n",
       "      <th>AA</th>\n",
       "      <td>0.30</td>\n",
       "      <td>99.182001</td>\n",
       "    </tr>\n",
       "    <tr>\n",
       "      <th>A</th>\n",
       "      <td>0.46</td>\n",
       "      <td>100.869139</td>\n",
       "    </tr>\n",
       "    <tr>\n",
       "      <th>BBB</th>\n",
       "      <td>1.54</td>\n",
       "      <td>105.784591</td>\n",
       "    </tr>\n",
       "    <tr>\n",
       "      <th>BB</th>\n",
       "      <td>6.43</td>\n",
       "      <td>111.797490</td>\n",
       "    </tr>\n",
       "    <tr>\n",
       "      <th>B</th>\n",
       "      <td>17.35</td>\n",
       "      <td>116.133572</td>\n",
       "    </tr>\n",
       "  </tbody>\n",
       "</table>\n",
       "</div>"
      ],
      "text/plain": [
       "     Default Probability  Face Value\n",
       "AAA                 0.27   98.725617\n",
       "AA                  0.30   99.182001\n",
       "A                   0.46  100.869139\n",
       "BBB                 1.54  105.784591\n",
       "BB                  6.43  111.797490\n",
       "B                  17.35  116.133572"
      ]
     },
     "execution_count": 241,
     "metadata": {},
     "output_type": "execute_result"
    }
   ],
   "source": [
    "prepay_tab = DefTable[[ttm]].copy()\n",
    "prepay_tab.rename(columns={5:'Default Probability'},inplace=True)\n",
    "prepay_tab['Face Value'] = (np.quantile(pp_SPV_P, prepay_tab['Default Probability']/100) / initial_market_value_prepayment) * 100\n",
    "prepay_tab"
   ]
  },
  {
   "cell_type": "code",
   "execution_count": 242,
   "id": "thousand-repair",
   "metadata": {},
   "outputs": [
    {
     "name": "stdout",
     "output_type": "stream",
     "text": [
      "The maximum normalized payoff is: 134.22\n"
     ]
    }
   ],
   "source": [
    "maximum_norm_payoff = max_spv_cash_flows / initial_market_value_prepayment * 100\n",
    "print('The maximum normalized payoff is: {0:0.2f}'.format(maximum_norm_payoff))"
   ]
  },
  {
   "cell_type": "code",
   "execution_count": 243,
   "id": "sized-burton",
   "metadata": {},
   "outputs": [],
   "source": [
    "for rating in prepay_tab.index:\n",
    "    prepay_tab.loc[rating, 'Market Value'] = (np.minimum(pp_SPV_Q,\n",
    "                                                         np.quantile(pp_SPV_P,\n",
    "                                                                     prepay_tab.loc[rating, 'Default Probability']/100\n",
    "                                                                    )).mean() * np.exp(-rf*ttm) / initial_market_value_prepayment) * 100"
   ]
  },
  {
   "cell_type": "markdown",
   "id": "solid-stereo",
   "metadata": {},
   "source": [
    "Preliminary table before tranching"
   ]
  },
  {
   "cell_type": "code",
   "execution_count": 244,
   "id": "hydraulic-baghdad",
   "metadata": {},
   "outputs": [
    {
     "data": {
      "text/html": [
       "<div>\n",
       "<style scoped>\n",
       "    .dataframe tbody tr th:only-of-type {\n",
       "        vertical-align: middle;\n",
       "    }\n",
       "\n",
       "    .dataframe tbody tr th {\n",
       "        vertical-align: top;\n",
       "    }\n",
       "\n",
       "    .dataframe thead th {\n",
       "        text-align: right;\n",
       "    }\n",
       "</style>\n",
       "<table border=\"1\" class=\"dataframe\">\n",
       "  <thead>\n",
       "    <tr style=\"text-align: right;\">\n",
       "      <th></th>\n",
       "      <th>Default Probability</th>\n",
       "      <th>Face Value</th>\n",
       "      <th>Market Value</th>\n",
       "    </tr>\n",
       "  </thead>\n",
       "  <tbody>\n",
       "    <tr>\n",
       "      <th>AAA</th>\n",
       "      <td>0.27</td>\n",
       "      <td>98.73</td>\n",
       "      <td>82.68</td>\n",
       "    </tr>\n",
       "    <tr>\n",
       "      <th>AA</th>\n",
       "      <td>0.30</td>\n",
       "      <td>99.18</td>\n",
       "      <td>83.05</td>\n",
       "    </tr>\n",
       "    <tr>\n",
       "      <th>A</th>\n",
       "      <td>0.46</td>\n",
       "      <td>100.87</td>\n",
       "      <td>84.39</td>\n",
       "    </tr>\n",
       "    <tr>\n",
       "      <th>BBB</th>\n",
       "      <td>1.54</td>\n",
       "      <td>105.78</td>\n",
       "      <td>88.11</td>\n",
       "    </tr>\n",
       "    <tr>\n",
       "      <th>BB</th>\n",
       "      <td>6.43</td>\n",
       "      <td>111.80</td>\n",
       "      <td>92.04</td>\n",
       "    </tr>\n",
       "    <tr>\n",
       "      <th>B</th>\n",
       "      <td>17.35</td>\n",
       "      <td>116.13</td>\n",
       "      <td>94.11</td>\n",
       "    </tr>\n",
       "  </tbody>\n",
       "</table>\n",
       "</div>"
      ],
      "text/plain": [
       "     Default Probability  Face Value  Market Value\n",
       "AAA                 0.27       98.73         82.68\n",
       "AA                  0.30       99.18         83.05\n",
       "A                   0.46      100.87         84.39\n",
       "BBB                 1.54      105.78         88.11\n",
       "BB                  6.43      111.80         92.04\n",
       "B                  17.35      116.13         94.11"
      ]
     },
     "execution_count": 244,
     "metadata": {},
     "output_type": "execute_result"
    }
   ],
   "source": [
    "prepay_tab.round(2)"
   ]
  },
  {
   "cell_type": "markdown",
   "id": "arranged-highland",
   "metadata": {},
   "source": [
    "Tranching"
   ]
  },
  {
   "cell_type": "code",
   "execution_count": 245,
   "id": "happy-spectacular",
   "metadata": {},
   "outputs": [],
   "source": [
    "prepay_tab.loc[:,'Face Value':'Market Value'] = prepay_tab.loc[:,'Face Value':'Market Value'] - prepay_tab.loc[:,'Face Value':'Market Value'].shift(1)\n",
    "prepay_tab.loc['AAA','Face Value'] = (np.quantile(pp_SPV_P, prepay_tab.loc['AAA','Default Probability']/100) / initial_market_value_prepayment) * 100\n",
    "prepay_tab.loc['AAA','Market Value'] = (np.minimum(pp_SPV_Q, np.quantile(pp_SPV_P, prepay_tab.loc['AAA', 'Default Probability']/100)).mean() * np.exp(-rf*ttm) / initial_market_value_prepayment) * 100\n",
    "prepay_tab['Yield'] = ott.zero_yield(prepay_tab['Market Value'], prepay_tab['Face Value'], ttm) * 100\n",
    "prepay_tab.loc['Equity','Market Value'] = 100 - prepay_tab['Market Value'].sum(axis=0)"
   ]
  },
  {
   "cell_type": "code",
   "execution_count": 246,
   "id": "aware-technique",
   "metadata": {},
   "outputs": [
    {
     "data": {
      "text/html": [
       "<div>\n",
       "<style scoped>\n",
       "    .dataframe tbody tr th:only-of-type {\n",
       "        vertical-align: middle;\n",
       "    }\n",
       "\n",
       "    .dataframe tbody tr th {\n",
       "        vertical-align: top;\n",
       "    }\n",
       "\n",
       "    .dataframe thead th {\n",
       "        text-align: right;\n",
       "    }\n",
       "</style>\n",
       "<table border=\"1\" class=\"dataframe\">\n",
       "  <thead>\n",
       "    <tr style=\"text-align: right;\">\n",
       "      <th></th>\n",
       "      <th>Default Probability</th>\n",
       "      <th>Face Value</th>\n",
       "      <th>Market Value</th>\n",
       "      <th>Yield</th>\n",
       "    </tr>\n",
       "  </thead>\n",
       "  <tbody>\n",
       "    <tr>\n",
       "      <th>AAA</th>\n",
       "      <td>0.27</td>\n",
       "      <td>98.73</td>\n",
       "      <td>82.68</td>\n",
       "      <td>3.55</td>\n",
       "    </tr>\n",
       "    <tr>\n",
       "      <th>AA</th>\n",
       "      <td>0.30</td>\n",
       "      <td>0.46</td>\n",
       "      <td>0.37</td>\n",
       "      <td>4.43</td>\n",
       "    </tr>\n",
       "    <tr>\n",
       "      <th>A</th>\n",
       "      <td>0.46</td>\n",
       "      <td>1.69</td>\n",
       "      <td>1.34</td>\n",
       "      <td>4.63</td>\n",
       "    </tr>\n",
       "    <tr>\n",
       "      <th>BBB</th>\n",
       "      <td>1.54</td>\n",
       "      <td>4.92</td>\n",
       "      <td>3.73</td>\n",
       "      <td>5.54</td>\n",
       "    </tr>\n",
       "    <tr>\n",
       "      <th>BB</th>\n",
       "      <td>6.43</td>\n",
       "      <td>6.01</td>\n",
       "      <td>3.93</td>\n",
       "      <td>8.53</td>\n",
       "    </tr>\n",
       "    <tr>\n",
       "      <th>B</th>\n",
       "      <td>17.35</td>\n",
       "      <td>4.34</td>\n",
       "      <td>2.07</td>\n",
       "      <td>14.80</td>\n",
       "    </tr>\n",
       "    <tr>\n",
       "      <th>Equity</th>\n",
       "      <td>NaN</td>\n",
       "      <td>NaN</td>\n",
       "      <td>5.89</td>\n",
       "      <td>NaN</td>\n",
       "    </tr>\n",
       "  </tbody>\n",
       "</table>\n",
       "</div>"
      ],
      "text/plain": [
       "        Default Probability  Face Value  Market Value  Yield\n",
       "AAA                    0.27       98.73         82.68   3.55\n",
       "AA                     0.30        0.46          0.37   4.43\n",
       "A                      0.46        1.69          1.34   4.63\n",
       "BBB                    1.54        4.92          3.73   5.54\n",
       "BB                     6.43        6.01          3.93   8.53\n",
       "B                     17.35        4.34          2.07  14.80\n",
       "Equity                  NaN         NaN          5.89    NaN"
      ]
     },
     "execution_count": 246,
     "metadata": {},
     "output_type": "execute_result"
    }
   ],
   "source": [
    "prepay_tab.round(2)"
   ]
  },
  {
   "cell_type": "code",
   "execution_count": 247,
   "id": "whole-infection",
   "metadata": {},
   "outputs": [
    {
     "data": {
      "text/plain": [
       "0.04486079616065834"
      ]
     },
     "execution_count": 247,
     "metadata": {},
     "output_type": "execute_result"
    }
   ],
   "source": [
    "ott.zero_yield(82.68,103.47,ttm)"
   ]
  },
  {
   "cell_type": "markdown",
   "id": "blocked-bidding",
   "metadata": {},
   "source": [
    "Comparison with no prepayment case"
   ]
  },
  {
   "cell_type": "code",
   "execution_count": 248,
   "id": "laden-cheat",
   "metadata": {},
   "outputs": [
    {
     "data": {
      "text/html": [
       "<div>\n",
       "<style scoped>\n",
       "    .dataframe tbody tr th:only-of-type {\n",
       "        vertical-align: middle;\n",
       "    }\n",
       "\n",
       "    .dataframe tbody tr th {\n",
       "        vertical-align: top;\n",
       "    }\n",
       "\n",
       "    .dataframe thead th {\n",
       "        text-align: right;\n",
       "    }\n",
       "</style>\n",
       "<table border=\"1\" class=\"dataframe\">\n",
       "  <thead>\n",
       "    <tr style=\"text-align: right;\">\n",
       "      <th></th>\n",
       "      <th>Default Probability</th>\n",
       "      <th>Face Value</th>\n",
       "      <th>Market Value</th>\n",
       "      <th>Yield</th>\n",
       "    </tr>\n",
       "  </thead>\n",
       "  <tbody>\n",
       "    <tr>\n",
       "      <th>AAA</th>\n",
       "      <td>0.27</td>\n",
       "      <td>103.47</td>\n",
       "      <td>86.64</td>\n",
       "      <td>3.55</td>\n",
       "    </tr>\n",
       "    <tr>\n",
       "      <th>AA</th>\n",
       "      <td>0.30</td>\n",
       "      <td>0.47</td>\n",
       "      <td>0.37</td>\n",
       "      <td>4.48</td>\n",
       "    </tr>\n",
       "    <tr>\n",
       "      <th>A</th>\n",
       "      <td>0.46</td>\n",
       "      <td>1.80</td>\n",
       "      <td>1.42</td>\n",
       "      <td>4.69</td>\n",
       "    </tr>\n",
       "    <tr>\n",
       "      <th>BBB</th>\n",
       "      <td>1.54</td>\n",
       "      <td>5.12</td>\n",
       "      <td>3.87</td>\n",
       "      <td>5.61</td>\n",
       "    </tr>\n",
       "    <tr>\n",
       "      <th>BB</th>\n",
       "      <td>6.43</td>\n",
       "      <td>6.32</td>\n",
       "      <td>4.11</td>\n",
       "      <td>8.63</td>\n",
       "    </tr>\n",
       "    <tr>\n",
       "      <th>B</th>\n",
       "      <td>17.35</td>\n",
       "      <td>4.55</td>\n",
       "      <td>2.15</td>\n",
       "      <td>15.00</td>\n",
       "    </tr>\n",
       "    <tr>\n",
       "      <th>Equity</th>\n",
       "      <td>NaN</td>\n",
       "      <td>NaN</td>\n",
       "      <td>1.44</td>\n",
       "      <td>NaN</td>\n",
       "    </tr>\n",
       "  </tbody>\n",
       "</table>\n",
       "</div>"
      ],
      "text/plain": [
       "        Default Probability  Face Value  Market Value  Yield\n",
       "AAA                    0.27      103.47         86.64   3.55\n",
       "AA                     0.30        0.47          0.37   4.48\n",
       "A                      0.46        1.80          1.42   4.69\n",
       "BBB                    1.54        5.12          3.87   5.61\n",
       "BB                     6.43        6.32          4.11   8.63\n",
       "B                     17.35        4.55          2.15  15.00\n",
       "Equity                  NaN         NaN          1.44    NaN"
      ]
     },
     "execution_count": 248,
     "metadata": {},
     "output_type": "execute_result"
    }
   ],
   "source": [
    "no_prepay_tab.round(2)"
   ]
  },
  {
   "cell_type": "code",
   "execution_count": 249,
   "id": "sorted-bhutan",
   "metadata": {},
   "outputs": [
    {
     "data": {
      "text/plain": [
       "<AxesSubplot:ylabel='Probability'>"
      ]
     },
     "execution_count": 249,
     "metadata": {},
     "output_type": "execute_result"
    },
    {
     "data": {
      "image/png": "[encoded data removed]",
      "text/plain": [
       "<Figure size 640x480 with 1 Axes>"
      ]
     },
     "metadata": {},
     "output_type": "display_data"
    }
   ],
   "source": [
    "sns.histplot(data=SPV_Q, bins=25, color=palette(1), stat='probability', alpha=0.5)\n",
    "sns.histplot(data=pp_SPV_Q, bins=25, color=palette(1), stat='probability', alpha=1)"
   ]
  }
 ],
 "metadata": {
  "kernelspec": {
   "display_name": "Python 3",
   "language": "python",
   "name": "python3"
  },
  "language_info": {
   "codemirror_mode": {
    "name": "ipython",
    "version": 3
   },
   "file_extension": ".py",
   "mimetype": "text/x-python",
   "name": "python",
   "nbconvert_exporter": "python",
   "pygments_lexer": "ipython3",
   "version": "3.8.5"
  }
 },
 "nbformat": 4,
 "nbformat_minor": 5
}
