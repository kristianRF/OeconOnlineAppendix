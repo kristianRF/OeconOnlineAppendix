{
 "cells": [
  {
   "cell_type": "markdown",
   "id": "successful-marine",
   "metadata": {},
   "source": [
    "### Load Packages"
   ]
  },
  {
   "cell_type": "code",
   "execution_count": 95,
   "id": "greek-contributor",
   "metadata": {},
   "outputs": [
    {
     "name": "stdout",
     "output_type": "stream",
     "text": [
      "The autoreload extension is already loaded. To reload it, use:\n",
      "  %reload_ext autoreload\n"
     ]
    }
   ],
   "source": [
    "import pandas as pd\n",
    "import numpy as np\n",
    "import matplotlib\n",
    "import matplotlib.pyplot as plt\n",
    "import datetime as dt\n",
    "import math\n",
    "import seaborn as sns\n",
    "\n",
    "# Import Custom Module\n",
    "import OeconToolbox as ott\n",
    "\n",
    "%load_ext autoreload\n",
    "%autoreload 2\n",
    "%matplotlib inline"
   ]
  },
  {
   "cell_type": "markdown",
   "id": "spectacular-produce",
   "metadata": {},
   "source": [
    "### [OPTIONAL] Set Matplotlib Style"
   ]
  },
  {
   "cell_type": "code",
   "execution_count": 2,
   "id": "excellent-finish",
   "metadata": {},
   "outputs": [],
   "source": [
    "matplotlib.style.use('default')\n",
    "\n",
    "matplotlib.rcParams.update({\n",
    "    \"font.family\": \"sans-serif\",\n",
    "    \"font.sans-serif\": [\"Helvetica\"],\n",
    "    \"font.size\": 10})\n",
    "matplotlib.path.should_simplify = True\n",
    "\n",
    "sns.set_style(\"ticks\")\n",
    "\n",
    "cm = 1/2.54\n",
    "textwidth = 13.998 / 2.54"
   ]
  },
  {
   "cell_type": "markdown",
   "id": "native-imperial",
   "metadata": {},
   "source": [
    "## Import Cumulative Default Table"
   ]
  },
  {
   "cell_type": "code",
   "execution_count": 3,
   "id": "third-playlist",
   "metadata": {},
   "outputs": [
    {
     "data": {
      "text/html": [
       "<div>\n",
       "<style scoped>\n",
       "    .dataframe tbody tr th:only-of-type {\n",
       "        vertical-align: middle;\n",
       "    }\n",
       "\n",
       "    .dataframe tbody tr th {\n",
       "        vertical-align: top;\n",
       "    }\n",
       "\n",
       "    .dataframe thead th {\n",
       "        text-align: right;\n",
       "    }\n",
       "</style>\n",
       "<table border=\"1\" class=\"dataframe\">\n",
       "  <thead>\n",
       "    <tr style=\"text-align: right;\">\n",
       "      <th></th>\n",
       "      <th>1</th>\n",
       "      <th>2</th>\n",
       "      <th>3</th>\n",
       "      <th>4</th>\n",
       "      <th>5</th>\n",
       "      <th>6</th>\n",
       "      <th>7</th>\n",
       "      <th>8</th>\n",
       "      <th>9</th>\n",
       "      <th>10</th>\n",
       "    </tr>\n",
       "  </thead>\n",
       "  <tbody>\n",
       "    <tr>\n",
       "      <th>AAA</th>\n",
       "      <td>0.00</td>\n",
       "      <td>0.03</td>\n",
       "      <td>0.10</td>\n",
       "      <td>0.19</td>\n",
       "      <td>0.27</td>\n",
       "      <td>0.37</td>\n",
       "      <td>0.41</td>\n",
       "      <td>0.46</td>\n",
       "      <td>0.52</td>\n",
       "      <td>0.58</td>\n",
       "    </tr>\n",
       "    <tr>\n",
       "      <th>AA</th>\n",
       "      <td>0.02</td>\n",
       "      <td>0.06</td>\n",
       "      <td>0.11</td>\n",
       "      <td>0.21</td>\n",
       "      <td>0.30</td>\n",
       "      <td>0.41</td>\n",
       "      <td>0.49</td>\n",
       "      <td>0.56</td>\n",
       "      <td>0.63</td>\n",
       "      <td>0.70</td>\n",
       "    </tr>\n",
       "    <tr>\n",
       "      <th>A</th>\n",
       "      <td>0.05</td>\n",
       "      <td>0.13</td>\n",
       "      <td>0.22</td>\n",
       "      <td>0.33</td>\n",
       "      <td>0.46</td>\n",
       "      <td>0.60</td>\n",
       "      <td>0.76</td>\n",
       "      <td>0.90</td>\n",
       "      <td>1.05</td>\n",
       "      <td>1.20</td>\n",
       "    </tr>\n",
       "    <tr>\n",
       "      <th>BBB</th>\n",
       "      <td>0.16</td>\n",
       "      <td>0.43</td>\n",
       "      <td>0.75</td>\n",
       "      <td>1.14</td>\n",
       "      <td>1.54</td>\n",
       "      <td>1.94</td>\n",
       "      <td>2.27</td>\n",
       "      <td>2.61</td>\n",
       "      <td>2.94</td>\n",
       "      <td>3.24</td>\n",
       "    </tr>\n",
       "    <tr>\n",
       "      <th>BB</th>\n",
       "      <td>0.63</td>\n",
       "      <td>1.93</td>\n",
       "      <td>3.46</td>\n",
       "      <td>4.99</td>\n",
       "      <td>6.43</td>\n",
       "      <td>7.75</td>\n",
       "      <td>8.89</td>\n",
       "      <td>9.90</td>\n",
       "      <td>10.82</td>\n",
       "      <td>11.64</td>\n",
       "    </tr>\n",
       "    <tr>\n",
       "      <th>B</th>\n",
       "      <td>3.34</td>\n",
       "      <td>7.80</td>\n",
       "      <td>11.75</td>\n",
       "      <td>14.89</td>\n",
       "      <td>17.35</td>\n",
       "      <td>19.36</td>\n",
       "      <td>20.99</td>\n",
       "      <td>22.31</td>\n",
       "      <td>23.50</td>\n",
       "      <td>24.62</td>\n",
       "    </tr>\n",
       "  </tbody>\n",
       "</table>\n",
       "</div>"
      ],
      "text/plain": [
       "       1     2      3      4      5      6      7      8      9      10\n",
       "AAA  0.00  0.03   0.10   0.19   0.27   0.37   0.41   0.46   0.52   0.58\n",
       "AA   0.02  0.06   0.11   0.21   0.30   0.41   0.49   0.56   0.63   0.70\n",
       "A    0.05  0.13   0.22   0.33   0.46   0.60   0.76   0.90   1.05   1.20\n",
       "BBB  0.16  0.43   0.75   1.14   1.54   1.94   2.27   2.61   2.94   3.24\n",
       "BB   0.63  1.93   3.46   4.99   6.43   7.75   8.89   9.90  10.82  11.64\n",
       "B    3.34  7.80  11.75  14.89  17.35  19.36  20.99  22.31  23.50  24.62"
      ]
     },
     "execution_count": 3,
     "metadata": {},
     "output_type": "execute_result"
    }
   ],
   "source": [
    "DefTable = pd.read_excel(\"CumulativeDefaultTable.xlsx\",header=[0],index_col=[0],skipfooter=5,usecols=\"A:K\")\n",
    "DefTable.round(2)"
   ]
  },
  {
   "cell_type": "markdown",
   "id": "presidential-customer",
   "metadata": {},
   "source": [
    "# Simulating a Portfolio of loans\n",
    "The SPV portfolio consists of $J$ loans from identical corporate issuers with a single class of debt outstanding. The parameters of the issuers is identical to those described in the 'Collateral Dynamics.ipynb' notebook."
   ]
  },
  {
   "cell_type": "markdown",
   "id": "proof-alcohol",
   "metadata": {},
   "source": [
    "## Parameters of the Corporate Issuers"
   ]
  },
  {
   "cell_type": "code",
   "execution_count": 4,
   "id": "neither-ceiling",
   "metadata": {},
   "outputs": [],
   "source": [
    "V0 = 100      # Initial Asset Value\n",
    "rf = .035     # Risk-Free Rate\n",
    "rm = .105     # Market Return\n",
    "beta = .8     # Firm CAPM Coefficient\n",
    "sigma_i = .25 # Idiosyncratic Risk\n",
    "sigma_m = .14 # Market Risk\n",
    "ttm = 5       # Time to Maturity of Debt\n",
    "penalty = 0   # Penalty on prepayment"
   ]
  },
  {
   "cell_type": "markdown",
   "id": "passing-marketplace",
   "metadata": {},
   "source": [
    "Auxiliary Calculations"
   ]
  },
  {
   "cell_type": "code",
   "execution_count": 260,
   "id": "defined-smell",
   "metadata": {},
   "outputs": [],
   "source": [
    "mu = rf + beta * (rm - rf)\n",
    "sigma = ott.sigma_beta_adj(beta, sigma_m, sigma_i)\n",
    "face_value = ott.facevalue_from_probability(DefTable.loc[\"B\", ttm] / 100, V0, ttm, mu, sigma)\n",
    "market_value = ott.mv_bond(V0, face_value, ttm, rf, sigma)\n",
    "b_loan_yield = ott.zero_yield(market_value,face_value, ttm)\n",
    "b_callable_yield = 0.058862441702705035\n",
    "mv_call = 54.71780723807047"
   ]
  },
  {
   "cell_type": "markdown",
   "id": "breeding-translation",
   "metadata": {},
   "source": [
    "## Parameters of the SPV"
   ]
  },
  {
   "cell_type": "code",
   "execution_count": 6,
   "id": "gothic-premiere",
   "metadata": {},
   "outputs": [],
   "source": [
    "J = 125    # number of loans\n",
    "N = 250000 # Number of simulated portfolios"
   ]
  },
  {
   "cell_type": "markdown",
   "id": "greenhouse-institute",
   "metadata": {},
   "source": [
    "# Modelling the SPV Dynamics without Prepayment on Collateral Assets"
   ]
  },
  {
   "cell_type": "code",
   "execution_count": 7,
   "id": "conservative-explorer",
   "metadata": {},
   "outputs": [
    {
     "name": "stdout",
     "output_type": "stream",
     "text": [
      "The absolute maximum payoff: 9180.30 with initial market value: 6990.38\n"
     ]
    }
   ],
   "source": [
    "max_spv_cash_flows = face_value * J\n",
    "initial_market_value = market_value * J\n",
    "print(\"The absolute maximum payoff: {0:0.2f} with initial market value: {1:0.2f}\".format(max_spv_cash_flows,initial_market_value))"
   ]
  },
  {
   "cell_type": "markdown",
   "id": "daily-seating",
   "metadata": {},
   "source": [
    "Total SPV payoffs (under Q-measure)"
   ]
  },
  {
   "cell_type": "code",
   "execution_count": 275,
   "id": "numerous-diary",
   "metadata": {},
   "outputs": [],
   "source": [
    "SPV_Q, _ = ott.loan_portfolio(j = J,\n",
    "                              n = N,\n",
    "                              V = V0,\n",
    "                              B = face_value,\n",
    "                              T = ttm,\n",
    "                              rf = rf,\n",
    "                              rm = rm,\n",
    "                              beta = beta,\n",
    "                              sigmaI = sigma_i,\n",
    "                              sigmaM = sigma_m,\n",
    "                              risk_neutral=True,\n",
    "                              paths=False)"
   ]
  },
  {
   "cell_type": "markdown",
   "id": "julian-communications",
   "metadata": {},
   "source": [
    "Total SPV payoffs (under P-measure)"
   ]
  },
  {
   "cell_type": "code",
   "execution_count": 211,
   "id": "encouraging-crossing",
   "metadata": {},
   "outputs": [],
   "source": [
    "SPV_P, M = ott.loan_portfolio(j = J,\n",
    "                              n = N,\n",
    "                              V = V0,\n",
    "                              B = face_value,\n",
    "                              T = ttm,\n",
    "                              rf = rf,\n",
    "                              rm = rm,\n",
    "                              beta = beta,\n",
    "                              sigmaI = sigma_i,\n",
    "                              sigmaM = sigma_m,\n",
    "                              risk_neutral=False,\n",
    "                              paths=False)"
   ]
  },
  {
   "cell_type": "code",
   "execution_count": 212,
   "id": "aware-jacksonville",
   "metadata": {},
   "outputs": [],
   "source": [
    "tmp, tranches = np.zeros(7), np.zeros(7)\n",
    "i = 0\n",
    "for rating, def_prob in DefTable[ttm].items(): \n",
    "    tmp[i]  = np.quantile(SPV_P, def_prob/100)\n",
    "    if i == 0 : tranches[i] = np.quantile(SPV_P, def_prob/100)\n",
    "    else: tranches[i] = np.quantile(SPV_P, def_prob/100) - tmp[i-1].sum(axis=0)\n",
    "    i = i + 1\n",
    "tranches[i] = np.quantile(SPV_P, 1) - tmp[i-1].sum(axis=0)"
   ]
  },
  {
   "cell_type": "markdown",
   "id": "instructional-retailer",
   "metadata": {},
   "source": [
    "## Cash Flows to each Tranche"
   ]
  },
  {
   "cell_type": "code",
   "execution_count": 213,
   "id": "restricted-pierre",
   "metadata": {},
   "outputs": [
    {
     "data": {
      "text/html": [
       "<div>\n",
       "<style scoped>\n",
       "    .dataframe tbody tr th:only-of-type {\n",
       "        vertical-align: middle;\n",
       "    }\n",
       "\n",
       "    .dataframe tbody tr th {\n",
       "        vertical-align: top;\n",
       "    }\n",
       "\n",
       "    .dataframe thead th {\n",
       "        text-align: right;\n",
       "    }\n",
       "</style>\n",
       "<table border=\"1\" class=\"dataframe\">\n",
       "  <thead>\n",
       "    <tr style=\"text-align: right;\">\n",
       "      <th></th>\n",
       "      <th>Cash Flows</th>\n",
       "      <th>Sum</th>\n",
       "    </tr>\n",
       "  </thead>\n",
       "  <tbody>\n",
       "    <tr>\n",
       "      <th>AAA</th>\n",
       "      <td>7233.123926</td>\n",
       "      <td>7233.123926</td>\n",
       "    </tr>\n",
       "    <tr>\n",
       "      <th>AA</th>\n",
       "      <td>32.553669</td>\n",
       "      <td>7265.677595</td>\n",
       "    </tr>\n",
       "    <tr>\n",
       "      <th>A</th>\n",
       "      <td>125.585199</td>\n",
       "      <td>7391.262794</td>\n",
       "    </tr>\n",
       "    <tr>\n",
       "      <th>BBB</th>\n",
       "      <td>358.089939</td>\n",
       "      <td>7749.352734</td>\n",
       "    </tr>\n",
       "    <tr>\n",
       "      <th>BB</th>\n",
       "      <td>442.005521</td>\n",
       "      <td>8191.358255</td>\n",
       "    </tr>\n",
       "    <tr>\n",
       "      <th>B</th>\n",
       "      <td>317.878967</td>\n",
       "      <td>8509.237222</td>\n",
       "    </tr>\n",
       "    <tr>\n",
       "      <th>Equity</th>\n",
       "      <td>671.062623</td>\n",
       "      <td>9180.299845</td>\n",
       "    </tr>\n",
       "  </tbody>\n",
       "</table>\n",
       "</div>"
      ],
      "text/plain": [
       "         Cash Flows          Sum\n",
       "AAA     7233.123926  7233.123926\n",
       "AA        32.553669  7265.677595\n",
       "A        125.585199  7391.262794\n",
       "BBB      358.089939  7749.352734\n",
       "BB       442.005521  8191.358255\n",
       "B        317.878967  8509.237222\n",
       "Equity   671.062623  9180.299845"
      ]
     },
     "execution_count": 213,
     "metadata": {},
     "output_type": "execute_result"
    }
   ],
   "source": [
    "pd.DataFrame({'Cash Flows':tranches,'Sum':tranches.cumsum()},[\"AAA\",\"AA\",\"A\",\"BBB\",\"BB\",\"B\",\"Equity\"])"
   ]
  },
  {
   "cell_type": "code",
   "execution_count": 214,
   "id": "conservative-cemetery",
   "metadata": {},
   "outputs": [
    {
     "data": {
      "image/png": "[encoded data removed]",
      "text/plain": [
       "<Figure size 396.794x226.772 with 2 Axes>"
      ]
     },
     "metadata": {
      "needs_background": "light"
     },
     "output_type": "display_data"
    }
   ],
   "source": [
    "plt.figure(figsize=(textwidth, 8*cm))\n",
    "palette = sns.color_palette(\"summer\", n_colors=6, as_cmap=True)\n",
    "\n",
    "simulations = SPV_P\n",
    "\n",
    "min_ = 7000\n",
    "max_ = 9200\n",
    "ax = sns.histplot(data=simulations, bins=25, color=palette(1), stat='probability', alpha=1)\n",
    "plt.ylabel(\"Probability\")\n",
    "maxy = round(ax.get_ylim()[1],2)\n",
    "\n",
    "plt.ylim([0, maxy])\n",
    "plt.yticks(np.linspace(0, maxy, 6),[str(int(round(x,2)*100))+\"%\" for x in np.linspace(0, maxy, 6)])\n",
    "\n",
    "plt.xlim([min_,max_])\n",
    "plt.xlabel(\"Collateral Value\")\n",
    "\n",
    "for rating, def_prob in DefTable[ttm].items(): \n",
    "    value = np.quantile(simulations, def_prob/100)\n",
    "    plt.vlines(value,0,maxy*1.05,color='k',linestyles='--',linewidth=0.75)\n",
    "    if rating == 'AAA':\n",
    "        plt.text(value,maxy*1.05,s=rating,ha='right',va='center',color='k')\n",
    "    elif rating == 'AA' or rating == 'A':\n",
    "        plt.text(value,maxy*1.05,s=rating,ha='left',va='center',color='k')\n",
    "    else:\n",
    "        plt.text(value,maxy*1.05,s=rating,ha='center',va='center',color='k')\n",
    "\n",
    "ax2 = ax.twinx()\n",
    "ax2 = sns.ecdfplot(data=simulations, color='k',linewidth=0.75, ax=ax2, stat='proportion')\n",
    "plt.ylabel(\"Cumulative Probability\")\n",
    "plt.ylim([0,1])\n",
    "plt.yticks(np.linspace(0, 1, 6),[\"0%\",\"20%\",\"40%\",\"60%\",\"80%\",\"100%\"])\n",
    "\n",
    "plt.tight_layout()\n",
    "plt.show()\n",
    "#plt.savefig(\"pic.pdf\", format='pdf', bbox_inches='tight')"
   ]
  },
  {
   "cell_type": "markdown",
   "id": "existing-abuse",
   "metadata": {},
   "source": [
    "Data For Scatterplots"
   ]
  },
  {
   "cell_type": "code",
   "execution_count": 17,
   "id": "commercial-attraction",
   "metadata": {},
   "outputs": [],
   "source": [
    "SPV_P_small = np.random.RandomState(1234).choice(SPV_P,size=2500)\n",
    "M_small = np.random.RandomState(1234).choice(M,size=2500)"
   ]
  },
  {
   "cell_type": "code",
   "execution_count": 18,
   "id": "purple-reality",
   "metadata": {},
   "outputs": [
    {
     "data": {
      "text/html": [
       "<div>\n",
       "<style scoped>\n",
       "    .dataframe tbody tr th:only-of-type {\n",
       "        vertical-align: middle;\n",
       "    }\n",
       "\n",
       "    .dataframe tbody tr th {\n",
       "        vertical-align: top;\n",
       "    }\n",
       "\n",
       "    .dataframe thead th {\n",
       "        text-align: right;\n",
       "    }\n",
       "</style>\n",
       "<table border=\"1\" class=\"dataframe\">\n",
       "  <thead>\n",
       "    <tr style=\"text-align: right;\">\n",
       "      <th></th>\n",
       "      <th>SPV</th>\n",
       "      <th>Market Factor</th>\n",
       "      <th>AAA</th>\n",
       "      <th>AA</th>\n",
       "      <th>A</th>\n",
       "      <th>BBB</th>\n",
       "      <th>BB</th>\n",
       "      <th>B</th>\n",
       "      <th>Equity</th>\n",
       "    </tr>\n",
       "  </thead>\n",
       "  <tbody>\n",
       "    <tr>\n",
       "      <th>0</th>\n",
       "      <td>0.990824</td>\n",
       "      <td>0.249813</td>\n",
       "      <td>1.0</td>\n",
       "      <td>1.0</td>\n",
       "      <td>1.0</td>\n",
       "      <td>1.0</td>\n",
       "      <td>1.0</td>\n",
       "      <td>1.0</td>\n",
       "      <td>0.874467</td>\n",
       "    </tr>\n",
       "    <tr>\n",
       "      <th>1</th>\n",
       "      <td>0.982318</td>\n",
       "      <td>0.007552</td>\n",
       "      <td>1.0</td>\n",
       "      <td>1.0</td>\n",
       "      <td>1.0</td>\n",
       "      <td>1.0</td>\n",
       "      <td>1.0</td>\n",
       "      <td>1.0</td>\n",
       "      <td>0.758100</td>\n",
       "    </tr>\n",
       "    <tr>\n",
       "      <th>2</th>\n",
       "      <td>0.976469</td>\n",
       "      <td>0.196481</td>\n",
       "      <td>1.0</td>\n",
       "      <td>1.0</td>\n",
       "      <td>1.0</td>\n",
       "      <td>1.0</td>\n",
       "      <td>1.0</td>\n",
       "      <td>1.0</td>\n",
       "      <td>0.678097</td>\n",
       "    </tr>\n",
       "    <tr>\n",
       "      <th>3</th>\n",
       "      <td>0.964409</td>\n",
       "      <td>-0.136603</td>\n",
       "      <td>1.0</td>\n",
       "      <td>1.0</td>\n",
       "      <td>1.0</td>\n",
       "      <td>1.0</td>\n",
       "      <td>1.0</td>\n",
       "      <td>1.0</td>\n",
       "      <td>0.513102</td>\n",
       "    </tr>\n",
       "    <tr>\n",
       "      <th>4</th>\n",
       "      <td>0.982938</td>\n",
       "      <td>0.328542</td>\n",
       "      <td>1.0</td>\n",
       "      <td>1.0</td>\n",
       "      <td>1.0</td>\n",
       "      <td>1.0</td>\n",
       "      <td>1.0</td>\n",
       "      <td>1.0</td>\n",
       "      <td>0.766591</td>\n",
       "    </tr>\n",
       "    <tr>\n",
       "      <th>...</th>\n",
       "      <td>...</td>\n",
       "      <td>...</td>\n",
       "      <td>...</td>\n",
       "      <td>...</td>\n",
       "      <td>...</td>\n",
       "      <td>...</td>\n",
       "      <td>...</td>\n",
       "      <td>...</td>\n",
       "      <td>...</td>\n",
       "    </tr>\n",
       "    <tr>\n",
       "      <th>2495</th>\n",
       "      <td>0.979048</td>\n",
       "      <td>0.134932</td>\n",
       "      <td>1.0</td>\n",
       "      <td>1.0</td>\n",
       "      <td>1.0</td>\n",
       "      <td>1.0</td>\n",
       "      <td>1.0</td>\n",
       "      <td>1.0</td>\n",
       "      <td>0.713368</td>\n",
       "    </tr>\n",
       "    <tr>\n",
       "      <th>2496</th>\n",
       "      <td>0.968940</td>\n",
       "      <td>0.348749</td>\n",
       "      <td>1.0</td>\n",
       "      <td>1.0</td>\n",
       "      <td>1.0</td>\n",
       "      <td>1.0</td>\n",
       "      <td>1.0</td>\n",
       "      <td>1.0</td>\n",
       "      <td>0.575085</td>\n",
       "    </tr>\n",
       "    <tr>\n",
       "      <th>2497</th>\n",
       "      <td>0.983798</td>\n",
       "      <td>0.594158</td>\n",
       "      <td>1.0</td>\n",
       "      <td>1.0</td>\n",
       "      <td>1.0</td>\n",
       "      <td>1.0</td>\n",
       "      <td>1.0</td>\n",
       "      <td>1.0</td>\n",
       "      <td>0.778358</td>\n",
       "    </tr>\n",
       "    <tr>\n",
       "      <th>2498</th>\n",
       "      <td>0.939418</td>\n",
       "      <td>-0.309687</td>\n",
       "      <td>1.0</td>\n",
       "      <td>1.0</td>\n",
       "      <td>1.0</td>\n",
       "      <td>1.0</td>\n",
       "      <td>1.0</td>\n",
       "      <td>1.0</td>\n",
       "      <td>0.171217</td>\n",
       "    </tr>\n",
       "    <tr>\n",
       "      <th>2499</th>\n",
       "      <td>0.985371</td>\n",
       "      <td>0.734664</td>\n",
       "      <td>1.0</td>\n",
       "      <td>1.0</td>\n",
       "      <td>1.0</td>\n",
       "      <td>1.0</td>\n",
       "      <td>1.0</td>\n",
       "      <td>1.0</td>\n",
       "      <td>0.799867</td>\n",
       "    </tr>\n",
       "  </tbody>\n",
       "</table>\n",
       "<p>2500 rows × 9 columns</p>\n",
       "</div>"
      ],
      "text/plain": [
       "           SPV  Market Factor  AAA   AA    A  BBB   BB    B    Equity\n",
       "0     0.990824       0.249813  1.0  1.0  1.0  1.0  1.0  1.0  0.874467\n",
       "1     0.982318       0.007552  1.0  1.0  1.0  1.0  1.0  1.0  0.758100\n",
       "2     0.976469       0.196481  1.0  1.0  1.0  1.0  1.0  1.0  0.678097\n",
       "3     0.964409      -0.136603  1.0  1.0  1.0  1.0  1.0  1.0  0.513102\n",
       "4     0.982938       0.328542  1.0  1.0  1.0  1.0  1.0  1.0  0.766591\n",
       "...        ...            ...  ...  ...  ...  ...  ...  ...       ...\n",
       "2495  0.979048       0.134932  1.0  1.0  1.0  1.0  1.0  1.0  0.713368\n",
       "2496  0.968940       0.348749  1.0  1.0  1.0  1.0  1.0  1.0  0.575085\n",
       "2497  0.983798       0.594158  1.0  1.0  1.0  1.0  1.0  1.0  0.778358\n",
       "2498  0.939418      -0.309687  1.0  1.0  1.0  1.0  1.0  1.0  0.171217\n",
       "2499  0.985371       0.734664  1.0  1.0  1.0  1.0  1.0  1.0  0.799867\n",
       "\n",
       "[2500 rows x 9 columns]"
      ]
     },
     "execution_count": 18,
     "metadata": {},
     "output_type": "execute_result"
    }
   ],
   "source": [
    "scatter_data = pd.DataFrame({'SPV':SPV_P_small/ max_spv_cash_flows,\n",
    "                             'Market Factor':M_small / 5,\n",
    "                             'AAA':ott.clo_payoffs(SPV_P_small,tranches)[0]/ tranches[0],\n",
    "                             'AA':ott.clo_payoffs(SPV_P_small,tranches)[1]/ tranches[1],\n",
    "                             'A':ott.clo_payoffs(SPV_P_small,tranches)[2] / tranches[2],\n",
    "                             'BBB':ott.clo_payoffs(SPV_P_small,tranches)[3] / tranches[3],\n",
    "                             'BB':ott.clo_payoffs(SPV_P_small,tranches)[4] / tranches[4],\n",
    "                             'B':ott.clo_payoffs(SPV_P_small,tranches)[5] / tranches[5],\n",
    "                             'Equity':ott.clo_payoffs(SPV_P_small,tranches)[6]/ tranches[6]})\n",
    "scatter_data"
   ]
  },
  {
   "cell_type": "code",
   "execution_count": 22,
   "id": "aboriginal-salem",
   "metadata": {},
   "outputs": [
    {
     "data": {
      "image/png": "[encoded data removed]",
      "text/plain": [
       "<Figure size 551.102x787.402 with 8 Axes>"
      ]
     },
     "metadata": {},
     "output_type": "display_data"
    }
   ],
   "source": [
    "fig, axs = plt.subplots(ncols=2,nrows=4,sharex=True,sharey=True)\n",
    "\n",
    "palette = sns.color_palette(\"summer\", n_colors=6, as_cmap=True)\n",
    "\n",
    "fig.text(0.5, -0.015, 'Market Factor $Z_{m}$', ha='center', size=11)\n",
    "fig.text(-0.025, 0.5, 'Normalized Payoffs', va='center', rotation='vertical', size=11)\n",
    "\n",
    "i,j = 0,0\n",
    "for tranche in [\"Equity\",\"SPV\",\"AA\",\"AAA\",\"BBB\",\"A\",\"B\",\"BB\"]:\n",
    "    if j == 0: j = 1\n",
    "    else: j = 0\n",
    "    axs[i,j].scatter(x=scatter_data['Market Factor'], y = scatter_data[tranche], s= 0.5, color=palette(1))\n",
    "    axs[i,j].set_title(tranche, size=11)\n",
    "    axs[i,j].axhline(scatter_data[tranche].mean(),-2.25, 2.25,c=\"k\",linewidth=0.5)\n",
    "    \n",
    "    axs[i,j].set_xlabel('')\n",
    "    axs[i,j].set_xlim([-2.25,2.25])\n",
    "    axs[i,j].set_xticks([-2,-1,0,1,2])\n",
    "    \n",
    "    axs[i,j].set_ylabel('')\n",
    "    axs[i,j].set_ylim([-0.05,1.05])\n",
    "    axs[i,j].set_yticks([0,0.2,0.4,0.6,0.8,1])\n",
    "    axs[i,j].grid(lw=0.3)\n",
    "    if j == 0: i = i + 1\n",
    "\n",
    "fig.set_size_inches(textwidth, 20*cm)\n",
    "fig.tight_layout()\n",
    "\n",
    "plt.show()\n",
    "\n",
    "#fig.savefig(\"Payoffs.png\", bbox_inches='tight', format='png', dpi=600)"
   ]
  },
  {
   "cell_type": "code",
   "execution_count": 23,
   "id": "innocent-entity",
   "metadata": {},
   "outputs": [
    {
     "data": {
      "text/html": [
       "<div>\n",
       "<style scoped>\n",
       "    .dataframe tbody tr th:only-of-type {\n",
       "        vertical-align: middle;\n",
       "    }\n",
       "\n",
       "    .dataframe tbody tr th {\n",
       "        vertical-align: top;\n",
       "    }\n",
       "\n",
       "    .dataframe thead th {\n",
       "        text-align: right;\n",
       "    }\n",
       "</style>\n",
       "<table border=\"1\" class=\"dataframe\">\n",
       "  <thead>\n",
       "    <tr style=\"text-align: right;\">\n",
       "      <th></th>\n",
       "      <th>Default Probability</th>\n",
       "      <th>Face Value</th>\n",
       "    </tr>\n",
       "  </thead>\n",
       "  <tbody>\n",
       "    <tr>\n",
       "      <th>AAA</th>\n",
       "      <td>0.27</td>\n",
       "      <td>103.472511</td>\n",
       "    </tr>\n",
       "    <tr>\n",
       "      <th>AA</th>\n",
       "      <td>0.30</td>\n",
       "      <td>103.938203</td>\n",
       "    </tr>\n",
       "    <tr>\n",
       "      <th>A</th>\n",
       "      <td>0.46</td>\n",
       "      <td>105.734746</td>\n",
       "    </tr>\n",
       "    <tr>\n",
       "      <th>BBB</th>\n",
       "      <td>1.54</td>\n",
       "      <td>110.857355</td>\n",
       "    </tr>\n",
       "    <tr>\n",
       "      <th>BB</th>\n",
       "      <td>6.43</td>\n",
       "      <td>117.180407</td>\n",
       "    </tr>\n",
       "    <tr>\n",
       "      <th>B</th>\n",
       "      <td>17.35</td>\n",
       "      <td>121.727783</td>\n",
       "    </tr>\n",
       "  </tbody>\n",
       "</table>\n",
       "</div>"
      ],
      "text/plain": [
       "     Default Probability  Face Value\n",
       "AAA                 0.27  103.472511\n",
       "AA                  0.30  103.938203\n",
       "A                   0.46  105.734746\n",
       "BBB                 1.54  110.857355\n",
       "BB                  6.43  117.180407\n",
       "B                  17.35  121.727783"
      ]
     },
     "execution_count": 23,
     "metadata": {},
     "output_type": "execute_result"
    }
   ],
   "source": [
    "no_prepay_tab = DefTable[[ttm]].copy()\n",
    "no_prepay_tab.rename(columns={5:'Default Probability'},inplace=True)\n",
    "no_prepay_tab['Face Value'] = (np.quantile(SPV_P, no_prepay_tab['Default Probability']/100) / initial_market_value) * 100\n",
    "no_prepay_tab"
   ]
  },
  {
   "cell_type": "code",
   "execution_count": 24,
   "id": "impaired-delhi",
   "metadata": {},
   "outputs": [
    {
     "name": "stdout",
     "output_type": "stream",
     "text": [
      "The maximum normalized payoff is: 131.33\n"
     ]
    }
   ],
   "source": [
    "maximum_norm_payoff = max_spv_cash_flows / initial_market_value * 100\n",
    "print('The maximum normalized payoff is: {0:0.2f}'.format(maximum_norm_payoff))"
   ]
  },
  {
   "cell_type": "code",
   "execution_count": 25,
   "id": "direct-athletics",
   "metadata": {},
   "outputs": [],
   "source": [
    "for rating in no_prepay_tab.index:\n",
    "    no_prepay_tab.loc[rating, 'Market Value'] = (np.minimum(SPV_Q,\n",
    "                                                            np.quantile(SPV_P,\n",
    "                                                                        no_prepay_tab.loc[rating, 'Default Probability']/100\n",
    "                                                                       )).mean() * np.exp(-rf*ttm) / initial_market_value) * 100"
   ]
  },
  {
   "cell_type": "markdown",
   "id": "desirable-trader",
   "metadata": {},
   "source": [
    "Preliminary Table before \"tranching\""
   ]
  },
  {
   "cell_type": "code",
   "execution_count": 26,
   "id": "cardiac-newman",
   "metadata": {},
   "outputs": [
    {
     "data": {
      "text/html": [
       "<div>\n",
       "<style scoped>\n",
       "    .dataframe tbody tr th:only-of-type {\n",
       "        vertical-align: middle;\n",
       "    }\n",
       "\n",
       "    .dataframe tbody tr th {\n",
       "        vertical-align: top;\n",
       "    }\n",
       "\n",
       "    .dataframe thead th {\n",
       "        text-align: right;\n",
       "    }\n",
       "</style>\n",
       "<table border=\"1\" class=\"dataframe\">\n",
       "  <thead>\n",
       "    <tr style=\"text-align: right;\">\n",
       "      <th></th>\n",
       "      <th>Default Probability</th>\n",
       "      <th>Face Value</th>\n",
       "      <th>Market Value</th>\n",
       "    </tr>\n",
       "  </thead>\n",
       "  <tbody>\n",
       "    <tr>\n",
       "      <th>AAA</th>\n",
       "      <td>0.27</td>\n",
       "      <td>103.472511</td>\n",
       "      <td>86.643869</td>\n",
       "    </tr>\n",
       "    <tr>\n",
       "      <th>AA</th>\n",
       "      <td>0.30</td>\n",
       "      <td>103.938203</td>\n",
       "      <td>87.016100</td>\n",
       "    </tr>\n",
       "    <tr>\n",
       "      <th>A</th>\n",
       "      <td>0.46</td>\n",
       "      <td>105.734746</td>\n",
       "      <td>88.437341</td>\n",
       "    </tr>\n",
       "    <tr>\n",
       "      <th>BBB</th>\n",
       "      <td>1.54</td>\n",
       "      <td>110.857355</td>\n",
       "      <td>92.307683</td>\n",
       "    </tr>\n",
       "    <tr>\n",
       "      <th>BB</th>\n",
       "      <td>6.43</td>\n",
       "      <td>117.180407</td>\n",
       "      <td>96.413813</td>\n",
       "    </tr>\n",
       "    <tr>\n",
       "      <th>B</th>\n",
       "      <td>17.35</td>\n",
       "      <td>121.727783</td>\n",
       "      <td>98.562188</td>\n",
       "    </tr>\n",
       "  </tbody>\n",
       "</table>\n",
       "</div>"
      ],
      "text/plain": [
       "     Default Probability  Face Value  Market Value\n",
       "AAA                 0.27  103.472511     86.643869\n",
       "AA                  0.30  103.938203     87.016100\n",
       "A                   0.46  105.734746     88.437341\n",
       "BBB                 1.54  110.857355     92.307683\n",
       "BB                  6.43  117.180407     96.413813\n",
       "B                  17.35  121.727783     98.562188"
      ]
     },
     "execution_count": 26,
     "metadata": {},
     "output_type": "execute_result"
    }
   ],
   "source": [
    "no_prepay_tab"
   ]
  },
  {
   "cell_type": "markdown",
   "id": "administrative-comment",
   "metadata": {},
   "source": [
    "Tranching:"
   ]
  },
  {
   "cell_type": "code",
   "execution_count": 27,
   "id": "discrete-webcam",
   "metadata": {},
   "outputs": [],
   "source": [
    "no_prepay_tab.loc[:,'Face Value':'Market Value'] = no_prepay_tab.loc[:,'Face Value':'Market Value'] - no_prepay_tab.loc[:,'Face Value':'Market Value'].shift(1)\n",
    "no_prepay_tab.loc['AAA','Face Value'] = (np.quantile(SPV_P, no_prepay_tab.loc['AAA','Default Probability']/100) / initial_market_value) * 100\n",
    "no_prepay_tab.loc['AAA','Market Value'] = (np.minimum(SPV_Q, np.quantile(SPV_P, no_prepay_tab.loc['AAA', 'Default Probability']/100)).mean() * np.exp(-rf*ttm) / initial_market_value) * 100\n",
    "no_prepay_tab['Yield'] = ott.zero_yield(no_prepay_tab['Market Value'], no_prepay_tab['Face Value'], ttm) * 100\n",
    "no_prepay_tab.loc['Equity','Market Value'] = 100 - no_prepay_tab['Market Value'].sum(axis=0)"
   ]
  },
  {
   "cell_type": "code",
   "execution_count": 28,
   "id": "automatic-treasurer",
   "metadata": {},
   "outputs": [
    {
     "data": {
      "text/html": [
       "<div>\n",
       "<style scoped>\n",
       "    .dataframe tbody tr th:only-of-type {\n",
       "        vertical-align: middle;\n",
       "    }\n",
       "\n",
       "    .dataframe tbody tr th {\n",
       "        vertical-align: top;\n",
       "    }\n",
       "\n",
       "    .dataframe thead th {\n",
       "        text-align: right;\n",
       "    }\n",
       "</style>\n",
       "<table border=\"1\" class=\"dataframe\">\n",
       "  <thead>\n",
       "    <tr style=\"text-align: right;\">\n",
       "      <th></th>\n",
       "      <th>Default Probability</th>\n",
       "      <th>Face Value</th>\n",
       "      <th>Market Value</th>\n",
       "      <th>Yield</th>\n",
       "    </tr>\n",
       "  </thead>\n",
       "  <tbody>\n",
       "    <tr>\n",
       "      <th>AAA</th>\n",
       "      <td>0.27</td>\n",
       "      <td>103.47</td>\n",
       "      <td>86.64</td>\n",
       "      <td>3.55</td>\n",
       "    </tr>\n",
       "    <tr>\n",
       "      <th>AA</th>\n",
       "      <td>0.30</td>\n",
       "      <td>0.47</td>\n",
       "      <td>0.37</td>\n",
       "      <td>4.48</td>\n",
       "    </tr>\n",
       "    <tr>\n",
       "      <th>A</th>\n",
       "      <td>0.46</td>\n",
       "      <td>1.80</td>\n",
       "      <td>1.42</td>\n",
       "      <td>4.69</td>\n",
       "    </tr>\n",
       "    <tr>\n",
       "      <th>BBB</th>\n",
       "      <td>1.54</td>\n",
       "      <td>5.12</td>\n",
       "      <td>3.87</td>\n",
       "      <td>5.61</td>\n",
       "    </tr>\n",
       "    <tr>\n",
       "      <th>BB</th>\n",
       "      <td>6.43</td>\n",
       "      <td>6.32</td>\n",
       "      <td>4.11</td>\n",
       "      <td>8.63</td>\n",
       "    </tr>\n",
       "    <tr>\n",
       "      <th>B</th>\n",
       "      <td>17.35</td>\n",
       "      <td>4.55</td>\n",
       "      <td>2.15</td>\n",
       "      <td>15.00</td>\n",
       "    </tr>\n",
       "    <tr>\n",
       "      <th>Equity</th>\n",
       "      <td>NaN</td>\n",
       "      <td>NaN</td>\n",
       "      <td>1.44</td>\n",
       "      <td>NaN</td>\n",
       "    </tr>\n",
       "  </tbody>\n",
       "</table>\n",
       "</div>"
      ],
      "text/plain": [
       "        Default Probability  Face Value  Market Value  Yield\n",
       "AAA                    0.27      103.47         86.64   3.55\n",
       "AA                     0.30        0.47          0.37   4.48\n",
       "A                      0.46        1.80          1.42   4.69\n",
       "BBB                    1.54        5.12          3.87   5.61\n",
       "BB                     6.43        6.32          4.11   8.63\n",
       "B                     17.35        4.55          2.15  15.00\n",
       "Equity                  NaN         NaN          1.44    NaN"
      ]
     },
     "execution_count": 28,
     "metadata": {},
     "output_type": "execute_result"
    }
   ],
   "source": [
    "no_prepay_tab.round(2)"
   ]
  },
  {
   "cell_type": "markdown",
   "id": "molecular-surgery",
   "metadata": {},
   "source": [
    "Return on equity analysis"
   ]
  },
  {
   "cell_type": "code",
   "execution_count": null,
   "id": "million-danish",
   "metadata": {},
   "outputs": [],
   "source": []
  },
  {
   "cell_type": "code",
   "execution_count": null,
   "id": "patent-comparison",
   "metadata": {},
   "outputs": [],
   "source": []
  },
  {
   "cell_type": "code",
   "execution_count": null,
   "id": "protecting-branch",
   "metadata": {},
   "outputs": [],
   "source": []
  },
  {
   "cell_type": "code",
   "execution_count": null,
   "id": "substantial-indicator",
   "metadata": {},
   "outputs": [],
   "source": []
  },
  {
   "cell_type": "markdown",
   "id": "simplified-vegetation",
   "metadata": {},
   "source": [
    "# Introducing Prepayments on Collateral"
   ]
  },
  {
   "cell_type": "code",
   "execution_count": 290,
   "id": "previous-prize",
   "metadata": {},
   "outputs": [],
   "source": [
    "SPV_Q_pp, _  = ott.loan_portfolio_PP(j = J,\n",
    "                                     n = N,\n",
    "                                     V = V0,\n",
    "                                     B = face_value,\n",
    "                                     yields = (b_loan_yield, b_callable_yield),\n",
    "                                     T = ttm,\n",
    "                                     rf = rf,\n",
    "                                     rm = rm,\n",
    "                                     beta = beta,\n",
    "                                     sigmaI = sigma_i,\n",
    "                                     sigmaM = sigma_m,\n",
    "                                     penalty = penalty,\n",
    "                                     risk_neutral=True,\n",
    "                                     paths=False)"
   ]
  },
  {
   "cell_type": "code",
   "execution_count": 249,
   "id": "failing-imagination",
   "metadata": {},
   "outputs": [],
   "source": [
    "SPV_P_pp, M_pp  = ott.loan_portfolio_PP(j = J,\n",
    "                                        n = N,\n",
    "                                        V = V0,\n",
    "                                        B = face_value,\n",
    "                                        yields = (b_loan_yield, b_callable_yield),\n",
    "                                        T = ttm,\n",
    "                                        rf = rf,\n",
    "                                        rm = rm,\n",
    "                                        beta = beta,\n",
    "                                        sigmaI = sigma_i,\n",
    "                                        sigmaM = sigma_m,\n",
    "                                        penalty = penalty,\n",
    "                                        risk_neutral=False,\n",
    "                                        paths=False)"
   ]
  },
  {
   "cell_type": "code",
   "execution_count": 291,
   "id": "electronic-commander",
   "metadata": {},
   "outputs": [],
   "source": [
    "tmp, tranches_pp = np.zeros(7), np.zeros(7)\n",
    "i = 0\n",
    "for rating, def_prob in DefTable[ttm].items(): \n",
    "    tmp[i]  = np.quantile(SPV_P_pp, def_prob/100)\n",
    "    if i == 0 : tranches_pp[i] = np.quantile(SPV_P_pp, def_prob/100)\n",
    "    else: tranches_pp[i] = np.quantile(SPV_P_pp, def_prob/100) - tmp[i-1].sum(axis=0)\n",
    "    i = i + 1\n",
    "tranches_pp[i] = np.quantile(SPV_P_pp, 1) - tmp[i-1].sum(axis=0)"
   ]
  },
  {
   "cell_type": "markdown",
   "id": "underlying-least",
   "metadata": {},
   "source": [
    "# Cash Flows to each Tranche"
   ]
  },
  {
   "cell_type": "code",
   "execution_count": 292,
   "id": "apart-responsibility",
   "metadata": {},
   "outputs": [
    {
     "data": {
      "text/html": [
       "<div>\n",
       "<style scoped>\n",
       "    .dataframe tbody tr th:only-of-type {\n",
       "        vertical-align: middle;\n",
       "    }\n",
       "\n",
       "    .dataframe tbody tr th {\n",
       "        vertical-align: top;\n",
       "    }\n",
       "\n",
       "    .dataframe thead th {\n",
       "        text-align: right;\n",
       "    }\n",
       "</style>\n",
       "<table border=\"1\" class=\"dataframe\">\n",
       "  <thead>\n",
       "    <tr style=\"text-align: right;\">\n",
       "      <th></th>\n",
       "      <th>Cash Flows</th>\n",
       "      <th>Sum</th>\n",
       "    </tr>\n",
       "  </thead>\n",
       "  <tbody>\n",
       "    <tr>\n",
       "      <th>AAA</th>\n",
       "      <td>7490.143703</td>\n",
       "      <td>7490.143703</td>\n",
       "    </tr>\n",
       "    <tr>\n",
       "      <th>AA</th>\n",
       "      <td>9.324788</td>\n",
       "      <td>7499.468490</td>\n",
       "    </tr>\n",
       "    <tr>\n",
       "      <th>A</th>\n",
       "      <td>36.984923</td>\n",
       "      <td>7536.453413</td>\n",
       "    </tr>\n",
       "    <tr>\n",
       "      <th>BBB</th>\n",
       "      <td>80.994349</td>\n",
       "      <td>7617.447762</td>\n",
       "    </tr>\n",
       "    <tr>\n",
       "      <th>BB</th>\n",
       "      <td>112.305975</td>\n",
       "      <td>7729.753737</td>\n",
       "    </tr>\n",
       "    <tr>\n",
       "      <th>B</th>\n",
       "      <td>123.130830</td>\n",
       "      <td>7852.884566</td>\n",
       "    </tr>\n",
       "    <tr>\n",
       "      <th>Equity</th>\n",
       "      <td>1652.137488</td>\n",
       "      <td>9505.022054</td>\n",
       "    </tr>\n",
       "  </tbody>\n",
       "</table>\n",
       "</div>"
      ],
      "text/plain": [
       "         Cash Flows          Sum\n",
       "AAA     7490.143703  7490.143703\n",
       "AA         9.324788  7499.468490\n",
       "A         36.984923  7536.453413\n",
       "BBB       80.994349  7617.447762\n",
       "BB       112.305975  7729.753737\n",
       "B        123.130830  7852.884566\n",
       "Equity  1652.137488  9505.022054"
      ]
     },
     "execution_count": 292,
     "metadata": {},
     "output_type": "execute_result"
    }
   ],
   "source": [
    "pd.DataFrame({'Cash Flows':tranches_pp,'Sum':tranches_pp.cumsum()},[\"AAA\",\"AA\",\"A\",\"BBB\",\"BB\",\"B\",\"Equity\"])"
   ]
  },
  {
   "cell_type": "code",
   "execution_count": 293,
   "id": "japanese-catholic",
   "metadata": {},
   "outputs": [
    {
     "data": {
      "image/png": "[encoded data removed]",
      "text/plain": [
       "<Figure size 396.794x226.772 with 2 Axes>"
      ]
     },
     "metadata": {
      "needs_background": "light"
     },
     "output_type": "display_data"
    }
   ],
   "source": [
    "plt.figure(figsize=(textwidth, 8*cm))\n",
    "palette = sns.color_palette(\"summer\", n_colors=6, as_cmap=True)\n",
    "\n",
    "simulations = SPV_P\n",
    "simulations_pp = SPV_P_pp\n",
    "\n",
    "min_ = 7000\n",
    "max_ = 9200\n",
    "ax = sns.histplot(data=simulations, bins=25, color=palette(1), stat='probability', alpha=0.5)\n",
    "ax = sns.histplot(data=simulations_pp, bins=25, color=palette(1), stat='probability', alpha=1)\n",
    "\n",
    "plt.ylabel(\"Probability\")\n",
    "maxy = round(ax.get_ylim()[1],2)\n",
    "\n",
    "plt.ylim([0, maxy])\n",
    "plt.yticks(np.linspace(0, maxy, 6),[str(int(round(x,2)*100))+\"%\" for x in np.linspace(0, maxy, 6)])\n",
    "\n",
    "plt.xlim([min_,max_])\n",
    "plt.xlabel(\"Collateral Value\")\n",
    "\n",
    "for rating, def_prob in DefTable[ttm].items(): \n",
    "    value = np.quantile(simulations_pp, def_prob/100)\n",
    "    plt.vlines(value,0,maxy*1.05,color='k',linestyles='--',linewidth=0.75)\n",
    "    if rating == 'AAA':\n",
    "        plt.text(value,maxy*1.05,s=rating,ha='right',va='center',color='k')\n",
    "    elif rating == 'AA' or rating == 'A':\n",
    "        plt.text(value,maxy*1.05,s=rating,ha='left',va='center',color='k')\n",
    "    else:\n",
    "        plt.text(value,maxy*1.05,s=rating,ha='center',va='center',color='k')\n",
    "\n",
    "ax2 = ax.twinx()\n",
    "ax2 = sns.ecdfplot(data=simulations, color='k',linewidth=0.75, ax=ax2, stat='proportion')\n",
    "ax2 = sns.ecdfplot(data=simulations_pp, color='k',linewidth=0.75, ax=ax2, stat='proportion')\n",
    "plt.ylabel(\"Cumulative Probability\")\n",
    "plt.ylim([0,1])\n",
    "plt.yticks(np.linspace(0, 1, 6),[\"0%\",\"20%\",\"40%\",\"60%\",\"80%\",\"100%\"])\n",
    "\n",
    "plt.tight_layout()\n",
    "\n",
    "#plt.savefig(\"pic.pdf\", format='pdf', bbox_inches='tight')\n",
    "\n",
    "plt.show()"
   ]
  },
  {
   "cell_type": "markdown",
   "id": "aquatic-saudi",
   "metadata": {},
   "source": [
    "Data for scatter plots"
   ]
  },
  {
   "cell_type": "code",
   "execution_count": 294,
   "id": "welsh-sister",
   "metadata": {},
   "outputs": [],
   "source": [
    "SPV_P_pp_small = np.random.RandomState(1234).choice(SPV_P_pp,size=2500)\n",
    "M_small = np.random.RandomState(1234).choice(M_pp,size=2500)"
   ]
  },
  {
   "cell_type": "code",
   "execution_count": 295,
   "id": "fitted-martin",
   "metadata": {},
   "outputs": [
    {
     "data": {
      "text/html": [
       "<div>\n",
       "<style scoped>\n",
       "    .dataframe tbody tr th:only-of-type {\n",
       "        vertical-align: middle;\n",
       "    }\n",
       "\n",
       "    .dataframe tbody tr th {\n",
       "        vertical-align: top;\n",
       "    }\n",
       "\n",
       "    .dataframe thead th {\n",
       "        text-align: right;\n",
       "    }\n",
       "</style>\n",
       "<table border=\"1\" class=\"dataframe\">\n",
       "  <thead>\n",
       "    <tr style=\"text-align: right;\">\n",
       "      <th></th>\n",
       "      <th>SPV</th>\n",
       "      <th>Market Factor</th>\n",
       "      <th>AAA</th>\n",
       "      <th>AA</th>\n",
       "      <th>A</th>\n",
       "      <th>BBB</th>\n",
       "      <th>BB</th>\n",
       "      <th>B</th>\n",
       "      <th>Equity</th>\n",
       "    </tr>\n",
       "  </thead>\n",
       "  <tbody>\n",
       "    <tr>\n",
       "      <th>0</th>\n",
       "      <td>0.928770</td>\n",
       "      <td>-0.313497</td>\n",
       "      <td>1.0</td>\n",
       "      <td>1.0</td>\n",
       "      <td>1.0</td>\n",
       "      <td>1.0</td>\n",
       "      <td>1.0</td>\n",
       "      <td>1.0</td>\n",
       "      <td>0.407657</td>\n",
       "    </tr>\n",
       "    <tr>\n",
       "      <th>1</th>\n",
       "      <td>0.907305</td>\n",
       "      <td>-0.231447</td>\n",
       "      <td>1.0</td>\n",
       "      <td>1.0</td>\n",
       "      <td>1.0</td>\n",
       "      <td>1.0</td>\n",
       "      <td>1.0</td>\n",
       "      <td>1.0</td>\n",
       "      <td>0.288384</td>\n",
       "    </tr>\n",
       "    <tr>\n",
       "      <th>2</th>\n",
       "      <td>0.897038</td>\n",
       "      <td>0.512353</td>\n",
       "      <td>1.0</td>\n",
       "      <td>1.0</td>\n",
       "      <td>1.0</td>\n",
       "      <td>1.0</td>\n",
       "      <td>1.0</td>\n",
       "      <td>1.0</td>\n",
       "      <td>0.231331</td>\n",
       "    </tr>\n",
       "    <tr>\n",
       "      <th>3</th>\n",
       "      <td>0.881867</td>\n",
       "      <td>-0.662181</td>\n",
       "      <td>1.0</td>\n",
       "      <td>1.0</td>\n",
       "      <td>1.0</td>\n",
       "      <td>1.0</td>\n",
       "      <td>1.0</td>\n",
       "      <td>1.0</td>\n",
       "      <td>0.147031</td>\n",
       "    </tr>\n",
       "    <tr>\n",
       "      <th>4</th>\n",
       "      <td>0.908527</td>\n",
       "      <td>-0.077695</td>\n",
       "      <td>1.0</td>\n",
       "      <td>1.0</td>\n",
       "      <td>1.0</td>\n",
       "      <td>1.0</td>\n",
       "      <td>1.0</td>\n",
       "      <td>1.0</td>\n",
       "      <td>0.295171</td>\n",
       "    </tr>\n",
       "    <tr>\n",
       "      <th>...</th>\n",
       "      <td>...</td>\n",
       "      <td>...</td>\n",
       "      <td>...</td>\n",
       "      <td>...</td>\n",
       "      <td>...</td>\n",
       "      <td>...</td>\n",
       "      <td>...</td>\n",
       "      <td>...</td>\n",
       "      <td>...</td>\n",
       "    </tr>\n",
       "    <tr>\n",
       "      <th>2495</th>\n",
       "      <td>0.901229</td>\n",
       "      <td>0.178137</td>\n",
       "      <td>1.0</td>\n",
       "      <td>1.0</td>\n",
       "      <td>1.0</td>\n",
       "      <td>1.0</td>\n",
       "      <td>1.0</td>\n",
       "      <td>1.0</td>\n",
       "      <td>0.254623</td>\n",
       "    </tr>\n",
       "    <tr>\n",
       "      <th>2496</th>\n",
       "      <td>0.886853</td>\n",
       "      <td>0.478181</td>\n",
       "      <td>1.0</td>\n",
       "      <td>1.0</td>\n",
       "      <td>1.0</td>\n",
       "      <td>1.0</td>\n",
       "      <td>1.0</td>\n",
       "      <td>1.0</td>\n",
       "      <td>0.174738</td>\n",
       "    </tr>\n",
       "    <tr>\n",
       "      <th>2497</th>\n",
       "      <td>0.910310</td>\n",
       "      <td>-0.343024</td>\n",
       "      <td>1.0</td>\n",
       "      <td>1.0</td>\n",
       "      <td>1.0</td>\n",
       "      <td>1.0</td>\n",
       "      <td>1.0</td>\n",
       "      <td>1.0</td>\n",
       "      <td>0.305080</td>\n",
       "    </tr>\n",
       "    <tr>\n",
       "      <th>2498</th>\n",
       "      <td>0.862211</td>\n",
       "      <td>0.580636</td>\n",
       "      <td>1.0</td>\n",
       "      <td>1.0</td>\n",
       "      <td>1.0</td>\n",
       "      <td>1.0</td>\n",
       "      <td>1.0</td>\n",
       "      <td>1.0</td>\n",
       "      <td>0.037813</td>\n",
       "    </tr>\n",
       "    <tr>\n",
       "      <th>2499</th>\n",
       "      <td>0.913748</td>\n",
       "      <td>-0.423901</td>\n",
       "      <td>1.0</td>\n",
       "      <td>1.0</td>\n",
       "      <td>1.0</td>\n",
       "      <td>1.0</td>\n",
       "      <td>1.0</td>\n",
       "      <td>1.0</td>\n",
       "      <td>0.324186</td>\n",
       "    </tr>\n",
       "  </tbody>\n",
       "</table>\n",
       "<p>2500 rows × 9 columns</p>\n",
       "</div>"
      ],
      "text/plain": [
       "           SPV  Market Factor  AAA   AA    A  BBB   BB    B    Equity\n",
       "0     0.928770      -0.313497  1.0  1.0  1.0  1.0  1.0  1.0  0.407657\n",
       "1     0.907305      -0.231447  1.0  1.0  1.0  1.0  1.0  1.0  0.288384\n",
       "2     0.897038       0.512353  1.0  1.0  1.0  1.0  1.0  1.0  0.231331\n",
       "3     0.881867      -0.662181  1.0  1.0  1.0  1.0  1.0  1.0  0.147031\n",
       "4     0.908527      -0.077695  1.0  1.0  1.0  1.0  1.0  1.0  0.295171\n",
       "...        ...            ...  ...  ...  ...  ...  ...  ...       ...\n",
       "2495  0.901229       0.178137  1.0  1.0  1.0  1.0  1.0  1.0  0.254623\n",
       "2496  0.886853       0.478181  1.0  1.0  1.0  1.0  1.0  1.0  0.174738\n",
       "2497  0.910310      -0.343024  1.0  1.0  1.0  1.0  1.0  1.0  0.305080\n",
       "2498  0.862211       0.580636  1.0  1.0  1.0  1.0  1.0  1.0  0.037813\n",
       "2499  0.913748      -0.423901  1.0  1.0  1.0  1.0  1.0  1.0  0.324186\n",
       "\n",
       "[2500 rows x 9 columns]"
      ]
     },
     "execution_count": 295,
     "metadata": {},
     "output_type": "execute_result"
    }
   ],
   "source": [
    "scatter_data2 = pd.DataFrame({'SPV':SPV_P_pp_small/ max_spv_cash_flows,\n",
    "                             'Market Factor':M_small / 5,\n",
    "                             'AAA':ott.clo_payoffs(SPV_P_pp_small,tranches_pp)[0]/ tranches_pp[0],\n",
    "                             'AA':ott.clo_payoffs(SPV_P_pp_small,tranches_pp)[1]/ tranches_pp[1],\n",
    "                             'A':ott.clo_payoffs(SPV_P_pp_small,tranches_pp)[2] / tranches_pp[2],\n",
    "                             'BBB':ott.clo_payoffs(SPV_P_pp_small,tranches_pp)[3] / tranches_pp[3],\n",
    "                             'BB':ott.clo_payoffs(SPV_P_pp_small,tranches_pp)[4] / tranches_pp[4],\n",
    "                             'B':ott.clo_payoffs(SPV_P_pp_small,tranches_pp)[5] / tranches_pp[5],\n",
    "                             'Equity':ott.clo_payoffs(SPV_P_pp_small,tranches_pp)[6]/ tranches_pp[6]})\n",
    "scatter_data2"
   ]
  },
  {
   "cell_type": "code",
   "execution_count": 296,
   "id": "drawn-plumbing",
   "metadata": {},
   "outputs": [
    {
     "data": {
      "image/png": "[encoded data removed]",
      "text/plain": [
       "<Figure size 396.794x566.929 with 8 Axes>"
      ]
     },
     "metadata": {
      "needs_background": "light"
     },
     "output_type": "display_data"
    }
   ],
   "source": [
    "fig, axs = plt.subplots(ncols=2,nrows=4,sharex=True,sharey=True)\n",
    "\n",
    "palette = sns.color_palette(\"summer\", n_colors=6, as_cmap=True)\n",
    "\n",
    "fig.text(0.5, -0.015, 'Market Factor $Z_{m}$', ha='center', size=11)\n",
    "fig.text(-0.025, 0.5, 'Normalized Payoffs', va='center', rotation='vertical', size=11)\n",
    "\n",
    "i,j = 0,0\n",
    "for tranche in [\"Equity\",\"SPV\",\"AA\",\"AAA\",\"BBB\",\"A\",\"B\",\"BB\"]:\n",
    "    if j == 0: j = 1\n",
    "    else: j = 0\n",
    "    axs[i,j].scatter(x=scatter_data['Market Factor'], y = scatter_data[tranche], s= 0.5, color=palette(1),alpha=0.75)\n",
    "    axs[i,j].scatter(x=scatter_data2['Market Factor'], y = scatter_data2[tranche], s= 0.5, color=palette(150))\n",
    "    axs[i,j].set_title(tranche, size=11)\n",
    "    \n",
    "    axs[i,j].axhline(scatter_data[tranche].mean(),-2.25, 2.25,c=\"k\",linewidth=0.5)\n",
    "    axs[i,j].axhline(scatter_data2[tranche].mean(),-2.25, 2.25,c=\"k\",linewidth=0.5)\n",
    "    \n",
    "    axs[i,j].set_xlabel('')\n",
    "    axs[i,j].set_xlim([-2.25,2.25])\n",
    "    axs[i,j].set_xticks([-2,-1,0,1,2])\n",
    "    \n",
    "    axs[i,j].set_ylabel('')\n",
    "    axs[i,j].set_ylim([-0.05,1.05])\n",
    "    axs[i,j].set_yticks([0,0.2,0.4,0.6,0.8,1])\n",
    "    axs[i,j].grid(lw=0.3)\n",
    "    if j == 0: i = i + 1\n",
    "\n",
    "fig.set_size_inches(textwidth, 20*cm)\n",
    "fig.tight_layout()\n",
    "\n",
    "#fig.savefig(\"Payoffs.pdf\", bbox_inches='tight', format='pdf')\n",
    "\n",
    "plt.show()"
   ]
  },
  {
   "cell_type": "code",
   "execution_count": 297,
   "id": "acquired-wilson",
   "metadata": {},
   "outputs": [],
   "source": [
    "initial_market_value_prepayment = mv_call * J"
   ]
  },
  {
   "cell_type": "code",
   "execution_count": 298,
   "id": "dedicated-strength",
   "metadata": {},
   "outputs": [
    {
     "data": {
      "text/html": [
       "<div>\n",
       "<style scoped>\n",
       "    .dataframe tbody tr th:only-of-type {\n",
       "        vertical-align: middle;\n",
       "    }\n",
       "\n",
       "    .dataframe tbody tr th {\n",
       "        vertical-align: top;\n",
       "    }\n",
       "\n",
       "    .dataframe thead th {\n",
       "        text-align: right;\n",
       "    }\n",
       "</style>\n",
       "<table border=\"1\" class=\"dataframe\">\n",
       "  <thead>\n",
       "    <tr style=\"text-align: right;\">\n",
       "      <th></th>\n",
       "      <th>Default Probability</th>\n",
       "      <th>Face Value</th>\n",
       "    </tr>\n",
       "  </thead>\n",
       "  <tbody>\n",
       "    <tr>\n",
       "      <th>AAA</th>\n",
       "      <td>0.27</td>\n",
       "      <td>109.509413</td>\n",
       "    </tr>\n",
       "    <tr>\n",
       "      <th>AA</th>\n",
       "      <td>0.30</td>\n",
       "      <td>109.645746</td>\n",
       "    </tr>\n",
       "    <tr>\n",
       "      <th>A</th>\n",
       "      <td>0.46</td>\n",
       "      <td>110.186483</td>\n",
       "    </tr>\n",
       "    <tr>\n",
       "      <th>BBB</th>\n",
       "      <td>1.54</td>\n",
       "      <td>111.370658</td>\n",
       "    </tr>\n",
       "    <tr>\n",
       "      <th>BB</th>\n",
       "      <td>6.43</td>\n",
       "      <td>113.012624</td>\n",
       "    </tr>\n",
       "    <tr>\n",
       "      <th>B</th>\n",
       "      <td>17.35</td>\n",
       "      <td>114.812855</td>\n",
       "    </tr>\n",
       "  </tbody>\n",
       "</table>\n",
       "</div>"
      ],
      "text/plain": [
       "     Default Probability  Face Value\n",
       "AAA                 0.27  109.509413\n",
       "AA                  0.30  109.645746\n",
       "A                   0.46  110.186483\n",
       "BBB                 1.54  111.370658\n",
       "BB                  6.43  113.012624\n",
       "B                  17.35  114.812855"
      ]
     },
     "execution_count": 298,
     "metadata": {},
     "output_type": "execute_result"
    }
   ],
   "source": [
    "prepay_tab = DefTable[[ttm]].copy()\n",
    "prepay_tab.rename(columns={5:'Default Probability'},inplace=True)\n",
    "prepay_tab['Face Value'] = (np.quantile(SPV_P_pp, prepay_tab['Default Probability']/100) / initial_market_value_prepayment) * 100\n",
    "prepay_tab"
   ]
  },
  {
   "cell_type": "code",
   "execution_count": 299,
   "id": "magnetic-nightmare",
   "metadata": {},
   "outputs": [
    {
     "name": "stdout",
     "output_type": "stream",
     "text": [
      "The maximum normalized payoff is: 134.22\n"
     ]
    }
   ],
   "source": [
    "maximum_norm_payoff = max_spv_cash_flows / initial_market_value_prepayment * 100\n",
    "print('The maximum normalized payoff is: {0:0.2f}'.format(maximum_norm_payoff))"
   ]
  },
  {
   "cell_type": "code",
   "execution_count": 300,
   "id": "natural-strand",
   "metadata": {},
   "outputs": [],
   "source": [
    "for rating in prepay_tab.index:\n",
    "    prepay_tab.loc[rating, 'Market Value'] = (np.minimum(SPV_Q_pp,\n",
    "                                                         np.quantile(SPV_P_pp,\n",
    "                                                                     prepay_tab.loc[rating, 'Default Probability']/100\n",
    "                                                                    )).mean() * np.exp(-rf*ttm) / initial_market_value_prepayment) * 100"
   ]
  },
  {
   "cell_type": "code",
   "execution_count": 301,
   "id": "weekly-means",
   "metadata": {},
   "outputs": [
    {
     "data": {
      "text/plain": [
       "1.007644133527843"
      ]
     },
     "execution_count": 301,
     "metadata": {},
     "output_type": "execute_result"
    }
   ],
   "source": [
    "SPV_P_pp.mean() / SPV_Q_pp.mean()"
   ]
  },
  {
   "cell_type": "code",
   "execution_count": 302,
   "id": "martial-coating",
   "metadata": {},
   "outputs": [
    {
     "data": {
      "text/plain": [
       "1.0536166869625005"
      ]
     },
     "execution_count": 302,
     "metadata": {},
     "output_type": "execute_result"
    }
   ],
   "source": [
    "SPV_P.mean() / SPV_Q.mean()"
   ]
  },
  {
   "cell_type": "markdown",
   "id": "unnecessary-viking",
   "metadata": {},
   "source": [
    "Preliminary table before tranching"
   ]
  },
  {
   "cell_type": "code",
   "execution_count": 303,
   "id": "urban-surgery",
   "metadata": {},
   "outputs": [
    {
     "data": {
      "text/html": [
       "<div>\n",
       "<style scoped>\n",
       "    .dataframe tbody tr th:only-of-type {\n",
       "        vertical-align: middle;\n",
       "    }\n",
       "\n",
       "    .dataframe tbody tr th {\n",
       "        vertical-align: top;\n",
       "    }\n",
       "\n",
       "    .dataframe thead th {\n",
       "        text-align: right;\n",
       "    }\n",
       "</style>\n",
       "<table border=\"1\" class=\"dataframe\">\n",
       "  <thead>\n",
       "    <tr style=\"text-align: right;\">\n",
       "      <th></th>\n",
       "      <th>Default Probability</th>\n",
       "      <th>Face Value</th>\n",
       "      <th>Market Value</th>\n",
       "    </tr>\n",
       "  </thead>\n",
       "  <tbody>\n",
       "    <tr>\n",
       "      <th>AAA</th>\n",
       "      <td>0.27</td>\n",
       "      <td>109.51</td>\n",
       "      <td>91.82</td>\n",
       "    </tr>\n",
       "    <tr>\n",
       "      <th>AA</th>\n",
       "      <td>0.30</td>\n",
       "      <td>109.65</td>\n",
       "      <td>91.93</td>\n",
       "    </tr>\n",
       "    <tr>\n",
       "      <th>A</th>\n",
       "      <td>0.46</td>\n",
       "      <td>110.19</td>\n",
       "      <td>92.37</td>\n",
       "    </tr>\n",
       "    <tr>\n",
       "      <th>BBB</th>\n",
       "      <td>1.54</td>\n",
       "      <td>111.37</td>\n",
       "      <td>93.30</td>\n",
       "    </tr>\n",
       "    <tr>\n",
       "      <th>BB</th>\n",
       "      <td>6.43</td>\n",
       "      <td>113.01</td>\n",
       "      <td>94.54</td>\n",
       "    </tr>\n",
       "    <tr>\n",
       "      <th>B</th>\n",
       "      <td>17.35</td>\n",
       "      <td>114.81</td>\n",
       "      <td>95.76</td>\n",
       "    </tr>\n",
       "  </tbody>\n",
       "</table>\n",
       "</div>"
      ],
      "text/plain": [
       "     Default Probability  Face Value  Market Value\n",
       "AAA                 0.27      109.51         91.82\n",
       "AA                  0.30      109.65         91.93\n",
       "A                   0.46      110.19         92.37\n",
       "BBB                 1.54      111.37         93.30\n",
       "BB                  6.43      113.01         94.54\n",
       "B                  17.35      114.81         95.76"
      ]
     },
     "execution_count": 303,
     "metadata": {},
     "output_type": "execute_result"
    }
   ],
   "source": [
    "prepay_tab.round(2)"
   ]
  },
  {
   "cell_type": "markdown",
   "id": "brown-belarus",
   "metadata": {},
   "source": [
    "Tranching"
   ]
  },
  {
   "cell_type": "code",
   "execution_count": 304,
   "id": "blocked-encounter",
   "metadata": {},
   "outputs": [],
   "source": [
    "prepay_tab.loc[:,'Face Value':'Market Value'] = prepay_tab.loc[:,'Face Value':'Market Value'] - prepay_tab.loc[:,'Face Value':'Market Value'].shift(1)\n",
    "prepay_tab.loc['AAA','Face Value'] = (np.quantile(SPV_P_pp, prepay_tab.loc['AAA','Default Probability']/100) / initial_market_value_prepayment) * 100\n",
    "prepay_tab.loc['AAA','Market Value'] = (np.minimum(SPV_Q_pp, np.quantile(SPV_P_pp, no_prepay_tab.loc['AAA', 'Default Probability']/100)).mean() * np.exp(-rf*ttm) / initial_market_value_prepayment) * 100\n",
    "prepay_tab['Yield'] = ott.zero_yield(prepay_tab['Market Value'], prepay_tab['Face Value'], ttm) * 100\n",
    "prepay_tab.loc['Equity','Market Value'] = 100 - prepay_tab['Market Value'].sum(axis=0)"
   ]
  },
  {
   "cell_type": "code",
   "execution_count": 305,
   "id": "minimal-ebony",
   "metadata": {},
   "outputs": [
    {
     "data": {
      "text/html": [
       "<div>\n",
       "<style scoped>\n",
       "    .dataframe tbody tr th:only-of-type {\n",
       "        vertical-align: middle;\n",
       "    }\n",
       "\n",
       "    .dataframe tbody tr th {\n",
       "        vertical-align: top;\n",
       "    }\n",
       "\n",
       "    .dataframe thead th {\n",
       "        text-align: right;\n",
       "    }\n",
       "</style>\n",
       "<table border=\"1\" class=\"dataframe\">\n",
       "  <thead>\n",
       "    <tr style=\"text-align: right;\">\n",
       "      <th></th>\n",
       "      <th>Default Probability</th>\n",
       "      <th>Face Value</th>\n",
       "      <th>Market Value</th>\n",
       "      <th>Yield</th>\n",
       "    </tr>\n",
       "  </thead>\n",
       "  <tbody>\n",
       "    <tr>\n",
       "      <th>AAA</th>\n",
       "      <td>0.27</td>\n",
       "      <td>109.51</td>\n",
       "      <td>91.82</td>\n",
       "      <td>3.52</td>\n",
       "    </tr>\n",
       "    <tr>\n",
       "      <th>AA</th>\n",
       "      <td>0.30</td>\n",
       "      <td>0.14</td>\n",
       "      <td>0.11</td>\n",
       "      <td>4.31</td>\n",
       "    </tr>\n",
       "    <tr>\n",
       "      <th>A</th>\n",
       "      <td>0.46</td>\n",
       "      <td>0.54</td>\n",
       "      <td>0.43</td>\n",
       "      <td>4.41</td>\n",
       "    </tr>\n",
       "    <tr>\n",
       "      <th>BBB</th>\n",
       "      <td>1.54</td>\n",
       "      <td>1.18</td>\n",
       "      <td>0.93</td>\n",
       "      <td>4.74</td>\n",
       "    </tr>\n",
       "    <tr>\n",
       "      <th>BB</th>\n",
       "      <td>6.43</td>\n",
       "      <td>1.64</td>\n",
       "      <td>1.24</td>\n",
       "      <td>5.68</td>\n",
       "    </tr>\n",
       "    <tr>\n",
       "      <th>B</th>\n",
       "      <td>17.35</td>\n",
       "      <td>1.80</td>\n",
       "      <td>1.22</td>\n",
       "      <td>7.74</td>\n",
       "    </tr>\n",
       "    <tr>\n",
       "      <th>Equity</th>\n",
       "      <td>NaN</td>\n",
       "      <td>NaN</td>\n",
       "      <td>4.24</td>\n",
       "      <td>NaN</td>\n",
       "    </tr>\n",
       "  </tbody>\n",
       "</table>\n",
       "</div>"
      ],
      "text/plain": [
       "        Default Probability  Face Value  Market Value  Yield\n",
       "AAA                    0.27      109.51         91.82   3.52\n",
       "AA                     0.30        0.14          0.11   4.31\n",
       "A                      0.46        0.54          0.43   4.41\n",
       "BBB                    1.54        1.18          0.93   4.74\n",
       "BB                     6.43        1.64          1.24   5.68\n",
       "B                     17.35        1.80          1.22   7.74\n",
       "Equity                  NaN         NaN          4.24    NaN"
      ]
     },
     "execution_count": 305,
     "metadata": {},
     "output_type": "execute_result"
    }
   ],
   "source": [
    "prepay_tab.round(2)"
   ]
  },
  {
   "cell_type": "markdown",
   "id": "altered-syndicate",
   "metadata": {},
   "source": [
    "Comparison with no prepayment case"
   ]
  },
  {
   "cell_type": "code",
   "execution_count": 306,
   "id": "recovered-charlotte",
   "metadata": {},
   "outputs": [
    {
     "data": {
      "text/html": [
       "<div>\n",
       "<style scoped>\n",
       "    .dataframe tbody tr th:only-of-type {\n",
       "        vertical-align: middle;\n",
       "    }\n",
       "\n",
       "    .dataframe tbody tr th {\n",
       "        vertical-align: top;\n",
       "    }\n",
       "\n",
       "    .dataframe thead th {\n",
       "        text-align: right;\n",
       "    }\n",
       "</style>\n",
       "<table border=\"1\" class=\"dataframe\">\n",
       "  <thead>\n",
       "    <tr style=\"text-align: right;\">\n",
       "      <th></th>\n",
       "      <th>Default Probability</th>\n",
       "      <th>Face Value</th>\n",
       "      <th>Market Value</th>\n",
       "      <th>Yield</th>\n",
       "    </tr>\n",
       "  </thead>\n",
       "  <tbody>\n",
       "    <tr>\n",
       "      <th>AAA</th>\n",
       "      <td>0.27</td>\n",
       "      <td>103.47</td>\n",
       "      <td>86.64</td>\n",
       "      <td>3.55</td>\n",
       "    </tr>\n",
       "    <tr>\n",
       "      <th>AA</th>\n",
       "      <td>0.30</td>\n",
       "      <td>0.47</td>\n",
       "      <td>0.37</td>\n",
       "      <td>4.48</td>\n",
       "    </tr>\n",
       "    <tr>\n",
       "      <th>A</th>\n",
       "      <td>0.46</td>\n",
       "      <td>1.80</td>\n",
       "      <td>1.42</td>\n",
       "      <td>4.69</td>\n",
       "    </tr>\n",
       "    <tr>\n",
       "      <th>BBB</th>\n",
       "      <td>1.54</td>\n",
       "      <td>5.12</td>\n",
       "      <td>3.87</td>\n",
       "      <td>5.61</td>\n",
       "    </tr>\n",
       "    <tr>\n",
       "      <th>BB</th>\n",
       "      <td>6.43</td>\n",
       "      <td>6.32</td>\n",
       "      <td>4.11</td>\n",
       "      <td>8.63</td>\n",
       "    </tr>\n",
       "    <tr>\n",
       "      <th>B</th>\n",
       "      <td>17.35</td>\n",
       "      <td>4.55</td>\n",
       "      <td>2.15</td>\n",
       "      <td>15.00</td>\n",
       "    </tr>\n",
       "    <tr>\n",
       "      <th>Equity</th>\n",
       "      <td>NaN</td>\n",
       "      <td>NaN</td>\n",
       "      <td>1.44</td>\n",
       "      <td>NaN</td>\n",
       "    </tr>\n",
       "  </tbody>\n",
       "</table>\n",
       "</div>"
      ],
      "text/plain": [
       "        Default Probability  Face Value  Market Value  Yield\n",
       "AAA                    0.27      103.47         86.64   3.55\n",
       "AA                     0.30        0.47          0.37   4.48\n",
       "A                      0.46        1.80          1.42   4.69\n",
       "BBB                    1.54        5.12          3.87   5.61\n",
       "BB                     6.43        6.32          4.11   8.63\n",
       "B                     17.35        4.55          2.15  15.00\n",
       "Equity                  NaN         NaN          1.44    NaN"
      ]
     },
     "execution_count": 306,
     "metadata": {},
     "output_type": "execute_result"
    }
   ],
   "source": [
    "no_prepay_tab.round(2)"
   ]
  },
  {
   "cell_type": "code",
   "execution_count": 307,
   "id": "together-transformation",
   "metadata": {},
   "outputs": [
    {
     "data": {
      "text/plain": [
       "<AxesSubplot:ylabel='Probability'>"
      ]
     },
     "execution_count": 307,
     "metadata": {},
     "output_type": "execute_result"
    },
    {
     "data": {
      "image/png": "[encoded data removed]",
      "text/plain": [
       "<Figure size 432x288 with 1 Axes>"
      ]
     },
     "metadata": {
      "needs_background": "light"
     },
     "output_type": "display_data"
    }
   ],
   "source": [
    "sns.histplot(data=SPV_Q, bins=25, color=palette(1), stat='probability', alpha=0.5)\n",
    "sns.histplot(data=SPV_Q_pp, bins=25, color=palette(1), stat='probability', alpha=1)"
   ]
  },
  {
   "cell_type": "code",
   "execution_count": null,
   "id": "blind-starter",
   "metadata": {},
   "outputs": [],
   "source": []
  },
  {
   "cell_type": "code",
   "execution_count": null,
   "id": "precise-heritage",
   "metadata": {},
   "outputs": [],
   "source": []
  },
  {
   "cell_type": "code",
   "execution_count": null,
   "id": "steady-negative",
   "metadata": {},
   "outputs": [],
   "source": []
  },
  {
   "cell_type": "code",
   "execution_count": null,
   "id": "complicated-bleeding",
   "metadata": {},
   "outputs": [],
   "source": []
  }
 ],
 "metadata": {
  "kernelspec": {
   "display_name": "Python 3",
   "language": "python",
   "name": "python3"
  },
  "language_info": {
   "codemirror_mode": {
    "name": "ipython",
    "version": 3
   },
   "file_extension": ".py",
   "mimetype": "text/x-python",
   "name": "python",
   "nbconvert_exporter": "python",
   "pygments_lexer": "ipython3",
   "version": "3.8.5"
  }
 },
 "nbformat": 4,
 "nbformat_minor": 5
}
