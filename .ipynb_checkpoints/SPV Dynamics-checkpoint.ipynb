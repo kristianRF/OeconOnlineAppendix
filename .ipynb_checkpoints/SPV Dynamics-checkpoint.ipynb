{
 "cells": [
  {
   "cell_type": "markdown",
   "id": "digital-director",
   "metadata": {},
   "source": [
    "### Load Packages"
   ]
  },
  {
   "cell_type": "code",
   "execution_count": 60,
   "id": "integral-johnson",
   "metadata": {},
   "outputs": [
    {
     "name": "stdout",
     "output_type": "stream",
     "text": [
      "The autoreload extension is already loaded. To reload it, use:\n",
      "  %reload_ext autoreload\n"
     ]
    }
   ],
   "source": [
    "import pandas as pd\n",
    "import numpy as np\n",
    "import matplotlib\n",
    "import matplotlib.pyplot as plt\n",
    "import datetime as dt\n",
    "import math\n",
    "import seaborn as sns\n",
    "\n",
    "# Import Custom Module\n",
    "import OeconToolbox as ott\n",
    "import LoanPortfolioTool as pft\n",
    "\n",
    "%load_ext autoreload\n",
    "%autoreload 2\n",
    "%matplotlib inline"
   ]
  },
  {
   "cell_type": "markdown",
   "id": "distinguished-madonna",
   "metadata": {},
   "source": [
    "### [OPTIONAL] Set Matplotlib Style"
   ]
  },
  {
   "cell_type": "code",
   "execution_count": 2,
   "id": "certified-fruit",
   "metadata": {},
   "outputs": [],
   "source": [
    "matplotlib.style.use('default')\n",
    "\n",
    "matplotlib.rcParams.update({\n",
    "    \"font.family\": \"sans-serif\",\n",
    "    \"font.sans-serif\": [\"Helvetica\"],\n",
    "    \"font.size\": 10})\n",
    "matplotlib.path.should_simplify = True\n",
    "\n",
    "sns.set_style(\"ticks\")\n",
    "\n",
    "cm = 1/2.54\n",
    "textwidth = 13.998 / 2.54"
   ]
  },
  {
   "cell_type": "markdown",
   "id": "cubic-paper",
   "metadata": {},
   "source": [
    "## Import Cumulative Default Table"
   ]
  },
  {
   "cell_type": "code",
   "execution_count": 3,
   "id": "worse-lighter",
   "metadata": {},
   "outputs": [
    {
     "data": {
      "text/html": [
       "<div>\n",
       "<style scoped>\n",
       "    .dataframe tbody tr th:only-of-type {\n",
       "        vertical-align: middle;\n",
       "    }\n",
       "\n",
       "    .dataframe tbody tr th {\n",
       "        vertical-align: top;\n",
       "    }\n",
       "\n",
       "    .dataframe thead th {\n",
       "        text-align: right;\n",
       "    }\n",
       "</style>\n",
       "<table border=\"1\" class=\"dataframe\">\n",
       "  <thead>\n",
       "    <tr style=\"text-align: right;\">\n",
       "      <th></th>\n",
       "      <th>1</th>\n",
       "      <th>2</th>\n",
       "      <th>3</th>\n",
       "      <th>4</th>\n",
       "      <th>5</th>\n",
       "      <th>6</th>\n",
       "      <th>7</th>\n",
       "      <th>8</th>\n",
       "      <th>9</th>\n",
       "      <th>10</th>\n",
       "    </tr>\n",
       "  </thead>\n",
       "  <tbody>\n",
       "    <tr>\n",
       "      <th>AAA</th>\n",
       "      <td>0.00</td>\n",
       "      <td>0.03</td>\n",
       "      <td>0.10</td>\n",
       "      <td>0.19</td>\n",
       "      <td>0.27</td>\n",
       "      <td>0.37</td>\n",
       "      <td>0.41</td>\n",
       "      <td>0.46</td>\n",
       "      <td>0.52</td>\n",
       "      <td>0.58</td>\n",
       "    </tr>\n",
       "    <tr>\n",
       "      <th>AA</th>\n",
       "      <td>0.02</td>\n",
       "      <td>0.06</td>\n",
       "      <td>0.11</td>\n",
       "      <td>0.21</td>\n",
       "      <td>0.30</td>\n",
       "      <td>0.41</td>\n",
       "      <td>0.49</td>\n",
       "      <td>0.56</td>\n",
       "      <td>0.63</td>\n",
       "      <td>0.70</td>\n",
       "    </tr>\n",
       "    <tr>\n",
       "      <th>A</th>\n",
       "      <td>0.05</td>\n",
       "      <td>0.13</td>\n",
       "      <td>0.22</td>\n",
       "      <td>0.33</td>\n",
       "      <td>0.46</td>\n",
       "      <td>0.60</td>\n",
       "      <td>0.76</td>\n",
       "      <td>0.90</td>\n",
       "      <td>1.05</td>\n",
       "      <td>1.20</td>\n",
       "    </tr>\n",
       "    <tr>\n",
       "      <th>BBB</th>\n",
       "      <td>0.16</td>\n",
       "      <td>0.43</td>\n",
       "      <td>0.75</td>\n",
       "      <td>1.14</td>\n",
       "      <td>1.54</td>\n",
       "      <td>1.94</td>\n",
       "      <td>2.27</td>\n",
       "      <td>2.61</td>\n",
       "      <td>2.94</td>\n",
       "      <td>3.24</td>\n",
       "    </tr>\n",
       "    <tr>\n",
       "      <th>BB</th>\n",
       "      <td>0.63</td>\n",
       "      <td>1.93</td>\n",
       "      <td>3.46</td>\n",
       "      <td>4.99</td>\n",
       "      <td>6.43</td>\n",
       "      <td>7.75</td>\n",
       "      <td>8.89</td>\n",
       "      <td>9.90</td>\n",
       "      <td>10.82</td>\n",
       "      <td>11.64</td>\n",
       "    </tr>\n",
       "    <tr>\n",
       "      <th>B</th>\n",
       "      <td>3.34</td>\n",
       "      <td>7.80</td>\n",
       "      <td>11.75</td>\n",
       "      <td>14.89</td>\n",
       "      <td>17.35</td>\n",
       "      <td>19.36</td>\n",
       "      <td>20.99</td>\n",
       "      <td>22.31</td>\n",
       "      <td>23.50</td>\n",
       "      <td>24.62</td>\n",
       "    </tr>\n",
       "  </tbody>\n",
       "</table>\n",
       "</div>"
      ],
      "text/plain": [
       "       1     2      3      4      5      6      7      8      9      10\n",
       "AAA  0.00  0.03   0.10   0.19   0.27   0.37   0.41   0.46   0.52   0.58\n",
       "AA   0.02  0.06   0.11   0.21   0.30   0.41   0.49   0.56   0.63   0.70\n",
       "A    0.05  0.13   0.22   0.33   0.46   0.60   0.76   0.90   1.05   1.20\n",
       "BBB  0.16  0.43   0.75   1.14   1.54   1.94   2.27   2.61   2.94   3.24\n",
       "BB   0.63  1.93   3.46   4.99   6.43   7.75   8.89   9.90  10.82  11.64\n",
       "B    3.34  7.80  11.75  14.89  17.35  19.36  20.99  22.31  23.50  24.62"
      ]
     },
     "execution_count": 3,
     "metadata": {},
     "output_type": "execute_result"
    }
   ],
   "source": [
    "DefTable = pd.read_excel(\"CumulativeDefaultTable.xlsx\",header=[0],index_col=[0],skipfooter=5,usecols=\"A:K\")\n",
    "DefTable.round(2)"
   ]
  },
  {
   "cell_type": "markdown",
   "id": "congressional-algorithm",
   "metadata": {},
   "source": [
    "# Simulating a Portfolio of loans\n",
    "The SPV portfolio consists of $J$ loans from identical corporate issuers with a single class of debt outstanding. The parameters of the issuers is identical to those described in the 'Collateral Dynamics.ipynb' notebook."
   ]
  },
  {
   "cell_type": "markdown",
   "id": "compatible-little",
   "metadata": {},
   "source": [
    "## Parameters of the Corporate Issuers"
   ]
  },
  {
   "cell_type": "code",
   "execution_count": 4,
   "id": "caring-adelaide",
   "metadata": {},
   "outputs": [],
   "source": [
    "V0 = 100      # Initial Asset Value\n",
    "rf = .035     # Risk-Free Rate\n",
    "rm = .105     # Market Return\n",
    "beta = .8     # Firm CAPM Coefficient\n",
    "sigma_i = .25 # Idiosyncratic Risk\n",
    "sigma_m = .14 # Market Risk\n",
    "ttm = 5       # Time to Maturity of Debt\n",
    "penalty = 0   # Penalty on prepayment"
   ]
  },
  {
   "cell_type": "markdown",
   "id": "loose-hypothesis",
   "metadata": {},
   "source": [
    "Auxiliary Calculations"
   ]
  },
  {
   "cell_type": "code",
   "execution_count": 5,
   "id": "terminal-technical",
   "metadata": {},
   "outputs": [],
   "source": [
    "mu = rf + beta * (rm - rf)\n",
    "sigma = ott.sigma_beta_adj(beta, sigma_m, sigma_i)\n",
    "face_value = ott.facevalue_from_probability(DefTable.loc[\"B\", ttm] / 100, V0, ttm, mu, sigma)\n",
    "market_value = ott.mv_bond(V0, face_value, ttm, rf, sigma)\n",
    "b_loan_yield = ott.zero_yield(market_value,face_value, ttm)\n",
    "# Results from Collateral Dynamics Notebook\n",
    "mv_call = 54.71780723807047\n",
    "b_callable_yield = ott.zero_yield(mv_call,face_value, ttm)"
   ]
  },
  {
   "cell_type": "markdown",
   "id": "jewish-hudson",
   "metadata": {},
   "source": [
    "## Parameters of the SPV"
   ]
  },
  {
   "cell_type": "code",
   "execution_count": 6,
   "id": "unable-message",
   "metadata": {},
   "outputs": [],
   "source": [
    "J = 125    # number of loans\n",
    "N = 250000 # Number of simulated portfolios"
   ]
  },
  {
   "cell_type": "code",
   "execution_count": 61,
   "id": "alive-horizon",
   "metadata": {},
   "outputs": [],
   "source": [
    "loan_portfolios = pft.Loan_Portfolios(V = V0,\n",
    "                                      B = face_value, \n",
    "                                      T = ttm,\n",
    "                                      rf = rf,\n",
    "                                      rm = rm,\n",
    "                                      beta = beta,\n",
    "                                      sigmaM = sigma_m,\n",
    "                                      sigmaI = sigma_i,\n",
    "                                      j=J,\n",
    "                                      n=N,\n",
    "                                      seed=1234)"
   ]
  },
  {
   "cell_type": "markdown",
   "id": "recreational-assembly",
   "metadata": {},
   "source": [
    "# Modelling the SPV Dynamics without Prepayment on Collateral Assets"
   ]
  },
  {
   "cell_type": "code",
   "execution_count": 10,
   "id": "missing-candy",
   "metadata": {},
   "outputs": [
    {
     "name": "stdout",
     "output_type": "stream",
     "text": [
      "The absolute maximum payoff: 9180.30 with initial market value: 6990.38\n"
     ]
    }
   ],
   "source": [
    "max_spv_cash_flows = face_value * J\n",
    "initial_market_value = market_value * J\n",
    "print(\"The absolute maximum payoff: {0:0.2f} with initial market value: {1:0.2f}\".format(max_spv_cash_flows,initial_market_value))"
   ]
  },
  {
   "cell_type": "markdown",
   "id": "stable-suicide",
   "metadata": {},
   "source": [
    "Total SPV payoffs (under Q and P-measure respectively)"
   ]
  },
  {
   "cell_type": "code",
   "execution_count": 58,
   "id": "brave-winner",
   "metadata": {},
   "outputs": [],
   "source": [
    "SPV_Q, _ = loan_portfolios.no_prepayments(risk_neutral = True, paths = False)"
   ]
  },
  {
   "cell_type": "code",
   "execution_count": 12,
   "id": "desperate-grenada",
   "metadata": {},
   "outputs": [],
   "source": [
    "SPV_P, M = loan_portfolios.no_prepayments(risk_neutral = False, paths = False)"
   ]
  },
  {
   "cell_type": "markdown",
   "id": "active-architect",
   "metadata": {},
   "source": [
    "## Cash Flows to Each Tranche"
   ]
  },
  {
   "cell_type": "code",
   "execution_count": 14,
   "id": "solar-amplifier",
   "metadata": {},
   "outputs": [],
   "source": [
    "tranches_no_prepay = ott.tranche_sizes(DefTable,SPV_P,ttm,7)"
   ]
  },
  {
   "cell_type": "code",
   "execution_count": 16,
   "id": "coordinate-brass",
   "metadata": {},
   "outputs": [
    {
     "data": {
      "text/html": [
       "<div>\n",
       "<style scoped>\n",
       "    .dataframe tbody tr th:only-of-type {\n",
       "        vertical-align: middle;\n",
       "    }\n",
       "\n",
       "    .dataframe tbody tr th {\n",
       "        vertical-align: top;\n",
       "    }\n",
       "\n",
       "    .dataframe thead th {\n",
       "        text-align: right;\n",
       "    }\n",
       "</style>\n",
       "<table border=\"1\" class=\"dataframe\">\n",
       "  <thead>\n",
       "    <tr style=\"text-align: right;\">\n",
       "      <th></th>\n",
       "      <th>Cash Flows</th>\n",
       "      <th>Sum</th>\n",
       "      <th>Percent of Total</th>\n",
       "    </tr>\n",
       "  </thead>\n",
       "  <tbody>\n",
       "    <tr>\n",
       "      <th>AAA</th>\n",
       "      <td>7233.1</td>\n",
       "      <td>7233.1</td>\n",
       "      <td>78.8</td>\n",
       "    </tr>\n",
       "    <tr>\n",
       "      <th>AA</th>\n",
       "      <td>32.6</td>\n",
       "      <td>7265.7</td>\n",
       "      <td>0.4</td>\n",
       "    </tr>\n",
       "    <tr>\n",
       "      <th>A</th>\n",
       "      <td>125.6</td>\n",
       "      <td>7391.3</td>\n",
       "      <td>1.4</td>\n",
       "    </tr>\n",
       "    <tr>\n",
       "      <th>BBB</th>\n",
       "      <td>358.1</td>\n",
       "      <td>7749.4</td>\n",
       "      <td>3.9</td>\n",
       "    </tr>\n",
       "    <tr>\n",
       "      <th>BB</th>\n",
       "      <td>442.0</td>\n",
       "      <td>8191.4</td>\n",
       "      <td>4.8</td>\n",
       "    </tr>\n",
       "    <tr>\n",
       "      <th>B</th>\n",
       "      <td>317.9</td>\n",
       "      <td>8509.2</td>\n",
       "      <td>3.5</td>\n",
       "    </tr>\n",
       "    <tr>\n",
       "      <th>Equity</th>\n",
       "      <td>671.1</td>\n",
       "      <td>9180.3</td>\n",
       "      <td>7.3</td>\n",
       "    </tr>\n",
       "  </tbody>\n",
       "</table>\n",
       "</div>"
      ],
      "text/plain": [
       "        Cash Flows     Sum  Percent of Total\n",
       "AAA         7233.1  7233.1              78.8\n",
       "AA            32.6  7265.7               0.4\n",
       "A            125.6  7391.3               1.4\n",
       "BBB          358.1  7749.4               3.9\n",
       "BB           442.0  8191.4               4.8\n",
       "B            317.9  8509.2               3.5\n",
       "Equity       671.1  9180.3               7.3"
      ]
     },
     "execution_count": 16,
     "metadata": {},
     "output_type": "execute_result"
    }
   ],
   "source": [
    "pd.DataFrame({'Cash Flows':tranches_no_prepay,\n",
    "              'Sum':tranches_no_prepay.cumsum(),\n",
    "              'Percent of Total':np.divide(tranches_no_prepay,tranches_no_prepay.cumsum()[-1])*100\n",
    "             },[\"AAA\",\"AA\",\"A\",\"BBB\",\"BB\",\"B\",\"Equity\"]).round(1)"
   ]
  },
  {
   "cell_type": "code",
   "execution_count": 485,
   "id": "northern-tonight",
   "metadata": {},
   "outputs": [
    {
     "data": {
      "image/png": "[encoded data removed]",
      "text/plain": [
       "<Figure size 396.794x226.772 with 2 Axes>"
      ]
     },
     "metadata": {
      "needs_background": "light"
     },
     "output_type": "display_data"
    }
   ],
   "source": [
    "plt.figure(figsize=(textwidth, 8*cm))\n",
    "palette = sns.color_palette(\"summer\", n_colors=6, as_cmap=True)\n",
    "\n",
    "simulations = SPV_P\n",
    "\n",
    "min_ = 7000\n",
    "max_ = 9200\n",
    "ax = sns.histplot(data=simulations, bins=25, color=palette(1), stat='probability', alpha=1)\n",
    "plt.ylabel(\"Probability\")\n",
    "maxy = round(ax.get_ylim()[1],2)\n",
    "\n",
    "plt.ylim([0, maxy])\n",
    "plt.yticks(np.linspace(0, maxy, 6),[str(int(round(x,2)*100))+\"%\" for x in np.linspace(0, maxy, 6)])\n",
    "\n",
    "plt.xlim([min_,max_])\n",
    "plt.xlabel(\"Collateral Value\")\n",
    "\n",
    "for rating, def_prob in DefTable[ttm].items(): \n",
    "    value = np.quantile(simulations, def_prob/100)\n",
    "    plt.vlines(value,0,maxy*1.05,color='k',linestyles='--',linewidth=0.75)\n",
    "    if rating == 'AAA':\n",
    "        plt.text(value,maxy*1.05,s=rating,ha='right',va='center',color='k')\n",
    "    elif rating == 'AA' or rating == 'A':\n",
    "        plt.text(value,maxy*1.05,s=rating,ha='left',va='center',color='k')\n",
    "    else:\n",
    "        plt.text(value,maxy*1.05,s=rating,ha='center',va='center',color='k')\n",
    "\n",
    "ax2 = ax.twinx()\n",
    "ax2 = sns.ecdfplot(data=simulations, color='k',linewidth=0.75, ax=ax2, stat='proportion')\n",
    "plt.ylabel(\"Cumulative Probability\")\n",
    "plt.ylim([0,1])\n",
    "plt.yticks(np.linspace(0, 1, 6),[\"0%\",\"20%\",\"40%\",\"60%\",\"80%\",\"100%\"])\n",
    "\n",
    "plt.tight_layout()\n",
    "\n",
    "#plt.savefig(\"pic.pdf\", format='pdf', bbox_inches='tight')\n",
    "\n",
    "plt.show()"
   ]
  },
  {
   "cell_type": "markdown",
   "id": "human-testament",
   "metadata": {},
   "source": [
    "Data For Scatterplots"
   ]
  },
  {
   "cell_type": "code",
   "execution_count": 19,
   "id": "square-negative",
   "metadata": {},
   "outputs": [],
   "source": [
    "SPV_P_small = np.random.RandomState(1234).choice(SPV_P,size=2500)\n",
    "M_small = np.random.RandomState(1234).choice(M,size=2500)"
   ]
  },
  {
   "cell_type": "code",
   "execution_count": 91,
   "id": "apart-smoke",
   "metadata": {},
   "outputs": [
    {
     "data": {
      "text/html": [
       "<div>\n",
       "<style scoped>\n",
       "    .dataframe tbody tr th:only-of-type {\n",
       "        vertical-align: middle;\n",
       "    }\n",
       "\n",
       "    .dataframe tbody tr th {\n",
       "        vertical-align: top;\n",
       "    }\n",
       "\n",
       "    .dataframe thead th {\n",
       "        text-align: right;\n",
       "    }\n",
       "</style>\n",
       "<table border=\"1\" class=\"dataframe\">\n",
       "  <thead>\n",
       "    <tr style=\"text-align: right;\">\n",
       "      <th></th>\n",
       "      <th>SPV</th>\n",
       "      <th>Market Factor</th>\n",
       "      <th>AAA</th>\n",
       "      <th>AA</th>\n",
       "      <th>A</th>\n",
       "      <th>BBB</th>\n",
       "      <th>BB</th>\n",
       "      <th>B</th>\n",
       "      <th>Equity</th>\n",
       "    </tr>\n",
       "  </thead>\n",
       "  <tbody>\n",
       "    <tr>\n",
       "      <th>0</th>\n",
       "      <td>0.990824</td>\n",
       "      <td>0.249813</td>\n",
       "      <td>1.0</td>\n",
       "      <td>1.0</td>\n",
       "      <td>1.0</td>\n",
       "      <td>1.0</td>\n",
       "      <td>1.0</td>\n",
       "      <td>1.0</td>\n",
       "      <td>0.874467</td>\n",
       "    </tr>\n",
       "    <tr>\n",
       "      <th>1</th>\n",
       "      <td>0.982318</td>\n",
       "      <td>0.007552</td>\n",
       "      <td>1.0</td>\n",
       "      <td>1.0</td>\n",
       "      <td>1.0</td>\n",
       "      <td>1.0</td>\n",
       "      <td>1.0</td>\n",
       "      <td>1.0</td>\n",
       "      <td>0.758100</td>\n",
       "    </tr>\n",
       "    <tr>\n",
       "      <th>2</th>\n",
       "      <td>0.976469</td>\n",
       "      <td>0.196481</td>\n",
       "      <td>1.0</td>\n",
       "      <td>1.0</td>\n",
       "      <td>1.0</td>\n",
       "      <td>1.0</td>\n",
       "      <td>1.0</td>\n",
       "      <td>1.0</td>\n",
       "      <td>0.678097</td>\n",
       "    </tr>\n",
       "    <tr>\n",
       "      <th>3</th>\n",
       "      <td>0.964409</td>\n",
       "      <td>-0.136603</td>\n",
       "      <td>1.0</td>\n",
       "      <td>1.0</td>\n",
       "      <td>1.0</td>\n",
       "      <td>1.0</td>\n",
       "      <td>1.0</td>\n",
       "      <td>1.0</td>\n",
       "      <td>0.513102</td>\n",
       "    </tr>\n",
       "    <tr>\n",
       "      <th>4</th>\n",
       "      <td>0.982938</td>\n",
       "      <td>0.328542</td>\n",
       "      <td>1.0</td>\n",
       "      <td>1.0</td>\n",
       "      <td>1.0</td>\n",
       "      <td>1.0</td>\n",
       "      <td>1.0</td>\n",
       "      <td>1.0</td>\n",
       "      <td>0.766591</td>\n",
       "    </tr>\n",
       "  </tbody>\n",
       "</table>\n",
       "</div>"
      ],
      "text/plain": [
       "        SPV  Market Factor  AAA   AA    A  BBB   BB    B    Equity\n",
       "0  0.990824       0.249813  1.0  1.0  1.0  1.0  1.0  1.0  0.874467\n",
       "1  0.982318       0.007552  1.0  1.0  1.0  1.0  1.0  1.0  0.758100\n",
       "2  0.976469       0.196481  1.0  1.0  1.0  1.0  1.0  1.0  0.678097\n",
       "3  0.964409      -0.136603  1.0  1.0  1.0  1.0  1.0  1.0  0.513102\n",
       "4  0.982938       0.328542  1.0  1.0  1.0  1.0  1.0  1.0  0.766591"
      ]
     },
     "execution_count": 91,
     "metadata": {},
     "output_type": "execute_result"
    }
   ],
   "source": [
    "data_no_prepay = pd.DataFrame({'SPV':SPV_P_small/ max_spv_cash_flows,\n",
    "                               'Market Factor':M_small / ttm,\n",
    "                               'AAA':ott.clo_payoffs(SPV_P_small,tranches_no_prepay)[0]/ tranches_no_prepay[0],\n",
    "                               'AA':ott.clo_payoffs(SPV_P_small,tranches_no_prepay)[1]/ tranches_no_prepay[1],\n",
    "                               'A':ott.clo_payoffs(SPV_P_small,tranches_no_prepay)[2] / tranches_no_prepay[2],\n",
    "                               'BBB':ott.clo_payoffs(SPV_P_small,tranches_no_prepay)[3] / tranches_no_prepay[3],\n",
    "                               'BB':ott.clo_payoffs(SPV_P_small,tranches_no_prepay)[4] / tranches_no_prepay[4],\n",
    "                               'B':ott.clo_payoffs(SPV_P_small,tranches_no_prepay)[5] / tranches_no_prepay[5],\n",
    "                               'Equity':ott.clo_payoffs(SPV_P_small,tranches_no_prepay)[6]/ tranches_no_prepay[6]})\n",
    "data_no_prepay.head()"
   ]
  },
  {
   "cell_type": "code",
   "execution_count": 25,
   "id": "regulation-transfer",
   "metadata": {},
   "outputs": [
    {
     "name": "stdout",
     "output_type": "stream",
     "text": [
      "The maximum normalized payoff is: 131.33\n"
     ]
    }
   ],
   "source": [
    "maximum_norm_payoff = max_spv_cash_flows / initial_market_value * 100\n",
    "print('The maximum normalized payoff is: {0:0.2f}'.format(maximum_norm_payoff))"
   ]
  },
  {
   "cell_type": "code",
   "execution_count": 147,
   "id": "former-print",
   "metadata": {},
   "outputs": [],
   "source": [
    "no_prepay_tab = DefTable[[ttm]].copy()\n",
    "no_prepay_tab.rename(columns={5:'Default Probability'},inplace=True)\n",
    "no_prepay_tab['Face Value'] = (np.quantile(SPV_P, no_prepay_tab['Default Probability']/100) / initial_market_value) * 100"
   ]
  },
  {
   "cell_type": "code",
   "execution_count": 148,
   "id": "incorrect-entertainment",
   "metadata": {},
   "outputs": [],
   "source": [
    "for rating in no_prepay_tab.index:\n",
    "    no_prepay_tab.loc[rating, 'Market Value'] = (np.minimum(SPV_Q,\n",
    "                                                            np.quantile(SPV_P,\n",
    "                                                                        no_prepay_tab.loc[rating, 'Default Probability']/100\n",
    "                                                                       )).mean() * np.exp(-rf*ttm) / initial_market_value) * 100"
   ]
  },
  {
   "cell_type": "markdown",
   "id": "grateful-juvenile",
   "metadata": {},
   "source": [
    "Preliminary Table before \"tranching\""
   ]
  },
  {
   "cell_type": "code",
   "execution_count": 149,
   "id": "decent-organizer",
   "metadata": {},
   "outputs": [
    {
     "data": {
      "text/html": [
       "<div>\n",
       "<style scoped>\n",
       "    .dataframe tbody tr th:only-of-type {\n",
       "        vertical-align: middle;\n",
       "    }\n",
       "\n",
       "    .dataframe tbody tr th {\n",
       "        vertical-align: top;\n",
       "    }\n",
       "\n",
       "    .dataframe thead th {\n",
       "        text-align: right;\n",
       "    }\n",
       "</style>\n",
       "<table border=\"1\" class=\"dataframe\">\n",
       "  <thead>\n",
       "    <tr style=\"text-align: right;\">\n",
       "      <th></th>\n",
       "      <th>Default Probability</th>\n",
       "      <th>Face Value</th>\n",
       "      <th>Market Value</th>\n",
       "    </tr>\n",
       "  </thead>\n",
       "  <tbody>\n",
       "    <tr>\n",
       "      <th>AAA</th>\n",
       "      <td>0.27</td>\n",
       "      <td>103.47</td>\n",
       "      <td>86.64</td>\n",
       "    </tr>\n",
       "    <tr>\n",
       "      <th>AA</th>\n",
       "      <td>0.30</td>\n",
       "      <td>103.94</td>\n",
       "      <td>87.02</td>\n",
       "    </tr>\n",
       "    <tr>\n",
       "      <th>A</th>\n",
       "      <td>0.46</td>\n",
       "      <td>105.73</td>\n",
       "      <td>88.44</td>\n",
       "    </tr>\n",
       "    <tr>\n",
       "      <th>BBB</th>\n",
       "      <td>1.54</td>\n",
       "      <td>110.86</td>\n",
       "      <td>92.31</td>\n",
       "    </tr>\n",
       "    <tr>\n",
       "      <th>BB</th>\n",
       "      <td>6.43</td>\n",
       "      <td>117.18</td>\n",
       "      <td>96.41</td>\n",
       "    </tr>\n",
       "    <tr>\n",
       "      <th>B</th>\n",
       "      <td>17.35</td>\n",
       "      <td>121.73</td>\n",
       "      <td>98.56</td>\n",
       "    </tr>\n",
       "  </tbody>\n",
       "</table>\n",
       "</div>"
      ],
      "text/plain": [
       "     Default Probability  Face Value  Market Value\n",
       "AAA                 0.27      103.47         86.64\n",
       "AA                  0.30      103.94         87.02\n",
       "A                   0.46      105.73         88.44\n",
       "BBB                 1.54      110.86         92.31\n",
       "BB                  6.43      117.18         96.41\n",
       "B                  17.35      121.73         98.56"
      ]
     },
     "execution_count": 149,
     "metadata": {},
     "output_type": "execute_result"
    }
   ],
   "source": [
    "no_prepay_tab.round(2)"
   ]
  },
  {
   "cell_type": "markdown",
   "id": "minor-wrist",
   "metadata": {},
   "source": [
    "Tranching:"
   ]
  },
  {
   "cell_type": "code",
   "execution_count": 150,
   "id": "outdoor-clear",
   "metadata": {},
   "outputs": [],
   "source": [
    "no_prepay_tab.loc[:,'Face Value':'Market Value'] = no_prepay_tab.loc[:,'Face Value':'Market Value'] - no_prepay_tab.loc[:,'Face Value':'Market Value'].shift(1)\n",
    "no_prepay_tab.loc['AAA','Face Value'] = (np.quantile(SPV_P, no_prepay_tab.loc['AAA','Default Probability']/100) / initial_market_value) * 100\n",
    "no_prepay_tab.loc['AAA','Market Value'] = (np.minimum(SPV_Q, np.quantile(SPV_P, no_prepay_tab.loc['AAA', 'Default Probability']/100)).mean() * np.exp(-rf*ttm) / initial_market_value) * 100\n",
    "no_prepay_tab['Yield'] = ott.zero_yield(no_prepay_tab['Market Value'], no_prepay_tab['Face Value'], ttm) * 100\n",
    "no_prepay_tab.loc['Equity','Market Value'] = 100 - no_prepay_tab['Market Value'].sum(axis=0)"
   ]
  },
  {
   "cell_type": "code",
   "execution_count": 151,
   "id": "scientific-mountain",
   "metadata": {},
   "outputs": [
    {
     "data": {
      "text/html": [
       "<div>\n",
       "<style scoped>\n",
       "    .dataframe tbody tr th:only-of-type {\n",
       "        vertical-align: middle;\n",
       "    }\n",
       "\n",
       "    .dataframe tbody tr th {\n",
       "        vertical-align: top;\n",
       "    }\n",
       "\n",
       "    .dataframe thead th {\n",
       "        text-align: right;\n",
       "    }\n",
       "</style>\n",
       "<table border=\"1\" class=\"dataframe\">\n",
       "  <thead>\n",
       "    <tr style=\"text-align: right;\">\n",
       "      <th></th>\n",
       "      <th>Default Probability</th>\n",
       "      <th>Face Value</th>\n",
       "      <th>Market Value</th>\n",
       "      <th>Yield</th>\n",
       "    </tr>\n",
       "  </thead>\n",
       "  <tbody>\n",
       "    <tr>\n",
       "      <th>AAA</th>\n",
       "      <td>0.27</td>\n",
       "      <td>103.47</td>\n",
       "      <td>86.64</td>\n",
       "      <td>3.55</td>\n",
       "    </tr>\n",
       "    <tr>\n",
       "      <th>AA</th>\n",
       "      <td>0.30</td>\n",
       "      <td>0.47</td>\n",
       "      <td>0.37</td>\n",
       "      <td>4.48</td>\n",
       "    </tr>\n",
       "    <tr>\n",
       "      <th>A</th>\n",
       "      <td>0.46</td>\n",
       "      <td>1.80</td>\n",
       "      <td>1.42</td>\n",
       "      <td>4.69</td>\n",
       "    </tr>\n",
       "    <tr>\n",
       "      <th>BBB</th>\n",
       "      <td>1.54</td>\n",
       "      <td>5.12</td>\n",
       "      <td>3.87</td>\n",
       "      <td>5.61</td>\n",
       "    </tr>\n",
       "    <tr>\n",
       "      <th>BB</th>\n",
       "      <td>6.43</td>\n",
       "      <td>6.32</td>\n",
       "      <td>4.11</td>\n",
       "      <td>8.63</td>\n",
       "    </tr>\n",
       "    <tr>\n",
       "      <th>B</th>\n",
       "      <td>17.35</td>\n",
       "      <td>4.55</td>\n",
       "      <td>2.15</td>\n",
       "      <td>15.00</td>\n",
       "    </tr>\n",
       "    <tr>\n",
       "      <th>Equity</th>\n",
       "      <td>NaN</td>\n",
       "      <td>NaN</td>\n",
       "      <td>1.44</td>\n",
       "      <td>NaN</td>\n",
       "    </tr>\n",
       "  </tbody>\n",
       "</table>\n",
       "</div>"
      ],
      "text/plain": [
       "        Default Probability  Face Value  Market Value  Yield\n",
       "AAA                    0.27      103.47         86.64   3.55\n",
       "AA                     0.30        0.47          0.37   4.48\n",
       "A                      0.46        1.80          1.42   4.69\n",
       "BBB                    1.54        5.12          3.87   5.61\n",
       "BB                     6.43        6.32          4.11   8.63\n",
       "B                     17.35        4.55          2.15  15.00\n",
       "Equity                  NaN         NaN          1.44    NaN"
      ]
     },
     "execution_count": 151,
     "metadata": {},
     "output_type": "execute_result"
    }
   ],
   "source": [
    "no_prepay_tab.round(2)"
   ]
  },
  {
   "cell_type": "code",
   "execution_count": 30,
   "id": "egyptian-boston",
   "metadata": {},
   "outputs": [
    {
     "data": {
      "text/plain": [
       "0.6119757806153125"
      ]
     },
     "execution_count": 30,
     "metadata": {},
     "output_type": "execute_result"
    }
   ],
   "source": [
    "WACD = (no_prepay_tab.loc['AAA':'B','Market Value'] * no_prepay_tab.loc['AAA':'B','Yield']).sum()/no_prepay_tab.loc['AAA':'B','Market Value'].sum()\n",
    "WACD - rf*100"
   ]
  },
  {
   "cell_type": "markdown",
   "id": "human-candy",
   "metadata": {},
   "source": [
    "# Modelling the SPV Dynamics with Prepayments on Collateral Assets"
   ]
  },
  {
   "cell_type": "code",
   "execution_count": 62,
   "id": "south-island",
   "metadata": {},
   "outputs": [],
   "source": [
    "SPV_Q_pp, _, equity_Q_pp = loan_portfolios.with_prepayments(default_table = DefTable,\n",
    "                                                            rating='B',\n",
    "                                                            mv_callable=mv_call,\n",
    "                                                            risk_neutral = True,\n",
    "                                                            penalty=penalty)"
   ]
  },
  {
   "cell_type": "code",
   "execution_count": 89,
   "id": "australian-cowboy",
   "metadata": {},
   "outputs": [],
   "source": [
    "SPV_P_pp, M_pp, equity_P_pp = loan_portfolios.with_prepayments(default_table = DefTable,\n",
    "                                                               rating='B',\n",
    "                                                               mv_callable=mv_call,\n",
    "                                                               risk_neutral = False,\n",
    "                                                               penalty=penalty)"
   ]
  },
  {
   "cell_type": "markdown",
   "id": "certain-medicine",
   "metadata": {},
   "source": [
    "## Cash Flows to Tranches"
   ]
  },
  {
   "cell_type": "code",
   "execution_count": 64,
   "id": "heated-store",
   "metadata": {},
   "outputs": [],
   "source": [
    "tranches_prepay = ott.tranche_sizes(DefTable,SPV_P_pp,ttm,7)"
   ]
  },
  {
   "cell_type": "code",
   "execution_count": 65,
   "id": "grand-voltage",
   "metadata": {},
   "outputs": [
    {
     "data": {
      "text/html": [
       "<div>\n",
       "<style scoped>\n",
       "    .dataframe tbody tr th:only-of-type {\n",
       "        vertical-align: middle;\n",
       "    }\n",
       "\n",
       "    .dataframe tbody tr th {\n",
       "        vertical-align: top;\n",
       "    }\n",
       "\n",
       "    .dataframe thead th {\n",
       "        text-align: right;\n",
       "    }\n",
       "</style>\n",
       "<table border=\"1\" class=\"dataframe\">\n",
       "  <thead>\n",
       "    <tr style=\"text-align: right;\">\n",
       "      <th></th>\n",
       "      <th>Cash Flows</th>\n",
       "      <th>Sum</th>\n",
       "      <th>Percent of Total</th>\n",
       "    </tr>\n",
       "  </thead>\n",
       "  <tbody>\n",
       "    <tr>\n",
       "      <th>AAA</th>\n",
       "      <td>6752.6</td>\n",
       "      <td>6752.6</td>\n",
       "      <td>77.2</td>\n",
       "    </tr>\n",
       "    <tr>\n",
       "      <th>AA</th>\n",
       "      <td>31.2</td>\n",
       "      <td>6783.8</td>\n",
       "      <td>0.4</td>\n",
       "    </tr>\n",
       "    <tr>\n",
       "      <th>A</th>\n",
       "      <td>115.4</td>\n",
       "      <td>6899.2</td>\n",
       "      <td>1.3</td>\n",
       "    </tr>\n",
       "    <tr>\n",
       "      <th>BBB</th>\n",
       "      <td>336.2</td>\n",
       "      <td>7235.4</td>\n",
       "      <td>3.8</td>\n",
       "    </tr>\n",
       "    <tr>\n",
       "      <th>BB</th>\n",
       "      <td>411.3</td>\n",
       "      <td>7646.6</td>\n",
       "      <td>4.7</td>\n",
       "    </tr>\n",
       "    <tr>\n",
       "      <th>B</th>\n",
       "      <td>296.6</td>\n",
       "      <td>7943.2</td>\n",
       "      <td>3.4</td>\n",
       "    </tr>\n",
       "    <tr>\n",
       "      <th>Equity</th>\n",
       "      <td>801.9</td>\n",
       "      <td>8745.1</td>\n",
       "      <td>9.2</td>\n",
       "    </tr>\n",
       "  </tbody>\n",
       "</table>\n",
       "</div>"
      ],
      "text/plain": [
       "        Cash Flows     Sum  Percent of Total\n",
       "AAA         6752.6  6752.6              77.2\n",
       "AA            31.2  6783.8               0.4\n",
       "A            115.4  6899.2               1.3\n",
       "BBB          336.2  7235.4               3.8\n",
       "BB           411.3  7646.6               4.7\n",
       "B            296.6  7943.2               3.4\n",
       "Equity       801.9  8745.1               9.2"
      ]
     },
     "execution_count": 65,
     "metadata": {},
     "output_type": "execute_result"
    }
   ],
   "source": [
    "pd.DataFrame({'Cash Flows':tranches_prepay,\n",
    "              'Sum':tranches_prepay.cumsum(),\n",
    "              'Percent of Total':np.divide(tranches_prepay,tranches_prepay.cumsum()[-1])*100\n",
    "             },[\"AAA\",\"AA\",\"A\",\"BBB\",\"BB\",\"B\",\"Equity\"]).round(1)"
   ]
  },
  {
   "cell_type": "code",
   "execution_count": 476,
   "id": "early-workplace",
   "metadata": {},
   "outputs": [
    {
     "data": {
      "image/png": "[encoded data removed]",
      "text/plain": [
       "<Figure size 396.794x255.118 with 2 Axes>"
      ]
     },
     "metadata": {
      "needs_background": "light"
     },
     "output_type": "display_data"
    }
   ],
   "source": [
    "plt.figure(figsize=(textwidth, 9*cm))\n",
    "palette = sns.color_palette(\"summer\", n_colors=6, as_cmap=True)\n",
    "\n",
    "simulations = SPV_P\n",
    "simulations_pp = SPV_P_pp\n",
    "\n",
    "min_ = 6000\n",
    "max_ = 9200\n",
    "ax = sns.histplot(data=simulations, bins=25, color=palette(1), stat='probability', alpha=0.75)\n",
    "ax = sns.histplot(data=simulations_pp, bins=25, color=palette(75), stat='probability', alpha=0.75)\n",
    "\n",
    "plt.ylabel(\"Probability\")\n",
    "maxy = round(ax.get_ylim()[1],2)\n",
    "\n",
    "plt.ylim([0, maxy])\n",
    "plt.yticks(np.linspace(0, maxy, 6),[str(int(round(x,2)*100))+\"%\" for x in np.linspace(0, maxy, 6)])\n",
    "plt.legend(['Baseline','With Prepayments'],loc=\"upper center\", bbox_to_anchor=(0.5, 1.3, 0, 0),ncol=2, frameon=False)\n",
    "\n",
    "\n",
    "plt.xlim([min_,max_])\n",
    "plt.xlabel(\"Collateral Value\")\n",
    "\n",
    "ax2 = ax.twinx()\n",
    "ax2 = sns.ecdfplot(data=simulations, color='k',linewidth=0.75, ax=ax2, stat='proportion')\n",
    "ax2 = sns.ecdfplot(data=simulations_pp, color='k',linewidth=0.75, ax=ax2, stat='proportion')\n",
    "\n",
    "plt.text(np.quantile(simulations_pp, 1),1.05,s=\"$F_{pp}$\",ha='center',va='center',color='k',size=12)\n",
    "plt.text(np.quantile(simulations, 1),1.05,s=\"$F$\",ha='center',va='center',color='k',size=12)\n",
    "\n",
    "plt.ylabel(\"Cumulative Probability\")\n",
    "plt.ylim([0,1])\n",
    "plt.yticks(np.linspace(0, 1, 6),[\"0%\",\"20%\",\"40%\",\"60%\",\"80%\",\"100%\"])\n",
    "\n",
    "plt.tight_layout()\n",
    "\n",
    "#plt.savefig(\"ColValwPP_P.pdf\", format='pdf', bbox_inches='tight')\n",
    "\n",
    "plt.show()"
   ]
  },
  {
   "cell_type": "markdown",
   "id": "north-welding",
   "metadata": {},
   "source": [
    "Data for Scatterplots"
   ]
  },
  {
   "cell_type": "code",
   "execution_count": 94,
   "id": "wrong-diary",
   "metadata": {},
   "outputs": [],
   "source": [
    "SPV_P_pp_small = np.random.RandomState(1234).choice(SPV_P_pp,size=2500)\n",
    "M_pp_small = np.random.RandomState(1234).choice(M_pp,size=2500)\n",
    "equity_P_pp_small = np.random.RandomState(1234).choice(equity_P_pp,size=2500)"
   ]
  },
  {
   "cell_type": "code",
   "execution_count": 106,
   "id": "alien-protest",
   "metadata": {},
   "outputs": [
    {
     "data": {
      "text/html": [
       "<div>\n",
       "<style scoped>\n",
       "    .dataframe tbody tr th:only-of-type {\n",
       "        vertical-align: middle;\n",
       "    }\n",
       "\n",
       "    .dataframe tbody tr th {\n",
       "        vertical-align: top;\n",
       "    }\n",
       "\n",
       "    .dataframe thead th {\n",
       "        text-align: right;\n",
       "    }\n",
       "</style>\n",
       "<table border=\"1\" class=\"dataframe\">\n",
       "  <thead>\n",
       "    <tr style=\"text-align: right;\">\n",
       "      <th></th>\n",
       "      <th>SPV</th>\n",
       "      <th>Market Factor</th>\n",
       "      <th>AAA</th>\n",
       "      <th>AA</th>\n",
       "      <th>A</th>\n",
       "      <th>BBB</th>\n",
       "      <th>BB</th>\n",
       "      <th>B</th>\n",
       "      <th>Equity</th>\n",
       "    </tr>\n",
       "  </thead>\n",
       "  <tbody>\n",
       "    <tr>\n",
       "      <th>0</th>\n",
       "      <td>0.928588</td>\n",
       "      <td>0.052765</td>\n",
       "      <td>1.0</td>\n",
       "      <td>1.0</td>\n",
       "      <td>1.0</td>\n",
       "      <td>1.0</td>\n",
       "      <td>1.0</td>\n",
       "      <td>1.0</td>\n",
       "      <td>0.624967</td>\n",
       "    </tr>\n",
       "    <tr>\n",
       "      <th>1</th>\n",
       "      <td>0.918883</td>\n",
       "      <td>0.480935</td>\n",
       "      <td>1.0</td>\n",
       "      <td>1.0</td>\n",
       "      <td>1.0</td>\n",
       "      <td>1.0</td>\n",
       "      <td>1.0</td>\n",
       "      <td>1.0</td>\n",
       "      <td>0.611809</td>\n",
       "    </tr>\n",
       "    <tr>\n",
       "      <th>2</th>\n",
       "      <td>0.912871</td>\n",
       "      <td>0.372519</td>\n",
       "      <td>1.0</td>\n",
       "      <td>1.0</td>\n",
       "      <td>1.0</td>\n",
       "      <td>1.0</td>\n",
       "      <td>1.0</td>\n",
       "      <td>1.0</td>\n",
       "      <td>0.549262</td>\n",
       "    </tr>\n",
       "    <tr>\n",
       "      <th>3</th>\n",
       "      <td>0.901015</td>\n",
       "      <td>-0.091125</td>\n",
       "      <td>1.0</td>\n",
       "      <td>1.0</td>\n",
       "      <td>1.0</td>\n",
       "      <td>1.0</td>\n",
       "      <td>1.0</td>\n",
       "      <td>1.0</td>\n",
       "      <td>0.485061</td>\n",
       "    </tr>\n",
       "    <tr>\n",
       "      <th>4</th>\n",
       "      <td>0.919537</td>\n",
       "      <td>0.408927</td>\n",
       "      <td>1.0</td>\n",
       "      <td>1.0</td>\n",
       "      <td>1.0</td>\n",
       "      <td>1.0</td>\n",
       "      <td>1.0</td>\n",
       "      <td>1.0</td>\n",
       "      <td>0.591666</td>\n",
       "    </tr>\n",
       "    <tr>\n",
       "      <th>...</th>\n",
       "      <td>...</td>\n",
       "      <td>...</td>\n",
       "      <td>...</td>\n",
       "      <td>...</td>\n",
       "      <td>...</td>\n",
       "      <td>...</td>\n",
       "      <td>...</td>\n",
       "      <td>...</td>\n",
       "      <td>...</td>\n",
       "    </tr>\n",
       "    <tr>\n",
       "      <th>2495</th>\n",
       "      <td>0.915463</td>\n",
       "      <td>0.438594</td>\n",
       "      <td>1.0</td>\n",
       "      <td>1.0</td>\n",
       "      <td>1.0</td>\n",
       "      <td>1.0</td>\n",
       "      <td>1.0</td>\n",
       "      <td>1.0</td>\n",
       "      <td>0.607500</td>\n",
       "    </tr>\n",
       "    <tr>\n",
       "      <th>2496</th>\n",
       "      <td>0.905461</td>\n",
       "      <td>0.085152</td>\n",
       "      <td>1.0</td>\n",
       "      <td>1.0</td>\n",
       "      <td>1.0</td>\n",
       "      <td>1.0</td>\n",
       "      <td>1.0</td>\n",
       "      <td>1.0</td>\n",
       "      <td>0.487304</td>\n",
       "    </tr>\n",
       "    <tr>\n",
       "      <th>2497</th>\n",
       "      <td>0.920453</td>\n",
       "      <td>0.302135</td>\n",
       "      <td>1.0</td>\n",
       "      <td>1.0</td>\n",
       "      <td>1.0</td>\n",
       "      <td>1.0</td>\n",
       "      <td>1.0</td>\n",
       "      <td>1.0</td>\n",
       "      <td>0.619021</td>\n",
       "    </tr>\n",
       "    <tr>\n",
       "      <th>2498</th>\n",
       "      <td>0.877126</td>\n",
       "      <td>-0.356956</td>\n",
       "      <td>1.0</td>\n",
       "      <td>1.0</td>\n",
       "      <td>1.0</td>\n",
       "      <td>1.0</td>\n",
       "      <td>1.0</td>\n",
       "      <td>1.0</td>\n",
       "      <td>0.235630</td>\n",
       "    </tr>\n",
       "    <tr>\n",
       "      <th>2499</th>\n",
       "      <td>0.922175</td>\n",
       "      <td>0.054994</td>\n",
       "      <td>1.0</td>\n",
       "      <td>1.0</td>\n",
       "      <td>1.0</td>\n",
       "      <td>1.0</td>\n",
       "      <td>1.0</td>\n",
       "      <td>1.0</td>\n",
       "      <td>0.680572</td>\n",
       "    </tr>\n",
       "  </tbody>\n",
       "</table>\n",
       "<p>2500 rows × 9 columns</p>\n",
       "</div>"
      ],
      "text/plain": [
       "           SPV  Market Factor  AAA   AA    A  BBB   BB    B    Equity\n",
       "0     0.928588       0.052765  1.0  1.0  1.0  1.0  1.0  1.0  0.624967\n",
       "1     0.918883       0.480935  1.0  1.0  1.0  1.0  1.0  1.0  0.611809\n",
       "2     0.912871       0.372519  1.0  1.0  1.0  1.0  1.0  1.0  0.549262\n",
       "3     0.901015      -0.091125  1.0  1.0  1.0  1.0  1.0  1.0  0.485061\n",
       "4     0.919537       0.408927  1.0  1.0  1.0  1.0  1.0  1.0  0.591666\n",
       "...        ...            ...  ...  ...  ...  ...  ...  ...       ...\n",
       "2495  0.915463       0.438594  1.0  1.0  1.0  1.0  1.0  1.0  0.607500\n",
       "2496  0.905461       0.085152  1.0  1.0  1.0  1.0  1.0  1.0  0.487304\n",
       "2497  0.920453       0.302135  1.0  1.0  1.0  1.0  1.0  1.0  0.619021\n",
       "2498  0.877126      -0.356956  1.0  1.0  1.0  1.0  1.0  1.0  0.235630\n",
       "2499  0.922175       0.054994  1.0  1.0  1.0  1.0  1.0  1.0  0.680572\n",
       "\n",
       "[2500 rows x 9 columns]"
      ]
     },
     "execution_count": 106,
     "metadata": {},
     "output_type": "execute_result"
    }
   ],
   "source": [
    "data_prepay = pd.DataFrame({'SPV':SPV_P_pp_small/ max_spv_cash_flows,\n",
    "                             'Market Factor':M_pp_small / ttm,\n",
    "                             'AAA':ott.clo_payoffs(SPV_P_pp_small,tranches_prepay)[0]/ tranches_prepay[0],\n",
    "                             'AA':ott.clo_payoffs(SPV_P_pp_small,tranches_prepay)[1]/ tranches_prepay[1],\n",
    "                             'A':ott.clo_payoffs(SPV_P_pp_small,tranches_prepay)[2] / tranches_prepay[2],\n",
    "                             'BBB':ott.clo_payoffs(SPV_P_pp_small,tranches_prepay)[3] / tranches_prepay[3],\n",
    "                             'BB':ott.clo_payoffs(SPV_P_pp_small,tranches_prepay)[4] / tranches_prepay[4],\n",
    "                             'B':ott.clo_payoffs(SPV_P_pp_small,tranches_prepay)[5] / tranches_prepay[5],\n",
    "                             'Equity':(ott.clo_payoffs(SPV_P_pp_small,tranches_prepay)[6] + equity_P_pp_small) / (tranches_prepay[6] + max(equity_P_pp_small))})\n",
    "data_prepay"
   ]
  },
  {
   "cell_type": "markdown",
   "id": "demonstrated-albania",
   "metadata": {},
   "source": [
    "Generate Tables"
   ]
  },
  {
   "cell_type": "code",
   "execution_count": 117,
   "id": "supported-mercy",
   "metadata": {},
   "outputs": [],
   "source": [
    "initial_market_value_prepayment = mv_call * J"
   ]
  },
  {
   "cell_type": "code",
   "execution_count": 121,
   "id": "abstract-bones",
   "metadata": {},
   "outputs": [
    {
     "name": "stdout",
     "output_type": "stream",
     "text": [
      "The maximum normalized payoff is: 134.22\n"
     ]
    }
   ],
   "source": [
    "maximum_norm_payoff = max_spv_cash_flows / initial_market_value_prepayment * 100\n",
    "print('The maximum normalized payoff is: {0:0.2f}'.format(maximum_norm_payoff))"
   ]
  },
  {
   "cell_type": "code",
   "execution_count": 294,
   "id": "personal-ridge",
   "metadata": {},
   "outputs": [],
   "source": [
    "prepay_tab = DefTable[[ttm]].copy()\n",
    "prepay_tab.rename(columns={5:'Default Probability'},inplace=True)\n",
    "prepay_tab['Face Value'] = (np.quantile(SPV_P_pp, prepay_tab['Default Probability']/100) / initial_market_value) * 100"
   ]
  },
  {
   "cell_type": "code",
   "execution_count": 295,
   "id": "mathematical-luxembourg",
   "metadata": {},
   "outputs": [],
   "source": [
    "for rating in prepay_tab.index:\n",
    "    prepay_tab.loc[rating, 'Market Value'] = (np.minimum(SPV_Q_pp,\n",
    "                                                         np.quantile(SPV_P_pp,\n",
    "                                                                     prepay_tab.loc[rating, 'Default Probability']/100\n",
    "                                                                    )).mean() * np.exp(-rf*ttm) / initial_market_value) * 100"
   ]
  },
  {
   "cell_type": "markdown",
   "id": "unexpected-protein",
   "metadata": {},
   "source": [
    "Preliminary Table before Tranching"
   ]
  },
  {
   "cell_type": "code",
   "execution_count": 296,
   "id": "permanent-bruce",
   "metadata": {},
   "outputs": [
    {
     "data": {
      "text/html": [
       "<div>\n",
       "<style scoped>\n",
       "    .dataframe tbody tr th:only-of-type {\n",
       "        vertical-align: middle;\n",
       "    }\n",
       "\n",
       "    .dataframe tbody tr th {\n",
       "        vertical-align: top;\n",
       "    }\n",
       "\n",
       "    .dataframe thead th {\n",
       "        text-align: right;\n",
       "    }\n",
       "</style>\n",
       "<table border=\"1\" class=\"dataframe\">\n",
       "  <thead>\n",
       "    <tr style=\"text-align: right;\">\n",
       "      <th></th>\n",
       "      <th>Default Probability</th>\n",
       "      <th>Face Value</th>\n",
       "      <th>Market Value</th>\n",
       "    </tr>\n",
       "  </thead>\n",
       "  <tbody>\n",
       "    <tr>\n",
       "      <th>AAA</th>\n",
       "      <td>0.27</td>\n",
       "      <td>96.60</td>\n",
       "      <td>80.90</td>\n",
       "    </tr>\n",
       "    <tr>\n",
       "      <th>AA</th>\n",
       "      <td>0.30</td>\n",
       "      <td>97.04</td>\n",
       "      <td>81.26</td>\n",
       "    </tr>\n",
       "    <tr>\n",
       "      <th>A</th>\n",
       "      <td>0.46</td>\n",
       "      <td>98.70</td>\n",
       "      <td>82.57</td>\n",
       "    </tr>\n",
       "    <tr>\n",
       "      <th>BBB</th>\n",
       "      <td>1.54</td>\n",
       "      <td>103.50</td>\n",
       "      <td>86.21</td>\n",
       "    </tr>\n",
       "    <tr>\n",
       "      <th>BB</th>\n",
       "      <td>6.43</td>\n",
       "      <td>109.39</td>\n",
       "      <td>90.05</td>\n",
       "    </tr>\n",
       "    <tr>\n",
       "      <th>B</th>\n",
       "      <td>17.35</td>\n",
       "      <td>113.63</td>\n",
       "      <td>92.08</td>\n",
       "    </tr>\n",
       "  </tbody>\n",
       "</table>\n",
       "</div>"
      ],
      "text/plain": [
       "     Default Probability  Face Value  Market Value\n",
       "AAA                 0.27       96.60         80.90\n",
       "AA                  0.30       97.04         81.26\n",
       "A                   0.46       98.70         82.57\n",
       "BBB                 1.54      103.50         86.21\n",
       "BB                  6.43      109.39         90.05\n",
       "B                  17.35      113.63         92.08"
      ]
     },
     "execution_count": 296,
     "metadata": {},
     "output_type": "execute_result"
    }
   ],
   "source": [
    "prepay_tab.round(2)"
   ]
  },
  {
   "cell_type": "markdown",
   "id": "global-hypothesis",
   "metadata": {},
   "source": [
    "Tranching"
   ]
  },
  {
   "cell_type": "code",
   "execution_count": 297,
   "id": "economic-squad",
   "metadata": {},
   "outputs": [],
   "source": [
    "prepay_tab.loc[:,'Face Value':'Market Value'] = prepay_tab.loc[:,'Face Value':'Market Value'] - prepay_tab.loc[:,'Face Value':'Market Value'].shift(1)\n",
    "prepay_tab.loc['AAA','Face Value'] = (np.quantile(SPV_P_pp, prepay_tab.loc['AAA','Default Probability']/100) / initial_market_value) * 100\n",
    "prepay_tab.loc['AAA','Market Value'] = (np.minimum(SPV_Q_pp, np.quantile(SPV_P_pp, prepay_tab.loc['AAA', 'Default Probability']/100)).mean() * np.exp(-rf*ttm) / initial_market_value) * 100\n",
    "prepay_tab['Yield'] = ott.zero_yield(prepay_tab['Market Value'], prepay_tab['Face Value'], ttm) * 100\n",
    "prepay_tab.loc['Equity','Market Value'] = initial_market_value_prepayment/initial_market_value * 100 - prepay_tab['Market Value'].sum(axis=0)"
   ]
  },
  {
   "cell_type": "code",
   "execution_count": 298,
   "id": "encouraging-outdoors",
   "metadata": {},
   "outputs": [
    {
     "data": {
      "text/html": [
       "<div>\n",
       "<style scoped>\n",
       "    .dataframe tbody tr th:only-of-type {\n",
       "        vertical-align: middle;\n",
       "    }\n",
       "\n",
       "    .dataframe tbody tr th {\n",
       "        vertical-align: top;\n",
       "    }\n",
       "\n",
       "    .dataframe thead th {\n",
       "        text-align: right;\n",
       "    }\n",
       "</style>\n",
       "<table border=\"1\" class=\"dataframe\">\n",
       "  <thead>\n",
       "    <tr style=\"text-align: right;\">\n",
       "      <th></th>\n",
       "      <th>Default Probability</th>\n",
       "      <th>Face Value</th>\n",
       "      <th>Market Value</th>\n",
       "      <th>Yield</th>\n",
       "    </tr>\n",
       "  </thead>\n",
       "  <tbody>\n",
       "    <tr>\n",
       "      <th>AAA</th>\n",
       "      <td>0.27</td>\n",
       "      <td>96.60</td>\n",
       "      <td>80.90</td>\n",
       "      <td>3.55</td>\n",
       "    </tr>\n",
       "    <tr>\n",
       "      <th>AA</th>\n",
       "      <td>0.30</td>\n",
       "      <td>0.45</td>\n",
       "      <td>0.36</td>\n",
       "      <td>4.43</td>\n",
       "    </tr>\n",
       "    <tr>\n",
       "      <th>A</th>\n",
       "      <td>0.46</td>\n",
       "      <td>1.65</td>\n",
       "      <td>1.31</td>\n",
       "      <td>4.63</td>\n",
       "    </tr>\n",
       "    <tr>\n",
       "      <th>BBB</th>\n",
       "      <td>1.54</td>\n",
       "      <td>4.81</td>\n",
       "      <td>3.65</td>\n",
       "      <td>5.54</td>\n",
       "    </tr>\n",
       "    <tr>\n",
       "      <th>BB</th>\n",
       "      <td>6.43</td>\n",
       "      <td>5.88</td>\n",
       "      <td>3.84</td>\n",
       "      <td>8.53</td>\n",
       "    </tr>\n",
       "    <tr>\n",
       "      <th>B</th>\n",
       "      <td>17.35</td>\n",
       "      <td>4.24</td>\n",
       "      <td>2.02</td>\n",
       "      <td>14.80</td>\n",
       "    </tr>\n",
       "    <tr>\n",
       "      <th>Equity</th>\n",
       "      <td>NaN</td>\n",
       "      <td>NaN</td>\n",
       "      <td>5.77</td>\n",
       "      <td>NaN</td>\n",
       "    </tr>\n",
       "  </tbody>\n",
       "</table>\n",
       "</div>"
      ],
      "text/plain": [
       "        Default Probability  Face Value  Market Value  Yield\n",
       "AAA                    0.27       96.60         80.90   3.55\n",
       "AA                     0.30        0.45          0.36   4.43\n",
       "A                      0.46        1.65          1.31   4.63\n",
       "BBB                    1.54        4.81          3.65   5.54\n",
       "BB                     6.43        5.88          3.84   8.53\n",
       "B                     17.35        4.24          2.02  14.80\n",
       "Equity                  NaN         NaN          5.77    NaN"
      ]
     },
     "execution_count": 298,
     "metadata": {},
     "output_type": "execute_result"
    }
   ],
   "source": [
    "prepay_tab.round(2)"
   ]
  },
  {
   "cell_type": "markdown",
   "id": "mechanical-wallpaper",
   "metadata": {},
   "source": [
    "Comparison with no prepayment case"
   ]
  },
  {
   "cell_type": "code",
   "execution_count": 152,
   "id": "innocent-appliance",
   "metadata": {},
   "outputs": [
    {
     "data": {
      "text/html": [
       "<div>\n",
       "<style scoped>\n",
       "    .dataframe tbody tr th:only-of-type {\n",
       "        vertical-align: middle;\n",
       "    }\n",
       "\n",
       "    .dataframe tbody tr th {\n",
       "        vertical-align: top;\n",
       "    }\n",
       "\n",
       "    .dataframe thead th {\n",
       "        text-align: right;\n",
       "    }\n",
       "</style>\n",
       "<table border=\"1\" class=\"dataframe\">\n",
       "  <thead>\n",
       "    <tr style=\"text-align: right;\">\n",
       "      <th></th>\n",
       "      <th>Default Probability</th>\n",
       "      <th>Face Value</th>\n",
       "      <th>Market Value</th>\n",
       "      <th>Yield</th>\n",
       "    </tr>\n",
       "  </thead>\n",
       "  <tbody>\n",
       "    <tr>\n",
       "      <th>AAA</th>\n",
       "      <td>0.27</td>\n",
       "      <td>103.47</td>\n",
       "      <td>86.64</td>\n",
       "      <td>3.55</td>\n",
       "    </tr>\n",
       "    <tr>\n",
       "      <th>AA</th>\n",
       "      <td>0.30</td>\n",
       "      <td>0.47</td>\n",
       "      <td>0.37</td>\n",
       "      <td>4.48</td>\n",
       "    </tr>\n",
       "    <tr>\n",
       "      <th>A</th>\n",
       "      <td>0.46</td>\n",
       "      <td>1.80</td>\n",
       "      <td>1.42</td>\n",
       "      <td>4.69</td>\n",
       "    </tr>\n",
       "    <tr>\n",
       "      <th>BBB</th>\n",
       "      <td>1.54</td>\n",
       "      <td>5.12</td>\n",
       "      <td>3.87</td>\n",
       "      <td>5.61</td>\n",
       "    </tr>\n",
       "    <tr>\n",
       "      <th>BB</th>\n",
       "      <td>6.43</td>\n",
       "      <td>6.32</td>\n",
       "      <td>4.11</td>\n",
       "      <td>8.63</td>\n",
       "    </tr>\n",
       "    <tr>\n",
       "      <th>B</th>\n",
       "      <td>17.35</td>\n",
       "      <td>4.55</td>\n",
       "      <td>2.15</td>\n",
       "      <td>15.00</td>\n",
       "    </tr>\n",
       "    <tr>\n",
       "      <th>Equity</th>\n",
       "      <td>NaN</td>\n",
       "      <td>NaN</td>\n",
       "      <td>1.44</td>\n",
       "      <td>NaN</td>\n",
       "    </tr>\n",
       "  </tbody>\n",
       "</table>\n",
       "</div>"
      ],
      "text/plain": [
       "        Default Probability  Face Value  Market Value  Yield\n",
       "AAA                    0.27      103.47         86.64   3.55\n",
       "AA                     0.30        0.47          0.37   4.48\n",
       "A                      0.46        1.80          1.42   4.69\n",
       "BBB                    1.54        5.12          3.87   5.61\n",
       "BB                     6.43        6.32          4.11   8.63\n",
       "B                     17.35        4.55          2.15  15.00\n",
       "Equity                  NaN         NaN          1.44    NaN"
      ]
     },
     "execution_count": 152,
     "metadata": {},
     "output_type": "execute_result"
    }
   ],
   "source": [
    "no_prepay_tab.round(2)"
   ]
  },
  {
   "cell_type": "markdown",
   "id": "baking-audio",
   "metadata": {},
   "source": [
    "Create Results Table"
   ]
  },
  {
   "cell_type": "code",
   "execution_count": 471,
   "id": "powered-springer",
   "metadata": {},
   "outputs": [
    {
     "data": {
      "text/html": [
       "<div>\n",
       "<style scoped>\n",
       "    .dataframe tbody tr th:only-of-type {\n",
       "        vertical-align: middle;\n",
       "    }\n",
       "\n",
       "    .dataframe tbody tr th {\n",
       "        vertical-align: top;\n",
       "    }\n",
       "\n",
       "    .dataframe thead th {\n",
       "        text-align: right;\n",
       "    }\n",
       "</style>\n",
       "<table border=\"1\" class=\"dataframe\">\n",
       "  <thead>\n",
       "    <tr style=\"text-align: right;\">\n",
       "      <th></th>\n",
       "      <th>Default Probability</th>\n",
       "      <th>Face Value</th>\n",
       "      <th>Market Value</th>\n",
       "      <th>Yield</th>\n",
       "      <th>Adj. Yield</th>\n",
       "      <th>Adj. Spread</th>\n",
       "      <th>Mispricing</th>\n",
       "    </tr>\n",
       "  </thead>\n",
       "  <tbody>\n",
       "    <tr>\n",
       "      <th>AAA</th>\n",
       "      <td>0.27</td>\n",
       "      <td>103.47</td>\n",
       "      <td>80.90</td>\n",
       "      <td>3.55</td>\n",
       "      <td>4.92</td>\n",
       "      <td>1.42</td>\n",
       "      <td>1.37</td>\n",
       "    </tr>\n",
       "    <tr>\n",
       "      <th>AA</th>\n",
       "      <td>0.30</td>\n",
       "      <td>0.47</td>\n",
       "      <td>0.36</td>\n",
       "      <td>4.48</td>\n",
       "      <td>5.27</td>\n",
       "      <td>1.77</td>\n",
       "      <td>0.79</td>\n",
       "    </tr>\n",
       "    <tr>\n",
       "      <th>A</th>\n",
       "      <td>0.46</td>\n",
       "      <td>1.80</td>\n",
       "      <td>1.31</td>\n",
       "      <td>4.69</td>\n",
       "      <td>6.32</td>\n",
       "      <td>2.82</td>\n",
       "      <td>1.64</td>\n",
       "    </tr>\n",
       "    <tr>\n",
       "      <th>BBB</th>\n",
       "      <td>1.54</td>\n",
       "      <td>5.12</td>\n",
       "      <td>3.65</td>\n",
       "      <td>5.61</td>\n",
       "      <td>6.81</td>\n",
       "      <td>3.31</td>\n",
       "      <td>1.20</td>\n",
       "    </tr>\n",
       "    <tr>\n",
       "      <th>BB</th>\n",
       "      <td>6.43</td>\n",
       "      <td>6.32</td>\n",
       "      <td>3.84</td>\n",
       "      <td>8.63</td>\n",
       "      <td>9.97</td>\n",
       "      <td>6.47</td>\n",
       "      <td>1.34</td>\n",
       "    </tr>\n",
       "    <tr>\n",
       "      <th>B</th>\n",
       "      <td>17.35</td>\n",
       "      <td>4.55</td>\n",
       "      <td>2.02</td>\n",
       "      <td>15.00</td>\n",
       "      <td>16.18</td>\n",
       "      <td>12.68</td>\n",
       "      <td>1.19</td>\n",
       "    </tr>\n",
       "    <tr>\n",
       "      <th>Equity</th>\n",
       "      <td>NaN</td>\n",
       "      <td>NaN</td>\n",
       "      <td>5.77</td>\n",
       "      <td>NaN</td>\n",
       "      <td>NaN</td>\n",
       "      <td>NaN</td>\n",
       "      <td>NaN</td>\n",
       "    </tr>\n",
       "  </tbody>\n",
       "</table>\n",
       "</div>"
      ],
      "text/plain": [
       "        Default Probability  Face Value  Market Value  Yield  Adj. Yield  \\\n",
       "AAA                    0.27      103.47         80.90   3.55        4.92   \n",
       "AA                     0.30        0.47          0.36   4.48        5.27   \n",
       "A                      0.46        1.80          1.31   4.69        6.32   \n",
       "BBB                    1.54        5.12          3.65   5.61        6.81   \n",
       "BB                     6.43        6.32          3.84   8.63        9.97   \n",
       "B                     17.35        4.55          2.02  15.00       16.18   \n",
       "Equity                  NaN         NaN          5.77    NaN         NaN   \n",
       "\n",
       "        Adj. Spread  Mispricing  \n",
       "AAA            1.42        1.37  \n",
       "AA             1.77        0.79  \n",
       "A              2.82        1.64  \n",
       "BBB            3.31        1.20  \n",
       "BB             6.47        1.34  \n",
       "B             12.68        1.19  \n",
       "Equity          NaN         NaN  "
      ]
     },
     "execution_count": 471,
     "metadata": {},
     "output_type": "execute_result"
    }
   ],
   "source": [
    "final_df = pd.concat([no_prepay_tab[['Default Probability','Face Value','Yield']], prepay_tab[['Market Value']]], axis=1,sort=False)\n",
    "final_df['Adj. Yield'] = ott.zero_yield(final_df['Market Value'], final_df['Face Value'], ttm) * 100\n",
    "final_df['Adj. Spread'] = final_df['Adj. Yield'] - rf * 100\n",
    "final_df['Mispricing'] = final_df['Adj. Yield'] - final_df['Yield']\n",
    "\n",
    "final_df[['Default Probability', 'Face Value', 'Market Value', 'Yield', 'Adj. Yield', 'Adj. Spread', 'Mispricing']].round(2)"
   ]
  },
  {
   "cell_type": "code",
   "execution_count": 472,
   "id": "decreased-desperate",
   "metadata": {},
   "outputs": [
    {
     "data": {
      "text/plain": [
       "4.638726036689346"
      ]
     },
     "execution_count": 472,
     "metadata": {},
     "output_type": "execute_result"
    }
   ],
   "source": [
    "equity_mv_pp / initial_market_value * 100"
   ]
  },
  {
   "cell_type": "code",
   "execution_count": 473,
   "id": "solar-jackson",
   "metadata": {},
   "outputs": [
    {
     "name": "stdout",
     "output_type": "stream",
     "text": [
      "The total mispricing given the Parameters is: 1.36%\n"
     ]
    }
   ],
   "source": [
    "total_mispricing = (final_df.loc['AAA':'B','Market Value'] * final_df['Mispricing'] / final_df.loc['AAA':'B','Market Value'].sum()).sum()\n",
    "print(\"The total mispricing given the Parameters is: {0:0.2f}%\".format(total_mispricing))"
   ]
  },
  {
   "cell_type": "code",
   "execution_count": 304,
   "id": "acknowledged-valuable",
   "metadata": {},
   "outputs": [
    {
     "name": "stdout",
     "output_type": "stream",
     "text": [
      "\n",
      "    WACD for the portfolios is:\n",
      "\n",
      "    Correctly Priced w/ Prepayments: 4.21%\n",
      "\n",
      "    Correctly Priced w/o Prepayments: 4.22%\n",
      "\n",
      "    Mispriced: 5.58%\n",
      "    \n"
     ]
    }
   ],
   "source": [
    "print(\n",
    "    \"\"\"\n",
    "    WACD for the portfolios is:\\n\n",
    "    Correctly Priced w/ Prepayments: {0:0.2f}%\\n\n",
    "    Correctly Priced w/o Prepayments: {1:0.2f}%\\n\n",
    "    Mispriced: {2:0.2f}%\n",
    "    \"\"\".format(\n",
    "        ott.zero_yield(prepay_tab.loc['AAA':'B','Market Value'].sum(),prepay_tab['Face Value'].sum(),ttm) * 100,\n",
    "        ott.zero_yield(no_prepay_tab.loc['AAA':'B','Market Value'].sum(),no_prepay_tab['Face Value'].sum(),ttm) * 100,\n",
    "        ott.zero_yield(final_df.loc['AAA':'B','Market Value'].sum(),final_df['Face Value'].sum(),ttm) * 100)\n",
    ")"
   ]
  },
  {
   "cell_type": "markdown",
   "id": "arranged-revolution",
   "metadata": {},
   "source": [
    "# Create Scatterplots"
   ]
  },
  {
   "cell_type": "code",
   "execution_count": null,
   "id": "heated-manufacturer",
   "metadata": {},
   "outputs": [],
   "source": []
  },
  {
   "cell_type": "code",
   "execution_count": 350,
   "id": "pressed-twenty",
   "metadata": {},
   "outputs": [
    {
     "data": {
      "image/png": "[encoded data removed]",
      "text/plain": [
       "<Figure size 396.794x510.236 with 8 Axes>"
      ]
     },
     "metadata": {
      "needs_background": "light"
     },
     "output_type": "display_data"
    }
   ],
   "source": [
    "fig, axs = plt.subplots(ncols=2,nrows=4,sharex=True,sharey=True)\n",
    "\n",
    "palette = sns.color_palette(\"summer\", n_colors=6, as_cmap=True)\n",
    "\n",
    "fig.text(0.5, -0.015, 'Market Factor $Z_{m}$', ha='center', size=11)\n",
    "fig.text(-0.025, 0.5, 'Normalized Payoffs', va='center', rotation='vertical', size=11)\n",
    "\n",
    "i,j = 0,0\n",
    "for tranche in [\"Equity\",\"SPV\",\"AA\",\"AAA\",\"BBB\",\"A\",\"B\",\"BB\"]:\n",
    "    if j == 0: j = 1\n",
    "    else: j = 0\n",
    "    axs[i,j].scatter(x=data_no_prepay['Market Factor'], y = data_no_prepay[tranche], s= 0.5, color=palette(1),alpha=0.75)\n",
    "    axs[i,j].scatter(x=data_prepay['Market Factor'], y = data_prepay[tranche], s= 0.5, color=palette(150))\n",
    "    axs[i,j].set_title(tranche, size=11)\n",
    "    \n",
    "    axs[i,j].axhline(data_no_prepay[tranche].mean(),-2.25, 2.25,c=\"k\",linewidth=0.5)\n",
    "    axs[i,j].axhline(data_prepay[tranche].mean(),-2.25, 2.25,c=\"k\",linewidth=0.5)\n",
    "    \n",
    "    axs[i,j].set_xlabel('')\n",
    "    axs[i,j].set_xlim([-2.25,2.25])\n",
    "    axs[i,j].set_xticks([-2,-1,0,1,2])\n",
    "    \n",
    "    axs[i,j].set_ylabel('')\n",
    "    axs[i,j].set_ylim([-0.05,1.05])\n",
    "    axs[i,j].set_yticks([0,0.2,0.4,0.6,0.8,1])\n",
    "    axs[i,j].grid(lw=0.3)\n",
    "    if j == 0: i = i + 1\n",
    "\n",
    "fig.set_size_inches(textwidth, 18*cm)\n",
    "fig.tight_layout()\n",
    "\n",
    "#fig.savefig(\"Payoffs.pdf\", bbox_inches='tight', format='pdf')\n",
    "\n",
    "plt.show()"
   ]
  },
  {
   "cell_type": "markdown",
   "id": "diverse-captain",
   "metadata": {},
   "source": [
    "# Return on Equity Analysis"
   ]
  },
  {
   "cell_type": "code",
   "execution_count": 243,
   "id": "structured-healing",
   "metadata": {},
   "outputs": [
    {
     "data": {
      "text/plain": [
       "(array([  0.        ,   0.        ,   0.        , ..., 671.06262338,\n",
       "        671.06262338, 671.06262338]),\n",
       " array([ 97.12962129, 157.42243283, 110.11126839, ..., 983.28665369,\n",
       "        999.36423868, 998.02744455]))"
      ]
     },
     "execution_count": 243,
     "metadata": {},
     "output_type": "execute_result"
    }
   ],
   "source": [
    "equity_payoffs = ott.clo_payoffs(SPV_P,tranches_no_prepay)[6]\n",
    "equity_payoffs_pp = ott.clo_payoffs(SPV_P_pp,tranches_prepay)[6] + equity_P_pp\n",
    "equity_payoffs,equity_payoffs_pp"
   ]
  },
  {
   "cell_type": "code",
   "execution_count": 244,
   "id": "accepted-tracker",
   "metadata": {},
   "outputs": [
    {
     "data": {
      "text/plain": [
       "(100.60065506353396, 324.2646761285653)"
      ]
     },
     "execution_count": 244,
     "metadata": {},
     "output_type": "execute_result"
    }
   ],
   "source": [
    "equity_mv = (np.minimum(SPV_Q, np.quantile(SPV_P,1)).mean() - np.minimum(SPV_Q,np.quantile(SPV_P,DefTable.loc['B',ttm]/100)).mean()) * np.exp(-rf*ttm)\n",
    "equity_mv_pp = (np.minimum(SPV_Q_pp, np.quantile(SPV_P_pp,1)).mean() - np.minimum(SPV_Q_pp,np.quantile(SPV_P_pp,DefTable.loc['B',ttm]/100)).mean() + equity_Q_pp.mean()) * np.exp(-rf*ttm)\n",
    "equity_mv, equity_mv_pp"
   ]
  },
  {
   "cell_type": "code",
   "execution_count": 262,
   "id": "moral-retirement",
   "metadata": {},
   "outputs": [
    {
     "data": {
      "text/plain": [
       "(array([-1.        , -1.        , -1.        , ...,  5.67055918,\n",
       "         5.67055918,  5.67055918]),\n",
       " array([-0.70046191, -0.51452488, -0.6604278 , ...,  2.03235821,\n",
       "         2.08193989,  2.07781734]))"
      ]
     },
     "execution_count": 262,
     "metadata": {},
     "output_type": "execute_result"
    }
   ],
   "source": [
    "ROE = (equity_payoffs - equity_mv) / equity_mv\n",
    "ROE_pp = (equity_payoffs_pp - equity_mv_pp) / equity_mv_pp\n",
    "ROE,ROE_pp"
   ]
  },
  {
   "cell_type": "code",
   "execution_count": 453,
   "id": "operating-monday",
   "metadata": {},
   "outputs": [],
   "source": [
    "ann_std = ROE.std()*np.sqrt(1/ttm)\n",
    "ann_std_pp = ROE_pp.std() * np.sqrt(1/ttm)"
   ]
  },
  {
   "cell_type": "code",
   "execution_count": 454,
   "id": "electrical-yeast",
   "metadata": {},
   "outputs": [
    {
     "data": {
      "text/plain": [
       "(array([-1.        , -1.        , -1.        , ...,  0.46161317,\n",
       "         0.46161317,  0.46161317]),\n",
       " array([-0.21423911, -0.13456711, -0.19427577, ...,  0.24840673,\n",
       "         0.25246279,  0.25212754]))"
      ]
     },
     "execution_count": 454,
     "metadata": {},
     "output_type": "execute_result"
    }
   ],
   "source": [
    "ann_ROE = (1+ROE)**(1/ttm)-1\n",
    "ann_ROE_pp = (1+ROE_pp)**(1/ttm)-1\n",
    "ann_ROE, ann_ROE_pp"
   ]
  },
  {
   "cell_type": "code",
   "execution_count": 457,
   "id": "infectious-element",
   "metadata": {},
   "outputs": [
    {
     "data": {
      "text/plain": [
       "(0.0189749825389799, 0.25703071928452814)"
      ]
     },
     "execution_count": 457,
     "metadata": {},
     "output_type": "execute_result"
    }
   ],
   "source": [
    "sharpe = (ann_ROE.mean() - rf) / ann_std\n",
    "sharpe_pp = (ann_ROE_pp.mean() - rf) / ann_std_pp\n",
    "sharpe, sharpe_pp"
   ]
  },
  {
   "cell_type": "code",
   "execution_count": 415,
   "id": "stopped-greene",
   "metadata": {},
   "outputs": [
    {
     "data": {
      "text/plain": [
       "(0.25984674918347794, 0.13503654469541093)"
      ]
     },
     "execution_count": 415,
     "metadata": {},
     "output_type": "execute_result"
    }
   ],
   "source": [
    "ann_mean_ROE = (1+ROE.mean())**(1/ttm)-1\n",
    "ann_mean_ROE_pp = (1+ROE_pp.mean())**(1/ttm)-1\n",
    "ann_mean_ROE, ann_mean_ROE_pp"
   ]
  },
  {
   "cell_type": "code",
   "execution_count": 416,
   "id": "future-rogers",
   "metadata": {},
   "outputs": [
    {
     "data": {
      "image/png": "[encoded data removed]",
      "text/plain": [
       "<Figure size 396.794x226.772 with 1 Axes>"
      ]
     },
     "metadata": {
      "needs_background": "light"
     },
     "output_type": "display_data"
    }
   ],
   "source": [
    "plt.figure(figsize=(textwidth, 8*cm))\n",
    "palette = sns.color_palette(\"summer\", n_colors=6, as_cmap=True)\n",
    "\n",
    "simulations = ann_ROE[ann_ROE>-1]\n",
    "simulations_pp = ann_ROE_pp[ann_ROE_pp>-1]\n",
    "\n",
    "min_ = -0.4\n",
    "max_ = 0.5\n",
    "ax = sns.histplot(data=simulations, binwidth=0.025, color=palette(1), stat='probability', alpha=0.75)\n",
    "ax = sns.histplot(data=simulations_pp, binwidth=0.025, color=palette(75), stat='probability', alpha=0.75)\n",
    "\n",
    "plt.ylabel(\"Probability\")\n",
    "maxy = round(ax.get_ylim()[1],2)\n",
    "plt.legend(['Baseline','With Prepayments'],loc=\"upper center\", bbox_to_anchor=(0.5, 1.275, 0, 0),ncol=2, frameon=False)\n",
    "\n",
    "\n",
    "plt.ylim([0, maxy])\n",
    "plt.yticks(np.linspace(0, maxy, 6),[str(int(round(x,2)*100))+\"%\" for x in np.linspace(0, maxy, 6)])\n",
    "\n",
    "plt.xlim([min_,max_])\n",
    "plt.xlabel(\"Return on Equity\")\n",
    "plt.xticks(np.linspace(min_, max_, 10),[str(int(round(x,2)*100))+\"%\" for x in np.linspace(min_, max_, 10)])\n",
    "\n",
    "plt.vlines((0,ann_mean_ROW,ann_mean_ROW_pp),0,1,colors=('k'),linewidth=(0.5,0.75,0.75),linestyles=('--','-.','-.'))\n",
    "\n",
    "plt.text(ann_mean_ROE, maxy*1.05,s=\"$\\mu$\",ha='center',va='center',color='k')\n",
    "plt.text(ann_mean_ROE_pp, maxy*1.05,s=\"$\\mu_{pp}$\",ha='center',va='center',color='k')\n",
    "\n",
    "plt.tight_layout()\n",
    "\n",
    "#plt.savefig(\"pic.pdf\", format='pdf', bbox_inches='tight')\n",
    "\n",
    "plt.show()"
   ]
  },
  {
   "cell_type": "markdown",
   "id": "consecutive-popularity",
   "metadata": {},
   "source": [
    "# Distribution of SPV Cash Flows under Q-measure"
   ]
  },
  {
   "cell_type": "code",
   "execution_count": 477,
   "id": "intelligent-silicon",
   "metadata": {},
   "outputs": [
    {
     "data": {
      "image/png": "[encoded data removed]",
      "text/plain": [
       "<Figure size 396.794x255.118 with 2 Axes>"
      ]
     },
     "metadata": {
      "needs_background": "light"
     },
     "output_type": "display_data"
    }
   ],
   "source": [
    "plt.figure(figsize=(textwidth, 9*cm))\n",
    "palette = sns.color_palette(\"summer\", n_colors=6, as_cmap=True)\n",
    "\n",
    "simulations = SPV_Q\n",
    "simulations_pp = SPV_Q_pp\n",
    "\n",
    "min_ = 6000\n",
    "max_ = 9200\n",
    "ax = sns.histplot(data=simulations, bins=25, color=palette(1), stat='probability', alpha=0.75)\n",
    "ax = sns.histplot(data=simulations_pp, bins=25, color=palette(75), stat='probability', alpha=0.75)\n",
    "\n",
    "plt.ylabel(\"Probability\")\n",
    "maxy = round(ax.get_ylim()[1],2)\n",
    "\n",
    "plt.ylim([0, maxy])\n",
    "plt.yticks(np.linspace(0, maxy, 6),[str(int(round(x,2)*100))+\"%\" for x in np.linspace(0, maxy, 6)])\n",
    "\n",
    "plt.legend(['Baseline','With Prepayments'],loc=\"upper center\", bbox_to_anchor=(0.5, 1.35, 0, 0),ncol=2, frameon=False)\n",
    "plt.xlim([min_,max_])\n",
    "plt.xlabel(\"Collateral Value\")\n",
    "\n",
    "ax2 = ax.twinx()\n",
    "ax2 = sns.ecdfplot(data=simulations, color='k',linewidth=0.75, ax=ax2, stat='proportion')\n",
    "ax2 = sns.ecdfplot(data=simulations_pp, color='k',linewidth=0.75, ax=ax2, stat='proportion')\n",
    "\n",
    "plt.text(np.quantile(simulations_pp, 1),1.075,s=\"$F^{Q}_{pp}$\",ha='center',va='center',color='k',size=12)\n",
    "plt.text(np.quantile(simulations, 1),1.075,s=\"$F^{Q}$\",ha='center',va='center',color='k',size=12)\n",
    "\n",
    "plt.ylabel(\"Cumulative Probability\")\n",
    "plt.ylim([0,1])\n",
    "plt.yticks(np.linspace(0, 1, 6),[\"0%\",\"20%\",\"40%\",\"60%\",\"80%\",\"100%\"])\n",
    "\n",
    "plt.tight_layout()\n",
    "\n",
    "#plt.savefig(\"ColValwPP_Q.pdf\", format='pdf', bbox_inches='tight')\n",
    "\n",
    "plt.show()"
   ]
  },
  {
   "cell_type": "code",
   "execution_count": null,
   "id": "whole-queen",
   "metadata": {},
   "outputs": [],
   "source": []
  },
  {
   "cell_type": "code",
   "execution_count": null,
   "id": "informed-civilization",
   "metadata": {},
   "outputs": [],
   "source": []
  },
  {
   "cell_type": "code",
   "execution_count": null,
   "id": "potential-thumbnail",
   "metadata": {},
   "outputs": [],
   "source": []
  }
 ],
 "metadata": {
  "kernelspec": {
   "display_name": "Python 3",
   "language": "python",
   "name": "python3"
  },
  "language_info": {
   "codemirror_mode": {
    "name": "ipython",
    "version": 3
   },
   "file_extension": ".py",
   "mimetype": "text/x-python",
   "name": "python",
   "nbconvert_exporter": "python",
   "pygments_lexer": "ipython3",
   "version": "3.8.5"
  }
 },
 "nbformat": 4,
 "nbformat_minor": 5
}
